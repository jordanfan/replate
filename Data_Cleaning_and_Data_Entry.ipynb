{
 "cells": [
  {
   "cell_type": "code",
   "execution_count": 50,
   "metadata": {},
   "outputs": [],
   "source": [
    "import numpy as np\n",
    "import pandas as pd\n",
    "import datetime\n",
    "from datetime import datetime\n",
    "import random\n",
    "import seaborn as sns\n",
    "import matplotlib.pyplot as plt\n",
    "import matplotlib.patches as mpatches\n",
    "\n",
    "from scipy.stats import ks_2samp as ks\n",
    "import re"
   ]
  },
  {
   "cell_type": "markdown",
   "metadata": {},
   "source": [
    "# Companies with Donation Entries"
   ]
  },
  {
   "cell_type": "markdown",
   "metadata": {},
   "source": [
    "### Converting Description to Number of Pounds"
   ]
  },
  {
   "cell_type": "code",
   "execution_count": 54,
   "metadata": {},
   "outputs": [],
   "source": [
    "food = pd.read_csv(\"replate_reduced.csv\")\n",
    "#dropping rows that don't contain any results or numbers in description \n",
    "food = food[food[\"Description\"].str.contains(\"\\d\")]\n",
    "food[\"Description\"] = food[\"Description\"].str.lower()\n",
    "#dropping rows that didn't have food to pickup \n",
    "food = food[food[\"Description\"].str.contains(\"no food\") == False]\n",
    "pd.options.display.max_colwidth = 500\n",
    "#looked at inputs where the number of pounds wasn't listed first\n",
    "food[food[\"Description\"].str.match(\"^\\d\") == False][[\"Id\", \"Description\"]].iloc[149:, :]\n",
    "#inputs with these ids didn't have number of pounds for pickup\n",
    "delete_id = [465, 492, 552, 635, 649, 750, 822, 907, 1002, 1029, \n",
    "             1030, 1031, 1055, 1058, 1280, 1750, 1756, 1812, 1862, \n",
    "             1976, 2351, 2452, 2586, 2751, 3565, 5051, 603, 1783, \n",
    "             2364, 2760, 3050, 3051, 3139, 3563, 3585, 3897, 5398, \n",
    "             5814, 6072, 6142, 6666]\n",
    "food = food[food[\"Id\"].isin(delete_id) == False]\n",
    "#food.to_csv(\"replate_updated_updated.csv\", sep = \",\")"
   ]
  },
  {
   "cell_type": "code",
   "execution_count": 55,
   "metadata": {},
   "outputs": [],
   "source": [
    "#look at each of the character in description and identify whether it's a \n",
    "#number, will take into account whether or not it's a decimal number\n",
    "splitted = food[\"Description\"].str.extractall(\"(\\d*\\.?\\d*)\").unstack()\n",
    "for col in splitted:\n",
    "    #convert string to float, otherwise will just be nan\n",
    "    splitted[col] = pd.to_numeric(splitted[col], errors = \"coerce\")\n",
    "#take the maximum float for each of the inputs \n",
    "max_pounds = splitted.fillna(0.0).apply(max, axis = 1)\n",
    "food[\"Description\"] = max_pounds\n",
    "food = food.replace({\"-\": np.nan}, regex = True)\n",
    "food = food.drop([\"Unnamed: 0\", \"Short\", \"Plan [Location]\", \"Paid\", 'Pickup price [Location]',\n",
    "       'Plan exclusive [Location]'], axis = 1)\n",
    "food = food.rename(index = str, columns = {\"Description\": \"pounds\", \n",
    "                                           \"Scheduled date\": \"date\",\n",
    "                                          \"City [Location]\": \"city\", \n",
    "                                           \"State [Location]\": \"state\",\n",
    "                                          \"Zip [Location]\": \"zip\", \n",
    "                                           \"Id [Location]\": \"id\",\n",
    "                                          \"Number [Location]\": \"number\", \n",
    "                                           \"Addr name [Location]\": \"company\",\n",
    "                                          \"Street [Location]\": \"street\", \n",
    "                                           \"Lat [Location]\": \"lat\", \n",
    "                                          \"Lon [Location]\": \"lon\"})"
   ]
  },
  {
   "cell_type": "markdown",
   "metadata": {},
   "source": [
    "### Separating Date to Day, Month, Year, and Weekday"
   ]
  },
  {
   "cell_type": "code",
   "execution_count": 56,
   "metadata": {},
   "outputs": [],
   "source": [
    "food[\"date\"] = pd.to_datetime(food[\"date\"])\n",
    "food_months = food[\"date\"].dt.month\n",
    "food_days = food[\"date\"].dt.day\n",
    "food_years = food[\"date\"].dt.year\n",
    "days = np.array([\"Monday\", \"Tuesday\", \"Wednesday\", \"Thursday\", \"Friday\", \n",
    "                 \"Saturday\", \"Sunday\"])\n",
    "weekday = []\n",
    "for i in food[\"date\"]: \n",
    "    weekday.append(i.weekday())\n",
    "weekday = np.array(weekday)\n",
    "food[\"month\"] = food_months\n",
    "food[\"weekday\"] = days[weekday]\n",
    "#datetime.strptime(food_months)"
   ]
  },
  {
   "cell_type": "markdown",
   "metadata": {},
   "source": [
    "### Filling in Missing Data"
   ]
  },
  {
   "cell_type": "code",
   "execution_count": 57,
   "metadata": {},
   "outputs": [],
   "source": [
    "food[food[\"number\"].isnull()]\n",
    "food[\"number\"] = food[\"number\"].fillna(365)"
   ]
  },
  {
   "cell_type": "code",
   "execution_count": 58,
   "metadata": {},
   "outputs": [],
   "source": [
    "#43 missing company names\n",
    "id_ind = food[food[\"company\"].isnull()][\"id\"].value_counts().index\n",
    "companies = [\"Twitch\", \"Dataminr\", \"Twitch\", \"Lever\", \"Zoox\", \"DoorDash\", \n",
    "            \"CircleCI\", \"Zoox\", \"OpenDNS\", \"Opendoor\", \"EAT Club\", \n",
    "             \"Fare Resources\", \"Moogsoft, Inc.\", \"Metromile\", \"Greylock Partners\", \n",
    "             \"Livongo\", \"TechValidate Software\", \"Lever\", \"Zoox\", \"EAT Club\",\n",
    "            \"Outbrain\", \"Genius\", \"Norwest Venture Partners\", \"BCG Digital Ventures\",\n",
    "            \"SeatGeek\", \"Samsara\", \"TrueCar\", \"Samsara\", \"Postmates\", \"Impact\",\n",
    "            \"Slack\", \"Fossil Group\", \"Scott & Scott\", \"Acxiom\", \"Audentes Therapeutics\",\n",
    "            \"PulsePoint\", \"BarkBox\", \"Captricity\", \"Bash Creative\", \"LeadGenius\", \n",
    "             \"Bash Creative\", \"Invoice2go\", \"Walmart\"]\n",
    "for i, j in zip(id_ind, companies):\n",
    "    food.loc[food[\"id\"] == i, \"company\"] = j\n"
   ]
  },
  {
   "cell_type": "code",
   "execution_count": 59,
   "metadata": {},
   "outputs": [
    {
     "name": "stdout",
     "output_type": "stream",
     "text": [
      "Id 0\n",
      "date 0\n",
      "pounds 0\n",
      "id 0\n",
      "number 0\n",
      "street 0\n",
      "city 0\n",
      "company 0\n",
      "state 0\n",
      "zip 0\n",
      "lat 0\n",
      "lon 0\n",
      "month 0\n",
      "weekday 0\n"
     ]
    }
   ],
   "source": [
    "#Check that all data is filled in \n",
    "for i in food.columns:\n",
    "    print(i, sum(food[i].isnull()))"
   ]
  },
  {
   "cell_type": "markdown",
   "metadata": {},
   "source": [
    "### Creating Company Size and Company Type Variables"
   ]
  },
  {
   "cell_type": "code",
   "execution_count": 60,
   "metadata": {},
   "outputs": [],
   "source": [
    "food[\"size\"] = np.nan\n",
    "food[\"type\"] = np.nan"
   ]
  },
  {
   "cell_type": "code",
   "execution_count": 61,
   "metadata": {},
   "outputs": [],
   "source": [
    "#Some companies are just variations of an already existing company\n",
    "food[\"company\"].unique()\n",
    "food.loc[food[\"company\"] == 'Dataminr 6 E 32nd (2nd Floor)', \"company\"] = \"Dataminr\"\n",
    "food.loc[food[\"company\"] == \"ZeroCater SF\", \"company\"] = \"ZeroCater\"\n",
    "food.loc[food[\"company\"] == \"ZeroCater ATX\", \"company\"] = \"ZeroCater\"\n",
    "food.loc[food[\"company\"] == \"ZeroCater Austin Office #101\", \"company\"] = \"ZeroCater\"\n",
    "food.loc[food[\"company\"] == \"Zoox SF\", \"company\"] = \"Zoox\"\n",
    "food.loc[food[\"company\"] == \"Airbnb New York Office\", \"company\"] = \"Airbnb\"\n",
    "food.loc[food[\"company\"] == \"DramaFever/WB Digital New York Office\", \"company\"] = \"DramaFever/WB Digital\"\n",
    "food.loc[food[\"company\"] == \"Crunchbase SF\", \"company\"] = \"Crunchbase\"\n",
    "food.loc[food[\"company\"] == \"Crunchbase SF\", \"company\"] = \"Crunchbase\"\n",
    "food.loc[food[\"company\"] == \"Slack HQ\", \"company\"] = \"Slack\"\n",
    "food.loc[food[\"company\"] == \"TRUECar LA 3rd Floor\", \"company\"] = \"TrueCar\"\n",
    "food.loc[food[\"company\"] == \"Indeed NYC 9th Fl\", \"company\"] = \"Indeed\"\n",
    "food.loc[food[\"company\"] == \"WeWork Berkeley\", \"company\"] = \"WeWork\"\n",
    "food.loc[food[\"company\"] == \"WeWork Golden Gate\", \"company\"] = \"WeWork\"\n",
    "food.loc[food[\"company\"] == \"Intermedia Labs\", \"company\"] = \"Intermedia Lab\"\n",
    "food.loc[food[\"company\"] == \"T Rowe Price TDC\", \"company\"] = \"T Rowe Price\"\n",
    "food.loc[food[\"company\"] == \"7th floor yipitdata\", \"company\"] = \"Yipitdata\"\n",
    "food.loc[food[\"company\"] == \"HEM Distributor Inc., \", \"company\"] = \"HEM Distributor Inc\""
   ]
  },
  {
   "cell_type": "code",
   "execution_count": 62,
   "metadata": {
    "scrolled": true
   },
   "outputs": [],
   "source": [
    "#Some companies are too broad or aren't companies themselves\n",
    "food[\"company\"].unique()\n",
    "weird_companies = [\"Oakland\", \"Oakland Office\", \"Oakland Office #300\",\n",
    "                   \"New York\", \"New York Office\", \"Airbnb\", \"New York 45th Floor Office\",\n",
    "                   \"NY Office\", \"NYC Office 2nd Floor\", \"Montgomery Office\", \n",
    "                   \"San Francisco Office\", \"San Francisco HQ\", \"Berkeley\", \"HQ\",\n",
    "                   \"San Francisco Applied Innovation Exchange\", \"HQ: San Francisco\",\n",
    "                   \"San Francisco\", \"SF\", \"Hollywood Office\", \"Test Location 1\", \n",
    "                   \"Berkeley, West Los Angeles Campus\", \"SF Affordable Self Storage\",\n",
    "                   \"Empire State Building\", \"San Mateo\", \"marina del rey\", 'Berkeley',\n",
    "                   \"New Office\", \"Cut + Run Office\", \"Mountain View\", \"Chicago\", \n",
    "                   \"University Club of Chicago\", \"Philadelphia Office\", \n",
    "                   \"South Miami\", \"Boston Office\", \"CB New HQ\", \"Santa Clara Office\",\n",
    "                   \"4 Bryant Park\", \"Stage\", \"49th Street\", \"2 W 17th\", \"Fort Mason\", \n",
    "                   \"463 7th Ave\", \"C3 Conference\", \"Moscone West Convention Center\", \"10 West\", \n",
    "                   \"Nob Hill Masonic Loading Dock\", \"Main Office\", \"Grand Hyatt\", \n",
    "                   \"11 Madison Sq North\", \"office\", \"Emeryville\", \"201 3rd St.\"]\n",
    "#initial companies to search\n",
    "companies = food.loc[~food[\"company\"].isin(weird_companies), \"company\"].unique()\n"
   ]
  },
  {
   "cell_type": "code",
   "execution_count": 63,
   "metadata": {},
   "outputs": [],
   "source": [
    "#Description of companies\n",
    "companies = ['DoorDash', 'MP Operations', 'Twitch', 'Opendoor', 'Braze SF Office', #5\n",
    "'Lever', 'freshestcargo commissary', 'Vungle SF', 'Pierry Inc.', 'Pagerduty', #10\n",
    " #DoorDash: delivers food, MP Operations: ???, Twitch: gaming, Opendoor: selling houses\n",
    "#Braze: emails and messages (social media?), Lever: recruiting software, freshestcargo: ???\n",
    "#vungle (200): in app video ads, Pierry (200): combines strategy, technology, digital marketing best practice and creative to produce targeted, data driven initiatives that align with business objectives,\n",
    "#pagerduty (500): arms businesses with the insight to proactively manage incidents and events that may impact customers across their IT environment             \n",
    "\n",
    "'ZeroCater NY', 'EAT Club', 'OpenDNS', 'Greylock Partners', 'Omada Health', #15\n",
    "'Aera Technology Inc.', 'Zoox', 'Takt', 'Rubicon Project NYC', 'Flexport NYC', #20\n",
    "#zerocater: food catering, EAT: food catering, Opendns: network security, \n",
    "#greylock (200): invest in companies, omada (500): online health program, \n",
    "#Aera (200): self driving automobiles, Zoox (500): robotics around mobility, \n",
    "#Takt (10): software to come up with solutions to improve mobile platforms and web based\n",
    "#rubicon (1000): automating buying and selling of ads, flexport (1000): customs brokerage, insurance              \n",
    "             \n",
    "'Metromile', 'Aramark SF', 'Dataminr', 'Moogsoft, Inc.', 'TechValidate Software', #25\n",
    "'Zillow NYC', 'Demos', 'Fare Resources', 'Crunchbase', 'SaaStr CSS', #30\n",
    "#Metromile (200): car insurance, aramark (10001): works with food, facilities management, uniforms\n",
    "#dataminr (500): detect, classify, determine significance of public info, \n",
    "#Moogsoft (200): ml to help teams remediate issues, techvalidate (200): web based software that automates creation of marketing content \n",
    "#zillow (5000): real estate and rental marketplace mobile app, \n",
    "#Demos ??? (50): improve politics and policy, #Fare Resources (50): food operations management\n",
    "#crunchbase (50), #Saastr (10): blog about web services \n",
    "             \n",
    "'Tumblr NYC Office', 'BarkBox', 'Outbrain', 'Scribd', 'Codecademy', #35\n",
    "'Dropbox', 'Chapter Three', 'Scott & Scott', 'OkC HQ', 'Zesty SF', #40\n",
    "#tumblr (500): Social media, barkbox: subscription based e-commerce, outbrain (1000): ads on websites\n",
    "#Scribd (200): online books, codecademy (200): online coding courses, \n",
    "#dropbox (5000), #chapter three (50): web development, scott & scott (10): business and technology law firm\n",
    "#Okc: ???, zesty (200): catering\n",
    "             \n",
    "'BGB Group', 'BIONYC/SCIONYC', 'Kitty Hawk', 'NEW GREE Office', 'GetGo', #45\n",
    "'Slack', 'Captricity', 'YieldMo', 'TrueCar', 'Bash Creative', #50\n",
    "#BGB (500): marketing for pharmaceutical co, BIONYC: ???, Kitty Hawk (500): aviation,\n",
    "#new gree: ???, #getgo:???, slack (5000), captricity (200): AI, yieldmo (200): advertising using data\n",
    "#truecar (1000): shows consumers what others paid for their car, bash creative (10): event planning \n",
    "             \n",
    "'SeatGeek', 'Yahoo NYC', 'West Los Angeles Campus', 'Fearless Cafe', 'ZeroCater', #55\n",
    "'Climb Credit NYC Ste. 701', 'CircleCI', 'Boomerang Commerce Mtn.View Ste100', 'UserVoice', 'PCH', #60\n",
    "#seatgeek (200): mobile ticketing marketplace, yahoo (10001), WLAC ???, \n",
    "#Fearless Cafe ???, ZeroCater (200): catering, Climb Credit (50): financing education, cricleci (200): provide connected development ecsystem to every team member making technology decisions \n",
    "#boomerang (200): optimize price through ml, UserVoice (200): product feedback management, PCH (1000): product solutions \n",
    "             \n",
    "'Healthline SF Office', 'LeadGenius', 'Avametric, suite 1001', 'MeUndies HQ', 'Imgur', #65\n",
    "'Zinc', 'The Verdi Club', 'Indeed', 'SF HQ', 'Fullscreen Media', #70\n",
    "#healthline (500): health publisher, LeadGenius (50): data collection to help sales\n",
    "#avametric (50): computer graphics and simulation for fashion, meundies (200): fashion, \n",
    "#imgur (200): social media, zinc (50): communication platform, Verdi club ???, \n",
    "#indeed (10000): job search, SF HQ: ???, Fullscreen (1000): enertainment, \n",
    "             \n",
    "'32BJ SEIU', 'Mapbox', 'Dishcraft Robotics', 'Fossil Group', 'drive.ai', #75\n",
    "'MTV', 'Postmates', 'Trello 25th Floor', 'Say Say K, Inc', 'BloomReach Mt.View', #80\n",
    "#32BJ (500): worker's rights, mapbox (500): mapping, dishcraft (50): kitchen robots, fossil (10001): marketing accessories\n",
    "#drive.ai (200): self driving car, MTV ???: postmates (500): delivery service,\n",
    "#Trello (200): visual collaboration tool, say say k (50): english learning \n",
    "#bloomreach (500): customer experience search engine, \n",
    "\n",
    "'The Town Kitchen', 'SF Office', 'Cobalt Apartments', 'BCG Digital Ventures',\n",
    "'Stripes Group', 'Quotient', 'Twitter NYC', '550 LGA', 'STUBHUB', 'Norwest Venture Partners', #90\n",
    "#town kitchen (10): catering, SF Office: ???, cobalt: ???, BCG (500): investment\n",
    "#stripes (50): investment group, quotient (200): information technology/web design,\n",
    "#Twitter (5000), 550 lga ???, stubhub (5000): ticket purchase, Norwest (200): invest in consumer, enterprise, healthcare companies \n",
    "        \n",
    "'The Line', 'Ginger.io SF HQ', 'Livongo', 'Dolby Office', 'PulsePoint', 'Loan Depot office',\n",
    "'WeWork', 'Invoice2go', 'Adams & Company Real Estate, LLC', 'HighFive', #100\n",
    "#Line (50): retail/fashion, ginger (50): mental health care using ds, livongo (200): digital health, \n",
    "#Dolby ???, Pulsepoint (200): programmatic advertising, Loandepot (10000): loans, wework (5000), \n",
    "#invoice (200): mobile app that lets business owners track work and get paid, Adams (200): real estate firm management/borkerage/consulting \n",
    "#HighFive (200): video conferencing\n",
    "             \n",
    "'RAYMER STUDIO', 'Peppercomm NYC', 'Oscar Insurance', 'Compass Headquarters', 'CYNGN Palo Alto', 'Shotwell Location',\n",
    "'Castlight Health', 'Open Sky', 'SugarCRM', 'Curiodysse', #110\n",
    "#Raymer studio ???, 'Peppercomm NYC (200): integrated communications and marketing agency, help their clients reach customers', 'Oscar Insurance (1000): find health insurance and care for customers',\n",
    "#'Compass Headquarters (500): real estate company', 'CYNGN Palo Alto (50): autonomous vehicle technology', 'Shotwell Location (50): sell clothes',\n",
    "#'Castlight Health (1000): platform for people to find healthcare plans', 'Open Sky (200): a marketplace website that helps sellers and buyers', \n",
    "#'SugarCRM (1000): customer relationship management technology and tools for businesses', 'Curiodysse (50):  science and wildlife center'\n",
    "             \n",
    "'OR360', 'MuleSoft', 'Genius', 'Boxed', \"Devil's Canyon Brewing Company\", 'century city', 'Acxiom', 'CA VENTURES suite 2100',\n",
    "'Bonsai Berkeley', 'Giphy', #120\n",
    "# OR360 (50): research lab about human factors to better healthcare','MuleSoft (5000): provides platform to build application networks using APIs', \n",
    "#'Genius (50): telecommunications company', 'Boxed (200): delivers bulk-size groceries and household products', \"Devil's Canyon Brewing Company (10): beer and root beer\",\n",
    "#'century city'???, 'Acxiom (5000): provide tools for marketers', 'CA VENTURES suite 2100 (500): real estate investment, development and management firm',\n",
    "# 'Bonsai Berkeley (50): AI platform for developers', 'Giphy (200): GIFs',\n",
    "\n",
    "'Cadre (5th Fl)', 'BetterCloud', 'SEVENROOMS', 'Addepar, Inc.', 'ZMC', 'GoDaddy', 'Kony', 'Houzz',\n",
    "'Mekanism, 35th Floor', 'la brea', #130\n",
    "#'Cadre (5th Fl) (200): real estate marketplace', 'BetterCloud (200): stuff on the cloud like google drive,\n",
    "#'SEVENROOMS (50): software to enable operators to communicate with their guests', 'Addepar, Inc. (500): financial operating system', \n",
    "#'ZMC' ???, 'GoDaddy (10000): hosting company', 'Kony (5000): Mobile and Web Applications tailored to the need of clients', \n",
    "#'Houzz (5000): platform for home remodeling and design', 'Mekanism, 35th Floor (200): advertising agency', 'la brea' (500): baking company,\n",
    "             \n",
    "'Drama Fever/WB Digital New York Office', 'AT&T Foundry', 'Hygge', 'Spring Studios Event Space', \n",
    "'CrowdStar', 'Plethora', 'BentoBox', 'Headspace (HQ)', 'Bird.co Office', 'Computer History Museum', #140\n",
    "#WB (200): entertainment, ATT (50): telecommunications, hygge (10): coworking like wework, Spring ???,  \n",
    "#Crowdstar (200): mobile and social gaming, plethora (200): turns customer desgins into custom parts using robotics and software \n",
    "#bentobox (50): web design for restaurants, Headspace (200): mobile app to improve health \n",
    "#bird ???, computer (50): museum of computing  \n",
    "             \n",
    "'Zymergen Office', 'Catchpoint', 'Venice Office', 'Dick Cold Storage', 'Impact', 'New Mountain Capital',\n",
    "'Intermedia Lab', 'T Rowe Price', 'Yipitdata', 'Audentes Therapeutics', #150\n",
    "#zymergen (500): ml in genomics, catchpoint (200): digital experience intelligence company, venice(10): marketing,\n",
    "#dick ???, impact (50): records managing/data sharing, New mountain (200): private equity and investments,  \n",
    "#intermedia (50): consumer video technology firm (listed as computer software), T rowe (10000): asset management/retirement\n",
    "#yipitadata (200): provides data to investors, audentes (200): biotech \n",
    "             \n",
    "'Aviat Networks', 'Dataminr 135 Madison', 'Growers Refrigeration', 'HEM Distributor Inc', 'Teachable',\n",
    "'Formation SF HQ', 'Reelio 121 E 24th St', 'Samsara', 'Glossier HQ', 'NYC Office', #160\n",
    "#aviat (1000): telecommunication, dataminr (500): detect, classify, determine significance of public info,\n",
    "#Growers (10): warehousing, Hem (10): distributor, teachable (200): elearning, Formation (200): process customer data \n",
    "#Reelio (50): ads using programmatic media, Samsara (500): builds sensor systems, \n",
    "#glossier (200): beauty products, NYC ??? \n",
    "             \n",
    "'Oakstop', 'Walmart', 'Calm', 'First Round Capital', 'Global Gourmet Catering']\n",
    "#Oakstop ???, Walmart (10001), calm (50): mental health app, First round (50): investment \n",
    "#global gourmet (1000): catering "
   ]
  },
  {
   "cell_type": "code",
   "execution_count": 64,
   "metadata": {},
   "outputs": [],
   "source": [
    "size = [500, np.nan, 1000, 1000, 200, 200, np.nan, 200, 200, 500,\n",
    "200, 1000, 1000, 200, 500, 200, 500, 10, 1000, 1000,\n",
    "200, 10001, 500, 200, 200, 5000, 50, 50, 50, 10, \n",
    "500, 200, 1000, 200, 200, 5000, 50, 10, np.nan, 200, \n",
    "500, np.nan, 500, np.nan, np.nan, 5000, 200, 200, 1000, 10,\n",
    "200, 10001, np.nan, np.nan, 200, 50, 200, 200, 200, 1000, \n",
    "500, 50, 50, 200, 200, 50, np.nan, 10000, np.nan, 1000, \n",
    "500, 500, 50, 10001, 200, np.nan, 500, 200, 50, 500, \n",
    "10, np.nan, np.nan, 500, 50, 200, 5000, np.nan, 5000, 200, \n",
    "50, 50, 200, np.nan, 200, 10000, 5000, 200, 200, 200, \n",
    "np.nan, 200, 1000, 500, 50, 50, 1000, 200, 1000, 50, \n",
    "50, 5000, 50, 200, 10,  np.nan, 5000, 500, 50, 200, \n",
    "200, 200, 50, 500, np.nan, 10000, 5000, 5000, 200, 500,\n",
    "200, 50, 10, np.nan, 200, 200, 50, 200, np.nan, 50, \n",
    "500, 200, 10, np.nan, 50, 200, 50, 10000, 200, 200, \n",
    "1000, 500, 10, 10, 200, 200, 50, 500, 200, np.nan, \n",
    "np.nan, 10001, 50, 50, 1000]\n",
    "\n",
    "company_type = [\"food\", np.nan, \"comm\", \"fin\", \"comm\", \"soft\", np.nan, \"bus\", \"bus\", \"bus\", \n",
    "\"food\", \"food\", \"soft\", \"fin\", \"edu-health\", \"applied\", \"applied\", \"soft\", \"bus\", \"fin\", \n",
    "\"fin\", \"food\", \"applied\", \"applied\", \"bus\", \"fin\", \"other\", \"food\",  \"web\", \"comm\",\n",
    "\"comm\", \"sale\", \"bus\", \"web\", \"edu-health\", \"web\", \"web\", \"bus\", np.nan, \"food\", \n",
    "\"bus\", np.nan, \"applied\", np.nan, np.nan, \"comm\",  \"applied\", \"bus\", \"soft\", \"other\", \n",
    "\"sale\", \"comm\", np.nan, np.nan, \"food\", \"fin\", \"comm\", \"applied\", \"web\", \"other\", \n",
    "\"edu-health\", \"applied\", \"sale\", \"sale\", \"comm\", \"comm\",  np.nan, \"web\", np.nan, \"comm\",\n",
    "\"other\", \"applied\", \"applied\", \"bus\", \"applied\", np.nan, \"food\", \"applied\", \"edu-health\", \"web\", \n",
    "\"food\", np.nan, np.nan, \"fin\", \"fin\", \"web\", \"comm\", np.nan, \"sale\", \"fin\",\n",
    "\"sale\", \"edu-health\", \"edu-health\", np.nan, \"bus\", \"fin\", \"fin\", \"soft\", \"fin\", \"comm\",\n",
    "np.nan, \"comm\", \"edu-health\", \"fin\", \"applied\", \"sale\", \"edu-health\", \"sale\", \"other\", \"edu-health\",\n",
    "\"edu-health\", \"web\", \"comm\", \"food\", \"food\",  np.nan, \"bus\", \"fin\", \"applied\", \"comm\", \n",
    "\"fin\", \"web\", \"comm\", \"fin\", np.nan, \"web\", \"web\", \"soft\", \"bus\", \"food\",\n",
    "\"comm\", \"comm\", \"fin\", np.nan, \"comm\", \"applied\", \"web\", \"edu-health\", np.nan, \"edu-health\",\n",
    "\"applied\", \"applied\", \"bus\", np.nan, \"applied\", \"fin\", \"soft\", \"other\", \"applied\", \"edu-health\",\n",
    "\"comm\", \"applied\", \"sale\", \"sale\", \"edu-health\", \"applied\", \"bus\", \"applied\", \"sale\", np.nan, \n",
    "np.nan, \"sale\", \"edu-health\", \"fin\", \"food\"]\n",
    "\n",
    "for i in range(len(companies)):\n",
    "    food.loc[food[\"company\"] == companies[i], \"size\"] = size[i]\n",
    "    food.loc[food[\"company\"] == companies[i], \"type\"] = company_type[i]\n"
   ]
  },
  {
   "cell_type": "code",
   "execution_count": 65,
   "metadata": {},
   "outputs": [
    {
     "data": {
      "text/plain": [
       "array([  51,  159,  245,  255,   18,  280,  284,  293,  296,  299,    6,\n",
       "        320,  274,  329,  333,  175,  343,  340,  349,  382,  386,  407,\n",
       "        425,  426,  450,  427,  496,  437,  507,  513,  482,  521,  528,\n",
       "        414,  526,  465,  571,  574,  553,  590,  602,  604,  606,  614,\n",
       "        643,  661,  515,  666,  672,  708,  712,  720,  723,  728,  733,\n",
       "        739,  758,  759,  740,  760,  764,  776,  617,  863,  878,  877,\n",
       "        891,  939,  995,  998,  898, 1002, 1006, 1007, 1013, 1037, 1040,\n",
       "       1047,  923, 1068, 1070, 1073], dtype=int64)"
      ]
     },
     "execution_count": 65,
     "metadata": {},
     "output_type": "execute_result"
    }
   ],
   "source": [
    "#missing values still need to research\n",
    "food[food[\"size\"].isnull()][\"id\"].unique()"
   ]
  },
  {
   "cell_type": "code",
   "execution_count": 66,
   "metadata": {},
   "outputs": [],
   "source": [
    "locations = pd.read_csv(\"location.csv\")\n",
    "locations = locations[[\"Id\", \"Company name [Business]\"]]\n",
    "locations = locations.rename(index = str, columns = {\"Id\": \"id\", \"Company name [Business]\":\"company name\"})"
   ]
  },
  {
   "cell_type": "code",
   "execution_count": 67,
   "metadata": {},
   "outputs": [
    {
     "data": {
      "text/plain": [
       "array(['GoFundMe', 'fresh approach', 'Ellevate Network', 'HVF Inc',\n",
       "       'ZeroCater -SF', 'OkCupid', 'OvaNove', 'BGB Group', 'GREE', 'GetGo',\n",
       "       'Testtttttt', 'UpStart', 'Pepperdine University ', 'Fearless Cafe',\n",
       "       'Habit.com', 'illy', 'Shutterstock', 'Better Mortgage',\n",
       "       'Drone Deploy', 'Rad Urban / Nautilus Group', 'Takt',\n",
       "       'Homegrown Events', 'MuleSoft', 'Castlight Health',\n",
       "       'Opterra Energy Services', 'Mintigo', 'HouseCanary',\n",
       "       'Bash Creative', 'Driver', 'Airbnb', 'Capgemini', 'Crunchbase',\n",
       "       'Cookie DO. Inc.', 'sweetgreen', 'Smartbiz',\n",
       "       'Dolby Laboratories / Epicurean Group', 'T. Rowe Price ',\n",
       "       'Audentes Therapeutics', 'Livongo', 'Campaign Monitor',\n",
       "       'Global Logistic Properties ', 'LaSalle Capital', 'The Woo',\n",
       "       'Simply Good Jars', 'Ryan Hofrichter', 'Bulger Partners', 'Datadog',\n",
       "       \"Harry's\", 'Chugh LLP', 'Adams & Company Real Estate, LLC',\n",
       "       'Gizmodo Media', 'White Ops ', 'Mark43', 'Toast Inc.',\n",
       "       'The Town Kitchen', 'ZMC', 'ZeroCater - NYC', 'MKTG',\n",
       "       \"Poppy's Catering\", 'Global Gourmet Catering', 'Bird.co',\n",
       "       'Fungible Inc', 'Seat Release', 'Innovative Baking, LLC',\n",
       "       'PYE, INC.', 'ZYMERGEN', 'Postmates', 'Indeed',\n",
       "       'Index Exchange, Inc', 'Blockchain', 'Paypal'], dtype=object)"
      ]
     },
     "execution_count": 67,
     "metadata": {},
     "output_type": "execute_result"
    }
   ],
   "source": [
    "missing_companies = food[food[\"size\"].isnull()].merge(locations,\n",
    "                                  how = \"inner\", \n",
    "                                  on = \"id\")\n",
    "#companies still need to research\n",
    "missing_companies[\"company name\"].unique()\n"
   ]
  },
  {
   "cell_type": "code",
   "execution_count": 68,
   "metadata": {},
   "outputs": [],
   "source": [
    "companies2 = ['GoFundMe', 'fresh approach', 'Ellevate Network', 'HVF Inc', 'ZeroCater -SF', #5\n",
    " 'OkCupid', 'OvaNove', 'BGB Group', 'GREE', 'GetGo', #10\n",
    " #GoFundme (500): fundraising, fresh (50): nutrition education and food outreach, ellevate (10): professional training for women\n",
    " #hvf (50): data analysis, zerocater (200): catering, okcupid (50): use math to get people date\n",
    " #ovanova (10): solar company, BGB (500): marketing for pharmaceutical, Gree (5000): social media?, \n",
    " #GetGo (5000): communications\n",
    " \n",
    "'Testtttttt', 'UpStart', 'Pepperdine University ', 'Fearless Cafe', 'Habit.com', #15\n",
    " 'illy', 'Shutterstock', 'Better Mortgage', 'Drone Deploy', 'Rad Urban / Nautilus Group', #20 \n",
    "#test (ignore), Upstart (200): AI and ML to price credit and give loans, \n",
    "#pepperdine: ignore, fearless (10): food, habit (10): web, illy (10): other, \n",
    "#shutterstock (5000): retail, mortgage (200): finance, drone (200): software\n",
    "#rad (200): real estate/construction/engineering, \n",
    " \n",
    " 'Takt', 'Homegrown Events', 'MuleSoft', 'Castlight Health', 'Opterra Energy Services', #25\n",
    " 'Mintigo', 'HouseCanary', 'Bash Creative', 'Driver', 'Airbnb', #30 \n",
    " #Takt (200): analytics, Homegrown (10): food, mulesoft (5000): web, \n",
    " #'Castlight (1000): healthcare, opterra (500): data/engineering, \n",
    " #mintigo (200): marketing, housecanary(200): real estate, bash creative (10): event planning, \n",
    " #driver (200): health, airbnb (5000): retail\n",
    " \n",
    " 'Capgemini', 'Cookie DO. Inc.', 'sweetgreen', 'Smartbiz', 'Dolby Laboratories / Epicurean Group', #35\n",
    "'T. Rowe Price ', 'Audentes Therapeutics', 'Livongo', 'Campaign Monitor', 'Global Logistic Properties ', #40\n",
    "\n",
    "#capgemini (10001): business, cookie (10): food, sweetgreen (5000): food, \n",
    " #smartbiz (200): business loans, dolby (5000): engineering\n",
    " \n",
    "# 'T. Rowe Price (10000): investment management  and retirement services', 'Audentes Therapeutics (200): development and commercialization of innovative new medicines',\n",
    "#'Livongo (200): consumer digital health company', 'Campaign Monitor (200): marketing company for campaigns', \n",
    " #'Global Logistic Properties (5000): real estate fund managers', #40\n",
    "\n",
    " 'LaSalle Capital', 'The Woo', 'Simply Good Jars', 'Ryan Hofrichter', 'Bulger Partners', #45\n",
    " 'Datadog', \"Harry's\", 'Crunchbase', 'Chugh LLP', 'Adams & Company Real Estate, LLC', #50\n",
    "#'LaSalle Capital (50): private equity firm, fund management', 'The Woo (50): marketing and advertising', \n",
    " #'Simply Good Jars 50: make healthy food and package them in jars', 'Ryan Hofrichter': ignore, \n",
    " #'Bulger Partners (50): Management Consulting and Strategy company', #45\n",
    " # 'Datadog (1000): monitoring service for hybrid cloud applications', \"Harry's (1000): food production\", \n",
    " #'Crunchbase (50): companies, investment news and info', 'Chugh LLP (500): law firm', \n",
    " #'Adams & Company Real Estate, LLC (200) : real estate company providing property management, brokerage, and consulting services'\n",
    " \n",
    " \n",
    " 'Gizmodo Media', 'White Ops ', 'Mark43', 'Toast Inc.', 'The Town Kitchen', #55\n",
    " 'ZMC', 'ZeroCater - NYC', 'MKTG', \"Poppy's Catering\", 'Global Gourmet Catering', #60\n",
    " #'Gizmodo Media (200): publisher for media brands', 'White Ops (200) :cybersecurity company to protect businesses', \n",
    " #'Mark43 (200): public safety software tools', 'Toast Inc. (1000): all-in-one point-of-sale and restaurant management platform', \n",
    " #'The Town Kitchen (10): food and delivery business', 'ZMC' (50): investment/media/communication , 'ZeroCater - NYC (200): food and catering', \n",
    " #'MKTG (10000): marketing agency', \"Poppy's Catering (50): catering and event planning\", \n",
    " #'Global Gourmet Catering (1000): catering and event planning', \n",
    " \n",
    " 'Bird.co', 'Fungible Inc', 'Seat Release', 'Innovative Baking, LLC', 'PYE, INC.', #65\n",
    " 'ZYMERGEN', 'Postmates', 'Indeed', 'Index Exchange, Inc', 'Blockchain', #70\n",
    " # 'Bird.co (50): finding transportation', 'Fungible Inc (50): hardware + software platform for data centers', \n",
    " #'Seat Release (50): finding event tickets', 'Innovative Baking, LLC' (50): food, 'PYE, INC. (10): Information Technology and Service', #65\n",
    " #'ZYMERGEN (500): ml company trying to advance science', 'Postmates (500): food delivery', \n",
    " #'Indeed (10000): job search', 'Index Exchange, Inc (500): ads technology for sponsors and publishers', \n",
    " #'Blockchain (200): name is self explained', #70\n",
    "'Paypal'\n",
    " #'Paypal (10001): financial services'\n",
    "]\n",
    "\n",
    "missing_size = [500, 50, 10, 50, 200, 50, 10, 500, 5000, 5000, \n",
    "np.nan, 200, np.nan, 10, 10, 10, 5000, 200, 200, 200, \n",
    "200, 10, 5000, 1000, 500, 200, 200, 10, 200, 5000, \n",
    "10001, 10, 5000, 200, 5000, 10000, 200, 200, 200, 5000, \n",
    "50, 50, 50, np.nan, 50, 1000, 1000, 50, 500, 200, \n",
    "200, 200, 200,1000,10, 50, 200, 1000, 50, 1000, \n",
    "50, 50, 50, 50, 10, 500, 500, 10000,500, 200, \n",
    "10001]\n",
    "\n",
    "missing_types = [\"other\",  \"food\", \"edu-health\", \"applied\", \"food\", \"comm\", \"applied\", \"bus\", \"comm\", \"comm\",\n",
    "np.nan, \"fin\", np.nan, \"food\", \"web\", \"other\", \"sale\", \"fin\", \"soft\", \"applied\", \n",
    "\"applied\", \"food\", \"web\", \"edu-health\", \"applied\", \"bus\", \"fin\", \"other\", \"edu-health\", \"sale\", \n",
    "\"bus\", \"food\", \"food\", \"bus\", \"applied\", \"fin\", \"edu-health\", \"edu-health\", \"bus\", \"fin\", \n",
    "\"fin\", \"bus\", \"food\", np.nan, \"bus\", \"other\", \"food\", \"web\", \"bus\", \"fin\", \n",
    "\"bus\", \"soft\", \"soft\", \"food\", \"food\", \"web\", \"food\", \"bus\", \"food\", \"food\", \n",
    "\"soft\", \"soft\", \"other\", \"food\", \"other\", \"applied\", \"food\", \"web\", \"bus\", \"soft\",\n",
    "\"other\"\n",
    "]\n",
    "for i in range(len(companies2)): \n",
    "    missing_companies.loc[missing_companies[\"company name\"] == companies2[i], \"size\"] = missing_size[i]\n",
    "    missing_companies.loc[missing_companies[\"company name\"] == companies2[i], \"type\"] = missing_types[i]\n",
    "for i in range(len(missing_companies[\"Id\"])):\n",
    "    food.loc[food[\"Id\"] == missing_companies[\"Id\"][i], \"company\"] = missing_companies[\"company name\"][i]\n",
    "    food.loc[food[\"Id\"] == missing_companies[\"Id\"][i], \"size\"] = missing_companies[\"size\"][i]\n",
    "    food.loc[food[\"Id\"] == missing_companies[\"Id\"][i], \"type\"] = missing_companies[\"type\"][i]"
   ]
  },
  {
   "cell_type": "code",
   "execution_count": 69,
   "metadata": {},
   "outputs": [],
   "source": [
    "food.loc[food[\"company\"].str.contains(\"ZeroCater\"), \"company\"] = \"ZeroCater\"\n",
    "food.loc[food[\"company\"].str.contains(\"Dataminr\"),\"company\"] = \"Dataminr\"\n",
    "#get rid of entries that I didn't put a value for because special cases and can't draw any information from entries\n",
    "food = food[~food[\"size\"].isnull()]"
   ]
  },
  {
   "cell_type": "code",
   "execution_count": 70,
   "metadata": {},
   "outputs": [],
   "source": [
    "food.to_csv(\"food_cleaned.csv\", sep = \",\")"
   ]
  },
  {
   "cell_type": "markdown",
   "metadata": {},
   "source": [
    "# Whole Dataset"
   ]
  },
  {
   "cell_type": "code",
   "execution_count": 24,
   "metadata": {},
   "outputs": [],
   "source": [
    "#Reading in data and changing column names \n",
    "food_full = pd.read_csv(\"replate_reduced.csv\")\n",
    "food_nd = food_full[~food_full[\"Id\"].isin(food[\"Id\"])].drop([\"Unnamed: 0\", \"Description\",\n",
    "\"Short\", \"Paid\", \"Pickup price [Location]\", \"Plan [Location]\", \"Plan exclusive [Location]\"], axis = 1)\n",
    "food_nd = food_nd.rename(index = str, columns = {\"Scheduled date\": \"date\",\n",
    "                                          \"City [Location]\": \"city\", \"State [Location]\": \"state\",\n",
    "                                          \"Zip [Location]\": \"zip\", \"Pickup price [Location]\": \"pickup\",\n",
    "                                            \"Id [Location]\": \"id_loc\",\n",
    "                                          \"Number [Location]\": \"number\", \"Addr name [Location]\": \"company\",\n",
    "                                          \"Street [Location]\": \"street\", \"Lat [Location]\": \"lat\", \n",
    "                                          \"Lon [Location]\": \"lon\"})"
   ]
  },
  {
   "cell_type": "code",
   "execution_count": 25,
   "metadata": {},
   "outputs": [],
   "source": [
    "#Adding date variables \n",
    "food_nd[\"date\"] = pd.to_datetime(food_nd[\"date\"])\n",
    "food_nd[\"month\"] = food_nd[\"date\"].dt.month\n",
    "food_nd[\"day\"] = food_nd[\"date\"].dt.day\n",
    "food_nd[\"year\"] = food_nd[\"date\"].dt.year\n",
    "weekday = []\n",
    "for i in food_nd[\"date\"]: \n",
    "    weekday.append(i.weekday())\n",
    "food_nd[\"weekday\"] = days[weekday]"
   ]
  },
  {
   "cell_type": "markdown",
   "metadata": {},
   "source": [
    "### Data Cleaning and Data Entry"
   ]
  },
  {
   "cell_type": "code",
   "execution_count": 26,
   "metadata": {},
   "outputs": [],
   "source": [
    "food_nd = food_nd.merge(\n",
    "    locations, left_on = \"id_loc\", right_on = \"id\", how = \"left\")"
   ]
  },
  {
   "cell_type": "code",
   "execution_count": 27,
   "metadata": {
    "scrolled": true
   },
   "outputs": [],
   "source": [
    "food_nd[\"company\"] = food_nd[\"company name\"]"
   ]
  },
  {
   "cell_type": "code",
   "execution_count": 28,
   "metadata": {
    "scrolled": true
   },
   "outputs": [],
   "source": [
    "food_nd[\"company\"].unique()\n",
    "food_nd_repeat_comps = ['ZeroCater - NYC', \"EAT CLUB\", 'Zillow ', \"Tumblr\",\n",
    "                      'Scott+Scott, Attorneys At Law, LLP','Flexport', \n",
    "                       'Bark & Co', \"TRUECar, Inc.\", 'PCH Lime Lab', 'ZeroCater -SF',\n",
    "                        'Yahoo | RA', 'Vungle', 'Pierry Inc', 'Boston Consulting Group-Digital Ventures',\n",
    "                        'Moogsoft', \"TechValidate\",  'Aera','Aramark', 'Zesty', \n",
    "                         'Circleci','ACXIOM Corp', 'Eat Club, Inc.','MeUndies', 'Metromile ',\n",
    "                        'Livongo - Chicago', 'ZeroCater - AUS', 'CYNGN', 'CA Ventures',\n",
    "                        'Audentes','Headspace', \"Glossier\",'WB Digital Labs','Slack Technologies', \"Cisco Umbrella\",\n",
    "                       \"Appboy\", \"Pulsepoint\"]                    \n",
    "        \n",
    "food_nd_replace_comps = [\"ZeroCater\", \"EAT Club\", \"Zillow NYC\", \"Tumblr NYC Office\", 'Scott & Scott', \"Flexport NYC\", \n",
    "                         \"BarkBox\", \"TrueCar\", \"PCH\", \"ZeroCater\", \"Yahoo NYC\", 'Vungle SF', 'Pierry Inc.', \"BCG Digital Ventures\", \n",
    "                          'Moogsoft, Inc.','TechValidate Software', 'Aera Technology Inc.', 'Aramark SF',\n",
    "                         \"Zesty SF\", \"CircleCI\", \"Acxiom\", \"EAT Club\", \"MeUndies HQ\", \"Metromile\",\n",
    "                         \"Livongo\", \"ZeroCater\", 'CYNGN Palo Alto', 'CA VENTURES suite 2100', \n",
    "                         'Audentes Therapeutics', 'Headspace (HQ)', \"Glossier HQ\", 'Drama Fever/WB Digital New York Office',\n",
    "                         \"Slack\", \"OpenDNS\", \"Braze SF Office\", \"PulsePoint\"]\n",
    "\n",
    "for i in range(len(food_nd_repeat_comps)):\n",
    "    food_nd.loc[food_nd[\"company\"] == food_nd_repeat_comps[i], \"company\"] = food_nd_replace_comps[i]"
   ]
  },
  {
   "cell_type": "code",
   "execution_count": 29,
   "metadata": {},
   "outputs": [],
   "source": [
    "food_nd = food_nd.merge(food.groupby(\"company\")[[\"company\", \"size\", \"type\"]].first(),\n",
    "              on = \"company\", \n",
    "              how = \"left\")"
   ]
  },
  {
   "cell_type": "code",
   "execution_count": 30,
   "metadata": {},
   "outputs": [
    {
     "data": {
      "text/plain": [
       "array(['Lemke, Bernhard and Casper', 'Russel, Little and Cummerata',\n",
       "       'Test_Leannon-Kutch', 'Rippin-Vandervort', 'Cafe Blue Door',\n",
       "       'Eatsa', 'Daily Harvest', 'Rubicon Project', 'Laserlike',\n",
       "       'Stupski Foundation', 'DigitalOcean', 'Symantec', 'SFO',\n",
       "       'thoughtbot, inc', 'Innovid', 'Stella Service ', 'Bounce exchange ',\n",
       "       'Test X', 'Cosmo Street Editorial ', 'Farmhill', 'Testtttttt',\n",
       "       'schoola', 'Pepperdine University ',\n",
       "       'Engel Institute & Dental Center ', 'Pepperdine University',\n",
       "       'Kaiser Permanente', 'Udacity', 'Test Testing',\n",
       "       \"Billy Bob's Company\", 'Bird Brain Productions',\n",
       "       'Project Homeless Connect', 'Test company', 'AFIP',\n",
       "       'Century Pacific North America Enterprise Inc.', 'GTB',\n",
       "       'Motion Industries ', 'Sprout Social', 'Ryan Hofrichter', 'ALL IN ',\n",
       "       'SoundCloud', 'Big Health', 'Platterz', 'Genius Media', 'Savory',\n",
       "       'Darylynn Eyewear', 'Ready Pac Foods', 'Ripe', 'Octopart Inc',\n",
       "       'Stella.ai', 'Fluent LLC', \"Emily's Company\", 'Spotify', 'Amazon',\n",
       "       'Rapid7', 'Bird Rides, Inc.', 'Cherry',\n",
       "       'San Diego Food System Alliance (test sign up)', 'SDFSA Test',\n",
       "       'Staten Island Academy', 'Edelman', 'Test', 'Cater2.me', 'Adore Me',\n",
       "       'J.O.N.A.H. INC', 'Vita coco', 'Thoma Bravo', 'Fauna, Inc'], dtype=object)"
      ]
     },
     "execution_count": 30,
     "metadata": {},
     "output_type": "execute_result"
    }
   ],
   "source": [
    "food_nd[food_nd[\"type\"].isnull()][\"company\"].unique()"
   ]
  },
  {
   "cell_type": "code",
   "execution_count": 31,
   "metadata": {},
   "outputs": [
    {
     "data": {
      "text/plain": [
       "array(['food', 'other', 'comm', 'fin', 'soft', 'bus', 'edu-health',\n",
       "       'applied', 'web', 'sale'], dtype=object)"
      ]
     },
     "execution_count": 31,
     "metadata": {},
     "output_type": "execute_result"
    }
   ],
   "source": [
    "food[\"type\"].unique()"
   ]
  },
  {
   "cell_type": "code",
   "execution_count": 32,
   "metadata": {},
   "outputs": [],
   "source": [
    "companies3 = ['Lemke, Bernhard and Casper', 'Russel, Little and Cummerata', 'Test_Leannon-Kutch', 'Rippin-Vandervort', 'Cafe Blue Door', #5\n",
    "'Eatsa', 'Daily Harvest', 'Rubicon Project', 'Laserlike', #9\n",
    "#np.nan, np.nan, np.nan, np.nan, Cafe Blue Door: (10): food,\n",
    "#eatsa (200): food, daily harvest (50): food, rubicon project (1000): bus, Laserlike (50): soft, \n",
    "\n",
    " \n",
    "'Stupski Foundation', 'DigitalOcean', 'Symantec', #14\n",
    " 'SFO', 'thoughtbot, inc', 'Innovid', 'Stella Service ', 'Bounce exchange ', #19\n",
    "#Stupski (10): philanthropy by ending hunger (food?), digitalOcean (500): cloud computing (web), symantec (10001): cyber security (web?),\n",
    "#SFO (5000): other, thoughtbot (200): applied, innovid (500): bus, stella (200): customer service (soft?), bounce (500): bus\n",
    " \n",
    " \n",
    " 'Test X', \"Cosmo Street Editorial \", 'Farmhill', 'Testtttttt', 'schoola', #24\n",
    "'Pepperdine University ', 'Engel Institute & Dental Center ', 'Pepperdine University', 'Kaiser Permanente', 'Udacity', #29\n",
    " #np.nan, Cosmo (200): graphics (applied?), Farmhill (200): food, np.nan, schoola (50): edu-health, \n",
    " #np.nan, Engel: np.nan, pepperdine: np.nan, Kaiser (10001): edu-health, Udacity (200): applied\n",
    " \n",
    " \n",
    "'Test Testing', \"Billy Bob's Company\", 'Bird Brain Productions', 'Project Homeless Connect', 'Test company', #34\n",
    " 'AFIP', 'Century Pacific North America Enterprise Inc.', 'GTB', 'Motion Industries ', 'Sprout Social', #39\n",
    " #np.nan, Billy bobs: ???, Bird Brain (50): comm, Homeless (50): other, np.nan\n",
    " #AFIP: np.nan, CPNAE: ???, GTB(5000): bus, Motion (10000): applied, sprout (500): helps grow social media (bus)\n",
    " \n",
    " 'Ryan Hofrichter', 'ALL IN ', 'SoundCloud', 'Big Health', 'Platterz', #44\n",
    " 'Genius Media', 'Savory', 'Darylynn Eyewear', 'Ready Pac Foods', 'Ripe', #49\n",
    " #np.nan, All in: ??? Is it the mariott?, Soundcloud (500): soft, big health (200): edu-health, plattersz (200): food\n",
    " #GM (50): comm, Savory (200): food, Darylynn: ???, rpf (5000): food, ripe (50): food \n",
    " \n",
    " 'Octopart Inc', 'Stella.ai', 'Fluent LLC', \"Emily's Company\", 'Spotify', #54\n",
    " 'Amazon', 'Rapid7', 'Bird Rides, Inc.', 'Cherry', 'San Diego Food System Alliance (test sign up)', #59 \n",
    " #octopart (50): applied, stella (50): applied, FLuent (10): other, Emily: ???, spotify (5000): comm\n",
    " #amazon (10001): sale, rapid (5000): web, birds inc: ???, cherry: ???, np.nan\n",
    " \n",
    " 'SDFSA Test', 'Staten Island Academy', 'Edelman', 'Test', 'Cater2.me', #64\n",
    " 'Adore Me', 'J.O.N.A.H. INC', 'Vita coco', 'Thoma Bravo', 'Fauna, Inc'] #69\n",
    "#np.nan, Staten (200): edu-health, Edelman (10000): bus, np.nan, Cater (200): food\n",
    "#\"adore (200): sale, jonah: ????, vita (500): food, thoma (50): fin, fauna (50): web "
   ]
  },
  {
   "cell_type": "code",
   "execution_count": 33,
   "metadata": {},
   "outputs": [],
   "source": [
    "companies3_size = [np.nan, np.nan, np.nan, np.nan, 10, \n",
    "200, 50, 1000, 50, \n",
    "10, 500, 10001,\n",
    "5000, 200, 500, 200, 500, \n",
    "np.nan, 200, 200, np.nan, 50, \n",
    "np.nan, np.nan, np.nan, 10001, 200, \n",
    "np.nan, np.nan, 50, 50, np.nan,\n",
    "np.nan, np.nan, 5000, 10000, 500, \n",
    "np.nan, np.nan, 500, 200, 200,\n",
    "50, 200, np.nan, 5000, 50, \n",
    "50, 50, 10, np.nan, 5000, \n",
    "10001, 5000, np.nan, np.nan, np.nan, \n",
    "np.nan, 200, 10000, np.nan, 200, \n",
    "200, np.nan, 500, 50, 50]\n",
    "companies3_type = [np.nan, np.nan, np.nan, np.nan, \"food\", \n",
    "\"food\", \"food\", \"bus\", \"soft\", \n",
    "\"food\", \"web\", \"web\",\n",
    "\"other\", \"applied\", \"bus\", \"soft\", \"bus\", \n",
    "np.nan, \"applied\", \"food\", np.nan, \"edu-health\", \n",
    "np.nan, np.nan, np.nan, \"edu-health\", \"applied\", \n",
    "np.nan, np.nan, \"comm\", \"other\", np.nan,\n",
    "np.nan, np.nan, \"bus\", \"applied\", \"bus\", \n",
    "np.nan, np.nan, \"soft\", \"edu-health\", \"food\",\n",
    "\"comm\", \"food\", np.nan, \"food\", \"food\", \n",
    "\"applied\", \"applied\", \"other\", np.nan, \"comm\", \n",
    "\"sale\", \"web\", np.nan, np.nan, np.nan, \n",
    "np.nan, \"edu-health\", \"bus\", np.nan, \"food\", \n",
    "\"sale\", np.nan, \"food\", \"fin\", \"web\"]\n",
    "\n",
    "for i in range(len(companies3)): \n",
    "    food_nd.loc[food_nd[\"company\"] == companies3[i], \"size\"] = companies3_size[i]\n",
    "    food_nd.loc[food_nd[\"company\"] == companies3[i], \"type\"] = companies3_type[i]"
   ]
  },
  {
   "cell_type": "code",
   "execution_count": 34,
   "metadata": {},
   "outputs": [],
   "source": [
    "ignore = ['Test_Leannon-Kutch', \"Billy Bob's Company\", 'Test X', 'Testtttttt',\n",
    "'Pepperdine University ', 'Pepperdine University',\n",
    "'Test Testing', 'Test company', 'Ryan Hofrichter',\n",
    "'San Diego Food System Alliance (test sign up)', \n",
    "'SDFSA Test', 'Test', 'Lemke, Bernhard and Casper', 'Russel, Little and Cummerata',\n",
    "'Rippin-Vandervort', 'J.O.N.A.H. INC', \"Emily's Company\", \"Cherry\"]\n",
    "food_nd = food_nd[~food_nd[\"company\"].isin(ignore)]"
   ]
  },
  {
   "cell_type": "code",
   "execution_count": 35,
   "metadata": {},
   "outputs": [],
   "source": [
    "remaining = food_nd[food_nd[\"type\"].isnull()][\"company\"].unique()\n",
    "remaining_size = [50, 10, 10000, 10, 10, 50]\n",
    "remaining_type = [\"other\", \"fin\", \"food\", \"food\",\"sale\", \"other\"]\n",
    "for i in range(len(remaining)): \n",
    "    food_nd.loc[food_nd[\"company\"] == remaining[i], \"size\"] = remaining_size[i]\n",
    "    food_nd.loc[food_nd[\"company\"] == remaining[i], \"type\"] = remaining_type[i]"
   ]
  },
  {
   "cell_type": "code",
   "execution_count": 36,
   "metadata": {},
   "outputs": [
    {
     "name": "stdout",
     "output_type": "stream",
     "text": [
      "Id 0\n",
      "date 0\n",
      "id_loc 0\n",
      "number 0\n",
      "street 0\n",
      "city 0\n",
      "company 0\n",
      "state 0\n",
      "zip 0\n",
      "lat 0\n",
      "lon 0\n",
      "month 0\n",
      "day 0\n",
      "year 0\n",
      "weekday 0\n",
      "id 0\n",
      "company name 0\n",
      "size 0\n",
      "type 0\n"
     ]
    }
   ],
   "source": [
    "for i in food_nd.columns:\n",
    "    print(i, sum(food_nd[i].isnull()))"
   ]
  },
  {
   "cell_type": "code",
   "execution_count": 49,
   "metadata": {},
   "outputs": [
    {
     "data": {
      "text/plain": [
       "(70, 16)"
      ]
     },
     "execution_count": 49,
     "metadata": {},
     "output_type": "execute_result"
    }
   ],
   "source": [
    "food[~(food[\"state\"] == \"New York\") & ~(food[\"state\"] == \"California\")].shape"
   ]
  },
  {
   "cell_type": "code",
   "execution_count": 38,
   "metadata": {},
   "outputs": [],
   "source": [
    "keep_columns = [\"date\",\"company\", \"state\", \"month\", \"weekday\", \"size\", \"type\"]\n",
    "food_full = food_nd[keep_columns].append(food_nd[keep_columns], ignore_index = True)"
   ]
  },
  {
   "cell_type": "code",
   "execution_count": null,
   "metadata": {},
   "outputs": [],
   "source": [
    "food_full.to_csv(\"food_full.csv\", sep = \",\")"
   ]
  }
 ],
 "metadata": {
  "kernelspec": {
   "display_name": "Python 3",
   "language": "python",
   "name": "python3"
  },
  "language_info": {
   "codemirror_mode": {
    "name": "ipython",
    "version": 3
   },
   "file_extension": ".py",
   "mimetype": "text/x-python",
   "name": "python",
   "nbconvert_exporter": "python",
   "pygments_lexer": "ipython3",
   "version": "3.6.4"
  }
 },
 "nbformat": 4,
 "nbformat_minor": 2
}
