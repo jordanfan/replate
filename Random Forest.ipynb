{
 "cells": [
  {
   "cell_type": "code",
   "execution_count": 212,
   "metadata": {},
   "outputs": [],
   "source": [
    "import pandas as pd \n",
    "import numpy as np \n",
    "from pandas.api.types import CategoricalDtype\n",
    "from sklearn.model_selection import train_test_split\n",
    "from sklearn.ensemble import RandomForestRegressor\n",
    "from sklearn.ensemble import RandomForestClassifier\n",
    "from sklearn.datasets import make_classification\n",
    "from sklearn.tree import export_graphviz \n",
    "from sklearn.model_selection import KFold\n",
    "#import pydot\n",
    "#cloned into https://github.com/erocarrera/pydot\n",
    "#from pydot import dot_parser\n",
    "from sklearn.model_selection import RandomizedSearchCV\n",
    "from scipy.stats import norm\n",
    "from sklearn.metrics import precision_score, recall_score\n",
    "import seaborn as sns\n",
    "import matplotlib.pyplot as plt\n",
    "from sklearn.decomposition import PCA \n"
   ]
  },
  {
   "cell_type": "markdown",
   "metadata": {},
   "source": [
    "# Which types of companies are multi time donors? "
   ]
  },
  {
   "cell_type": "code",
   "execution_count": 133,
   "metadata": {},
   "outputs": [],
   "source": [
    "company = pd.read_csv(\"company_full.csv\")\n",
    "#company = company.drop(\"company\", axis = 1)\n",
    "company[\"multi_donor\"] = 1 - company[\"one_donation\"]\n",
    "company = company.drop(\"one_donation\", axis = 1)\n",
    "food = pd.read_csv(\"no_isf_outliers\")\n",
    "food2 = pd.read_csv(\"no_ell_outliers\")\n",
    "food3 = pd.read_csv(\"no_outliers\")"
   ]
  },
  {
   "cell_type": "markdown",
   "metadata": {},
   "source": [
    "### Combining company types based on proportion "
   ]
  },
  {
   "cell_type": "code",
   "execution_count": 134,
   "metadata": {},
   "outputs": [],
   "source": [
    "company_food = company[company[\"type_food\"] == 1][\"multi_donor\"]\n",
    "company_other = company[company[\"type_other\"] == 1][\"multi_donor\"]\n",
    "company_comm = company[company[\"type_comm\"] == 1][\"multi_donor\"]\n",
    "company_fin = company[company[\"type_fin\"] == 1][\"multi_donor\"]\n",
    "company_soft = company[company[\"type_soft\"] == 1][\"multi_donor\"]\n",
    "company_bus = company[company[\"type_bus\"] == 1][\"multi_donor\"]\n",
    "company_eh = company[company[\"type_edu-health\"] == 1][\"multi_donor\"]\n",
    "company_applied = company[company[\"type_applied\"] == 1][\"multi_donor\"]\n",
    "company_web = company[company[\"type_web\"] == 1][\"multi_donor\"]\n",
    "company_sale = company[company[\"type_sale\"] == 1][\"multi_donor\"]\n",
    "dists_name = [\"Food\", \"Other\", \"Communication\", \"Finance\", \"Software\", \n",
    "             \"Business\", \"Education-Health\", \"Applied\", \"Web\", \"Sale\"]\n",
    "dists = [company_food, company_other, company_comm, company_fin, company_soft,\n",
    "        company_bus, company_eh, company_applied, company_web, company_sale]"
   ]
  },
  {
   "cell_type": "code",
   "execution_count": 135,
   "metadata": {
    "scrolled": true
   },
   "outputs": [
    {
     "name": "stdout",
     "output_type": "stream",
     "text": [
      "Company Type and Proportions:\n",
      "food 0.629799\n",
      "other 0.647441\n",
      "comm 0.57686\n",
      "fin 0.703856\n",
      "soft 0.812497\n",
      "bus 0.709171\n",
      "edu-health 0.571694\n",
      "applied 0.545543\n",
      "web 0.578588\n",
      "sale 0.646239\n"
     ]
    }
   ],
   "source": [
    "import random\n",
    "props = []\n",
    "for i in range(len(dists)):\n",
    "    dist = [sum(dists[i].sample(1000, replace = True))/1000 for j in range(1000)]\n",
    "    props.append(sum(dist)/1000)\n",
    "props = np.array(props)\n",
    "print(\"Company Type and Proportions:\")\n",
    "for i in range(len(props)):\n",
    "    print(food[\"type\"].unique()[i], props[i])"
   ]
  },
  {
   "cell_type": "code",
   "execution_count": 136,
   "metadata": {
    "scrolled": true
   },
   "outputs": [
    {
     "name": "stdout",
     "output_type": "stream",
     "text": [
      "Food and Other: 0.21\n",
      "Food and Communication: 0.01\n",
      "Food and Finance: 0.00\n",
      "Food and Software: 0.00\n",
      "Food and Business: 0.00\n",
      "Food and Education-Health: 0.00\n",
      "Food and Applied: 0.00\n",
      "Food and Web: 0.01\n",
      "Food and Sale: 0.22\n",
      "Other and Communication: 0.00\n",
      "Other and Finance: 0.00\n",
      "Other and Software: 0.00\n",
      "Other and Business: 0.00\n",
      "Other and Education-Health: 0.00\n",
      "Other and Applied: 0.00\n",
      "Other and Web: 0.00\n",
      "Other and Sale: 0.48\n",
      "Communication and Finance: 0.00\n",
      "Communication and Software: 0.00\n",
      "Communication and Business: 0.00\n",
      "Communication and Education-Health: 0.41\n",
      "Communication and Applied: 0.08\n",
      "Communication and Web: 0.47\n",
      "Communication and Sale: 0.00\n",
      "Finance and Software: 0.00\n",
      "Finance and Business: 0.40\n",
      "Finance and Education-Health: 0.00\n",
      "Finance and Applied: 0.00\n",
      "Finance and Web: 0.00\n",
      "Finance and Sale: 0.00\n",
      "Software and Business: 0.00\n",
      "Software and Education-Health: 0.00\n",
      "Software and Applied: 0.00\n",
      "Software and Web: 0.00\n",
      "Software and Sale: 0.00\n",
      "Business and Education-Health: 0.00\n",
      "Business and Applied: 0.00\n",
      "Business and Web: 0.00\n",
      "Business and Sale: 0.00\n",
      "Education-Health and Applied: 0.12\n",
      "Education-Health and Web: 0.38\n",
      "Education-Health and Sale: 0.00\n",
      "Applied and Web: 0.07\n",
      "Applied and Sale: 0.00\n",
      "Web and Sale: 0.00\n"
     ]
    }
   ],
   "source": [
    "for i in range(1, len(dists)): \n",
    "    n1 = 1000\n",
    "    n2 = 1000\n",
    "    p1 = props[0]\n",
    "    p2 = props[i]\n",
    "    p = (n1 * p1 + n2 * p2)/(n1 + n2)\n",
    "    z = (p1 - p2)/(p * (1 - p) * (1/n1 + 1/n2))**0.5\n",
    "    print(\"Food and \" + dists_name[i] + ': {0:0.2f}'.format(\n",
    "     1 - norm.cdf(abs(z))))\n",
    "for i in range(2, len(dists)): \n",
    "    n1 = 1000\n",
    "    n2 = 1000\n",
    "    p1 = props[1]\n",
    "    p2 = props[i]\n",
    "    p = (n1 * p1 + n2 * p2)/(n1 + n2)\n",
    "    z = (p1 - p2)/(p * (1 - p) * (1/n1 + 1/n2))**0.5\n",
    "    print(\"Other and \" + dists_name[i] + ': {0:0.2f}'.format(\n",
    "     1 - norm.cdf(abs(z))))\n",
    "for i in range(3, len(dists)): \n",
    "    n1 = 1000\n",
    "    n2 = 1000\n",
    "    p1 = props[2]\n",
    "    p2 = props[i]\n",
    "    p = (n1 * p1 + n2 * p2)/(n1 + n2)\n",
    "    z = (p1 - p2)/(p * (1 - p) * (1/n1 + 1/n2))**0.5\n",
    "    print(\"Communication and \" + dists_name[i] + ': {0:0.2f}'.format(\n",
    "      1 - norm.cdf(abs(z))))\n",
    "for i in range(4, len(dists)): \n",
    "    n1 = 1000\n",
    "    n2 = 1000\n",
    "    p1 = props[3]\n",
    "    p2 = props[i]\n",
    "    p = (n1 * p1 + n2 * p2)/(n1 + n2)\n",
    "    z = (p1 - p2)/(p * (1 - p) * (1/n1 + 1/n2))**0.5\n",
    "    print(\"Finance and \" + dists_name[i] + ': {0:0.2f}'.format(\n",
    "      1 - norm.cdf(abs(z))))\n",
    "for i in range(5, len(dists)): \n",
    "    n1 = 1000\n",
    "    n2 = 1000\n",
    "    p1 = props[4]\n",
    "    p2 = props[i]\n",
    "    p = (n1 * p1 + n2 * p2)/(n1 + n2)\n",
    "    z = (p1 - p2)/(p * (1 - p) * (1/n1 + 1/n2))**0.5\n",
    "    print(\"Software and \" + dists_name[i] + ': {0:0.2f}'.format(\n",
    "      1 - norm.cdf(abs(z))))\n",
    "for i in range(6, len(dists)): \n",
    "    n1 = 1000\n",
    "    n2 = 1000\n",
    "    p1 = props[5]\n",
    "    p2 = props[i]\n",
    "    p = (n1 * p1 + n2 * p2)/(n1 + n2)\n",
    "    z = (p1 - p2)/(p * (1 - p) * (1/n1 + 1/n2))**0.5\n",
    "    print(\"Business and \" + dists_name[i] + ': {0:0.2f}'.format(\n",
    "      1 - norm.cdf(abs(z))))\n",
    "for i in range(7, len(dists)): \n",
    "    n1 = 1000\n",
    "    n2 = 1000\n",
    "    p1 = props[6]\n",
    "    p2 = props[i]\n",
    "    p = (n1 * p1 + n2 * p2)/(n1 + n2)\n",
    "    z = (p1 - p2)/(p * (1 - p) * (1/n1 + 1/n2))**0.5\n",
    "    print(\"Education-Health and \" + dists_name[i] + ': {0:0.2f}'.format(\n",
    "      1 - norm.cdf(abs(z))))\n",
    "for i in range(8, len(dists)): \n",
    "    n1 = 1000\n",
    "    n2 = 1000\n",
    "    p1 = props[7]\n",
    "    p2 = props[i]\n",
    "    p = (n1 * p1 + n2 * p2)/(n1 + n2)\n",
    "    z = (p1 - p2)/(p * (1 - p) * (1/n1 + 1/n2))**0.5\n",
    "    print(\"Applied and \" + dists_name[i] + ': {0:0.2f}'.format(\n",
    "      1 - norm.cdf(abs(z))))\n",
    "for i in range(9, len(dists)): \n",
    "    n1 = 1000\n",
    "    n2 = 1000\n",
    "    p1 = props[8]\n",
    "    p2 = props[i]\n",
    "    p = (n1 * p1 + n2 * p2)/(n1 + n2)\n",
    "    z = (p1 - p2)/(p * (1 - p) * (1/n1 + 1/n2))**0.5\n",
    "    print(\"Web and \" + dists_name[i] + ': {0:0.2f}'.format(\n",
    "      1 - norm.cdf(abs(z))))"
   ]
  },
  {
   "cell_type": "code",
   "execution_count": 137,
   "metadata": {},
   "outputs": [],
   "source": [
    "company[\"food_other_sale\"] = company.iloc[:, [17, 18, 19]].sum(axis = 1)\n",
    "company[\"comm_edu/health_web\"] = company.iloc[:, [14, 15, 21]].sum(axis = 1)\n",
    "company[\"fin_bus\"] = company.iloc[:, [13, 16]].sum(axis = 1)\n",
    "company = company.drop([ \"type_food\", \"type_other\", \"type_sale\", \"type_comm\", \n",
    "                       \"type_edu-health\", \"type_web\", \"type_fin\", \"type_bus\"], axis = 1)"
   ]
  },
  {
   "cell_type": "markdown",
   "metadata": {},
   "source": [
    "### Combining company sizes based on proportions"
   ]
  },
  {
   "cell_type": "code",
   "execution_count": 138,
   "metadata": {},
   "outputs": [
    {
     "name": "stdout",
     "output_type": "stream",
     "text": [
      "Company Size and Proportions:\n",
      "10:  0.582649\n",
      "50:  0.591822\n",
      "200:  0.661586\n",
      "500:  0.645813\n",
      "1000:  0.899539\n",
      "5000:  0.591087\n",
      "10000:  0.49932\n",
      "10001:  0.444822\n"
     ]
    }
   ],
   "source": [
    "company_10 = company[company[\"size_10.0\"] == 1][\"multi_donor\"]\n",
    "company_50 = company[company[\"size_50.0\"] == 1][\"multi_donor\"]\n",
    "company_200 = company[company[\"size_200.0\"] == 1][\"multi_donor\"]\n",
    "company_500 = company[company[\"size_500.0\"] == 1][\"multi_donor\"]\n",
    "company_1000 = company[company[\"size_1000.0\"] == 1][\"multi_donor\"]\n",
    "company_5000 = company[company[\"size_5000.0\"] == 1][\"multi_donor\"]\n",
    "company_10000 = company[company[\"size_10000.0\"] == 1][\"multi_donor\"]\n",
    "company_10001 = company[company[\"size_10001.0\"] == 1][\"multi_donor\"]\n",
    "dists_name = [\"10\", \"50\", \"200\", \"500\", \"1000\", \n",
    "             \"5000\", \"10000\", \"10001\"]\n",
    "dists = [company_10, company_50, company_200, company_500, company_1000,\n",
    "        company_5000, company_10000, company_10001]\n",
    "import random\n",
    "props = []\n",
    "for i in range(len(dists)):\n",
    "    dist = [sum(dists[i].sample(1000, replace = True))/1000 for j in range(1000)]\n",
    "    props.append(sum(dist)/1000)\n",
    "props = np.array(props)\n",
    "print(\"Company Size and Proportions:\")\n",
    "for i in range(len(props)):\n",
    "    print(dists_name[i] + \": \", props[i])"
   ]
  },
  {
   "cell_type": "code",
   "execution_count": 139,
   "metadata": {
    "scrolled": true
   },
   "outputs": [
    {
     "name": "stdout",
     "output_type": "stream",
     "text": [
      "10 and 50: 0.34\n",
      "10 and 200: 0.00\n",
      "10 and 500: 0.00\n",
      "10 and 1000: 0.00\n",
      "10 and 5000: 0.35\n",
      "10 and 10000: 0.00\n",
      "10 and 10001: 0.00\n",
      "50 and 200: 0.00\n",
      "50 and 500: 0.01\n",
      "50 and 1000: 0.00\n",
      "50 and 5000: 0.49\n",
      "50 and 10000: 0.00\n",
      "50 and 10001: 0.00\n",
      "200 and 500: 0.23\n",
      "200 and 1000: 0.00\n",
      "200 and 5000: 0.00\n",
      "200 and 10000: 0.00\n",
      "200 and 10001: 0.00\n",
      "500 and 1000: 0.00\n",
      "500 and 5000: 0.01\n",
      "500 and 10000: 0.00\n",
      "500 and 10001: 0.00\n",
      "1000 and 5000: 0.00\n",
      "1000 and 10000: 0.00\n",
      "1000 and 10001: 0.00\n",
      "5000 and 10000: 0.00\n",
      "5000 and 10001: 0.00\n",
      "10000 and 10001: 0.01\n"
     ]
    }
   ],
   "source": [
    "for i in range(1, len(dists)): \n",
    "    n1 = 1000\n",
    "    n2 = 1000\n",
    "    p1 = props[0]\n",
    "    p2 = props[i]\n",
    "    p = (n1 * p1 + n2 * p2)/(n1 + n2)\n",
    "    z = (p1 - p2)/(p * (1 - p) * (1/n1 + 1/n2))**0.5\n",
    "    print(\"10 and \" + dists_name[i] + ': {0:0.2f}'.format(\n",
    "     1 - norm.cdf(abs(z))))\n",
    "for i in range(2, len(dists)): \n",
    "    n1 = 1000\n",
    "    n2 = 1000\n",
    "    p1 = props[1]\n",
    "    p2 = props[i]\n",
    "    p = (n1 * p1 + n2 * p2)/(n1 + n2)\n",
    "    z = (p1 - p2)/(p * (1 - p) * (1/n1 + 1/n2))**0.5\n",
    "    print(\"50 and \" + dists_name[i] + ': {0:0.2f}'.format(\n",
    "     1 - norm.cdf(abs(z))))\n",
    "for i in range(3, len(dists)): \n",
    "    n1 = 1000\n",
    "    n2 = 1000\n",
    "    p1 = props[2]\n",
    "    p2 = props[i]\n",
    "    p = (n1 * p1 + n2 * p2)/(n1 + n2)\n",
    "    z = (p1 - p2)/(p * (1 - p) * (1/n1 + 1/n2))**0.5\n",
    "    print(\"200 and \" + dists_name[i] + ': {0:0.2f}'.format(\n",
    "     1 - norm.cdf(abs(z))))\n",
    "for i in range(4, len(dists)): \n",
    "    n1 = 1000\n",
    "    n2 = 1000\n",
    "    p1 = props[3]\n",
    "    p2 = props[i]\n",
    "    p = (n1 * p1 + n2 * p2)/(n1 + n2)\n",
    "    z = (p1 - p2)/(p * (1 - p) * (1/n1 + 1/n2))**0.5\n",
    "    print(\"500 and \" + dists_name[i] + ': {0:0.2f}'.format(\n",
    "     1 - norm.cdf(abs(z))))\n",
    "for i in range(5, len(dists)): \n",
    "    n1 = 1000\n",
    "    n2 = 1000\n",
    "    p1 = props[4]\n",
    "    p2 = props[i]\n",
    "    p = (n1 * p1 + n2 * p2)/(n1 + n2)\n",
    "    z = (p1 - p2)/(p * (1 - p) * (1/n1 + 1/n2))**0.5\n",
    "    print(\"1000 and \" + dists_name[i] + ': {0:0.2f}'.format(\n",
    "     1 - norm.cdf(abs(z))))\n",
    "for i in range(6, len(dists)): \n",
    "    n1 = 1000\n",
    "    n2 = 1000\n",
    "    p1 = props[5]\n",
    "    p2 = props[i]\n",
    "    p = (n1 * p1 + n2 * p2)/(n1 + n2)\n",
    "    z = (p1 - p2)/(p * (1 - p) * (1/n1 + 1/n2))**0.5\n",
    "    print(\"5000 and \" + dists_name[i] + ': {0:0.2f}'.format(\n",
    "     1 - norm.cdf(abs(z))))\n",
    "for i in range(7, len(dists)): \n",
    "    n1 = 1000\n",
    "    n2 = 1000\n",
    "    p1 = props[6]\n",
    "    p2 = props[i]\n",
    "    p = (n1 * p1 + n2 * p2)/(n1 + n2)\n",
    "    z = (p1 - p2)/(p * (1 - p) * (1/n1 + 1/n2))**0.5\n",
    "    print(\"10000 and \" + dists_name[i] + ': {0:0.2f}'.format(\n",
    "     1 - norm.cdf(abs(z))))"
   ]
  },
  {
   "cell_type": "code",
   "execution_count": 140,
   "metadata": {},
   "outputs": [],
   "source": [
    "company[\"size_10/50\"] = company.iloc[:, [1, 6]].sum(axis = 1)\n",
    "company[\"size_200/500\"] = company.iloc[:, [5, 7]].sum(axis = 1)\n",
    "company = company.drop([\"size_10.0\", \"size_50.0\", \"size_200.0\", \"size_500.0\"], axis = 1)"
   ]
  },
  {
   "cell_type": "markdown",
   "metadata": {},
   "source": [
    "### Looking at whether a company would be a one time donor before their first donation"
   ]
  },
  {
   "cell_type": "code",
   "execution_count": 229,
   "metadata": {},
   "outputs": [],
   "source": [
    "features = company.drop([\"multi_donor\", \"company\"], axis = 1) \n",
    "y = company[\"multi_donor\"]\n",
    "#features = pd.get_dummies(features)\n",
    "feature_list = list(features.columns)\n",
    "features = np.array(features)\n",
    "train_features, test_features, train_labels, test_labels = train_test_split(features, y, test_size = 0.25, random_state = 23156)"
   ]
  },
  {
   "cell_type": "markdown",
   "metadata": {},
   "source": [
    "#### Initial Random Forest with Default Settings"
   ]
  },
  {
   "cell_type": "code",
   "execution_count": 230,
   "metadata": {
    "scrolled": true
   },
   "outputs": [
    {
     "name": "stdout",
     "output_type": "stream",
     "text": [
      "Training Accuracy\n",
      "Overall Accuracy: 0.72\n",
      "Precision Score: 0.74\n",
      "Recall Score: 0.85\n",
      "Testing Accuracy\n",
      "Overall Accuracy: 0.69\n",
      "Precision Score: 0.74\n",
      "Recall Score: 0.83\n"
     ]
    }
   ],
   "source": [
    "rf = RandomForestClassifier(n_estimators = 1000, random_state = 12356)\n",
    "rf.fit(train_features, train_labels);\n",
    "predictions = rf.predict(test_features)\n",
    "overall_accuracy_train = sum(rf.predict(train_features) == train_labels)/len(train_labels)\n",
    "precision_accuracy_train = precision_score(train_labels, rf.predict(train_features))\n",
    "recall_accuracy_train = recall_score(train_labels, rf.predict(train_features))\n",
    "overall_accuracy_test = sum(rf.predict(test_features) == test_labels)/len(test_labels)\n",
    "precision_accuracy_test = precision_score(test_labels, rf.predict(test_features))\n",
    "recall_accuracy_test = recall_score(test_labels, rf.predict(test_features))\n",
    "\n",
    "print(\"Training Accuracy\")\n",
    "print(\"Overall Accuracy: {0:0.2f}\". format( \n",
    "        overall_accuracy_train))\n",
    "print('Precision Score: {0:0.2f}'.format(\n",
    "      precision_accuracy_train))\n",
    "print('Recall Score: {0:0.2f}'.format(\n",
    "      recall_accuracy_train))\n",
    "print(\"Testing Accuracy\")\n",
    "print(\"Overall Accuracy: {0:0.2f}\". format( \n",
    "        overall_accuracy_test))\n",
    "print('Precision Score: {0:0.2f}'.format(\n",
    "      precision_accuracy_test))\n",
    "print('Recall Score: {0:0.2f}'.format(\n",
    "      recall_accuracy_test))"
   ]
  },
  {
   "cell_type": "code",
   "execution_count": 232,
   "metadata": {},
   "outputs": [
    {
     "name": "stdout",
     "output_type": "stream",
     "text": [
      "Variable: state_underdeveloped Importance: 0.11\n",
      "Variable: size_200/500         Importance: 0.1\n",
      "Variable: state_New York       Importance: 0.09\n",
      "Variable: size_10/50           Importance: 0.09\n",
      "Variable: state_California     Importance: 0.08\n",
      "Variable: comm_edu/health_web  Importance: 0.08\n",
      "Variable: size_1000.0          Importance: 0.07\n",
      "Variable: fin_bus              Importance: 0.07\n",
      "Variable: size_5000.0          Importance: 0.06\n",
      "Variable: type_applied         Importance: 0.06\n",
      "Variable: food_other_sale      Importance: 0.06\n",
      "Variable: size_10000.0         Importance: 0.04\n",
      "Variable: size_10001.0         Importance: 0.04\n",
      "Variable: type_soft            Importance: 0.04\n"
     ]
    }
   ],
   "source": [
    "importances = list(rf.feature_importances_)\n",
    "feature_importances = [(feature, round(importance, 2)) for feature, importance in zip(feature_list, importances)]\n",
    "feature_importances = sorted(feature_importances, key = lambda x: x[1], reverse = True)\n",
    "[print('Variable: {:20} Importance: {}'.format(*pair)) for pair in feature_importances];"
   ]
  },
  {
   "cell_type": "code",
   "execution_count": 49,
   "metadata": {},
   "outputs": [
    {
     "ename": "TypeError",
     "evalue": "must be str, not ParseException",
     "output_type": "error",
     "traceback": [
      "\u001b[1;31m---------------------------------------------------------------------------\u001b[0m",
      "\u001b[1;31mParseException\u001b[0m                            Traceback (most recent call last)",
      "\u001b[1;32mc:\\users\\jordan fan\\anaconda3\\envs\\toxic\\lib\\site-packages\\dot_parser.py\u001b[0m in \u001b[0;36mparse_dot_data\u001b[1;34m(s)\u001b[0m\n\u001b[0;32m    547\u001b[0m         \u001b[0mgraphparser\u001b[0m\u001b[1;33m.\u001b[0m\u001b[0mparseWithTabs\u001b[0m\u001b[1;33m(\u001b[0m\u001b[1;33m)\u001b[0m\u001b[1;33m\u001b[0m\u001b[0m\n\u001b[1;32m--> 548\u001b[1;33m         \u001b[0mtokens\u001b[0m \u001b[1;33m=\u001b[0m \u001b[0mgraphparser\u001b[0m\u001b[1;33m.\u001b[0m\u001b[0mparseString\u001b[0m\u001b[1;33m(\u001b[0m\u001b[0ms\u001b[0m\u001b[1;33m)\u001b[0m\u001b[1;33m\u001b[0m\u001b[0m\n\u001b[0m\u001b[0;32m    549\u001b[0m         \u001b[1;32mreturn\u001b[0m \u001b[0mlist\u001b[0m\u001b[1;33m(\u001b[0m\u001b[0mtokens\u001b[0m\u001b[1;33m)\u001b[0m\u001b[1;33m\u001b[0m\u001b[0m\n",
      "\u001b[1;32mc:\\users\\jordan fan\\anaconda3\\envs\\toxic\\lib\\site-packages\\pyparsing.py\u001b[0m in \u001b[0;36mparseString\u001b[1;34m(self, instring, parseAll)\u001b[0m\n\u001b[0;32m   1631\u001b[0m                 \u001b[1;31m# catch and re-raise exception from here, clears out pyparsing internal stack trace\u001b[0m\u001b[1;33m\u001b[0m\u001b[1;33m\u001b[0m\u001b[0m\n\u001b[1;32m-> 1632\u001b[1;33m                 \u001b[1;32mraise\u001b[0m \u001b[0mexc\u001b[0m\u001b[1;33m\u001b[0m\u001b[0m\n\u001b[0m\u001b[0;32m   1633\u001b[0m         \u001b[1;32melse\u001b[0m\u001b[1;33m:\u001b[0m\u001b[1;33m\u001b[0m\u001b[0m\n",
      "\u001b[1;32mc:\\users\\jordan fan\\anaconda3\\envs\\toxic\\lib\\site-packages\\pyparsing.py\u001b[0m in \u001b[0;36mparseString\u001b[1;34m(self, instring, parseAll)\u001b[0m\n\u001b[0;32m   1621\u001b[0m         \u001b[1;32mtry\u001b[0m\u001b[1;33m:\u001b[0m\u001b[1;33m\u001b[0m\u001b[0m\n\u001b[1;32m-> 1622\u001b[1;33m             \u001b[0mloc\u001b[0m\u001b[1;33m,\u001b[0m \u001b[0mtokens\u001b[0m \u001b[1;33m=\u001b[0m \u001b[0mself\u001b[0m\u001b[1;33m.\u001b[0m\u001b[0m_parse\u001b[0m\u001b[1;33m(\u001b[0m \u001b[0minstring\u001b[0m\u001b[1;33m,\u001b[0m \u001b[1;36m0\u001b[0m \u001b[1;33m)\u001b[0m\u001b[1;33m\u001b[0m\u001b[0m\n\u001b[0m\u001b[0;32m   1623\u001b[0m             \u001b[1;32mif\u001b[0m \u001b[0mparseAll\u001b[0m\u001b[1;33m:\u001b[0m\u001b[1;33m\u001b[0m\u001b[0m\n",
      "\u001b[1;32mc:\\users\\jordan fan\\anaconda3\\envs\\toxic\\lib\\site-packages\\pyparsing.py\u001b[0m in \u001b[0;36m_parseCache\u001b[1;34m(self, instring, loc, doActions, callPreParse)\u001b[0m\n\u001b[0;32m   1528\u001b[0m                 \u001b[1;32mtry\u001b[0m\u001b[1;33m:\u001b[0m\u001b[1;33m\u001b[0m\u001b[0m\n\u001b[1;32m-> 1529\u001b[1;33m                     \u001b[0mvalue\u001b[0m \u001b[1;33m=\u001b[0m \u001b[0mself\u001b[0m\u001b[1;33m.\u001b[0m\u001b[0m_parseNoCache\u001b[0m\u001b[1;33m(\u001b[0m\u001b[0minstring\u001b[0m\u001b[1;33m,\u001b[0m \u001b[0mloc\u001b[0m\u001b[1;33m,\u001b[0m \u001b[0mdoActions\u001b[0m\u001b[1;33m,\u001b[0m \u001b[0mcallPreParse\u001b[0m\u001b[1;33m)\u001b[0m\u001b[1;33m\u001b[0m\u001b[0m\n\u001b[0m\u001b[0;32m   1530\u001b[0m                 \u001b[1;32mexcept\u001b[0m \u001b[0mParseBaseException\u001b[0m \u001b[1;32mas\u001b[0m \u001b[0mpe\u001b[0m\u001b[1;33m:\u001b[0m\u001b[1;33m\u001b[0m\u001b[0m\n",
      "\u001b[1;32mc:\\users\\jordan fan\\anaconda3\\envs\\toxic\\lib\\site-packages\\pyparsing.py\u001b[0m in \u001b[0;36m_parseNoCache\u001b[1;34m(self, instring, loc, doActions, callPreParse)\u001b[0m\n\u001b[0;32m   1378\u001b[0m                 \u001b[1;32mtry\u001b[0m\u001b[1;33m:\u001b[0m\u001b[1;33m\u001b[0m\u001b[0m\n\u001b[1;32m-> 1379\u001b[1;33m                     \u001b[0mloc\u001b[0m\u001b[1;33m,\u001b[0m\u001b[0mtokens\u001b[0m \u001b[1;33m=\u001b[0m \u001b[0mself\u001b[0m\u001b[1;33m.\u001b[0m\u001b[0mparseImpl\u001b[0m\u001b[1;33m(\u001b[0m \u001b[0minstring\u001b[0m\u001b[1;33m,\u001b[0m \u001b[0mpreloc\u001b[0m\u001b[1;33m,\u001b[0m \u001b[0mdoActions\u001b[0m \u001b[1;33m)\u001b[0m\u001b[1;33m\u001b[0m\u001b[0m\n\u001b[0m\u001b[0;32m   1380\u001b[0m                 \u001b[1;32mexcept\u001b[0m \u001b[0mIndexError\u001b[0m\u001b[1;33m:\u001b[0m\u001b[1;33m\u001b[0m\u001b[0m\n",
      "\u001b[1;32mc:\\users\\jordan fan\\anaconda3\\envs\\toxic\\lib\\site-packages\\pyparsing.py\u001b[0m in \u001b[0;36mparseImpl\u001b[1;34m(self, instring, loc, doActions)\u001b[0m\n\u001b[0;32m   3847\u001b[0m             \u001b[0mtry_not_ender\u001b[0m\u001b[1;33m(\u001b[0m\u001b[0minstring\u001b[0m\u001b[1;33m,\u001b[0m \u001b[0mloc\u001b[0m\u001b[1;33m)\u001b[0m\u001b[1;33m\u001b[0m\u001b[0m\n\u001b[1;32m-> 3848\u001b[1;33m         \u001b[0mloc\u001b[0m\u001b[1;33m,\u001b[0m \u001b[0mtokens\u001b[0m \u001b[1;33m=\u001b[0m \u001b[0mself_expr_parse\u001b[0m\u001b[1;33m(\u001b[0m \u001b[0minstring\u001b[0m\u001b[1;33m,\u001b[0m \u001b[0mloc\u001b[0m\u001b[1;33m,\u001b[0m \u001b[0mdoActions\u001b[0m\u001b[1;33m,\u001b[0m \u001b[0mcallPreParse\u001b[0m\u001b[1;33m=\u001b[0m\u001b[1;32mFalse\u001b[0m \u001b[1;33m)\u001b[0m\u001b[1;33m\u001b[0m\u001b[0m\n\u001b[0m\u001b[0;32m   3849\u001b[0m         \u001b[1;32mtry\u001b[0m\u001b[1;33m:\u001b[0m\u001b[1;33m\u001b[0m\u001b[0m\n",
      "\u001b[1;32mc:\\users\\jordan fan\\anaconda3\\envs\\toxic\\lib\\site-packages\\pyparsing.py\u001b[0m in \u001b[0;36m_parseCache\u001b[1;34m(self, instring, loc, doActions, callPreParse)\u001b[0m\n\u001b[0;32m   1528\u001b[0m                 \u001b[1;32mtry\u001b[0m\u001b[1;33m:\u001b[0m\u001b[1;33m\u001b[0m\u001b[0m\n\u001b[1;32m-> 1529\u001b[1;33m                     \u001b[0mvalue\u001b[0m \u001b[1;33m=\u001b[0m \u001b[0mself\u001b[0m\u001b[1;33m.\u001b[0m\u001b[0m_parseNoCache\u001b[0m\u001b[1;33m(\u001b[0m\u001b[0minstring\u001b[0m\u001b[1;33m,\u001b[0m \u001b[0mloc\u001b[0m\u001b[1;33m,\u001b[0m \u001b[0mdoActions\u001b[0m\u001b[1;33m,\u001b[0m \u001b[0mcallPreParse\u001b[0m\u001b[1;33m)\u001b[0m\u001b[1;33m\u001b[0m\u001b[0m\n\u001b[0m\u001b[0;32m   1530\u001b[0m                 \u001b[1;32mexcept\u001b[0m \u001b[0mParseBaseException\u001b[0m \u001b[1;32mas\u001b[0m \u001b[0mpe\u001b[0m\u001b[1;33m:\u001b[0m\u001b[1;33m\u001b[0m\u001b[0m\n",
      "\u001b[1;32mc:\\users\\jordan fan\\anaconda3\\envs\\toxic\\lib\\site-packages\\pyparsing.py\u001b[0m in \u001b[0;36m_parseNoCache\u001b[1;34m(self, instring, loc, doActions, callPreParse)\u001b[0m\n\u001b[0;32m   1378\u001b[0m                 \u001b[1;32mtry\u001b[0m\u001b[1;33m:\u001b[0m\u001b[1;33m\u001b[0m\u001b[0m\n\u001b[1;32m-> 1379\u001b[1;33m                     \u001b[0mloc\u001b[0m\u001b[1;33m,\u001b[0m\u001b[0mtokens\u001b[0m \u001b[1;33m=\u001b[0m \u001b[0mself\u001b[0m\u001b[1;33m.\u001b[0m\u001b[0mparseImpl\u001b[0m\u001b[1;33m(\u001b[0m \u001b[0minstring\u001b[0m\u001b[1;33m,\u001b[0m \u001b[0mpreloc\u001b[0m\u001b[1;33m,\u001b[0m \u001b[0mdoActions\u001b[0m \u001b[1;33m)\u001b[0m\u001b[1;33m\u001b[0m\u001b[0m\n\u001b[0m\u001b[0;32m   1380\u001b[0m                 \u001b[1;32mexcept\u001b[0m \u001b[0mIndexError\u001b[0m\u001b[1;33m:\u001b[0m\u001b[1;33m\u001b[0m\u001b[0m\n",
      "\u001b[1;32mc:\\users\\jordan fan\\anaconda3\\envs\\toxic\\lib\\site-packages\\pyparsing.py\u001b[0m in \u001b[0;36mparseImpl\u001b[1;34m(self, instring, loc, doActions)\u001b[0m\n\u001b[0;32m   3394\u001b[0m             \u001b[1;32melse\u001b[0m\u001b[1;33m:\u001b[0m\u001b[1;33m\u001b[0m\u001b[0m\n\u001b[1;32m-> 3395\u001b[1;33m                 \u001b[0mloc\u001b[0m\u001b[1;33m,\u001b[0m \u001b[0mexprtokens\u001b[0m \u001b[1;33m=\u001b[0m \u001b[0me\u001b[0m\u001b[1;33m.\u001b[0m\u001b[0m_parse\u001b[0m\u001b[1;33m(\u001b[0m \u001b[0minstring\u001b[0m\u001b[1;33m,\u001b[0m \u001b[0mloc\u001b[0m\u001b[1;33m,\u001b[0m \u001b[0mdoActions\u001b[0m \u001b[1;33m)\u001b[0m\u001b[1;33m\u001b[0m\u001b[0m\n\u001b[0m\u001b[0;32m   3396\u001b[0m             \u001b[1;32mif\u001b[0m \u001b[0mexprtokens\u001b[0m \u001b[1;32mor\u001b[0m \u001b[0mexprtokens\u001b[0m\u001b[1;33m.\u001b[0m\u001b[0mhaskeys\u001b[0m\u001b[1;33m(\u001b[0m\u001b[1;33m)\u001b[0m\u001b[1;33m:\u001b[0m\u001b[1;33m\u001b[0m\u001b[0m\n",
      "\u001b[1;32mc:\\users\\jordan fan\\anaconda3\\envs\\toxic\\lib\\site-packages\\pyparsing.py\u001b[0m in \u001b[0;36m_parseCache\u001b[1;34m(self, instring, loc, doActions, callPreParse)\u001b[0m\n\u001b[0;32m   1528\u001b[0m                 \u001b[1;32mtry\u001b[0m\u001b[1;33m:\u001b[0m\u001b[1;33m\u001b[0m\u001b[0m\n\u001b[1;32m-> 1529\u001b[1;33m                     \u001b[0mvalue\u001b[0m \u001b[1;33m=\u001b[0m \u001b[0mself\u001b[0m\u001b[1;33m.\u001b[0m\u001b[0m_parseNoCache\u001b[0m\u001b[1;33m(\u001b[0m\u001b[0minstring\u001b[0m\u001b[1;33m,\u001b[0m \u001b[0mloc\u001b[0m\u001b[1;33m,\u001b[0m \u001b[0mdoActions\u001b[0m\u001b[1;33m,\u001b[0m \u001b[0mcallPreParse\u001b[0m\u001b[1;33m)\u001b[0m\u001b[1;33m\u001b[0m\u001b[0m\n\u001b[0m\u001b[0;32m   1530\u001b[0m                 \u001b[1;32mexcept\u001b[0m \u001b[0mParseBaseException\u001b[0m \u001b[1;32mas\u001b[0m \u001b[0mpe\u001b[0m\u001b[1;33m:\u001b[0m\u001b[1;33m\u001b[0m\u001b[0m\n",
      "\u001b[1;32mc:\\users\\jordan fan\\anaconda3\\envs\\toxic\\lib\\site-packages\\pyparsing.py\u001b[0m in \u001b[0;36m_parseNoCache\u001b[1;34m(self, instring, loc, doActions, callPreParse)\u001b[0m\n\u001b[0;32m   1378\u001b[0m                 \u001b[1;32mtry\u001b[0m\u001b[1;33m:\u001b[0m\u001b[1;33m\u001b[0m\u001b[0m\n\u001b[1;32m-> 1379\u001b[1;33m                     \u001b[0mloc\u001b[0m\u001b[1;33m,\u001b[0m\u001b[0mtokens\u001b[0m \u001b[1;33m=\u001b[0m \u001b[0mself\u001b[0m\u001b[1;33m.\u001b[0m\u001b[0mparseImpl\u001b[0m\u001b[1;33m(\u001b[0m \u001b[0minstring\u001b[0m\u001b[1;33m,\u001b[0m \u001b[0mpreloc\u001b[0m\u001b[1;33m,\u001b[0m \u001b[0mdoActions\u001b[0m \u001b[1;33m)\u001b[0m\u001b[1;33m\u001b[0m\u001b[0m\n\u001b[0m\u001b[0;32m   1380\u001b[0m                 \u001b[1;32mexcept\u001b[0m \u001b[0mIndexError\u001b[0m\u001b[1;33m:\u001b[0m\u001b[1;33m\u001b[0m\u001b[0m\n",
      "\u001b[1;32mc:\\users\\jordan fan\\anaconda3\\envs\\toxic\\lib\\site-packages\\pyparsing.py\u001b[0m in \u001b[0;36mparseImpl\u001b[1;34m(self, instring, loc, doActions)\u001b[0m\n\u001b[0;32m   3716\u001b[0m         \u001b[1;32mif\u001b[0m \u001b[0mself\u001b[0m\u001b[1;33m.\u001b[0m\u001b[0mexpr\u001b[0m \u001b[1;32mis\u001b[0m \u001b[1;32mnot\u001b[0m \u001b[1;32mNone\u001b[0m\u001b[1;33m:\u001b[0m\u001b[1;33m\u001b[0m\u001b[0m\n\u001b[1;32m-> 3717\u001b[1;33m             \u001b[1;32mreturn\u001b[0m \u001b[0mself\u001b[0m\u001b[1;33m.\u001b[0m\u001b[0mexpr\u001b[0m\u001b[1;33m.\u001b[0m\u001b[0m_parse\u001b[0m\u001b[1;33m(\u001b[0m \u001b[0minstring\u001b[0m\u001b[1;33m,\u001b[0m \u001b[0mloc\u001b[0m\u001b[1;33m,\u001b[0m \u001b[0mdoActions\u001b[0m\u001b[1;33m,\u001b[0m \u001b[0mcallPreParse\u001b[0m\u001b[1;33m=\u001b[0m\u001b[1;32mFalse\u001b[0m \u001b[1;33m)\u001b[0m\u001b[1;33m\u001b[0m\u001b[0m\n\u001b[0m\u001b[0;32m   3718\u001b[0m         \u001b[1;32melse\u001b[0m\u001b[1;33m:\u001b[0m\u001b[1;33m\u001b[0m\u001b[0m\n",
      "\u001b[1;32mc:\\users\\jordan fan\\anaconda3\\envs\\toxic\\lib\\site-packages\\pyparsing.py\u001b[0m in \u001b[0;36m_parseCache\u001b[1;34m(self, instring, loc, doActions, callPreParse)\u001b[0m\n\u001b[0;32m   1528\u001b[0m                 \u001b[1;32mtry\u001b[0m\u001b[1;33m:\u001b[0m\u001b[1;33m\u001b[0m\u001b[0m\n\u001b[1;32m-> 1529\u001b[1;33m                     \u001b[0mvalue\u001b[0m \u001b[1;33m=\u001b[0m \u001b[0mself\u001b[0m\u001b[1;33m.\u001b[0m\u001b[0m_parseNoCache\u001b[0m\u001b[1;33m(\u001b[0m\u001b[0minstring\u001b[0m\u001b[1;33m,\u001b[0m \u001b[0mloc\u001b[0m\u001b[1;33m,\u001b[0m \u001b[0mdoActions\u001b[0m\u001b[1;33m,\u001b[0m \u001b[0mcallPreParse\u001b[0m\u001b[1;33m)\u001b[0m\u001b[1;33m\u001b[0m\u001b[0m\n\u001b[0m\u001b[0;32m   1530\u001b[0m                 \u001b[1;32mexcept\u001b[0m \u001b[0mParseBaseException\u001b[0m \u001b[1;32mas\u001b[0m \u001b[0mpe\u001b[0m\u001b[1;33m:\u001b[0m\u001b[1;33m\u001b[0m\u001b[0m\n",
      "\u001b[1;32mc:\\users\\jordan fan\\anaconda3\\envs\\toxic\\lib\\site-packages\\pyparsing.py\u001b[0m in \u001b[0;36m_parseNoCache\u001b[1;34m(self, instring, loc, doActions, callPreParse)\u001b[0m\n\u001b[0;32m   1378\u001b[0m                 \u001b[1;32mtry\u001b[0m\u001b[1;33m:\u001b[0m\u001b[1;33m\u001b[0m\u001b[0m\n\u001b[1;32m-> 1379\u001b[1;33m                     \u001b[0mloc\u001b[0m\u001b[1;33m,\u001b[0m\u001b[0mtokens\u001b[0m \u001b[1;33m=\u001b[0m \u001b[0mself\u001b[0m\u001b[1;33m.\u001b[0m\u001b[0mparseImpl\u001b[0m\u001b[1;33m(\u001b[0m \u001b[0minstring\u001b[0m\u001b[1;33m,\u001b[0m \u001b[0mpreloc\u001b[0m\u001b[1;33m,\u001b[0m \u001b[0mdoActions\u001b[0m \u001b[1;33m)\u001b[0m\u001b[1;33m\u001b[0m\u001b[0m\n\u001b[0m\u001b[0;32m   1380\u001b[0m                 \u001b[1;32mexcept\u001b[0m \u001b[0mIndexError\u001b[0m\u001b[1;33m:\u001b[0m\u001b[1;33m\u001b[0m\u001b[0m\n",
      "\u001b[1;32mc:\\users\\jordan fan\\anaconda3\\envs\\toxic\\lib\\site-packages\\pyparsing.py\u001b[0m in \u001b[0;36mparseImpl\u001b[1;34m(self, instring, loc, doActions)\u001b[0m\n\u001b[0;32m   3544\u001b[0m                 \u001b[0mmaxException\u001b[0m\u001b[1;33m.\u001b[0m\u001b[0mmsg\u001b[0m \u001b[1;33m=\u001b[0m \u001b[0mself\u001b[0m\u001b[1;33m.\u001b[0m\u001b[0merrmsg\u001b[0m\u001b[1;33m\u001b[0m\u001b[0m\n\u001b[1;32m-> 3545\u001b[1;33m                 \u001b[1;32mraise\u001b[0m \u001b[0mmaxException\u001b[0m\u001b[1;33m\u001b[0m\u001b[0m\n\u001b[0m\u001b[0;32m   3546\u001b[0m             \u001b[1;32melse\u001b[0m\u001b[1;33m:\u001b[0m\u001b[1;33m\u001b[0m\u001b[0m\n",
      "\u001b[1;32mc:\\users\\jordan fan\\anaconda3\\envs\\toxic\\lib\\site-packages\\pyparsing.py\u001b[0m in \u001b[0;36mparseImpl\u001b[1;34m(self, instring, loc, doActions)\u001b[0m\n\u001b[0;32m   3529\u001b[0m             \u001b[1;32mtry\u001b[0m\u001b[1;33m:\u001b[0m\u001b[1;33m\u001b[0m\u001b[0m\n\u001b[1;32m-> 3530\u001b[1;33m                 \u001b[0mret\u001b[0m \u001b[1;33m=\u001b[0m \u001b[0me\u001b[0m\u001b[1;33m.\u001b[0m\u001b[0m_parse\u001b[0m\u001b[1;33m(\u001b[0m \u001b[0minstring\u001b[0m\u001b[1;33m,\u001b[0m \u001b[0mloc\u001b[0m\u001b[1;33m,\u001b[0m \u001b[0mdoActions\u001b[0m \u001b[1;33m)\u001b[0m\u001b[1;33m\u001b[0m\u001b[0m\n\u001b[0m\u001b[0;32m   3531\u001b[0m                 \u001b[1;32mreturn\u001b[0m \u001b[0mret\u001b[0m\u001b[1;33m\u001b[0m\u001b[0m\n",
      "\u001b[1;32mc:\\users\\jordan fan\\anaconda3\\envs\\toxic\\lib\\site-packages\\pyparsing.py\u001b[0m in \u001b[0;36m_parseCache\u001b[1;34m(self, instring, loc, doActions, callPreParse)\u001b[0m\n\u001b[0;32m   1528\u001b[0m                 \u001b[1;32mtry\u001b[0m\u001b[1;33m:\u001b[0m\u001b[1;33m\u001b[0m\u001b[0m\n\u001b[1;32m-> 1529\u001b[1;33m                     \u001b[0mvalue\u001b[0m \u001b[1;33m=\u001b[0m \u001b[0mself\u001b[0m\u001b[1;33m.\u001b[0m\u001b[0m_parseNoCache\u001b[0m\u001b[1;33m(\u001b[0m\u001b[0minstring\u001b[0m\u001b[1;33m,\u001b[0m \u001b[0mloc\u001b[0m\u001b[1;33m,\u001b[0m \u001b[0mdoActions\u001b[0m\u001b[1;33m,\u001b[0m \u001b[0mcallPreParse\u001b[0m\u001b[1;33m)\u001b[0m\u001b[1;33m\u001b[0m\u001b[0m\n\u001b[0m\u001b[0;32m   1530\u001b[0m                 \u001b[1;32mexcept\u001b[0m \u001b[0mParseBaseException\u001b[0m \u001b[1;32mas\u001b[0m \u001b[0mpe\u001b[0m\u001b[1;33m:\u001b[0m\u001b[1;33m\u001b[0m\u001b[0m\n",
      "\u001b[1;32mc:\\users\\jordan fan\\anaconda3\\envs\\toxic\\lib\\site-packages\\pyparsing.py\u001b[0m in \u001b[0;36m_parseNoCache\u001b[1;34m(self, instring, loc, doActions, callPreParse)\u001b[0m\n\u001b[0;32m   1382\u001b[0m             \u001b[1;32melse\u001b[0m\u001b[1;33m:\u001b[0m\u001b[1;33m\u001b[0m\u001b[0m\n\u001b[1;32m-> 1383\u001b[1;33m                 \u001b[0mloc\u001b[0m\u001b[1;33m,\u001b[0m\u001b[0mtokens\u001b[0m \u001b[1;33m=\u001b[0m \u001b[0mself\u001b[0m\u001b[1;33m.\u001b[0m\u001b[0mparseImpl\u001b[0m\u001b[1;33m(\u001b[0m \u001b[0minstring\u001b[0m\u001b[1;33m,\u001b[0m \u001b[0mpreloc\u001b[0m\u001b[1;33m,\u001b[0m \u001b[0mdoActions\u001b[0m \u001b[1;33m)\u001b[0m\u001b[1;33m\u001b[0m\u001b[0m\n\u001b[0m\u001b[0;32m   1384\u001b[0m \u001b[1;33m\u001b[0m\u001b[0m\n",
      "\u001b[1;32mc:\\users\\jordan fan\\anaconda3\\envs\\toxic\\lib\\site-packages\\pyparsing.py\u001b[0m in \u001b[0;36mparseImpl\u001b[1;34m(self, instring, loc, doActions)\u001b[0m\n\u001b[0;32m   2502\u001b[0m             \u001b[1;32mreturn\u001b[0m \u001b[0mloc\u001b[0m\u001b[1;33m+\u001b[0m\u001b[0mself\u001b[0m\u001b[1;33m.\u001b[0m\u001b[0mmatchLen\u001b[0m\u001b[1;33m,\u001b[0m \u001b[0mself\u001b[0m\u001b[1;33m.\u001b[0m\u001b[0mreturnString\u001b[0m\u001b[1;33m\u001b[0m\u001b[0m\n\u001b[1;32m-> 2503\u001b[1;33m         \u001b[1;32mraise\u001b[0m \u001b[0mParseException\u001b[0m\u001b[1;33m(\u001b[0m\u001b[0minstring\u001b[0m\u001b[1;33m,\u001b[0m \u001b[0mloc\u001b[0m\u001b[1;33m,\u001b[0m \u001b[0mself\u001b[0m\u001b[1;33m.\u001b[0m\u001b[0merrmsg\u001b[0m\u001b[1;33m,\u001b[0m \u001b[0mself\u001b[0m\u001b[1;33m)\u001b[0m\u001b[1;33m\u001b[0m\u001b[0m\n\u001b[0m\u001b[0;32m   2504\u001b[0m \u001b[1;33m\u001b[0m\u001b[0m\n",
      "\u001b[1;31mParseException\u001b[0m: Expected {'graph' | 'digraph'} (at char 0), (line:1, col:1)",
      "\nDuring handling of the above exception, another exception occurred:\n",
      "\u001b[1;31mTypeError\u001b[0m                                 Traceback (most recent call last)",
      "\u001b[1;32m<ipython-input-49-8d1c00af348f>\u001b[0m in \u001b[0;36m<module>\u001b[1;34m()\u001b[0m\n\u001b[0;32m      3\u001b[0m \u001b[1;33m(\u001b[0m\u001b[0mgraph\u001b[0m\u001b[1;33m,\u001b[0m \u001b[1;33m)\u001b[0m \u001b[1;33m=\u001b[0m \u001b[0mpydot\u001b[0m\u001b[1;33m.\u001b[0m\u001b[0mgraph_from_dot_file\u001b[0m\u001b[1;33m(\u001b[0m\u001b[1;34m'tree.dot'\u001b[0m\u001b[1;33m)\u001b[0m\u001b[1;33m\u001b[0m\u001b[0m\n\u001b[0;32m      4\u001b[0m \u001b[1;31m#graph.write_png('tree.png')\u001b[0m\u001b[1;33m\u001b[0m\u001b[1;33m\u001b[0m\u001b[0m\n\u001b[1;32m----> 5\u001b[1;33m \u001b[0mpydot\u001b[0m\u001b[1;33m.\u001b[0m\u001b[0mdot_parser\u001b[0m\u001b[1;33m.\u001b[0m\u001b[0mparse_dot_data\u001b[0m\u001b[1;33m(\u001b[0m\u001b[1;34m\"tree.dot\"\u001b[0m\u001b[1;33m)\u001b[0m\u001b[1;33m\u001b[0m\u001b[0m\n\u001b[0m",
      "\u001b[1;32mc:\\users\\jordan fan\\anaconda3\\envs\\toxic\\lib\\site-packages\\dot_parser.py\u001b[0m in \u001b[0;36mparse_dot_data\u001b[1;34m(s)\u001b[0m\n\u001b[0;32m    552\u001b[0m             \u001b[0merr\u001b[0m\u001b[1;33m.\u001b[0m\u001b[0mline\u001b[0m \u001b[1;33m+\u001b[0m\u001b[1;33m\u001b[0m\u001b[0m\n\u001b[0;32m    553\u001b[0m             \u001b[1;34m\" \"\u001b[0m\u001b[1;33m*\u001b[0m\u001b[1;33m(\u001b[0m\u001b[0merr\u001b[0m\u001b[1;33m.\u001b[0m\u001b[0mcolumn\u001b[0m\u001b[1;33m-\u001b[0m\u001b[1;36m1\u001b[0m\u001b[1;33m)\u001b[0m \u001b[1;33m+\u001b[0m \u001b[1;34m\"^\"\u001b[0m \u001b[1;33m+\u001b[0m\u001b[1;33m\u001b[0m\u001b[0m\n\u001b[1;32m--> 554\u001b[1;33m             err)\n\u001b[0m\u001b[0;32m    555\u001b[0m         \u001b[1;32mreturn\u001b[0m \u001b[1;32mNone\u001b[0m\u001b[1;33m\u001b[0m\u001b[0m\n",
      "\u001b[1;31mTypeError\u001b[0m: must be str, not ParseException"
     ]
    }
   ],
   "source": [
    "#tree = rf.estimators_[5]\n",
    "#export_graphviz(tree, out_file = 'tree.dot', feature_names = feature_list, rounded = True, precision = 1)\n",
    "#(graph, ) = pydot.graph_from_dot_file('tree.dot')\n",
    "#graph.write_png('tree.png')\n",
    "#pydot.dot_parser.parse_dot_data(\"tree.dot\")"
   ]
  },
  {
   "cell_type": "markdown",
   "metadata": {},
   "source": [
    "#### Random Grid Search"
   ]
  },
  {
   "cell_type": "code",
   "execution_count": 13,
   "metadata": {},
   "outputs": [],
   "source": [
    "n_estimators = [int(x) for x in np.linspace(start = 200, stop = 2000, num = 10)]\n",
    "max_features = [\"auto\", \"sqrt\"]\n",
    "max_depth = [int(x) for x in np.linspace(start = 3, stop = 60, num = 20)] \n",
    "#max_depth.append(None)\n",
    "min_samples_split = [int(x) for x in np.linspace(start = 2, stop = 12, num = 11)]\n",
    "min_samples_leaf = [int(x) for x in np.linspace(start = 1, stop = 5, num = 5)]\n",
    "bootstrap = [True, False] \n",
    "\n",
    "random_grid = {'n_estimators': n_estimators,\n",
    "               'max_features': max_features,\n",
    "               'max_depth': max_depth,\n",
    "               'min_samples_split': min_samples_split,\n",
    "               'min_samples_leaf': min_samples_leaf,\n",
    "               'bootstrap': bootstrap}"
   ]
  },
  {
   "cell_type": "code",
   "execution_count": 14,
   "metadata": {
    "scrolled": true
   },
   "outputs": [
    {
     "name": "stdout",
     "output_type": "stream",
     "text": [
      "Fitting 5 folds for each of 100 candidates, totalling 500 fits\n"
     ]
    },
    {
     "ename": "KeyboardInterrupt",
     "evalue": "",
     "output_type": "error",
     "traceback": [
      "\u001b[1;31m---------------------------------------------------------------------------\u001b[0m",
      "\u001b[1;31mKeyboardInterrupt\u001b[0m                         Traceback (most recent call last)",
      "\u001b[1;32m<ipython-input-14-298bdbfb1a51>\u001b[0m in \u001b[0;36m<module>\u001b[1;34m()\u001b[0m\n\u001b[0;32m      3\u001b[0m                               \u001b[0mn_iter\u001b[0m \u001b[1;33m=\u001b[0m \u001b[1;36m100\u001b[0m\u001b[1;33m,\u001b[0m \u001b[0mcv\u001b[0m \u001b[1;33m=\u001b[0m \u001b[1;36m5\u001b[0m\u001b[1;33m,\u001b[0m \u001b[0mverbose\u001b[0m \u001b[1;33m=\u001b[0m \u001b[1;36m2\u001b[0m\u001b[1;33m,\u001b[0m \u001b[0mrandom_state\u001b[0m \u001b[1;33m=\u001b[0m \u001b[1;36m6819\u001b[0m\u001b[1;33m,\u001b[0m\u001b[1;33m\u001b[0m\u001b[0m\n\u001b[0;32m      4\u001b[0m                               n_jobs = -1)\n\u001b[1;32m----> 5\u001b[1;33m \u001b[0mrf_random\u001b[0m\u001b[1;33m.\u001b[0m\u001b[0mfit\u001b[0m\u001b[1;33m(\u001b[0m\u001b[0mtrain_features\u001b[0m\u001b[1;33m,\u001b[0m \u001b[0mtrain_labels\u001b[0m\u001b[1;33m)\u001b[0m\u001b[1;33m\u001b[0m\u001b[0m\n\u001b[0m\u001b[0;32m      6\u001b[0m \u001b[0mrf_random\u001b[0m\u001b[1;33m.\u001b[0m\u001b[0mbest_params_\u001b[0m\u001b[1;33m\u001b[0m\u001b[0m\n",
      "\u001b[1;32mc:\\users\\jordan fan\\anaconda3\\envs\\toxic\\lib\\site-packages\\sklearn\\model_selection\\_search.py\u001b[0m in \u001b[0;36mfit\u001b[1;34m(self, X, y, groups, **fit_params)\u001b[0m\n\u001b[0;32m    637\u001b[0m                                   error_score=self.error_score)\n\u001b[0;32m    638\u001b[0m           for parameters, (train, test) in product(candidate_params,\n\u001b[1;32m--> 639\u001b[1;33m                                                    cv.split(X, y, groups)))\n\u001b[0m\u001b[0;32m    640\u001b[0m \u001b[1;33m\u001b[0m\u001b[0m\n\u001b[0;32m    641\u001b[0m         \u001b[1;31m# if one choose to see train score, \"out\" will contain train score info\u001b[0m\u001b[1;33m\u001b[0m\u001b[1;33m\u001b[0m\u001b[0m\n",
      "\u001b[1;32mc:\\users\\jordan fan\\anaconda3\\envs\\toxic\\lib\\site-packages\\sklearn\\externals\\joblib\\parallel.py\u001b[0m in \u001b[0;36m__call__\u001b[1;34m(self, iterable)\u001b[0m\n\u001b[0;32m    787\u001b[0m                 \u001b[1;31m# consumption.\u001b[0m\u001b[1;33m\u001b[0m\u001b[1;33m\u001b[0m\u001b[0m\n\u001b[0;32m    788\u001b[0m                 \u001b[0mself\u001b[0m\u001b[1;33m.\u001b[0m\u001b[0m_iterating\u001b[0m \u001b[1;33m=\u001b[0m \u001b[1;32mFalse\u001b[0m\u001b[1;33m\u001b[0m\u001b[0m\n\u001b[1;32m--> 789\u001b[1;33m             \u001b[0mself\u001b[0m\u001b[1;33m.\u001b[0m\u001b[0mretrieve\u001b[0m\u001b[1;33m(\u001b[0m\u001b[1;33m)\u001b[0m\u001b[1;33m\u001b[0m\u001b[0m\n\u001b[0m\u001b[0;32m    790\u001b[0m             \u001b[1;31m# Make sure that we get a last message telling us we are done\u001b[0m\u001b[1;33m\u001b[0m\u001b[1;33m\u001b[0m\u001b[0m\n\u001b[0;32m    791\u001b[0m             \u001b[0melapsed_time\u001b[0m \u001b[1;33m=\u001b[0m \u001b[0mtime\u001b[0m\u001b[1;33m.\u001b[0m\u001b[0mtime\u001b[0m\u001b[1;33m(\u001b[0m\u001b[1;33m)\u001b[0m \u001b[1;33m-\u001b[0m \u001b[0mself\u001b[0m\u001b[1;33m.\u001b[0m\u001b[0m_start_time\u001b[0m\u001b[1;33m\u001b[0m\u001b[0m\n",
      "\u001b[1;32mc:\\users\\jordan fan\\anaconda3\\envs\\toxic\\lib\\site-packages\\sklearn\\externals\\joblib\\parallel.py\u001b[0m in \u001b[0;36mretrieve\u001b[1;34m(self)\u001b[0m\n\u001b[0;32m    697\u001b[0m             \u001b[1;32mtry\u001b[0m\u001b[1;33m:\u001b[0m\u001b[1;33m\u001b[0m\u001b[0m\n\u001b[0;32m    698\u001b[0m                 \u001b[1;32mif\u001b[0m \u001b[0mgetattr\u001b[0m\u001b[1;33m(\u001b[0m\u001b[0mself\u001b[0m\u001b[1;33m.\u001b[0m\u001b[0m_backend\u001b[0m\u001b[1;33m,\u001b[0m \u001b[1;34m'supports_timeout'\u001b[0m\u001b[1;33m,\u001b[0m \u001b[1;32mFalse\u001b[0m\u001b[1;33m)\u001b[0m\u001b[1;33m:\u001b[0m\u001b[1;33m\u001b[0m\u001b[0m\n\u001b[1;32m--> 699\u001b[1;33m                     \u001b[0mself\u001b[0m\u001b[1;33m.\u001b[0m\u001b[0m_output\u001b[0m\u001b[1;33m.\u001b[0m\u001b[0mextend\u001b[0m\u001b[1;33m(\u001b[0m\u001b[0mjob\u001b[0m\u001b[1;33m.\u001b[0m\u001b[0mget\u001b[0m\u001b[1;33m(\u001b[0m\u001b[0mtimeout\u001b[0m\u001b[1;33m=\u001b[0m\u001b[0mself\u001b[0m\u001b[1;33m.\u001b[0m\u001b[0mtimeout\u001b[0m\u001b[1;33m)\u001b[0m\u001b[1;33m)\u001b[0m\u001b[1;33m\u001b[0m\u001b[0m\n\u001b[0m\u001b[0;32m    700\u001b[0m                 \u001b[1;32melse\u001b[0m\u001b[1;33m:\u001b[0m\u001b[1;33m\u001b[0m\u001b[0m\n\u001b[0;32m    701\u001b[0m                     \u001b[0mself\u001b[0m\u001b[1;33m.\u001b[0m\u001b[0m_output\u001b[0m\u001b[1;33m.\u001b[0m\u001b[0mextend\u001b[0m\u001b[1;33m(\u001b[0m\u001b[0mjob\u001b[0m\u001b[1;33m.\u001b[0m\u001b[0mget\u001b[0m\u001b[1;33m(\u001b[0m\u001b[1;33m)\u001b[0m\u001b[1;33m)\u001b[0m\u001b[1;33m\u001b[0m\u001b[0m\n",
      "\u001b[1;32mc:\\users\\jordan fan\\anaconda3\\envs\\toxic\\lib\\multiprocessing\\pool.py\u001b[0m in \u001b[0;36mget\u001b[1;34m(self, timeout)\u001b[0m\n\u001b[0;32m    636\u001b[0m \u001b[1;33m\u001b[0m\u001b[0m\n\u001b[0;32m    637\u001b[0m     \u001b[1;32mdef\u001b[0m \u001b[0mget\u001b[0m\u001b[1;33m(\u001b[0m\u001b[0mself\u001b[0m\u001b[1;33m,\u001b[0m \u001b[0mtimeout\u001b[0m\u001b[1;33m=\u001b[0m\u001b[1;32mNone\u001b[0m\u001b[1;33m)\u001b[0m\u001b[1;33m:\u001b[0m\u001b[1;33m\u001b[0m\u001b[0m\n\u001b[1;32m--> 638\u001b[1;33m         \u001b[0mself\u001b[0m\u001b[1;33m.\u001b[0m\u001b[0mwait\u001b[0m\u001b[1;33m(\u001b[0m\u001b[0mtimeout\u001b[0m\u001b[1;33m)\u001b[0m\u001b[1;33m\u001b[0m\u001b[0m\n\u001b[0m\u001b[0;32m    639\u001b[0m         \u001b[1;32mif\u001b[0m \u001b[1;32mnot\u001b[0m \u001b[0mself\u001b[0m\u001b[1;33m.\u001b[0m\u001b[0mready\u001b[0m\u001b[1;33m(\u001b[0m\u001b[1;33m)\u001b[0m\u001b[1;33m:\u001b[0m\u001b[1;33m\u001b[0m\u001b[0m\n\u001b[0;32m    640\u001b[0m             \u001b[1;32mraise\u001b[0m \u001b[0mTimeoutError\u001b[0m\u001b[1;33m\u001b[0m\u001b[0m\n",
      "\u001b[1;32mc:\\users\\jordan fan\\anaconda3\\envs\\toxic\\lib\\multiprocessing\\pool.py\u001b[0m in \u001b[0;36mwait\u001b[1;34m(self, timeout)\u001b[0m\n\u001b[0;32m    633\u001b[0m \u001b[1;33m\u001b[0m\u001b[0m\n\u001b[0;32m    634\u001b[0m     \u001b[1;32mdef\u001b[0m \u001b[0mwait\u001b[0m\u001b[1;33m(\u001b[0m\u001b[0mself\u001b[0m\u001b[1;33m,\u001b[0m \u001b[0mtimeout\u001b[0m\u001b[1;33m=\u001b[0m\u001b[1;32mNone\u001b[0m\u001b[1;33m)\u001b[0m\u001b[1;33m:\u001b[0m\u001b[1;33m\u001b[0m\u001b[0m\n\u001b[1;32m--> 635\u001b[1;33m         \u001b[0mself\u001b[0m\u001b[1;33m.\u001b[0m\u001b[0m_event\u001b[0m\u001b[1;33m.\u001b[0m\u001b[0mwait\u001b[0m\u001b[1;33m(\u001b[0m\u001b[0mtimeout\u001b[0m\u001b[1;33m)\u001b[0m\u001b[1;33m\u001b[0m\u001b[0m\n\u001b[0m\u001b[0;32m    636\u001b[0m \u001b[1;33m\u001b[0m\u001b[0m\n\u001b[0;32m    637\u001b[0m     \u001b[1;32mdef\u001b[0m \u001b[0mget\u001b[0m\u001b[1;33m(\u001b[0m\u001b[0mself\u001b[0m\u001b[1;33m,\u001b[0m \u001b[0mtimeout\u001b[0m\u001b[1;33m=\u001b[0m\u001b[1;32mNone\u001b[0m\u001b[1;33m)\u001b[0m\u001b[1;33m:\u001b[0m\u001b[1;33m\u001b[0m\u001b[0m\n",
      "\u001b[1;32mc:\\users\\jordan fan\\anaconda3\\envs\\toxic\\lib\\threading.py\u001b[0m in \u001b[0;36mwait\u001b[1;34m(self, timeout)\u001b[0m\n\u001b[0;32m    549\u001b[0m             \u001b[0msignaled\u001b[0m \u001b[1;33m=\u001b[0m \u001b[0mself\u001b[0m\u001b[1;33m.\u001b[0m\u001b[0m_flag\u001b[0m\u001b[1;33m\u001b[0m\u001b[0m\n\u001b[0;32m    550\u001b[0m             \u001b[1;32mif\u001b[0m \u001b[1;32mnot\u001b[0m \u001b[0msignaled\u001b[0m\u001b[1;33m:\u001b[0m\u001b[1;33m\u001b[0m\u001b[0m\n\u001b[1;32m--> 551\u001b[1;33m                 \u001b[0msignaled\u001b[0m \u001b[1;33m=\u001b[0m \u001b[0mself\u001b[0m\u001b[1;33m.\u001b[0m\u001b[0m_cond\u001b[0m\u001b[1;33m.\u001b[0m\u001b[0mwait\u001b[0m\u001b[1;33m(\u001b[0m\u001b[0mtimeout\u001b[0m\u001b[1;33m)\u001b[0m\u001b[1;33m\u001b[0m\u001b[0m\n\u001b[0m\u001b[0;32m    552\u001b[0m             \u001b[1;32mreturn\u001b[0m \u001b[0msignaled\u001b[0m\u001b[1;33m\u001b[0m\u001b[0m\n\u001b[0;32m    553\u001b[0m \u001b[1;33m\u001b[0m\u001b[0m\n",
      "\u001b[1;32mc:\\users\\jordan fan\\anaconda3\\envs\\toxic\\lib\\threading.py\u001b[0m in \u001b[0;36mwait\u001b[1;34m(self, timeout)\u001b[0m\n\u001b[0;32m    293\u001b[0m         \u001b[1;32mtry\u001b[0m\u001b[1;33m:\u001b[0m    \u001b[1;31m# restore state no matter what (e.g., KeyboardInterrupt)\u001b[0m\u001b[1;33m\u001b[0m\u001b[0m\n\u001b[0;32m    294\u001b[0m             \u001b[1;32mif\u001b[0m \u001b[0mtimeout\u001b[0m \u001b[1;32mis\u001b[0m \u001b[1;32mNone\u001b[0m\u001b[1;33m:\u001b[0m\u001b[1;33m\u001b[0m\u001b[0m\n\u001b[1;32m--> 295\u001b[1;33m                 \u001b[0mwaiter\u001b[0m\u001b[1;33m.\u001b[0m\u001b[0macquire\u001b[0m\u001b[1;33m(\u001b[0m\u001b[1;33m)\u001b[0m\u001b[1;33m\u001b[0m\u001b[0m\n\u001b[0m\u001b[0;32m    296\u001b[0m                 \u001b[0mgotit\u001b[0m \u001b[1;33m=\u001b[0m \u001b[1;32mTrue\u001b[0m\u001b[1;33m\u001b[0m\u001b[0m\n\u001b[0;32m    297\u001b[0m             \u001b[1;32melse\u001b[0m\u001b[1;33m:\u001b[0m\u001b[1;33m\u001b[0m\u001b[0m\n",
      "\u001b[1;31mKeyboardInterrupt\u001b[0m: "
     ]
    }
   ],
   "source": [
    "rf = RandomForestClassifier()\n",
    "rf_random = RandomizedSearchCV(estimator = rf, param_distributions = random_grid,\n",
    "                              n_iter = 100, cv = 5, verbose = 2, random_state = 6819,\n",
    "                              n_jobs = -1)\n",
    "rf_random.fit(train_features, train_labels)\n",
    "rf_random.best_params_"
   ]
  },
  {
   "cell_type": "code",
   "execution_count": 143,
   "metadata": {},
   "outputs": [
    {
     "name": "stdout",
     "output_type": "stream",
     "text": [
      "Training Accuracy\n",
      "Overall Accuracy: 0.66\n",
      "Precision Score: 0.65\n",
      "Recall Score: 0.98\n",
      "Testing Accuracy\n",
      "Overall Accuracy: 0.72\n",
      "Precision Score: 0.73\n",
      "Recall Score: 0.95\n"
     ]
    }
   ],
   "source": [
    "rf = RandomForestClassifier(bootstrap = True,\n",
    "                            max_depth = 3,\n",
    "                            max_features = \"sqrt\",\n",
    "                            min_samples_leaf = 1,\n",
    "                            min_samples_split = 4,\n",
    "                            n_estimators = 1000,\n",
    "                            random_state = 12356)\n",
    "rf.fit(train_features, train_labels);\n",
    "overall_accuracy_train = sum(rf.predict(train_features) == train_labels)/len(train_labels)\n",
    "precision_accuracy_train = precision_score(train_labels, rf.predict(train_features))\n",
    "recall_accuracy_train = recall_score(train_labels, rf.predict(train_features))\n",
    "overall_accuracy_test = sum(rf.predict(test_features) == test_labels)/len(test_labels)\n",
    "precision_accuracy_test = precision_score(test_labels, rf.predict(test_features))\n",
    "recall_accuracy_test = recall_score(test_labels, rf.predict(test_features))\n",
    "\n",
    "print(\"Training Accuracy\")\n",
    "print(\"Overall Accuracy: {0:0.2f}\". format( \n",
    "        overall_accuracy_train))\n",
    "print('Precision Score: {0:0.2f}'.format(\n",
    "      precision_accuracy_train))\n",
    "print('Recall Score: {0:0.2f}'.format(\n",
    "      recall_accuracy_train))\n",
    "print(\"Testing Accuracy\")\n",
    "print(\"Overall Accuracy: {0:0.2f}\". format( \n",
    "        overall_accuracy_test))\n",
    "print('Precision Score: {0:0.2f}'.format(\n",
    "      precision_accuracy_test))\n",
    "print('Recall Score: {0:0.2f}'.format(\n",
    "      recall_accuracy_test))"
   ]
  },
  {
   "cell_type": "code",
   "execution_count": null,
   "metadata": {},
   "outputs": [],
   "source": []
  },
  {
   "cell_type": "markdown",
   "metadata": {},
   "source": [
    "#### Grid Search CV "
   ]
  },
  {
   "cell_type": "code",
   "execution_count": 1186,
   "metadata": {},
   "outputs": [
    {
     "name": "stdout",
     "output_type": "stream",
     "text": [
      "Fitting 5 folds for each of 300 candidates, totalling 1500 fits\n"
     ]
    },
    {
     "name": "stderr",
     "output_type": "stream",
     "text": [
      "[Parallel(n_jobs=-1)]: Done  33 tasks      | elapsed:   34.3s\n",
      "[Parallel(n_jobs=-1)]: Done 154 tasks      | elapsed:  1.6min\n",
      "[Parallel(n_jobs=-1)]: Done 357 tasks      | elapsed:  3.4min\n",
      "[Parallel(n_jobs=-1)]: Done 640 tasks      | elapsed:  6.0min\n",
      "[Parallel(n_jobs=-1)]: Done 1005 tasks      | elapsed:  9.0min\n",
      "[Parallel(n_jobs=-1)]: Done 1450 tasks      | elapsed: 13.0min\n",
      "[Parallel(n_jobs=-1)]: Done 1500 out of 1500 | elapsed: 13.4min finished\n"
     ]
    },
    {
     "data": {
      "text/plain": [
       "{'bootstrap': True,\n",
       " 'max_depth': 3,\n",
       " 'max_features': 'sqrt',\n",
       " 'min_samples_leaf': 1,\n",
       " 'min_samples_split': 5,\n",
       " 'n_estimators': 1200}"
      ]
     },
     "execution_count": 1186,
     "metadata": {},
     "output_type": "execute_result"
    }
   ],
   "source": [
    "n_estimators = [int(x) for x in np.linspace(start = 800, stop = 1200, num = 5)]\n",
    "max_features =  [\"sqrt\"]\n",
    "max_depth = [int(x) for x in np.linspace(start = 1, stop = 4, num = 4)] \n",
    "min_samples_leaf = [int(x) for x in np.linspace(start = 1, stop = 3, num = 3)]\n",
    "min_samples_split =  [int(x) for x in np.linspace(start = 2, stop = 6, num = 5)]\n",
    "from sklearn.model_selection import GridSearchCV\n",
    "param_grid = {'n_estimators': n_estimators,\n",
    "               'max_features': max_features,\n",
    "               'max_depth': max_depth,\n",
    "               'min_samples_split': min_samples_split,\n",
    "               'min_samples_leaf': min_samples_leaf,\n",
    "               'bootstrap': [True]}\n",
    "rf = RandomForestClassifier()\n",
    "grid_search = GridSearchCV(estimator = rf, param_grid = param_grid, cv = 5,\n",
    "                          n_jobs = -1, verbose = 2) \n",
    "grid_search.fit(train_features, train_labels)\n",
    "grid_search.best_params_"
   ]
  },
  {
   "cell_type": "markdown",
   "metadata": {},
   "source": [
    "#### Final RF model with best parameters "
   ]
  },
  {
   "cell_type": "code",
   "execution_count": 144,
   "metadata": {
    "scrolled": true
   },
   "outputs": [
    {
     "name": "stdout",
     "output_type": "stream",
     "text": [
      "Training Accuracy\n",
      "Overall Accuracy: 0.66\n",
      "Precision Score: 0.65\n",
      "Recall Score: 0.98\n",
      "Testing Accuracy\n",
      "Overall Accuracy: 0.72\n",
      "Precision Score: 0.73\n",
      "Recall Score: 0.95\n"
     ]
    }
   ],
   "source": [
    "rf = RandomForestClassifier(bootstrap = True,\n",
    "                            max_depth = 3,\n",
    "                            max_features = \"auto\",\n",
    "                            min_samples_leaf = 1,\n",
    "                            min_samples_split = 5,\n",
    "                            n_estimators = 1200,\n",
    "                            random_state = 12356)\n",
    "rf.fit(train_features, train_labels);\n",
    "overall_accuracy_train = sum(rf.predict(train_features) == train_labels)/len(train_labels)\n",
    "precision_accuracy_train = precision_score(train_labels, rf.predict(train_features))\n",
    "recall_accuracy_train = recall_score(train_labels, rf.predict(train_features))\n",
    "overall_accuracy_test = sum(rf.predict(test_features) == test_labels)/len(test_labels)\n",
    "precision_accuracy_test = precision_score(test_labels, rf.predict(test_features))\n",
    "recall_accuracy_test = recall_score(test_labels, rf.predict(test_features))\n",
    "\n",
    "print(\"Training Accuracy\")\n",
    "print(\"Overall Accuracy: {0:0.2f}\". format( \n",
    "        overall_accuracy_train))\n",
    "print('Precision Score: {0:0.2f}'.format(\n",
    "      precision_accuracy_train))\n",
    "print('Recall Score: {0:0.2f}'.format(\n",
    "      recall_accuracy_train))\n",
    "print(\"Testing Accuracy\")\n",
    "print(\"Overall Accuracy: {0:0.2f}\". format( \n",
    "        overall_accuracy_test))\n",
    "print('Precision Score: {0:0.2f}'.format(\n",
    "      precision_accuracy_test))\n",
    "print('Recall Score: {0:0.2f}'.format(\n",
    "      recall_accuracy_test))"
   ]
  },
  {
   "cell_type": "code",
   "execution_count": null,
   "metadata": {},
   "outputs": [],
   "source": [
    "preds = rf.predict(test_features)\n",
    "predicted_one_time = [i for i in range(len(preds)) if preds[i] == 1]\n",
    "predicted_multi_time = [i for i in range(len(preds)) if preds[i] == 0]\n",
    "true_one_time = [i for i in range(len(test_labels)) if np.array(test_labels)[i] == 1]\n",
    "true_multi_time = [i for i in range(len(test_labels)) if np.array(test_labels)[i] == 0]\n",
    "true_positives = len(np.intersect1d(predicted_one_time, true_one_time))\n",
    "false_positives = len(np.intersect1d(predicted_one_time, true_multi_time))\n",
    "true_negatives = len(np.intersect1d(predicted_multi_time, true_multi_time))\n",
    "false_negatives = len(np.intersect1d(predicted_multi_time, true_one_time))\n",
    "true_negatives"
   ]
  },
  {
   "cell_type": "markdown",
   "metadata": {},
   "source": [
    "\\begin{align*}\n",
    "&- \\text{The recall score drastically increased from the initial model from 0.83 to 0.95} \\\\\n",
    "&- \\text{Final model more likely to identify companies as multi donors than one time donors, precision of model not very accurate} \\\\ \n",
    "\\end{align*}"
   ]
  },
  {
   "cell_type": "code",
   "execution_count": 1194,
   "metadata": {},
   "outputs": [
    {
     "name": "stdout",
     "output_type": "stream",
     "text": [
      "Variable: state_underdeveloped Importance: 0.2\n",
      "Variable: size_1000.0          Importance: 0.14\n",
      "Variable: size_10/50           Importance: 0.08\n",
      "Variable: state_California     Importance: 0.07\n",
      "Variable: state_New York       Importance: 0.07\n",
      "Variable: size_200/500         Importance: 0.07\n",
      "Variable: type_applied         Importance: 0.06\n",
      "Variable: comm_edu/health_web  Importance: 0.06\n",
      "Variable: fin_bus              Importance: 0.06\n",
      "Variable: size_10001.0         Importance: 0.04\n",
      "Variable: size_5000.0          Importance: 0.04\n",
      "Variable: type_soft            Importance: 0.04\n",
      "Variable: food_other_sale      Importance: 0.04\n",
      "Variable: size_10000.0         Importance: 0.03\n"
     ]
    }
   ],
   "source": [
    "importances = list(rf.feature_importances_)\n",
    "feature_importances = [(feature, round(importance, 2)) for feature, importance in zip(feature_list, importances)]\n",
    "feature_importances = sorted(feature_importances, key = lambda x: x[1], reverse = True)\n",
    "[print('Variable: {:20} Importance: {}'.format(*pair)) for pair in feature_importances];"
   ]
  },
  {
   "cell_type": "code",
   "execution_count": 1320,
   "metadata": {
    "scrolled": true
   },
   "outputs": [
    {
     "data": {
      "image/png": "[encoded data removed]",
      "text/plain": [
       "<matplotlib.figure.Figure at 0x21b17e7ada0>"
      ]
     },
     "metadata": {},
     "output_type": "display_data"
    }
   ],
   "source": [
    "sns.countplot(company[company[\"state_underdeveloped\"] == 1][\"multi_donor\"]);\n",
    "plt.title(\"Underdeveloped States Multiple Donor Counts\");\n"
   ]
  },
  {
   "cell_type": "code",
   "execution_count": 1314,
   "metadata": {},
   "outputs": [
    {
     "name": "stdout",
     "output_type": "stream",
     "text": [
      "Underdeveloped multi-donor proportion: 0.3\n",
      "California multi-donor proportion: 0.674074074074074\n",
      "New York multi-donor proportion: 0.6551724137931034\n"
     ]
    }
   ],
   "source": [
    "ud_len = company[company[\"state_underdeveloped\"] == 1].shape[0]\n",
    "ud_num_md = sum(company[company[\"state_underdeveloped\"] == 1][\"multi_donor\"])\n",
    "ca_len = company[company[\"state_California\"] == 1].shape[0]\n",
    "ca_num_md = sum(company[company[\"state_California\"] == 1][\"multi_donor\"])\n",
    "ny_len = company[company[\"state_New York\"] == 1].shape[0]\n",
    "ny_num_md = sum(company[company[\"state_New York\"] == 1][\"multi_donor\"])\n",
    "print(\"Underdeveloped multi-donor proportion: \" + str(ud_num_md/ud_len))\n",
    "print(\"California multi-donor proportion: \" + str(ca_num_md/ca_len))\n",
    "print(\"New York multi-donor proportion: \" + str(ny_num_md/ny_len))"
   ]
  },
  {
   "cell_type": "markdown",
   "metadata": {},
   "source": [
    "\\begin{align*}\n",
    "&- \\text{The feature with the highest importance (0.2) is state_underdeveloped and it seems that if a company is in a state that's not CA or NY, the company will likely be labeled as a one-time donor.} \\\\\n",
    "&- \\text{ Out of 20 companies that are in a state other than CA or NY, 6 of which donated more than once} \\\\\n",
    "&- \\text{Is Replate not as developed in states outside of CA and NY and that's why companies are not as likely to donate multiple times?} \\\\\n",
    "\\end{align*}"
   ]
  },
  {
   "cell_type": "code",
   "execution_count": 1321,
   "metadata": {
    "scrolled": true
   },
   "outputs": [
    {
     "data": {
      "image/png": "[encoded data removed]",
      "text/plain": [
       "<matplotlib.figure.Figure at 0x21b17ed1470>"
      ]
     },
     "metadata": {},
     "output_type": "display_data"
    }
   ],
   "source": [
    "sns.countplot(company[company[\"size_1000.0\"] == 1][\"multi_donor\"]);\n",
    "plt.title(\"Company Sizes b/t 501-1000 and Multiple Donor Counts\");"
   ]
  },
  {
   "cell_type": "markdown",
   "metadata": {},
   "source": [
    "\\begin{align*}\n",
    "&- \\text{The next highest feature in terms of importance (0.14) is size_1000.} \\\\ \n",
    "&- \\text{Out of 20 companies that have a size between 501-1000 employees, 18 of them have donated more than once}\n",
    "\\end{align*}"
   ]
  },
  {
   "cell_type": "code",
   "execution_count": 1318,
   "metadata": {},
   "outputs": [
    {
     "name": "stdout",
     "output_type": "stream",
     "text": [
      "Size 1-50 multi-donor proportion: 0.5897435897435898\n",
      "Size 51-500 multi-donor proportion: 0.6571428571428571\n",
      "Size 501-1000 multi-donor proportion: 0.9\n",
      "Size 1001-5000 multi-donor proportion: 0.5909090909090909\n",
      "Size 5001-10000 multi-donor proportion: 0.5\n",
      "Size 10001+ multi-donor proportion: 0.4444444444444444\n"
     ]
    }
   ],
   "source": [
    "\n",
    "s1000_len = company[company[\"size_1000.0\"] == 1].shape[0]\n",
    "s1000_num_md = sum(company[company[\"size_1000.0\"] == 1][\"multi_donor\"])\n",
    "s10000_len = company[company[\"size_10000.0\"] == 1].shape[0]\n",
    "s10000_num_md = sum(company[company[\"size_10000.0\"] == 1][\"multi_donor\"])\n",
    "s10001_len = company[company[\"size_10001.0\"] == 1].shape[0]\n",
    "s10001_num_md = sum(company[company[\"size_10001.0\"] == 1][\"multi_donor\"])\n",
    "s5000_len = company[company[\"size_5000.0\"] == 1].shape[0]\n",
    "s5000_num_md = sum(company[company[\"size_5000.0\"] == 1][\"multi_donor\"])\n",
    "s10_50_len = company[company[\"size_10/50\"] == 1].shape[0]\n",
    "s10_50_num_md = sum(company[company[\"size_10/50\"] == 1][\"multi_donor\"])\n",
    "s200_500_len = company[company[\"size_200/500\"] == 1].shape[0]\n",
    "s200_500_num_md = sum(company[company[\"size_200/500\"] == 1][\"multi_donor\"])\n",
    "\n",
    "print(\"Size 1-50 multi-donor proportion: \" + str(s10_50_num_md/s10_50_len))\n",
    "print(\"Size 51-500 multi-donor proportion: \" + str(s200_500_num_md/s200_500_len))\n",
    "print(\"Size 501-1000 multi-donor proportion: \" + str(s1000_num_md/s1000_len))\n",
    "print(\"Size 1001-5000 multi-donor proportion: \" + str(s5000_num_md/s5000_len))\n",
    "print(\"Size 5001-10000 multi-donor proportion: \" + str(s10000_num_md/s10000_len))\n",
    "print(\"Size 10001+ multi-donor proportion: \" + str(s10001_num_md/s10001_len))"
   ]
  },
  {
   "cell_type": "markdown",
   "metadata": {},
   "source": [
    "\\begin{align*}\n",
    "&- \\text{There doesn't seem to be a strong trend in whether a company wuld be a multi donor in the other sizes which is reflected in them having importances lower than 0.1} \\\\\n",
    "&- \\text{Seems that the proportion of multiple donors increases with size up until 1000 and then the proportion drops down.}\n",
    "\\end{align*}"
   ]
  },
  {
   "cell_type": "code",
   "execution_count": 1195,
   "metadata": {},
   "outputs": [],
   "source": [
    "#tree = rf.estimators\n",
    "#export_graphviz(tree, out_file = 'tree.dot', feature_names = feature_list, rounded = True, precision = 1)\n",
    "#(graph, ) = graph_from_dot_file('tree.dot')\n",
    "#graph.write_png('tree.png')\n",
    "#dot_parser.parse_dot_data(\"tree.dot\")"
   ]
  },
  {
   "cell_type": "markdown",
   "metadata": {},
   "source": [
    "### Looking at whether a company would be a one time donor after donation "
   ]
  },
  {
   "cell_type": "code",
   "execution_count": 178,
   "metadata": {},
   "outputs": [],
   "source": [
    "\n",
    "def clean_food(x): \n",
    "    x = x.drop([\"Unnamed: 0\", \"Unnamed: 0.1\", \"Id\", \"id\", \"number\", \"street\", \"city\", \n",
    "                  \"zip\", \"lat\", \"lon\", \"pickup\", \"planned\", \"month\", \"day\", \n",
    "                  \"year\", \"weekday\"], axis = 1)\n",
    "    x[\"date\"] = pd.to_datetime(x[\"date\"])\n",
    "    x[\"size\"] = x[\"size\"].astype(\"str\")\n",
    "    x_num_donation = x.groupby(\"company\")[\"company\"].count()\n",
    "    x_one_donation = (x_num_donation == 1).astype(\"int\")\n",
    "    x_size = x.groupby(\"company\")[\"size\"].first()\n",
    "    x_type = x.groupby(\"company\")[\"type\"].first()\n",
    "    x_state = x.groupby(\"company\")[\"state\"].first()\n",
    "    x_last_donation_weeks = (np.max(x[\"date\"]) - x.groupby(\"company\")[\"date\"].agg(np.max)).apply(lambda x: x.days)//7\n",
    "    x_last_donation = x[x.groupby(\"company\").date.transform(\"max\") == x[\"date\"]].groupby(\"company\").first()[\"pounds\"]\n",
    "    company = pd.DataFrame({\"multi_donor\": 1 - x_one_donation,\n",
    "                       \"size\": x_size, \"type\": x_type,\n",
    "                       \"state\": x_state, \n",
    "                        \"last_donation\": x_last_donation,\n",
    "                        \"last_donation_weeks\": x_last_donation_weeks,\n",
    "                       })\n",
    "    return pd.get_dummies(company)\n",
    "company2 = clean_food(food)\n",
    "company3 = clean_food(food2)\n",
    "company4 = clean_food(food3)\n"
   ]
  },
  {
   "cell_type": "code",
   "execution_count": 179,
   "metadata": {},
   "outputs": [],
   "source": [
    "def combine_size_type(x):\n",
    "    x[\"food_other_sale\"] = x.iloc[:, [19, 20, 21]].sum(axis = 1)\n",
    "    x[\"comm_edu/health_web\"] = x.iloc[:, [16, 17, 23]].sum(axis = 1)\n",
    "    x[\"fin_bus\"] = x.iloc[:, [18, 15]].sum(axis = 1)\n",
    "    x = x.drop([ \"type_food\", \"type_other\", \"type_sale\", \"type_comm\", \n",
    "                       \"type_edu-health\", \"type_web\", \"type_fin\", \"type_bus\"], axis = 1)\n",
    "    x[\"size_10/50\"] = x.iloc[:, [3, 8]].sum(axis = 1)\n",
    "    x[\"size_200/500\"] = x.iloc[:, [7, 9]].sum(axis = 1)\n",
    "    x = x.drop([\"size_10.0\", \"size_50.0\", \"size_200.0\", \"size_500.0\"], axis = 1)\n",
    "    return x \n",
    "company2 = combine_size_type(company2)\n",
    "company3 = combine_size_type(company3)\n",
    "company4 = combine_size_type(company4)"
   ]
  },
  {
   "cell_type": "code",
   "execution_count": 180,
   "metadata": {},
   "outputs": [],
   "source": [
    "features2 = company2.drop([\"multi_donor\"], axis = 1) \n",
    "y2 = company2[\"multi_donor\"]\n",
    "feature2_list = list(features2.columns)\n",
    "features2 = np.array(features2)\n",
    "train_features2, test_features2, train_labels2, test_labels2 = train_test_split(features2, y2, test_size = 0.25, random_state = 23156)\n",
    "\n",
    "features3 = company3.drop([\"multi_donor\"], axis = 1) \n",
    "y3 = company3[\"multi_donor\"]\n",
    "feature3_list = list(features3.columns)\n",
    "features3 = np.array(features3)\n",
    "train_features3, test_features3, train_labels3, test_labels3 = train_test_split(features3, y3, test_size = 0.25, random_state = 23156)\n",
    "\n",
    "features4 = company4.drop([\"multi_donor\"], axis = 1) \n",
    "y4 = company4[\"multi_donor\"]\n",
    "feature4_list = list(features4.columns)\n",
    "features4 = np.array(features4)\n",
    "train_features4, test_features4, train_labels4, test_labels4 = train_test_split(features4, y4, test_size = 0.25, random_state = 23156)\n"
   ]
  },
  {
   "cell_type": "markdown",
   "metadata": {},
   "source": [
    "#### Initial Random Forest "
   ]
  },
  {
   "cell_type": "code",
   "execution_count": 181,
   "metadata": {},
   "outputs": [
    {
     "name": "stdout",
     "output_type": "stream",
     "text": [
      "Training Accuracy\n",
      "Overall Accuracy: 1.00\n",
      "Precision Score: 1.00\n",
      "Recall Score: 1.00\n",
      "Testing Accuracy\n",
      "Overall Accuracy: 0.64\n",
      "Precision Score: 0.69\n",
      "Recall Score: 0.80\n"
     ]
    }
   ],
   "source": [
    "rf2 = RandomForestClassifier(n_estimators = 1000, random_state = 12356)\n",
    "rf2.fit(train_features2, train_labels2);\n",
    "overall_accuracy_train = sum(rf2.predict(train_features2) == train_labels2)/len(train_labels2)\n",
    "precision_accuracy_train = precision_score(train_labels2, rf2.predict(train_features2))\n",
    "recall_accuracy_train = recall_score(train_labels2, rf2.predict(train_features2))\n",
    "overall_accuracy_test = sum(rf2.predict(test_features2) == test_labels2)/len(test_labels2)\n",
    "precision_accuracy_test = precision_score(test_labels2, rf2.predict(test_features2))\n",
    "recall_accuracy_test = recall_score(test_labels2, rf2.predict(test_features2))\n",
    "\n",
    "print(\"Training Accuracy\")\n",
    "print(\"Overall Accuracy: {0:0.2f}\". format( \n",
    "        overall_accuracy_train))\n",
    "print('Precision Score: {0:0.2f}'.format(\n",
    "      precision_accuracy_train))\n",
    "print('Recall Score: {0:0.2f}'.format(\n",
    "      recall_accuracy_train))\n",
    "print(\"Testing Accuracy\")\n",
    "print(\"Overall Accuracy: {0:0.2f}\". format( \n",
    "        overall_accuracy_test))\n",
    "print('Precision Score: {0:0.2f}'.format(\n",
    "      precision_accuracy_test))\n",
    "print('Recall Score: {0:0.2f}'.format(\n",
    "      recall_accuracy_test))"
   ]
  },
  {
   "cell_type": "code",
   "execution_count": 182,
   "metadata": {},
   "outputs": [
    {
     "name": "stdout",
     "output_type": "stream",
     "text": [
      "Training Accuracy\n",
      "Overall Accuracy: 1.00\n",
      "Precision Score: 1.00\n",
      "Recall Score: 1.00\n",
      "Testing Accuracy\n",
      "Overall Accuracy: 0.58\n",
      "Precision Score: 0.67\n",
      "Recall Score: 0.71\n"
     ]
    }
   ],
   "source": [
    "rf3 = RandomForestClassifier(n_estimators = 1000, random_state = 12356)\n",
    "rf3.fit(train_features3, train_labels3);\n",
    "overall_accuracy_train = sum(rf3.predict(train_features3) == train_labels3)/len(train_labels3)\n",
    "precision_accuracy_train = precision_score(train_labels3, rf3.predict(train_features3))\n",
    "recall_accuracy_train = recall_score(train_labels3, rf3.predict(train_features3))\n",
    "overall_accuracy_test = sum(rf3.predict(test_features3) == test_labels3)/len(test_labels3)\n",
    "precision_accuracy_test = precision_score(test_labels3, rf3.predict(test_features3))\n",
    "recall_accuracy_test = recall_score(test_labels3, rf3.predict(test_features3))\n",
    "\n",
    "print(\"Training Accuracy\")\n",
    "print(\"Overall Accuracy: {0:0.2f}\". format( \n",
    "        overall_accuracy_train))\n",
    "print('Precision Score: {0:0.2f}'.format(\n",
    "      precision_accuracy_train))\n",
    "print('Recall Score: {0:0.2f}'.format(\n",
    "      recall_accuracy_train))\n",
    "print(\"Testing Accuracy\")\n",
    "print(\"Overall Accuracy: {0:0.2f}\". format( \n",
    "        overall_accuracy_test))\n",
    "print('Precision Score: {0:0.2f}'.format(\n",
    "      precision_accuracy_test))\n",
    "print('Recall Score: {0:0.2f}'.format(\n",
    "      recall_accuracy_test))"
   ]
  },
  {
   "cell_type": "code",
   "execution_count": 183,
   "metadata": {},
   "outputs": [
    {
     "name": "stdout",
     "output_type": "stream",
     "text": [
      "Training Accuracy\n",
      "Overall Accuracy: 1.00\n",
      "Precision Score: 1.00\n",
      "Recall Score: 1.00\n",
      "Testing Accuracy\n",
      "Overall Accuracy: 0.58\n",
      "Precision Score: 0.67\n",
      "Recall Score: 0.71\n"
     ]
    }
   ],
   "source": [
    "rf4 = RandomForestClassifier(n_estimators = 1000, random_state = 12356)\n",
    "rf4.fit(train_features4, train_labels4);\n",
    "overall_accuracy_train = sum(rf4.predict(train_features4) == train_labels4)/len(train_labels4)\n",
    "precision_accuracy_train = precision_score(train_labels4, rf4.predict(train_features4))\n",
    "recall_accuracy_train = recall_score(train_labels4, rf4.predict(train_features4))\n",
    "overall_accuracy = sum(rf4.predict(test_features4) == test_labels4)/len(test_labels4)\n",
    "precision_accuracy = precision_score(test_labels4, rf4.predict(test_features4))\n",
    "recall_accuracy = recall_score(test_labels4, rf4.predict(test_features4))\n",
    "\n",
    "print(\"Training Accuracy\")\n",
    "print(\"Overall Accuracy: {0:0.2f}\". format( \n",
    "        overall_accuracy_train))\n",
    "print('Precision Score: {0:0.2f}'.format(\n",
    "      precision_accuracy_train))\n",
    "print('Recall Score: {0:0.2f}'.format(\n",
    "      recall_accuracy_train))\n",
    "print(\"Testing Accuracy\")\n",
    "print(\"Overall Accuracy: {0:0.2f}\". format( \n",
    "        overall_accuracy_test))\n",
    "print('Precision Score: {0:0.2f}'.format(\n",
    "      precision_accuracy_test))\n",
    "print('Recall Score: {0:0.2f}'.format(\n",
    "      recall_accuracy_test))"
   ]
  },
  {
   "cell_type": "markdown",
   "metadata": {},
   "source": [
    "#### Random Grid Search"
   ]
  },
  {
   "cell_type": "code",
   "execution_count": 155,
   "metadata": {},
   "outputs": [
    {
     "name": "stdout",
     "output_type": "stream",
     "text": [
      "Fitting 5 folds for each of 500 candidates, totalling 2500 fits\n"
     ]
    },
    {
     "name": "stderr",
     "output_type": "stream",
     "text": [
      "[Parallel(n_jobs=-1)]: Done  33 tasks      | elapsed:   25.7s\n",
      "[Parallel(n_jobs=-1)]: Done 154 tasks      | elapsed:  1.7min\n",
      "[Parallel(n_jobs=-1)]: Done 357 tasks      | elapsed:  4.0min\n",
      "[Parallel(n_jobs=-1)]: Done 640 tasks      | elapsed:  6.4min\n",
      "[Parallel(n_jobs=-1)]: Done 1005 tasks      | elapsed:  9.3min\n",
      "[Parallel(n_jobs=-1)]: Done 1450 tasks      | elapsed: 13.9min\n",
      "[Parallel(n_jobs=-1)]: Done 1977 tasks      | elapsed: 19.4min\n",
      "[Parallel(n_jobs=-1)]: Done 2500 out of 2500 | elapsed: 24.3min finished\n"
     ]
    },
    {
     "data": {
      "text/plain": [
       "{'bootstrap': False,\n",
       " 'max_depth': 3,\n",
       " 'max_features': 'sqrt',\n",
       " 'min_samples_leaf': 1,\n",
       " 'min_samples_split': 6,\n",
       " 'n_estimators': 200}"
      ]
     },
     "execution_count": 155,
     "metadata": {},
     "output_type": "execute_result"
    }
   ],
   "source": [
    "rf2 = RandomForestClassifier()\n",
    "rf2_random = RandomizedSearchCV(estimator = rf2, param_distributions = random_grid,\n",
    "                              n_iter = 500, cv = 5, verbose = 2, random_state = 23456,\n",
    "                              n_jobs = -1)\n",
    "rf2_random.fit(train_features2, train_labels2)\n",
    "rf2_random.best_params_"
   ]
  },
  {
   "cell_type": "code",
   "execution_count": 185,
   "metadata": {
    "scrolled": false
   },
   "outputs": [
    {
     "name": "stdout",
     "output_type": "stream",
     "text": [
      "Training Accuracy\n",
      "Overall Accuracy: 0.75\n",
      "Precision Score: 0.74\n",
      "Recall Score: 1.00\n",
      "Testing Accuracy\n",
      "Overall Accuracy: 0.68\n",
      "Precision Score: 0.67\n",
      "Recall Score: 0.97\n"
     ]
    }
   ],
   "source": [
    "rf2 = RandomForestClassifier(bootstrap = False,\n",
    "                            max_depth = 3,\n",
    "                            max_features = \"sqrt\",\n",
    "                            min_samples_leaf = 1,\n",
    "                            min_samples_split = 6,\n",
    "                            n_estimators = 200,\n",
    "                            random_state = 23456)\n",
    "rf2.fit(train_features2, train_labels2);\n",
    "overall_accuracy_train = sum(rf2.predict(train_features2) == train_labels2)/len(train_labels2)\n",
    "precision_accuracy_train = precision_score(train_labels2, rf2.predict(train_features2))\n",
    "recall_accuracy_train = recall_score(train_labels2, rf2.predict(train_features2))\n",
    "overall_accuracy_test = sum(rf2.predict(test_features2) == test_labels2)/len(test_labels2)\n",
    "precision_accuracy_test = precision_score(test_labels2, rf2.predict(test_features2))\n",
    "recall_accuracy_test = recall_score(test_labels2, rf2.predict(test_features2))\n",
    "\n",
    "print(\"Training Accuracy\")\n",
    "print(\"Overall Accuracy: {0:0.2f}\". format( \n",
    "        overall_accuracy_train))\n",
    "print('Precision Score: {0:0.2f}'.format(\n",
    "      precision_accuracy_train))\n",
    "print('Recall Score: {0:0.2f}'.format(\n",
    "      recall_accuracy_train))\n",
    "print(\"Testing Accuracy\")\n",
    "print(\"Overall Accuracy: {0:0.2f}\". format( \n",
    "        overall_accuracy_test))\n",
    "print('Precision Score: {0:0.2f}'.format(\n",
    "      precision_accuracy_test))\n",
    "print('Recall Score: {0:0.2f}'.format(\n",
    "      recall_accuracy_test))"
   ]
  },
  {
   "cell_type": "code",
   "execution_count": 156,
   "metadata": {
    "scrolled": false
   },
   "outputs": [
    {
     "name": "stdout",
     "output_type": "stream",
     "text": [
      "Fitting 5 folds for each of 500 candidates, totalling 2500 fits\n"
     ]
    },
    {
     "name": "stderr",
     "output_type": "stream",
     "text": [
      "[Parallel(n_jobs=-1)]: Done  33 tasks      | elapsed:   23.8s\n",
      "[Parallel(n_jobs=-1)]: Done 154 tasks      | elapsed:  1.8min\n",
      "[Parallel(n_jobs=-1)]: Done 357 tasks      | elapsed:  4.1min\n",
      "[Parallel(n_jobs=-1)]: Done 640 tasks      | elapsed:  6.7min\n",
      "[Parallel(n_jobs=-1)]: Done 1005 tasks      | elapsed: 10.3min\n",
      "[Parallel(n_jobs=-1)]: Done 1450 tasks      | elapsed: 14.6min\n",
      "[Parallel(n_jobs=-1)]: Done 1977 tasks      | elapsed: 20.1min\n",
      "[Parallel(n_jobs=-1)]: Done 2500 out of 2500 | elapsed: 25.0min finished\n"
     ]
    },
    {
     "data": {
      "text/plain": [
       "{'bootstrap': True,\n",
       " 'max_depth': 15,\n",
       " 'max_features': 'sqrt',\n",
       " 'min_samples_leaf': 1,\n",
       " 'min_samples_split': 5,\n",
       " 'n_estimators': 1800}"
      ]
     },
     "execution_count": 156,
     "metadata": {},
     "output_type": "execute_result"
    }
   ],
   "source": [
    "rf3 = RandomForestClassifier()\n",
    "rf3_random = RandomizedSearchCV(estimator = rf3, param_distributions = random_grid,\n",
    "                              n_iter = 500, cv = 5, verbose = 2, random_state = 23456,\n",
    "                              n_jobs = -1)\n",
    "rf3_random.fit(train_features3, train_labels3)\n",
    "rf3_random.best_params_"
   ]
  },
  {
   "cell_type": "code",
   "execution_count": 190,
   "metadata": {},
   "outputs": [
    {
     "name": "stdout",
     "output_type": "stream",
     "text": [
      "Training Accuracy\n",
      "Overall Accuracy: 0.96\n",
      "Precision Score: 0.95\n",
      "Recall Score: 1.00\n",
      "Testing Accuracy\n",
      "Overall Accuracy: 0.60\n",
      "Precision Score: 0.69\n",
      "Recall Score: 0.71\n"
     ]
    }
   ],
   "source": [
    "rf3 = RandomForestClassifier(bootstrap = True,\n",
    "                            max_depth = 15,\n",
    "                            max_features = \"sqrt\",\n",
    "                            min_samples_leaf = 1,\n",
    "                            min_samples_split = 5,\n",
    "                            n_estimators = 1800,\n",
    "                            random_state = 23456)\n",
    "rf3.fit(train_features3, train_labels3);\n",
    "overall_accuracy_train = sum(rf3.predict(train_features3) == train_labels3)/len(train_labels3)\n",
    "precision_accuracy_train = precision_score(train_labels3, rf3.predict(train_features3))\n",
    "recall_accuracy_train = recall_score(train_labels3, rf3.predict(train_features3))\n",
    "overall_accuracy_test = sum(rf3.predict(test_features3) == test_labels3)/len(test_labels3)\n",
    "precision_accuracy_test = precision_score(test_labels3, rf3.predict(test_features3))\n",
    "recall_accuracy_test = recall_score(test_labels3, rf3.predict(test_features3))\n",
    "\n",
    "print(\"Training Accuracy\")\n",
    "print(\"Overall Accuracy: {0:0.2f}\". format( \n",
    "        overall_accuracy_train))\n",
    "print('Precision Score: {0:0.2f}'.format(\n",
    "      precision_accuracy_train))\n",
    "print('Recall Score: {0:0.2f}'.format(\n",
    "      recall_accuracy_train))\n",
    "print(\"Testing Accuracy\")\n",
    "print(\"Overall Accuracy: {0:0.2f}\". format( \n",
    "        overall_accuracy_test))\n",
    "print('Precision Score: {0:0.2f}'.format(\n",
    "      precision_accuracy_test))\n",
    "print('Recall Score: {0:0.2f}'.format(\n",
    "      recall_accuracy_test))"
   ]
  },
  {
   "cell_type": "code",
   "execution_count": 157,
   "metadata": {},
   "outputs": [
    {
     "name": "stdout",
     "output_type": "stream",
     "text": [
      "Fitting 5 folds for each of 500 candidates, totalling 2500 fits\n"
     ]
    },
    {
     "name": "stderr",
     "output_type": "stream",
     "text": [
      "[Parallel(n_jobs=-1)]: Done  33 tasks      | elapsed:   26.6s\n",
      "[Parallel(n_jobs=-1)]: Done 154 tasks      | elapsed:  1.8min\n",
      "[Parallel(n_jobs=-1)]: Done 357 tasks      | elapsed:  4.1min\n",
      "[Parallel(n_jobs=-1)]: Done 640 tasks      | elapsed:  7.0min\n",
      "[Parallel(n_jobs=-1)]: Done 1005 tasks      | elapsed: 10.3min\n",
      "[Parallel(n_jobs=-1)]: Done 1450 tasks      | elapsed: 14.6min\n",
      "[Parallel(n_jobs=-1)]: Done 1977 tasks      | elapsed: 19.5min\n",
      "[Parallel(n_jobs=-1)]: Done 2500 out of 2500 | elapsed: 24.3min finished\n"
     ]
    },
    {
     "data": {
      "text/plain": [
       "{'bootstrap': True,\n",
       " 'max_depth': 21,\n",
       " 'max_features': 'auto',\n",
       " 'min_samples_leaf': 1,\n",
       " 'min_samples_split': 5,\n",
       " 'n_estimators': 600}"
      ]
     },
     "execution_count": 157,
     "metadata": {},
     "output_type": "execute_result"
    }
   ],
   "source": [
    "rf4 = RandomForestClassifier()\n",
    "rf4_random = RandomizedSearchCV(estimator = rf4, param_distributions = random_grid,\n",
    "                              n_iter = 500, cv = 5, verbose = 2, random_state = 23456,\n",
    "                              n_jobs = -1)\n",
    "rf4_random.fit(train_features4, train_labels4)\n",
    "rf4_random.best_params_"
   ]
  },
  {
   "cell_type": "code",
   "execution_count": 188,
   "metadata": {},
   "outputs": [
    {
     "name": "stdout",
     "output_type": "stream",
     "text": [
      "Training Accuracy\n",
      "Overall Accuracy: 0.96\n",
      "Precision Score: 0.96\n",
      "Recall Score: 0.99\n",
      "Testing Accuracy\n",
      "Overall Accuracy: 0.60\n",
      "Precision Score: 0.69\n",
      "Recall Score: 0.71\n"
     ]
    }
   ],
   "source": [
    "rf4 = RandomForestClassifier(bootstrap = True,\n",
    "                            max_depth = 21,\n",
    "                            max_features = \"auto\",\n",
    "                            min_samples_leaf = 1,\n",
    "                            min_samples_split = 5,\n",
    "                            n_estimators = 600,\n",
    "                            random_state = 23456)\n",
    "rf4.fit(train_features4, train_labels4);\n",
    "overall_accuracy_train = sum(rf4.predict(train_features4) == train_labels4)/len(train_labels4)\n",
    "precision_accuracy_train = precision_score(train_labels4, rf4.predict(train_features4))\n",
    "recall_accuracy_train = recall_score(train_labels4, rf4.predict(train_features4))\n",
    "overall_accuracy = sum(rf4.predict(test_features4) == test_labels4)/len(test_labels4)\n",
    "precision_accuracy = precision_score(test_labels4, rf4.predict(test_features4))\n",
    "recall_accuracy = recall_score(test_labels4, rf4.predict(test_features4))\n",
    "\n",
    "print(\"Training Accuracy\")\n",
    "print(\"Overall Accuracy: {0:0.2f}\". format( \n",
    "        overall_accuracy_train))\n",
    "print('Precision Score: {0:0.2f}'.format(\n",
    "      precision_accuracy_train))\n",
    "print('Recall Score: {0:0.2f}'.format(\n",
    "      recall_accuracy_train))\n",
    "print(\"Testing Accuracy\")\n",
    "print(\"Overall Accuracy: {0:0.2f}\". format( \n",
    "        overall_accuracy_test))\n",
    "print('Precision Score: {0:0.2f}'.format(\n",
    "      precision_accuracy_test))\n",
    "print('Recall Score: {0:0.2f}'.format(\n",
    "      recall_accuracy_test))"
   ]
  },
  {
   "cell_type": "markdown",
   "metadata": {},
   "source": [
    "#### Grid Search CV"
   ]
  },
  {
   "cell_type": "code",
   "execution_count": 191,
   "metadata": {},
   "outputs": [
    {
     "name": "stdout",
     "output_type": "stream",
     "text": [
      "Fitting 5 folds for each of 1296 candidates, totalling 6480 fits\n"
     ]
    },
    {
     "name": "stderr",
     "output_type": "stream",
     "text": [
      "[Parallel(n_jobs=-1)]: Done  33 tasks      | elapsed:    8.3s\n",
      "[Parallel(n_jobs=-1)]: Done 154 tasks      | elapsed:   31.4s\n",
      "[Parallel(n_jobs=-1)]: Done 357 tasks      | elapsed:  1.2min\n",
      "[Parallel(n_jobs=-1)]: Done 640 tasks      | elapsed:  2.1min\n",
      "[Parallel(n_jobs=-1)]: Done 1005 tasks      | elapsed:  3.2min\n",
      "[Parallel(n_jobs=-1)]: Done 1450 tasks      | elapsed:  4.7min\n",
      "[Parallel(n_jobs=-1)]: Done 1977 tasks      | elapsed:  6.5min\n",
      "[Parallel(n_jobs=-1)]: Done 2584 tasks      | elapsed:  8.6min\n",
      "[Parallel(n_jobs=-1)]: Done 3273 tasks      | elapsed: 11.2min\n",
      "[Parallel(n_jobs=-1)]: Done 4042 tasks      | elapsed: 14.1min\n",
      "[Parallel(n_jobs=-1)]: Done 4893 tasks      | elapsed: 17.2min\n",
      "[Parallel(n_jobs=-1)]: Done 5824 tasks      | elapsed: 20.8min\n",
      "[Parallel(n_jobs=-1)]: Done 6480 out of 6480 | elapsed: 23.2min finished\n"
     ]
    },
    {
     "data": {
      "text/plain": [
       "{'bootstrap': False,\n",
       " 'max_depth': 1,\n",
       " 'max_features': 'sqrt',\n",
       " 'min_samples_leaf': 1,\n",
       " 'min_samples_split': 4,\n",
       " 'n_estimators': 100}"
      ]
     },
     "execution_count": 191,
     "metadata": {},
     "output_type": "execute_result"
    }
   ],
   "source": [
    "n_estimators = [100, 200, 300, 400, 500, 1000]\n",
    "max_features = [\"sqrt\"]\n",
    "max_depth = [1, 2, 3, 4, 5, 10] \n",
    "min_samples_leaf = [1, 2, 3, 4, 5, 10]\n",
    "min_samples_split =  [4, 5, 6, 7, 8, 10]\n",
    "from sklearn.model_selection import GridSearchCV\n",
    "param_grid2 = {'n_estimators': n_estimators,\n",
    "               'max_features': max_features,\n",
    "               'max_depth': max_depth,\n",
    "               'min_samples_split': min_samples_split,\n",
    "               'min_samples_leaf': min_samples_leaf,\n",
    "               'bootstrap': [False]}\n",
    "rf2 = RandomForestClassifier()\n",
    "grid_search2 = GridSearchCV(estimator = rf2, param_grid = param_grid2, cv = 5,\n",
    "                          n_jobs = -1, verbose = 2) \n",
    "grid_search2.fit(train_features2, train_labels2)\n",
    "grid_search2.best_params_"
   ]
  },
  {
   "cell_type": "code",
   "execution_count": 194,
   "metadata": {},
   "outputs": [
    {
     "name": "stdout",
     "output_type": "stream",
     "text": [
      "Training Accuracy\n",
      "Overall Accuracy: 0.70\n",
      "Precision Score: 0.70\n",
      "Recall Score: 1.00\n",
      "Testing Accuracy\n",
      "Overall Accuracy: 0.64\n",
      "Precision Score: 0.64\n",
      "Recall Score: 1.00\n"
     ]
    }
   ],
   "source": [
    "rf2 = RandomForestClassifier(bootstrap = False,\n",
    "                            max_depth = 1,\n",
    "                            max_features = \"sqrt\",\n",
    "                            min_samples_leaf = 1,\n",
    "                            min_samples_split = 4,\n",
    "                            n_estimators = 100,\n",
    "                            random_state = 23456)\n",
    "rf2.fit(train_features2, train_labels2);\n",
    "overall_accuracy_train = sum(rf2.predict(train_features2) == train_labels2)/len(train_labels2)\n",
    "precision_accuracy_train = precision_score(train_labels2, rf2.predict(train_features2))\n",
    "recall_accuracy_train = recall_score(train_labels2, rf2.predict(train_features2))\n",
    "overall_accuracy_test = sum(rf2.predict(test_features2) == test_labels2)/len(test_labels2)\n",
    "precision_accuracy_test = precision_score(test_labels2, rf2.predict(test_features2))\n",
    "recall_accuracy_test = recall_score(test_labels2, rf2.predict(test_features2))\n",
    "\n",
    "print(\"Training Accuracy\")\n",
    "print(\"Overall Accuracy: {0:0.2f}\". format( \n",
    "        overall_accuracy_train))\n",
    "print('Precision Score: {0:0.2f}'.format(\n",
    "      precision_accuracy_train))\n",
    "print('Recall Score: {0:0.2f}'.format(\n",
    "      recall_accuracy_train))\n",
    "print(\"Testing Accuracy\")\n",
    "print(\"Overall Accuracy: {0:0.2f}\". format( \n",
    "        overall_accuracy_test))\n",
    "print('Precision Score: {0:0.2f}'.format(\n",
    "      precision_accuracy_test))\n",
    "print('Recall Score: {0:0.2f}'.format(\n",
    "      recall_accuracy_test))"
   ]
  },
  {
   "cell_type": "code",
   "execution_count": 192,
   "metadata": {},
   "outputs": [
    {
     "name": "stdout",
     "output_type": "stream",
     "text": [
      "Fitting 5 folds for each of 1728 candidates, totalling 8640 fits\n"
     ]
    },
    {
     "name": "stderr",
     "output_type": "stream",
     "text": [
      "[Parallel(n_jobs=-1)]: Done  33 tasks      | elapsed:   35.9s\n",
      "[Parallel(n_jobs=-1)]: Done 154 tasks      | elapsed:  2.6min\n",
      "[Parallel(n_jobs=-1)]: Done 357 tasks      | elapsed:  5.8min\n",
      "[Parallel(n_jobs=-1)]: Done 640 tasks      | elapsed:  9.9min\n",
      "[Parallel(n_jobs=-1)]: Done 1005 tasks      | elapsed: 15.4min\n",
      "[Parallel(n_jobs=-1)]: Done 1450 tasks      | elapsed: 83.1min\n",
      "[Parallel(n_jobs=-1)]: Done 1977 tasks      | elapsed: 93.3min\n",
      "[Parallel(n_jobs=-1)]: Done 2584 tasks      | elapsed: 101.7min\n",
      "[Parallel(n_jobs=-1)]: Done 3273 tasks      | elapsed: 111.3min\n",
      "[Parallel(n_jobs=-1)]: Done 4042 tasks      | elapsed: 122.3min\n",
      "[Parallel(n_jobs=-1)]: Done 4893 tasks      | elapsed: 140.1min\n",
      "[Parallel(n_jobs=-1)]: Done 5824 tasks      | elapsed: 165.0min\n",
      "[Parallel(n_jobs=-1)]: Done 6837 tasks      | elapsed: 186.0min\n",
      "[Parallel(n_jobs=-1)]: Done 7930 tasks      | elapsed: 203.1min\n",
      "[Parallel(n_jobs=-1)]: Done 8640 out of 8640 | elapsed: 213.4min finished\n"
     ]
    },
    {
     "data": {
      "text/plain": [
       "{'bootstrap': True,\n",
       " 'max_depth': 12,\n",
       " 'max_features': 'sqrt',\n",
       " 'min_samples_leaf': 1,\n",
       " 'min_samples_split': 10,\n",
       " 'n_estimators': 1800}"
      ]
     },
     "execution_count": 192,
     "metadata": {},
     "output_type": "execute_result"
    }
   ],
   "source": [
    "n_estimators = [1500, 1600, 1700, 1800, 1900, 2000]\n",
    "max_features = [\"sqrt\"]\n",
    "max_depth = [12, 13, 14, 15, 16, 17, 18, 20] \n",
    "min_samples_leaf = [1, 2, 3, 4, 5, 10]\n",
    "min_samples_split =  [3, 4, 5, 6, 7, 10]\n",
    "param_grid3 = {'n_estimators': n_estimators,\n",
    "               'max_features': max_features,\n",
    "               'max_depth': max_depth,\n",
    "               'min_samples_split': min_samples_split,\n",
    "               'min_samples_leaf': min_samples_leaf,\n",
    "               'bootstrap': [True]}\n",
    "rf3 = RandomForestClassifier()\n",
    "grid_search3 = GridSearchCV(estimator = rf3, param_grid = param_grid3, cv = 5,\n",
    "                          n_jobs = -1, verbose = 2) \n",
    "grid_search3.fit(train_features3, train_labels3)\n",
    "grid_search3.best_params_"
   ]
  },
  {
   "cell_type": "code",
   "execution_count": 195,
   "metadata": {},
   "outputs": [
    {
     "name": "stdout",
     "output_type": "stream",
     "text": [
      "Training Accuracy\n",
      "Overall Accuracy: 0.90\n",
      "Precision Score: 0.88\n",
      "Recall Score: 0.98\n",
      "Testing Accuracy\n",
      "Overall Accuracy: 0.58\n",
      "Precision Score: 0.67\n",
      "Recall Score: 0.71\n"
     ]
    }
   ],
   "source": [
    "rf3 = RandomForestClassifier(bootstrap = True,\n",
    "                            max_depth = 12,\n",
    "                            max_features = \"sqrt\",\n",
    "                            min_samples_leaf = 1,\n",
    "                            min_samples_split = 10,\n",
    "                            n_estimators = 1800,\n",
    "                            random_state = 23456)\n",
    "rf3.fit(train_features3, train_labels3);\n",
    "overall_accuracy_train = sum(rf3.predict(train_features3) == train_labels3)/len(train_labels3)\n",
    "precision_accuracy_train = precision_score(train_labels3, rf3.predict(train_features3))\n",
    "recall_accuracy_train = recall_score(train_labels3, rf3.predict(train_features3))\n",
    "overall_accuracy_test = sum(rf3.predict(test_features3) == test_labels3)/len(test_labels3)\n",
    "precision_accuracy_test = precision_score(test_labels3, rf3.predict(test_features3))\n",
    "recall_accuracy_test = recall_score(test_labels3, rf3.predict(test_features3))\n",
    "\n",
    "print(\"Training Accuracy\")\n",
    "print(\"Overall Accuracy: {0:0.2f}\". format( \n",
    "        overall_accuracy_train))\n",
    "print('Precision Score: {0:0.2f}'.format(\n",
    "      precision_accuracy_train))\n",
    "print('Recall Score: {0:0.2f}'.format(\n",
    "      recall_accuracy_train))\n",
    "print(\"Testing Accuracy\")\n",
    "print(\"Overall Accuracy: {0:0.2f}\". format( \n",
    "        overall_accuracy_test))\n",
    "print('Precision Score: {0:0.2f}'.format(\n",
    "      precision_accuracy_test))\n",
    "print('Recall Score: {0:0.2f}'.format(\n",
    "      recall_accuracy_test))"
   ]
  },
  {
   "cell_type": "code",
   "execution_count": 193,
   "metadata": {
    "scrolled": true
   },
   "outputs": [
    {
     "name": "stdout",
     "output_type": "stream",
     "text": [
      "Fitting 5 folds for each of 960 candidates, totalling 4800 fits\n"
     ]
    },
    {
     "name": "stderr",
     "output_type": "stream",
     "text": [
      "[Parallel(n_jobs=-1)]: Done  33 tasks      | elapsed:   13.2s\n",
      "[Parallel(n_jobs=-1)]: Done 154 tasks      | elapsed:   54.6s\n",
      "[Parallel(n_jobs=-1)]: Done 357 tasks      | elapsed:  2.1min\n",
      "[Parallel(n_jobs=-1)]: Done 640 tasks      | elapsed:  3.6min\n",
      "[Parallel(n_jobs=-1)]: Done 1005 tasks      | elapsed:  5.7min\n",
      "[Parallel(n_jobs=-1)]: Done 1450 tasks      | elapsed:  8.2min\n",
      "[Parallel(n_jobs=-1)]: Done 1977 tasks      | elapsed: 11.5min\n",
      "[Parallel(n_jobs=-1)]: Done 2584 tasks      | elapsed: 152.8min\n",
      "[Parallel(n_jobs=-1)]: Done 3273 tasks      | elapsed: 156.3min\n",
      "[Parallel(n_jobs=-1)]: Done 4042 tasks      | elapsed: 160.7min\n",
      "[Parallel(n_jobs=-1)]: Done 4800 out of 4800 | elapsed: 164.9min finished\n"
     ]
    },
    {
     "data": {
      "text/plain": [
       "{'bootstrap': True,\n",
       " 'max_depth': 20,\n",
       " 'max_features': 'auto',\n",
       " 'min_samples_leaf': 2,\n",
       " 'min_samples_split': 3,\n",
       " 'n_estimators': 600}"
      ]
     },
     "execution_count": 193,
     "metadata": {},
     "output_type": "execute_result"
    }
   ],
   "source": [
    "n_estimators = [400, 500, 600, 700, 800, 1000]\n",
    "max_features = [\"auto\"]\n",
    "max_depth = [15, 18, 19, 20, 21, 22, 23, 25] \n",
    "min_samples_leaf = [1, 2, 3, 5]\n",
    "min_samples_split =  [3, 4, 5, 6, 8]\n",
    "param_grid4 = {'n_estimators': n_estimators,\n",
    "               'max_features': max_features,\n",
    "               'max_depth': max_depth,\n",
    "               'min_samples_split': min_samples_split,\n",
    "               'min_samples_leaf': min_samples_leaf,\n",
    "               'bootstrap': [True]}\n",
    "rf4 = RandomForestClassifier()\n",
    "grid_search4 = GridSearchCV(estimator = rf4, param_grid = param_grid4, cv = 5,\n",
    "                          n_jobs = -1, verbose = 2) \n",
    "grid_search4.fit(train_features4, train_labels4)\n",
    "grid_search4.best_params_"
   ]
  },
  {
   "cell_type": "code",
   "execution_count": 196,
   "metadata": {},
   "outputs": [
    {
     "name": "stdout",
     "output_type": "stream",
     "text": [
      "Training Accuracy\n",
      "Overall Accuracy: 0.95\n",
      "Precision Score: 0.94\n",
      "Recall Score: 0.99\n",
      "Testing Accuracy\n",
      "Overall Accuracy: 0.58\n",
      "Precision Score: 0.67\n",
      "Recall Score: 0.71\n"
     ]
    }
   ],
   "source": [
    "rf4 = RandomForestClassifier(bootstrap = True,\n",
    "                            max_depth = 20,\n",
    "                            max_features = \"auto\",\n",
    "                            min_samples_leaf = 2,\n",
    "                            min_samples_split = 3,\n",
    "                            n_estimators = 600,\n",
    "                            random_state = 23456)\n",
    "rf4.fit(train_features4, train_labels4);\n",
    "overall_accuracy_train = sum(rf4.predict(train_features4) == train_labels4)/len(train_labels4)\n",
    "precision_accuracy_train = precision_score(train_labels4, rf4.predict(train_features4))\n",
    "recall_accuracy_train = recall_score(train_labels4, rf4.predict(train_features4))\n",
    "overall_accuracy = sum(rf4.predict(test_features4) == test_labels4)/len(test_labels4)\n",
    "precision_accuracy = precision_score(test_labels4, rf4.predict(test_features4))\n",
    "recall_accuracy = recall_score(test_labels4, rf4.predict(test_features4))\n",
    "\n",
    "print(\"Training Accuracy\")\n",
    "print(\"Overall Accuracy: {0:0.2f}\". format( \n",
    "        overall_accuracy_train))\n",
    "print('Precision Score: {0:0.2f}'.format(\n",
    "      precision_accuracy_train))\n",
    "print('Recall Score: {0:0.2f}'.format(\n",
    "      recall_accuracy_train))\n",
    "print(\"Testing Accuracy\")\n",
    "print(\"Overall Accuracy: {0:0.2f}\". format( \n",
    "        overall_accuracy_test))\n",
    "print('Precision Score: {0:0.2f}'.format(\n",
    "      precision_accuracy_test))\n",
    "print('Recall Score: {0:0.2f}'.format(\n",
    "      recall_accuracy_test))"
   ]
  },
  {
   "cell_type": "markdown",
   "metadata": {},
   "source": [
    "#### Final RF model with best parameters"
   ]
  },
  {
   "cell_type": "code",
   "execution_count": 197,
   "metadata": {
    "scrolled": true
   },
   "outputs": [
    {
     "name": "stdout",
     "output_type": "stream",
     "text": [
      "Variable: last_donation_weeks  Importance: 0.31\n",
      "Variable: size_10/50           Importance: 0.2\n",
      "Variable: last_donation        Importance: 0.16\n",
      "Variable: size_5000.0          Importance: 0.12\n",
      "Variable: size_1000.0          Importance: 0.11\n",
      "Variable: state_Underdeveloped Importance: 0.05\n",
      "Variable: type_applied         Importance: 0.02\n",
      "Variable: fin_bus              Importance: 0.02\n",
      "Variable: size_200/500         Importance: 0.01\n",
      "Variable: size_10000.0         Importance: 0.0\n",
      "Variable: size_10001.0         Importance: 0.0\n",
      "Variable: state_California     Importance: 0.0\n",
      "Variable: state_New York       Importance: 0.0\n",
      "Variable: type_soft            Importance: 0.0\n",
      "Variable: food_other_sale      Importance: 0.0\n",
      "Variable: comm_edu/health_web  Importance: 0.0\n"
     ]
    }
   ],
   "source": [
    "importances = list(rf2.feature_importances_)\n",
    "feature2_importances = [(feature, round(importance, 2)) for feature, importance in zip(feature2_list, importances)]\n",
    "feature2_importances = sorted(feature2_importances, key = lambda x: x[1], reverse = True)\n",
    "[print('Variable: {:20} Importance: {}'.format(*pair)) for pair in feature2_importances];"
   ]
  },
  {
   "cell_type": "code",
   "execution_count": 198,
   "metadata": {},
   "outputs": [],
   "source": [
    "preds = rf2.predict(test_features2)\n",
    "predicted_one_time = [i for i in range(len(preds)) if preds[i] == 1]\n",
    "predicted_multi_time = [i for i in range(len(preds)) if preds[i] == 0]\n",
    "true_one_time = [i for i in range(len(test_labels)) if np.array(test_labels)[i] == 1]\n",
    "true_multi_time = [i for i in range(len(test_labels)) if np.array(test_labels)[i] == 0]\n",
    "true_positives = len(np.intersect1d(predicted_one_time, true_one_time))\n",
    "false_positives = len(np.intersect1d(predicted_one_time, true_multi_time))\n",
    "true_negatives = len(np.intersect1d(predicted_multi_time, true_multi_time))\n",
    "false_negatives = len(np.intersect1d(predicted_multi_time, true_one_time))"
   ]
  },
  {
   "cell_type": "code",
   "execution_count": 199,
   "metadata": {
    "scrolled": true
   },
   "outputs": [
    {
     "name": "stdout",
     "output_type": "stream",
     "text": [
      "Variable: last_donation_weeks  Importance: 0.46\n",
      "Variable: last_donation        Importance: 0.19\n",
      "Variable: state_Underdeveloped Importance: 0.06\n",
      "Variable: size_10/50           Importance: 0.06\n",
      "Variable: comm_edu/health_web  Importance: 0.03\n",
      "Variable: size_200/500         Importance: 0.03\n",
      "Variable: size_1000.0          Importance: 0.02\n",
      "Variable: size_5000.0          Importance: 0.02\n",
      "Variable: state_California     Importance: 0.02\n",
      "Variable: state_New York       Importance: 0.02\n",
      "Variable: type_applied         Importance: 0.02\n",
      "Variable: food_other_sale      Importance: 0.02\n",
      "Variable: fin_bus              Importance: 0.02\n",
      "Variable: size_10000.0         Importance: 0.01\n",
      "Variable: size_10001.0         Importance: 0.01\n",
      "Variable: type_soft            Importance: 0.01\n"
     ]
    }
   ],
   "source": [
    "importances = list(rf3.feature_importances_)\n",
    "feature3_importances = [(feature, round(importance, 2)) for feature, importance in zip(feature3_list, importances)]\n",
    "feature3_importances = sorted(feature3_importances, key = lambda x: x[1], reverse = True)\n",
    "[print('Variable: {:20} Importance: {}'.format(*pair)) for pair in feature3_importances];"
   ]
  },
  {
   "cell_type": "code",
   "execution_count": 200,
   "metadata": {},
   "outputs": [
    {
     "name": "stdout",
     "output_type": "stream",
     "text": [
      "Variable: last_donation_weeks  Importance: 0.51\n",
      "Variable: last_donation        Importance: 0.21\n",
      "Variable: state_New York       Importance: 0.04\n",
      "Variable: size_200/500         Importance: 0.04\n",
      "Variable: state_California     Importance: 0.03\n",
      "Variable: type_applied         Importance: 0.03\n",
      "Variable: food_other_sale      Importance: 0.03\n",
      "Variable: size_10/50           Importance: 0.03\n",
      "Variable: comm_edu/health_web  Importance: 0.02\n",
      "Variable: fin_bus              Importance: 0.02\n",
      "Variable: size_1000.0          Importance: 0.01\n",
      "Variable: size_5000.0          Importance: 0.01\n",
      "Variable: state_Underdeveloped Importance: 0.01\n",
      "Variable: type_soft            Importance: 0.01\n",
      "Variable: size_10000.0         Importance: 0.0\n",
      "Variable: size_10001.0         Importance: 0.0\n"
     ]
    }
   ],
   "source": [
    "importances = list(rf4.feature_importances_)\n",
    "feature4_importances = [(feature, round(importance, 2)) for feature, importance in zip(feature4_list, importances)]\n",
    "feature4_importances = sorted(feature4_importances, key = lambda x: x[1], reverse = True)\n",
    "[print('Variable: {:20} Importance: {}'.format(*pair)) for pair in feature4_importances];\n"
   ]
  },
  {
   "cell_type": "markdown",
   "metadata": {},
   "source": [
    "# Predicting how much food a company will donate"
   ]
  },
  {
   "cell_type": "code",
   "execution_count": 203,
   "metadata": {},
   "outputs": [],
   "source": [
    "company_full = pd.read_csv(\"company_with_donation.csv\")\n",
    "#company_full[\"multi_donor\"] = 1 - company_full[\"one_donation\"]\n",
    "#company_full = company_full.drop(\"one_donation\", axis = 1)"
   ]
  },
  {
   "cell_type": "code",
   "execution_count": 204,
   "metadata": {},
   "outputs": [
    {
     "data": {
      "text/plain": [
       "Index(['company', 'avg_donation', 'last_donation', 'last_donation_weeks',\n",
       "       'min_donation', 'multi_donor', 'num_donation', 'num_weeks',\n",
       "       'popular_month_frac', 'popular_weekday_frac', 'week_donation',\n",
       "       'top_contributor', 'popular_month_1', 'popular_month_10',\n",
       "       'popular_month_11', 'popular_month_12', 'popular_month_2',\n",
       "       'popular_month_3', 'popular_month_4', 'popular_month_5',\n",
       "       'popular_month_6', 'popular_month_7', 'popular_month_8',\n",
       "       'popular_month_9', 'popular_weekday_Friday', 'popular_weekday_Monday',\n",
       "       'popular_weekday_Thursday', 'popular_weekday_Tuesday',\n",
       "       'popular_weekday_Wednesday', 'size_10.0', 'size_1000.0', 'size_10000.0',\n",
       "       'size_10001.0', 'size_200.0', 'size_50.0', 'size_500.0', 'size_5000.0',\n",
       "       'start_month_1', 'start_month_10', 'start_month_11', 'start_month_12',\n",
       "       'start_month_2', 'start_month_3', 'start_month_4', 'start_month_5',\n",
       "       'start_month_6', 'start_month_7', 'start_month_8', 'start_month_9',\n",
       "       'state_California', 'state_New York', 'state_underdeveloped',\n",
       "       'type_applied', 'type_bus', 'type_comm', 'type_edu-health', 'type_fin',\n",
       "       'type_food', 'type_other', 'type_sale', 'type_soft', 'type_web'],\n",
       "      dtype='object')"
      ]
     },
     "execution_count": 204,
     "metadata": {},
     "output_type": "execute_result"
    }
   ],
   "source": [
    "company_full.columns"
   ]
  },
  {
   "cell_type": "code",
   "execution_count": 209,
   "metadata": {},
   "outputs": [],
   "source": [
    "features = company_full.drop([\"avg_donation\", \"company\"], axis = 1) \n",
    "y = company_full[\"avg_donation\"]\n",
    "#features = pd.get_dummies(features)\n",
    "feature_list = list(features.columns)\n",
    "features = np.array(features)\n",
    "train_features, test_features, train_labels, test_labels = train_test_split(features, y, test_size = 0.25, random_state = 23156)"
   ]
  },
  {
   "cell_type": "code",
   "execution_count": 226,
   "metadata": {},
   "outputs": [
    {
     "data": {
      "text/plain": [
       "Text(0,0.5,'explained_variance_')"
      ]
     },
     "execution_count": 226,
     "metadata": {},
     "output_type": "execute_result"
    },
    {
     "data": {
      "image/png": "[encoded data removed]",
      "text/plain": [
       "<matplotlib.figure.Figure at 0x20114685f28>"
      ]
     },
     "metadata": {},
     "output_type": "display_data"
    }
   ],
   "source": [
    "pca = PCA()\n",
    "pca.fit(features)\n",
    "plt.figure(1, figsize=(10, 8))\n",
    "plt.clf()\n",
    "plt.axes([.2, .2, .7, .7])\n",
    "plt.plot(pca.explained_variance_ratio_[0:5], linewidth=2)\n",
    "plt.axis('tight')\n",
    "plt.xlabel('n_components')\n",
    "plt.ylabel('explained_variance_')\n"
   ]
  },
  {
   "cell_type": "markdown",
   "metadata": {},
   "source": [
    "Keep the first 3 principal components"
   ]
  },
  {
   "cell_type": "code",
   "execution_count": 222,
   "metadata": {},
   "outputs": [
    {
     "data": {
      "text/plain": [
       "array([  6.80456578e-01,   2.46203923e-01,   4.41414181e-02,\n",
       "         2.44996598e-02,   3.51006282e-03,   1.12987574e-03,\n",
       "         6.04100778e-06,   3.90741322e-06,   3.72977874e-06,\n",
       "         3.11875464e-06,   2.69275036e-06,   2.42324062e-06,\n",
       "         2.32976911e-06,   2.19032406e-06,   2.01740750e-06,\n",
       "         1.79984972e-06,   1.76658217e-06,   1.68196914e-06,\n",
       "         1.59628558e-06,   1.55156696e-06,   1.47093296e-06,\n",
       "         1.45209246e-06,   1.32141655e-06,   1.28885917e-06,\n",
       "         1.22984361e-06,   1.17790833e-06,   1.07799473e-06,\n",
       "         9.62731242e-07,   9.17599813e-07,   8.89259456e-07,\n",
       "         8.53123724e-07,   8.15740018e-07,   7.91489593e-07,\n",
       "         7.03585414e-07,   6.63473591e-07,   6.24901912e-07,\n",
       "         5.85975294e-07,   5.43422056e-07,   5.21580572e-07,\n",
       "         4.28735951e-07,   4.07639461e-07,   3.92992169e-07,\n",
       "         3.59863423e-07,   3.35997710e-07,   3.16441509e-07,\n",
       "         2.93157612e-07,   2.63497769e-07,   2.42977734e-07,\n",
       "         2.02171923e-07,   1.76618530e-07,   1.35978821e-07,\n",
       "         1.01211128e-07,   8.28091242e-08,   3.92937851e-09,\n",
       "         4.26110658e-33,   4.26110658e-33,   4.26110658e-33,\n",
       "         4.26110658e-33,   4.26110658e-33,   4.26110657e-33])"
      ]
     },
     "execution_count": 222,
     "metadata": {},
     "output_type": "execute_result"
    }
   ],
   "source": [
    "pca.explained_variance_ratio_"
   ]
  },
  {
   "cell_type": "code",
   "execution_count": 227,
   "metadata": {},
   "outputs": [
    {
     "data": {
      "text/plain": [
       "array([[  7.76556201e-01,  -1.82607911e-03,   6.06966648e-01, ...,\n",
       "          5.15287524e-05,  -2.91337913e-05,  -5.84625532e-05],\n",
       "       [  6.80096062e-02,  -2.92461476e-02,  -3.40200556e-01, ...,\n",
       "         -9.44528898e-05,   7.66473102e-06,  -4.54470958e-05],\n",
       "       [  5.39759871e-01,   1.21544369e-03,  -6.47654895e-01, ...,\n",
       "          1.00906778e-04,   8.53864978e-05,  -1.95364118e-05],\n",
       "       ..., \n",
       "       [  0.00000000e+00,  -4.68319918e-18,   1.31596424e-19, ...,\n",
       "         -1.39086147e-01,  -1.39086147e-01,  -1.39086147e-01],\n",
       "       [  0.00000000e+00,   5.96733055e-18,  -1.39692294e-19, ...,\n",
       "          1.93026632e-01,   1.93026632e-01,   1.93026632e-01],\n",
       "       [  0.00000000e+00,  -4.11537009e-17,  -2.40821866e-18, ...,\n",
       "         -3.30242888e-04,  -3.30242888e-04,  -3.30242888e-04]])"
      ]
     },
     "execution_count": 227,
     "metadata": {},
     "output_type": "execute_result"
    }
   ],
   "source": [
    "pca.components_"
   ]
  },
  {
   "cell_type": "code",
   "execution_count": null,
   "metadata": {},
   "outputs": [],
   "source": []
  }
 ],
 "metadata": {
  "kernelspec": {
   "display_name": "Python 3",
   "language": "python",
   "name": "python3"
  },
  "language_info": {
   "codemirror_mode": {
    "name": "ipython",
    "version": 3
   },
   "file_extension": ".py",
   "mimetype": "text/x-python",
   "name": "python",
   "nbconvert_exporter": "python",
   "pygments_lexer": "ipython3",
   "version": "3.6.4"
  }
 },
 "nbformat": 4,
 "nbformat_minor": 2
}
