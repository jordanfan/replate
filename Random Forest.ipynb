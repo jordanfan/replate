{
 "cells": [
  {
   "cell_type": "code",
   "execution_count": 265,
   "metadata": {},
   "outputs": [],
   "source": [
    "import pandas as pd \n",
    "import numpy as np \n",
    "from pandas.api.types import CategoricalDtype\n",
    "from sklearn.model_selection import train_test_split\n",
    "from sklearn.ensemble import RandomForestRegressor\n",
    "from sklearn.ensemble import RandomForestClassifier\n",
    "from sklearn.datasets import make_classification\n",
    "from sklearn.tree import export_graphviz \n",
    "from sklearn.model_selection import KFold\n",
    "import pydot\n",
    "#cloned into https://github.com/erocarrera/pydot\n",
    "#from pydot import dot_parser\n",
    "from sklearn.model_selection import RandomizedSearchCV\n",
    "from sklearn.model_selection import GridSearchCV\n",
    "from scipy.stats import norm\n",
    "from sklearn.metrics import precision_score, recall_score\n",
    "import seaborn as sns\n",
    "import matplotlib.pyplot as plt\n",
    "from sklearn.decomposition import PCA \n",
    "import random\n",
    "from scipy.stats import ttest_ind\n",
    "from sklearn.metrics import mean_squared_error\n",
    "from sklearn.model_selection import cross_validate\n",
    "from sklearn.metrics import make_scorer\n",
    "mse = make_scorer(mean_squared_error)\n",
    "#import h2o"
   ]
  },
  {
   "cell_type": "markdown",
   "metadata": {},
   "source": [
    "# Which types of companies are multi time donors? "
   ]
  },
  {
   "cell_type": "code",
   "execution_count": 2,
   "metadata": {},
   "outputs": [],
   "source": [
    "company = pd.read_csv(\"company_full_ohe.csv\")\n",
    "company_names = company[\"company\"]\n",
    "#company[\"size\"] = company[\"size\"].astype(\"str\")\n",
    "company = pd.get_dummies(company.drop(\"company\", axis = 1))\n",
    "company[\"company\"] = company_names\n",
    "#company = company.drop(\"company\", axis = 1)\n",
    "company[\"multi_donor\"] = 1 - company[\"one_donation\"]\n",
    "company = company.drop(\"one_donation\", axis = 1)\n",
    "food = pd.read_csv(\"no_isf_outliers\")\n",
    "food2 = pd.read_csv(\"no_ell_outliers\")\n",
    "food3 = pd.read_csv(\"no_outliers\")"
   ]
  },
  {
   "cell_type": "markdown",
   "metadata": {},
   "source": [
    "### Combining company types based on proportion "
   ]
  },
  {
   "cell_type": "code",
   "execution_count": 3,
   "metadata": {},
   "outputs": [],
   "source": [
    "company_food = company[company[\"type_food\"] == 1][\"multi_donor\"]\n",
    "company_other = company[company[\"type_other\"] == 1][\"multi_donor\"]\n",
    "company_comm = company[company[\"type_comm\"] == 1][\"multi_donor\"]\n",
    "company_fin = company[company[\"type_fin\"] == 1][\"multi_donor\"]\n",
    "company_soft = company[company[\"type_soft\"] == 1][\"multi_donor\"]\n",
    "company_bus = company[company[\"type_bus\"] == 1][\"multi_donor\"]\n",
    "company_eh = company[company[\"type_edu-health\"] == 1][\"multi_donor\"]\n",
    "company_applied = company[company[\"type_applied\"] == 1][\"multi_donor\"]\n",
    "company_web = company[company[\"type_web\"] == 1][\"multi_donor\"]\n",
    "company_sale = company[company[\"type_sale\"] == 1][\"multi_donor\"]\n",
    "dists_name = [\"Food\", \"Other\", \"Communication\", \"Finance\", \"Software\", \n",
    "             \"Business\", \"Education-Health\", \"Applied\", \"Web\", \"Sale\"]\n",
    "dists = [company_food, company_other, company_comm, company_fin, company_soft,\n",
    "        company_bus, company_eh, company_applied, company_web, company_sale]"
   ]
  },
  {
   "cell_type": "code",
   "execution_count": 4,
   "metadata": {
    "scrolled": true
   },
   "outputs": [
    {
     "name": "stdout",
     "output_type": "stream",
     "text": [
      "Company Type and Proportions:\n",
      "food 0.62908\n",
      "other 0.647247\n",
      "comm 0.576585\n",
      "fin 0.703916\n",
      "soft 0.812756\n",
      "bus 0.709983\n",
      "edu-health 0.571641\n",
      "applied 0.544972\n",
      "web 0.578507\n",
      "sale 0.647638\n"
     ]
    }
   ],
   "source": [
    "random.seed(12358)\n",
    "props = []\n",
    "for i in range(len(dists)):\n",
    "    dist = [sum(dists[i].sample(1000, replace = True))/1000 for j in range(1000)]\n",
    "    props.append(sum(dist)/1000)\n",
    "props = np.array(props)\n",
    "print(\"Company Type and Proportions:\")\n",
    "for i in range(len(props)):\n",
    "    print(food[\"type\"].unique()[i], props[i])"
   ]
  },
  {
   "cell_type": "code",
   "execution_count": 5,
   "metadata": {
    "scrolled": true
   },
   "outputs": [
    {
     "name": "stdout",
     "output_type": "stream",
     "text": [
      "Food and Other: 0.20\n",
      "Food and Communication: 0.01\n",
      "Food and Finance: 0.00\n",
      "Food and Software: 0.00\n",
      "Food and Business: 0.00\n",
      "Food and Education-Health: 0.00\n",
      "Food and Applied: 0.00\n",
      "Food and Web: 0.01\n",
      "Food and Sale: 0.19\n",
      "Other and Communication: 0.00\n",
      "Other and Finance: 0.00\n",
      "Other and Software: 0.00\n",
      "Other and Business: 0.00\n",
      "Other and Education-Health: 0.00\n",
      "Other and Applied: 0.00\n",
      "Other and Web: 0.00\n",
      "Other and Sale: 0.49\n",
      "Communication and Finance: 0.00\n",
      "Communication and Software: 0.00\n",
      "Communication and Business: 0.00\n",
      "Communication and Education-Health: 0.41\n",
      "Communication and Applied: 0.08\n",
      "Communication and Web: 0.47\n",
      "Communication and Sale: 0.00\n",
      "Finance and Software: 0.00\n",
      "Finance and Business: 0.38\n",
      "Finance and Education-Health: 0.00\n",
      "Finance and Applied: 0.00\n",
      "Finance and Web: 0.00\n",
      "Finance and Sale: 0.00\n",
      "Software and Business: 0.00\n",
      "Software and Education-Health: 0.00\n",
      "Software and Applied: 0.00\n",
      "Software and Web: 0.00\n",
      "Software and Sale: 0.00\n",
      "Business and Education-Health: 0.00\n",
      "Business and Applied: 0.00\n",
      "Business and Web: 0.00\n",
      "Business and Sale: 0.00\n",
      "Education-Health and Applied: 0.11\n",
      "Education-Health and Web: 0.38\n",
      "Education-Health and Sale: 0.00\n",
      "Applied and Web: 0.07\n",
      "Applied and Sale: 0.00\n",
      "Web and Sale: 0.00\n"
     ]
    }
   ],
   "source": [
    "\n",
    "for i in range(1, len(dists)): \n",
    "    n1 = 1000\n",
    "    n2 = 1000\n",
    "    p1 = props[0]\n",
    "    p2 = props[i]\n",
    "    p = (n1 * p1 + n2 * p2)/(n1 + n2)\n",
    "    z = (p1 - p2)/(p * (1 - p) * (1/n1 + 1/n2))**0.5\n",
    "    print(\"Food and \" + dists_name[i] + ': {0:0.2f}'.format(\n",
    "     1 - norm.cdf(abs(z))))\n",
    "for i in range(2, len(dists)): \n",
    "    n1 = 1000\n",
    "    n2 = 1000\n",
    "    p1 = props[1]\n",
    "    p2 = props[i]\n",
    "    p = (n1 * p1 + n2 * p2)/(n1 + n2)\n",
    "    z = (p1 - p2)/(p * (1 - p) * (1/n1 + 1/n2))**0.5\n",
    "    print(\"Other and \" + dists_name[i] + ': {0:0.2f}'.format(\n",
    "     1 - norm.cdf(abs(z))))\n",
    "for i in range(3, len(dists)): \n",
    "    n1 = 1000\n",
    "    n2 = 1000\n",
    "    p1 = props[2]\n",
    "    p2 = props[i]\n",
    "    p = (n1 * p1 + n2 * p2)/(n1 + n2)\n",
    "    z = (p1 - p2)/(p * (1 - p) * (1/n1 + 1/n2))**0.5\n",
    "    print(\"Communication and \" + dists_name[i] + ': {0:0.2f}'.format(\n",
    "      1 - norm.cdf(abs(z))))\n",
    "for i in range(4, len(dists)): \n",
    "    n1 = 1000\n",
    "    n2 = 1000\n",
    "    p1 = props[3]\n",
    "    p2 = props[i]\n",
    "    p = (n1 * p1 + n2 * p2)/(n1 + n2)\n",
    "    z = (p1 - p2)/(p * (1 - p) * (1/n1 + 1/n2))**0.5\n",
    "    print(\"Finance and \" + dists_name[i] + ': {0:0.2f}'.format(\n",
    "      1 - norm.cdf(abs(z))))\n",
    "for i in range(5, len(dists)): \n",
    "    n1 = 1000\n",
    "    n2 = 1000\n",
    "    p1 = props[4]\n",
    "    p2 = props[i]\n",
    "    p = (n1 * p1 + n2 * p2)/(n1 + n2)\n",
    "    z = (p1 - p2)/(p * (1 - p) * (1/n1 + 1/n2))**0.5\n",
    "    print(\"Software and \" + dists_name[i] + ': {0:0.2f}'.format(\n",
    "      1 - norm.cdf(abs(z))))\n",
    "for i in range(6, len(dists)): \n",
    "    n1 = 1000\n",
    "    n2 = 1000\n",
    "    p1 = props[5]\n",
    "    p2 = props[i]\n",
    "    p = (n1 * p1 + n2 * p2)/(n1 + n2)\n",
    "    z = (p1 - p2)/(p * (1 - p) * (1/n1 + 1/n2))**0.5\n",
    "    print(\"Business and \" + dists_name[i] + ': {0:0.2f}'.format(\n",
    "      1 - norm.cdf(abs(z))))\n",
    "for i in range(7, len(dists)): \n",
    "    n1 = 1000\n",
    "    n2 = 1000\n",
    "    p1 = props[6]\n",
    "    p2 = props[i]\n",
    "    p = (n1 * p1 + n2 * p2)/(n1 + n2)\n",
    "    z = (p1 - p2)/(p * (1 - p) * (1/n1 + 1/n2))**0.5\n",
    "    print(\"Education-Health and \" + dists_name[i] + ': {0:0.2f}'.format(\n",
    "      1 - norm.cdf(abs(z))))\n",
    "for i in range(8, len(dists)): \n",
    "    n1 = 1000\n",
    "    n2 = 1000\n",
    "    p1 = props[7]\n",
    "    p2 = props[i]\n",
    "    p = (n1 * p1 + n2 * p2)/(n1 + n2)\n",
    "    z = (p1 - p2)/(p * (1 - p) * (1/n1 + 1/n2))**0.5\n",
    "    print(\"Applied and \" + dists_name[i] + ': {0:0.2f}'.format(\n",
    "      1 - norm.cdf(abs(z))))\n",
    "for i in range(9, len(dists)): \n",
    "    n1 = 1000\n",
    "    n2 = 1000\n",
    "    p1 = props[8]\n",
    "    p2 = props[i]\n",
    "    p = (n1 * p1 + n2 * p2)/(n1 + n2)\n",
    "    z = (p1 - p2)/(p * (1 - p) * (1/n1 + 1/n2))**0.5\n",
    "    print(\"Web and \" + dists_name[i] + ': {0:0.2f}'.format(\n",
    "      1 - norm.cdf(abs(z))))"
   ]
  },
  {
   "cell_type": "code",
   "execution_count": 6,
   "metadata": {
    "scrolled": true
   },
   "outputs": [
    {
     "data": {
      "text/plain": [
       "Index(['size_10.0', 'size_1000.0', 'size_10000.0', 'size_10001.0',\n",
       "       'size_200.0', 'size_50.0', 'size_500.0', 'size_5000.0',\n",
       "       'state_California', 'state_New York', 'state_underdeveloped',\n",
       "       'type_applied', 'type_bus', 'type_comm', 'type_edu-health', 'type_fin',\n",
       "       'type_food', 'type_other', 'type_sale', 'type_soft', 'type_web',\n",
       "       'company', 'multi_donor'],\n",
       "      dtype='object')"
      ]
     },
     "execution_count": 6,
     "metadata": {},
     "output_type": "execute_result"
    }
   ],
   "source": [
    "company.columns"
   ]
  },
  {
   "cell_type": "code",
   "execution_count": 7,
   "metadata": {},
   "outputs": [],
   "source": [
    "company[\"food_other_sale\"] = company.iloc[:, [16, 17, 18]].sum(axis = 1)\n",
    "company[\"applied_comm_edu/health_web\"] = company.iloc[:, [11, 13, 14, 20]].sum(axis = 1)\n",
    "company[\"fin_bus\"] = company.iloc[:, [12, 15]].sum(axis = 1)\n",
    "company = company.drop([\"type_applied\", \"type_food\", \"type_other\", \"type_sale\", \"type_comm\", \n",
    "                       \"type_edu-health\", \"type_web\", \"type_fin\", \"type_bus\"], axis = 1)"
   ]
  },
  {
   "cell_type": "markdown",
   "metadata": {},
   "source": [
    "### Combining company sizes based on proportions"
   ]
  },
  {
   "cell_type": "code",
   "execution_count": 8,
   "metadata": {},
   "outputs": [
    {
     "name": "stdout",
     "output_type": "stream",
     "text": [
      "Company Size and Proportions:\n",
      "10:  0.583114\n",
      "50:  0.59315\n",
      "200:  0.661191\n",
      "500:  0.645098\n",
      "1000:  0.900042\n",
      "5000:  0.591598\n",
      "10000:  0.500765\n",
      "10001:  0.445321\n"
     ]
    }
   ],
   "source": [
    "random.seed(123578)\n",
    "company_10 = company[company[\"size_10.0\"] == 1][\"multi_donor\"]\n",
    "company_50 = company[company[\"size_50.0\"] == 1][\"multi_donor\"]\n",
    "company_200 = company[company[\"size_200.0\"] == 1][\"multi_donor\"]\n",
    "company_500 = company[company[\"size_500.0\"] == 1][\"multi_donor\"]\n",
    "company_1000 = company[company[\"size_1000.0\"] == 1][\"multi_donor\"]\n",
    "company_5000 = company[company[\"size_5000.0\"] == 1][\"multi_donor\"]\n",
    "company_10000 = company[company[\"size_10000.0\"] == 1][\"multi_donor\"]\n",
    "company_10001 = company[company[\"size_10001.0\"] == 1][\"multi_donor\"]\n",
    "dists_name = [\"10\", \"50\", \"200\", \"500\", \"1000\", \n",
    "             \"5000\", \"10000\", \"10001\"]\n",
    "dists = [company_10, company_50, company_200, company_500, company_1000,\n",
    "        company_5000, company_10000, company_10001]\n",
    "import random\n",
    "props = []\n",
    "for i in range(len(dists)):\n",
    "    dist = [sum(dists[i].sample(1000, replace = True))/1000 for j in range(1000)]\n",
    "    props.append(sum(dist)/1000)\n",
    "props = np.array(props)\n",
    "print(\"Company Size and Proportions:\")\n",
    "for i in range(len(props)):\n",
    "    print(dists_name[i] + \": \", props[i])"
   ]
  },
  {
   "cell_type": "code",
   "execution_count": 9,
   "metadata": {
    "scrolled": true
   },
   "outputs": [
    {
     "name": "stdout",
     "output_type": "stream",
     "text": [
      "10 and 50: 0.32\n",
      "10 and 200: 0.00\n",
      "10 and 500: 0.00\n",
      "10 and 1000: 0.00\n",
      "10 and 5000: 0.35\n",
      "10 and 10000: 0.00\n",
      "10 and 10001: 0.00\n",
      "50 and 200: 0.00\n",
      "50 and 500: 0.01\n",
      "50 and 1000: 0.00\n",
      "50 and 5000: 0.47\n",
      "50 and 10000: 0.00\n",
      "50 and 10001: 0.00\n",
      "200 and 500: 0.22\n",
      "200 and 1000: 0.00\n",
      "200 and 5000: 0.00\n",
      "200 and 10000: 0.00\n",
      "200 and 10001: 0.00\n",
      "500 and 1000: 0.00\n",
      "500 and 5000: 0.01\n",
      "500 and 10000: 0.00\n",
      "500 and 10001: 0.00\n",
      "1000 and 5000: 0.00\n",
      "1000 and 10000: 0.00\n",
      "1000 and 10001: 0.00\n",
      "5000 and 10000: 0.00\n",
      "5000 and 10001: 0.00\n",
      "10000 and 10001: 0.01\n"
     ]
    }
   ],
   "source": [
    "for i in range(1, len(dists)): \n",
    "    n1 = 1000\n",
    "    n2 = 1000\n",
    "    p1 = props[0]\n",
    "    p2 = props[i]\n",
    "    p = (n1 * p1 + n2 * p2)/(n1 + n2)\n",
    "    z = (p1 - p2)/(p * (1 - p) * (1/n1 + 1/n2))**0.5\n",
    "    print(\"10 and \" + dists_name[i] + ': {0:0.2f}'.format(\n",
    "     1 - norm.cdf(abs(z))))\n",
    "for i in range(2, len(dists)): \n",
    "    n1 = 1000\n",
    "    n2 = 1000\n",
    "    p1 = props[1]\n",
    "    p2 = props[i]\n",
    "    p = (n1 * p1 + n2 * p2)/(n1 + n2)\n",
    "    z = (p1 - p2)/(p * (1 - p) * (1/n1 + 1/n2))**0.5\n",
    "    print(\"50 and \" + dists_name[i] + ': {0:0.2f}'.format(\n",
    "     1 - norm.cdf(abs(z))))\n",
    "for i in range(3, len(dists)): \n",
    "    n1 = 1000\n",
    "    n2 = 1000\n",
    "    p1 = props[2]\n",
    "    p2 = props[i]\n",
    "    p = (n1 * p1 + n2 * p2)/(n1 + n2)\n",
    "    z = (p1 - p2)/(p * (1 - p) * (1/n1 + 1/n2))**0.5\n",
    "    print(\"200 and \" + dists_name[i] + ': {0:0.2f}'.format(\n",
    "     1 - norm.cdf(abs(z))))\n",
    "for i in range(4, len(dists)): \n",
    "    n1 = 1000\n",
    "    n2 = 1000\n",
    "    p1 = props[3]\n",
    "    p2 = props[i]\n",
    "    p = (n1 * p1 + n2 * p2)/(n1 + n2)\n",
    "    z = (p1 - p2)/(p * (1 - p) * (1/n1 + 1/n2))**0.5\n",
    "    print(\"500 and \" + dists_name[i] + ': {0:0.2f}'.format(\n",
    "     1 - norm.cdf(abs(z))))\n",
    "for i in range(5, len(dists)): \n",
    "    n1 = 1000\n",
    "    n2 = 1000\n",
    "    p1 = props[4]\n",
    "    p2 = props[i]\n",
    "    p = (n1 * p1 + n2 * p2)/(n1 + n2)\n",
    "    z = (p1 - p2)/(p * (1 - p) * (1/n1 + 1/n2))**0.5\n",
    "    print(\"1000 and \" + dists_name[i] + ': {0:0.2f}'.format(\n",
    "     1 - norm.cdf(abs(z))))\n",
    "for i in range(6, len(dists)): \n",
    "    n1 = 1000\n",
    "    n2 = 1000\n",
    "    p1 = props[5]\n",
    "    p2 = props[i]\n",
    "    p = (n1 * p1 + n2 * p2)/(n1 + n2)\n",
    "    z = (p1 - p2)/(p * (1 - p) * (1/n1 + 1/n2))**0.5\n",
    "    print(\"5000 and \" + dists_name[i] + ': {0:0.2f}'.format(\n",
    "     1 - norm.cdf(abs(z))))\n",
    "for i in range(7, len(dists)): \n",
    "    n1 = 1000\n",
    "    n2 = 1000\n",
    "    p1 = props[6]\n",
    "    p2 = props[i]\n",
    "    p = (n1 * p1 + n2 * p2)/(n1 + n2)\n",
    "    z = (p1 - p2)/(p * (1 - p) * (1/n1 + 1/n2))**0.5\n",
    "    print(\"10000 and \" + dists_name[i] + ': {0:0.2f}'.format(\n",
    "     1 - norm.cdf(abs(z))))"
   ]
  },
  {
   "cell_type": "code",
   "execution_count": 10,
   "metadata": {
    "scrolled": true
   },
   "outputs": [
    {
     "data": {
      "text/plain": [
       "Index(['size_10.0', 'size_1000.0', 'size_10000.0', 'size_10001.0',\n",
       "       'size_200.0', 'size_50.0', 'size_500.0', 'size_5000.0',\n",
       "       'state_California', 'state_New York', 'state_underdeveloped',\n",
       "       'type_soft', 'company', 'multi_donor', 'food_other_sale',\n",
       "       'applied_comm_edu/health_web', 'fin_bus'],\n",
       "      dtype='object')"
      ]
     },
     "execution_count": 10,
     "metadata": {},
     "output_type": "execute_result"
    }
   ],
   "source": [
    "company.columns"
   ]
  },
  {
   "cell_type": "code",
   "execution_count": 11,
   "metadata": {},
   "outputs": [],
   "source": [
    "company[\"size_10/50/5000\"] = company.iloc[:, [0, 5, 7]].sum(axis = 1)\n",
    "company[\"size_200/500\"] = company.iloc[:, [4, 6]].sum(axis = 1)\n",
    "company = company.drop([\"size_10.0\", \"size_50.0\", \"size_200.0\", \"size_500.0\", \"size_5000.0\"], axis = 1)"
   ]
  },
  {
   "cell_type": "markdown",
   "metadata": {},
   "source": [
    "### Combining Company Location based on Proportions"
   ]
  },
  {
   "cell_type": "code",
   "execution_count": 12,
   "metadata": {},
   "outputs": [
    {
     "data": {
      "text/html": [
       "<div>\n",
       "<style scoped>\n",
       "    .dataframe tbody tr th:only-of-type {\n",
       "        vertical-align: middle;\n",
       "    }\n",
       "\n",
       "    .dataframe tbody tr th {\n",
       "        vertical-align: top;\n",
       "    }\n",
       "\n",
       "    .dataframe thead th {\n",
       "        text-align: right;\n",
       "    }\n",
       "</style>\n",
       "<table border=\"1\" class=\"dataframe\">\n",
       "  <thead>\n",
       "    <tr style=\"text-align: right;\">\n",
       "      <th></th>\n",
       "      <th>size_1000.0</th>\n",
       "      <th>size_10000.0</th>\n",
       "      <th>size_10001.0</th>\n",
       "      <th>state_California</th>\n",
       "      <th>state_New York</th>\n",
       "      <th>state_underdeveloped</th>\n",
       "      <th>type_soft</th>\n",
       "      <th>company</th>\n",
       "      <th>multi_donor</th>\n",
       "      <th>food_other_sale</th>\n",
       "      <th>applied_comm_edu/health_web</th>\n",
       "      <th>fin_bus</th>\n",
       "      <th>size_10/50/5000</th>\n",
       "      <th>size_200/500</th>\n",
       "    </tr>\n",
       "  </thead>\n",
       "  <tbody>\n",
       "    <tr>\n",
       "      <th>0</th>\n",
       "      <td>0</td>\n",
       "      <td>0</td>\n",
       "      <td>0</td>\n",
       "      <td>0</td>\n",
       "      <td>1</td>\n",
       "      <td>0</td>\n",
       "      <td>0</td>\n",
       "      <td>32BJ SEIU</td>\n",
       "      <td>0</td>\n",
       "      <td>1</td>\n",
       "      <td>0</td>\n",
       "      <td>0</td>\n",
       "      <td>0</td>\n",
       "      <td>1</td>\n",
       "    </tr>\n",
       "    <tr>\n",
       "      <th>1</th>\n",
       "      <td>0</td>\n",
       "      <td>0</td>\n",
       "      <td>0</td>\n",
       "      <td>0</td>\n",
       "      <td>0</td>\n",
       "      <td>1</td>\n",
       "      <td>0</td>\n",
       "      <td>AFIP</td>\n",
       "      <td>0</td>\n",
       "      <td>0</td>\n",
       "      <td>0</td>\n",
       "      <td>1</td>\n",
       "      <td>1</td>\n",
       "      <td>0</td>\n",
       "    </tr>\n",
       "    <tr>\n",
       "      <th>2</th>\n",
       "      <td>0</td>\n",
       "      <td>0</td>\n",
       "      <td>0</td>\n",
       "      <td>1</td>\n",
       "      <td>0</td>\n",
       "      <td>0</td>\n",
       "      <td>0</td>\n",
       "      <td>ALL IN</td>\n",
       "      <td>1</td>\n",
       "      <td>1</td>\n",
       "      <td>0</td>\n",
       "      <td>0</td>\n",
       "      <td>1</td>\n",
       "      <td>0</td>\n",
       "    </tr>\n",
       "    <tr>\n",
       "      <th>3</th>\n",
       "      <td>0</td>\n",
       "      <td>0</td>\n",
       "      <td>0</td>\n",
       "      <td>1</td>\n",
       "      <td>0</td>\n",
       "      <td>0</td>\n",
       "      <td>0</td>\n",
       "      <td>AT&amp;T Foundry</td>\n",
       "      <td>1</td>\n",
       "      <td>0</td>\n",
       "      <td>1</td>\n",
       "      <td>0</td>\n",
       "      <td>1</td>\n",
       "      <td>0</td>\n",
       "    </tr>\n",
       "    <tr>\n",
       "      <th>4</th>\n",
       "      <td>0</td>\n",
       "      <td>0</td>\n",
       "      <td>0</td>\n",
       "      <td>0</td>\n",
       "      <td>1</td>\n",
       "      <td>0</td>\n",
       "      <td>0</td>\n",
       "      <td>Acxiom</td>\n",
       "      <td>1</td>\n",
       "      <td>0</td>\n",
       "      <td>0</td>\n",
       "      <td>1</td>\n",
       "      <td>1</td>\n",
       "      <td>0</td>\n",
       "    </tr>\n",
       "    <tr>\n",
       "      <th>5</th>\n",
       "      <td>0</td>\n",
       "      <td>0</td>\n",
       "      <td>0</td>\n",
       "      <td>0</td>\n",
       "      <td>1</td>\n",
       "      <td>0</td>\n",
       "      <td>0</td>\n",
       "      <td>Adams &amp; Company Real Estate, LLC</td>\n",
       "      <td>1</td>\n",
       "      <td>0</td>\n",
       "      <td>0</td>\n",
       "      <td>1</td>\n",
       "      <td>0</td>\n",
       "      <td>1</td>\n",
       "    </tr>\n",
       "    <tr>\n",
       "      <th>6</th>\n",
       "      <td>0</td>\n",
       "      <td>0</td>\n",
       "      <td>0</td>\n",
       "      <td>0</td>\n",
       "      <td>1</td>\n",
       "      <td>0</td>\n",
       "      <td>0</td>\n",
       "      <td>Addepar, Inc.</td>\n",
       "      <td>1</td>\n",
       "      <td>0</td>\n",
       "      <td>0</td>\n",
       "      <td>1</td>\n",
       "      <td>0</td>\n",
       "      <td>1</td>\n",
       "    </tr>\n",
       "    <tr>\n",
       "      <th>7</th>\n",
       "      <td>0</td>\n",
       "      <td>0</td>\n",
       "      <td>0</td>\n",
       "      <td>0</td>\n",
       "      <td>1</td>\n",
       "      <td>0</td>\n",
       "      <td>0</td>\n",
       "      <td>Adore Me</td>\n",
       "      <td>0</td>\n",
       "      <td>1</td>\n",
       "      <td>0</td>\n",
       "      <td>0</td>\n",
       "      <td>0</td>\n",
       "      <td>1</td>\n",
       "    </tr>\n",
       "    <tr>\n",
       "      <th>8</th>\n",
       "      <td>0</td>\n",
       "      <td>0</td>\n",
       "      <td>0</td>\n",
       "      <td>1</td>\n",
       "      <td>0</td>\n",
       "      <td>0</td>\n",
       "      <td>0</td>\n",
       "      <td>Aera Technology Inc.</td>\n",
       "      <td>1</td>\n",
       "      <td>0</td>\n",
       "      <td>1</td>\n",
       "      <td>0</td>\n",
       "      <td>0</td>\n",
       "      <td>1</td>\n",
       "    </tr>\n",
       "    <tr>\n",
       "      <th>9</th>\n",
       "      <td>0</td>\n",
       "      <td>0</td>\n",
       "      <td>0</td>\n",
       "      <td>0</td>\n",
       "      <td>1</td>\n",
       "      <td>0</td>\n",
       "      <td>0</td>\n",
       "      <td>Airbnb</td>\n",
       "      <td>1</td>\n",
       "      <td>1</td>\n",
       "      <td>0</td>\n",
       "      <td>0</td>\n",
       "      <td>1</td>\n",
       "      <td>0</td>\n",
       "    </tr>\n",
       "    <tr>\n",
       "      <th>10</th>\n",
       "      <td>0</td>\n",
       "      <td>0</td>\n",
       "      <td>1</td>\n",
       "      <td>0</td>\n",
       "      <td>0</td>\n",
       "      <td>1</td>\n",
       "      <td>0</td>\n",
       "      <td>Amazon</td>\n",
       "      <td>0</td>\n",
       "      <td>1</td>\n",
       "      <td>0</td>\n",
       "      <td>0</td>\n",
       "      <td>0</td>\n",
       "      <td>0</td>\n",
       "    </tr>\n",
       "    <tr>\n",
       "      <th>11</th>\n",
       "      <td>0</td>\n",
       "      <td>0</td>\n",
       "      <td>1</td>\n",
       "      <td>1</td>\n",
       "      <td>0</td>\n",
       "      <td>0</td>\n",
       "      <td>0</td>\n",
       "      <td>Aramark SF</td>\n",
       "      <td>1</td>\n",
       "      <td>1</td>\n",
       "      <td>0</td>\n",
       "      <td>0</td>\n",
       "      <td>0</td>\n",
       "      <td>0</td>\n",
       "    </tr>\n",
       "    <tr>\n",
       "      <th>12</th>\n",
       "      <td>0</td>\n",
       "      <td>0</td>\n",
       "      <td>0</td>\n",
       "      <td>1</td>\n",
       "      <td>0</td>\n",
       "      <td>0</td>\n",
       "      <td>0</td>\n",
       "      <td>Audentes Therapeutics</td>\n",
       "      <td>1</td>\n",
       "      <td>0</td>\n",
       "      <td>1</td>\n",
       "      <td>0</td>\n",
       "      <td>0</td>\n",
       "      <td>1</td>\n",
       "    </tr>\n",
       "    <tr>\n",
       "      <th>13</th>\n",
       "      <td>0</td>\n",
       "      <td>0</td>\n",
       "      <td>0</td>\n",
       "      <td>1</td>\n",
       "      <td>0</td>\n",
       "      <td>0</td>\n",
       "      <td>0</td>\n",
       "      <td>Avametric, suite 1001</td>\n",
       "      <td>1</td>\n",
       "      <td>1</td>\n",
       "      <td>0</td>\n",
       "      <td>0</td>\n",
       "      <td>1</td>\n",
       "      <td>0</td>\n",
       "    </tr>\n",
       "    <tr>\n",
       "      <th>14</th>\n",
       "      <td>1</td>\n",
       "      <td>0</td>\n",
       "      <td>0</td>\n",
       "      <td>1</td>\n",
       "      <td>0</td>\n",
       "      <td>0</td>\n",
       "      <td>0</td>\n",
       "      <td>Aviat Networks</td>\n",
       "      <td>0</td>\n",
       "      <td>0</td>\n",
       "      <td>1</td>\n",
       "      <td>0</td>\n",
       "      <td>0</td>\n",
       "      <td>0</td>\n",
       "    </tr>\n",
       "    <tr>\n",
       "      <th>15</th>\n",
       "      <td>0</td>\n",
       "      <td>0</td>\n",
       "      <td>0</td>\n",
       "      <td>1</td>\n",
       "      <td>0</td>\n",
       "      <td>0</td>\n",
       "      <td>0</td>\n",
       "      <td>BCG Digital Ventures</td>\n",
       "      <td>1</td>\n",
       "      <td>0</td>\n",
       "      <td>0</td>\n",
       "      <td>1</td>\n",
       "      <td>0</td>\n",
       "      <td>1</td>\n",
       "    </tr>\n",
       "    <tr>\n",
       "      <th>16</th>\n",
       "      <td>0</td>\n",
       "      <td>0</td>\n",
       "      <td>0</td>\n",
       "      <td>0</td>\n",
       "      <td>1</td>\n",
       "      <td>0</td>\n",
       "      <td>0</td>\n",
       "      <td>BGB Group</td>\n",
       "      <td>1</td>\n",
       "      <td>0</td>\n",
       "      <td>0</td>\n",
       "      <td>1</td>\n",
       "      <td>0</td>\n",
       "      <td>1</td>\n",
       "    </tr>\n",
       "    <tr>\n",
       "      <th>17</th>\n",
       "      <td>0</td>\n",
       "      <td>0</td>\n",
       "      <td>0</td>\n",
       "      <td>0</td>\n",
       "      <td>1</td>\n",
       "      <td>0</td>\n",
       "      <td>0</td>\n",
       "      <td>BarkBox</td>\n",
       "      <td>1</td>\n",
       "      <td>1</td>\n",
       "      <td>0</td>\n",
       "      <td>0</td>\n",
       "      <td>0</td>\n",
       "      <td>1</td>\n",
       "    </tr>\n",
       "    <tr>\n",
       "      <th>18</th>\n",
       "      <td>0</td>\n",
       "      <td>0</td>\n",
       "      <td>0</td>\n",
       "      <td>1</td>\n",
       "      <td>0</td>\n",
       "      <td>0</td>\n",
       "      <td>0</td>\n",
       "      <td>Bash Creative</td>\n",
       "      <td>1</td>\n",
       "      <td>1</td>\n",
       "      <td>0</td>\n",
       "      <td>0</td>\n",
       "      <td>1</td>\n",
       "      <td>0</td>\n",
       "    </tr>\n",
       "    <tr>\n",
       "      <th>19</th>\n",
       "      <td>0</td>\n",
       "      <td>0</td>\n",
       "      <td>0</td>\n",
       "      <td>0</td>\n",
       "      <td>1</td>\n",
       "      <td>0</td>\n",
       "      <td>0</td>\n",
       "      <td>BentoBox</td>\n",
       "      <td>1</td>\n",
       "      <td>0</td>\n",
       "      <td>1</td>\n",
       "      <td>0</td>\n",
       "      <td>1</td>\n",
       "      <td>0</td>\n",
       "    </tr>\n",
       "    <tr>\n",
       "      <th>20</th>\n",
       "      <td>0</td>\n",
       "      <td>0</td>\n",
       "      <td>0</td>\n",
       "      <td>0</td>\n",
       "      <td>1</td>\n",
       "      <td>0</td>\n",
       "      <td>0</td>\n",
       "      <td>Better Mortgage</td>\n",
       "      <td>1</td>\n",
       "      <td>0</td>\n",
       "      <td>0</td>\n",
       "      <td>1</td>\n",
       "      <td>0</td>\n",
       "      <td>1</td>\n",
       "    </tr>\n",
       "    <tr>\n",
       "      <th>21</th>\n",
       "      <td>0</td>\n",
       "      <td>0</td>\n",
       "      <td>0</td>\n",
       "      <td>0</td>\n",
       "      <td>1</td>\n",
       "      <td>0</td>\n",
       "      <td>0</td>\n",
       "      <td>BetterCloud</td>\n",
       "      <td>0</td>\n",
       "      <td>0</td>\n",
       "      <td>1</td>\n",
       "      <td>0</td>\n",
       "      <td>0</td>\n",
       "      <td>1</td>\n",
       "    </tr>\n",
       "    <tr>\n",
       "      <th>22</th>\n",
       "      <td>0</td>\n",
       "      <td>0</td>\n",
       "      <td>0</td>\n",
       "      <td>1</td>\n",
       "      <td>0</td>\n",
       "      <td>0</td>\n",
       "      <td>0</td>\n",
       "      <td>Big Health</td>\n",
       "      <td>1</td>\n",
       "      <td>0</td>\n",
       "      <td>1</td>\n",
       "      <td>0</td>\n",
       "      <td>0</td>\n",
       "      <td>1</td>\n",
       "    </tr>\n",
       "    <tr>\n",
       "      <th>23</th>\n",
       "      <td>0</td>\n",
       "      <td>0</td>\n",
       "      <td>0</td>\n",
       "      <td>1</td>\n",
       "      <td>0</td>\n",
       "      <td>0</td>\n",
       "      <td>0</td>\n",
       "      <td>Bird Brain Productions</td>\n",
       "      <td>0</td>\n",
       "      <td>0</td>\n",
       "      <td>1</td>\n",
       "      <td>0</td>\n",
       "      <td>1</td>\n",
       "      <td>0</td>\n",
       "    </tr>\n",
       "    <tr>\n",
       "      <th>24</th>\n",
       "      <td>0</td>\n",
       "      <td>0</td>\n",
       "      <td>0</td>\n",
       "      <td>1</td>\n",
       "      <td>0</td>\n",
       "      <td>0</td>\n",
       "      <td>0</td>\n",
       "      <td>Bird Rides, Inc.</td>\n",
       "      <td>1</td>\n",
       "      <td>1</td>\n",
       "      <td>0</td>\n",
       "      <td>0</td>\n",
       "      <td>1</td>\n",
       "      <td>0</td>\n",
       "    </tr>\n",
       "    <tr>\n",
       "      <th>25</th>\n",
       "      <td>0</td>\n",
       "      <td>0</td>\n",
       "      <td>0</td>\n",
       "      <td>1</td>\n",
       "      <td>0</td>\n",
       "      <td>0</td>\n",
       "      <td>1</td>\n",
       "      <td>Bird.co</td>\n",
       "      <td>1</td>\n",
       "      <td>0</td>\n",
       "      <td>0</td>\n",
       "      <td>0</td>\n",
       "      <td>1</td>\n",
       "      <td>0</td>\n",
       "    </tr>\n",
       "    <tr>\n",
       "      <th>26</th>\n",
       "      <td>0</td>\n",
       "      <td>0</td>\n",
       "      <td>0</td>\n",
       "      <td>0</td>\n",
       "      <td>1</td>\n",
       "      <td>0</td>\n",
       "      <td>1</td>\n",
       "      <td>Blockchain</td>\n",
       "      <td>0</td>\n",
       "      <td>0</td>\n",
       "      <td>0</td>\n",
       "      <td>0</td>\n",
       "      <td>0</td>\n",
       "      <td>1</td>\n",
       "    </tr>\n",
       "    <tr>\n",
       "      <th>27</th>\n",
       "      <td>0</td>\n",
       "      <td>0</td>\n",
       "      <td>0</td>\n",
       "      <td>1</td>\n",
       "      <td>0</td>\n",
       "      <td>0</td>\n",
       "      <td>0</td>\n",
       "      <td>BloomReach Mt.View</td>\n",
       "      <td>0</td>\n",
       "      <td>0</td>\n",
       "      <td>1</td>\n",
       "      <td>0</td>\n",
       "      <td>0</td>\n",
       "      <td>1</td>\n",
       "    </tr>\n",
       "    <tr>\n",
       "      <th>28</th>\n",
       "      <td>0</td>\n",
       "      <td>0</td>\n",
       "      <td>0</td>\n",
       "      <td>1</td>\n",
       "      <td>0</td>\n",
       "      <td>0</td>\n",
       "      <td>0</td>\n",
       "      <td>Bonsai Berkeley</td>\n",
       "      <td>0</td>\n",
       "      <td>0</td>\n",
       "      <td>1</td>\n",
       "      <td>0</td>\n",
       "      <td>1</td>\n",
       "      <td>0</td>\n",
       "    </tr>\n",
       "    <tr>\n",
       "      <th>29</th>\n",
       "      <td>0</td>\n",
       "      <td>0</td>\n",
       "      <td>0</td>\n",
       "      <td>1</td>\n",
       "      <td>0</td>\n",
       "      <td>0</td>\n",
       "      <td>0</td>\n",
       "      <td>Boomerang Commerce Mtn.View Ste100</td>\n",
       "      <td>1</td>\n",
       "      <td>0</td>\n",
       "      <td>1</td>\n",
       "      <td>0</td>\n",
       "      <td>0</td>\n",
       "      <td>1</td>\n",
       "    </tr>\n",
       "    <tr>\n",
       "      <th>...</th>\n",
       "      <td>...</td>\n",
       "      <td>...</td>\n",
       "      <td>...</td>\n",
       "      <td>...</td>\n",
       "      <td>...</td>\n",
       "      <td>...</td>\n",
       "      <td>...</td>\n",
       "      <td>...</td>\n",
       "      <td>...</td>\n",
       "      <td>...</td>\n",
       "      <td>...</td>\n",
       "      <td>...</td>\n",
       "      <td>...</td>\n",
       "      <td>...</td>\n",
       "    </tr>\n",
       "    <tr>\n",
       "      <th>212</th>\n",
       "      <td>0</td>\n",
       "      <td>0</td>\n",
       "      <td>0</td>\n",
       "      <td>0</td>\n",
       "      <td>1</td>\n",
       "      <td>0</td>\n",
       "      <td>0</td>\n",
       "      <td>Tumblr NYC Office</td>\n",
       "      <td>1</td>\n",
       "      <td>0</td>\n",
       "      <td>1</td>\n",
       "      <td>0</td>\n",
       "      <td>0</td>\n",
       "      <td>1</td>\n",
       "    </tr>\n",
       "    <tr>\n",
       "      <th>213</th>\n",
       "      <td>1</td>\n",
       "      <td>0</td>\n",
       "      <td>0</td>\n",
       "      <td>1</td>\n",
       "      <td>0</td>\n",
       "      <td>0</td>\n",
       "      <td>0</td>\n",
       "      <td>Twitch</td>\n",
       "      <td>1</td>\n",
       "      <td>0</td>\n",
       "      <td>1</td>\n",
       "      <td>0</td>\n",
       "      <td>0</td>\n",
       "      <td>0</td>\n",
       "    </tr>\n",
       "    <tr>\n",
       "      <th>214</th>\n",
       "      <td>0</td>\n",
       "      <td>0</td>\n",
       "      <td>0</td>\n",
       "      <td>0</td>\n",
       "      <td>1</td>\n",
       "      <td>0</td>\n",
       "      <td>0</td>\n",
       "      <td>Twitter NYC</td>\n",
       "      <td>0</td>\n",
       "      <td>0</td>\n",
       "      <td>1</td>\n",
       "      <td>0</td>\n",
       "      <td>1</td>\n",
       "      <td>0</td>\n",
       "    </tr>\n",
       "    <tr>\n",
       "      <th>215</th>\n",
       "      <td>0</td>\n",
       "      <td>0</td>\n",
       "      <td>0</td>\n",
       "      <td>1</td>\n",
       "      <td>0</td>\n",
       "      <td>0</td>\n",
       "      <td>0</td>\n",
       "      <td>Udacity</td>\n",
       "      <td>0</td>\n",
       "      <td>0</td>\n",
       "      <td>1</td>\n",
       "      <td>0</td>\n",
       "      <td>0</td>\n",
       "      <td>1</td>\n",
       "    </tr>\n",
       "    <tr>\n",
       "      <th>216</th>\n",
       "      <td>0</td>\n",
       "      <td>0</td>\n",
       "      <td>0</td>\n",
       "      <td>1</td>\n",
       "      <td>0</td>\n",
       "      <td>0</td>\n",
       "      <td>0</td>\n",
       "      <td>UpStart</td>\n",
       "      <td>0</td>\n",
       "      <td>0</td>\n",
       "      <td>0</td>\n",
       "      <td>1</td>\n",
       "      <td>0</td>\n",
       "      <td>1</td>\n",
       "    </tr>\n",
       "    <tr>\n",
       "      <th>217</th>\n",
       "      <td>0</td>\n",
       "      <td>0</td>\n",
       "      <td>0</td>\n",
       "      <td>1</td>\n",
       "      <td>0</td>\n",
       "      <td>0</td>\n",
       "      <td>0</td>\n",
       "      <td>UserVoice</td>\n",
       "      <td>0</td>\n",
       "      <td>0</td>\n",
       "      <td>1</td>\n",
       "      <td>0</td>\n",
       "      <td>0</td>\n",
       "      <td>1</td>\n",
       "    </tr>\n",
       "    <tr>\n",
       "      <th>218</th>\n",
       "      <td>0</td>\n",
       "      <td>0</td>\n",
       "      <td>0</td>\n",
       "      <td>1</td>\n",
       "      <td>0</td>\n",
       "      <td>0</td>\n",
       "      <td>0</td>\n",
       "      <td>Venice Office</td>\n",
       "      <td>1</td>\n",
       "      <td>0</td>\n",
       "      <td>0</td>\n",
       "      <td>1</td>\n",
       "      <td>1</td>\n",
       "      <td>0</td>\n",
       "    </tr>\n",
       "    <tr>\n",
       "      <th>219</th>\n",
       "      <td>0</td>\n",
       "      <td>0</td>\n",
       "      <td>0</td>\n",
       "      <td>1</td>\n",
       "      <td>0</td>\n",
       "      <td>0</td>\n",
       "      <td>0</td>\n",
       "      <td>Vita coco</td>\n",
       "      <td>1</td>\n",
       "      <td>1</td>\n",
       "      <td>0</td>\n",
       "      <td>0</td>\n",
       "      <td>0</td>\n",
       "      <td>1</td>\n",
       "    </tr>\n",
       "    <tr>\n",
       "      <th>220</th>\n",
       "      <td>0</td>\n",
       "      <td>0</td>\n",
       "      <td>0</td>\n",
       "      <td>1</td>\n",
       "      <td>0</td>\n",
       "      <td>0</td>\n",
       "      <td>0</td>\n",
       "      <td>Vungle SF</td>\n",
       "      <td>1</td>\n",
       "      <td>0</td>\n",
       "      <td>0</td>\n",
       "      <td>1</td>\n",
       "      <td>0</td>\n",
       "      <td>1</td>\n",
       "    </tr>\n",
       "    <tr>\n",
       "      <th>221</th>\n",
       "      <td>0</td>\n",
       "      <td>0</td>\n",
       "      <td>1</td>\n",
       "      <td>0</td>\n",
       "      <td>0</td>\n",
       "      <td>1</td>\n",
       "      <td>0</td>\n",
       "      <td>Walmart</td>\n",
       "      <td>1</td>\n",
       "      <td>1</td>\n",
       "      <td>0</td>\n",
       "      <td>0</td>\n",
       "      <td>0</td>\n",
       "      <td>0</td>\n",
       "    </tr>\n",
       "    <tr>\n",
       "      <th>222</th>\n",
       "      <td>0</td>\n",
       "      <td>0</td>\n",
       "      <td>0</td>\n",
       "      <td>1</td>\n",
       "      <td>0</td>\n",
       "      <td>0</td>\n",
       "      <td>0</td>\n",
       "      <td>WeWork</td>\n",
       "      <td>1</td>\n",
       "      <td>0</td>\n",
       "      <td>0</td>\n",
       "      <td>1</td>\n",
       "      <td>1</td>\n",
       "      <td>0</td>\n",
       "    </tr>\n",
       "    <tr>\n",
       "      <th>223</th>\n",
       "      <td>0</td>\n",
       "      <td>0</td>\n",
       "      <td>0</td>\n",
       "      <td>0</td>\n",
       "      <td>1</td>\n",
       "      <td>0</td>\n",
       "      <td>1</td>\n",
       "      <td>White Ops</td>\n",
       "      <td>1</td>\n",
       "      <td>0</td>\n",
       "      <td>0</td>\n",
       "      <td>0</td>\n",
       "      <td>0</td>\n",
       "      <td>1</td>\n",
       "    </tr>\n",
       "    <tr>\n",
       "      <th>224</th>\n",
       "      <td>0</td>\n",
       "      <td>0</td>\n",
       "      <td>1</td>\n",
       "      <td>0</td>\n",
       "      <td>1</td>\n",
       "      <td>0</td>\n",
       "      <td>0</td>\n",
       "      <td>Yahoo NYC</td>\n",
       "      <td>1</td>\n",
       "      <td>0</td>\n",
       "      <td>1</td>\n",
       "      <td>0</td>\n",
       "      <td>0</td>\n",
       "      <td>0</td>\n",
       "    </tr>\n",
       "    <tr>\n",
       "      <th>225</th>\n",
       "      <td>0</td>\n",
       "      <td>0</td>\n",
       "      <td>0</td>\n",
       "      <td>0</td>\n",
       "      <td>1</td>\n",
       "      <td>0</td>\n",
       "      <td>0</td>\n",
       "      <td>YieldMo</td>\n",
       "      <td>1</td>\n",
       "      <td>0</td>\n",
       "      <td>0</td>\n",
       "      <td>1</td>\n",
       "      <td>0</td>\n",
       "      <td>1</td>\n",
       "    </tr>\n",
       "    <tr>\n",
       "      <th>226</th>\n",
       "      <td>0</td>\n",
       "      <td>0</td>\n",
       "      <td>0</td>\n",
       "      <td>0</td>\n",
       "      <td>1</td>\n",
       "      <td>0</td>\n",
       "      <td>0</td>\n",
       "      <td>Yipitdata</td>\n",
       "      <td>0</td>\n",
       "      <td>0</td>\n",
       "      <td>1</td>\n",
       "      <td>0</td>\n",
       "      <td>0</td>\n",
       "      <td>1</td>\n",
       "    </tr>\n",
       "    <tr>\n",
       "      <th>227</th>\n",
       "      <td>0</td>\n",
       "      <td>0</td>\n",
       "      <td>0</td>\n",
       "      <td>0</td>\n",
       "      <td>1</td>\n",
       "      <td>0</td>\n",
       "      <td>0</td>\n",
       "      <td>ZMC</td>\n",
       "      <td>1</td>\n",
       "      <td>0</td>\n",
       "      <td>1</td>\n",
       "      <td>0</td>\n",
       "      <td>1</td>\n",
       "      <td>0</td>\n",
       "    </tr>\n",
       "    <tr>\n",
       "      <th>228</th>\n",
       "      <td>0</td>\n",
       "      <td>0</td>\n",
       "      <td>0</td>\n",
       "      <td>1</td>\n",
       "      <td>0</td>\n",
       "      <td>0</td>\n",
       "      <td>0</td>\n",
       "      <td>ZYMERGEN</td>\n",
       "      <td>1</td>\n",
       "      <td>0</td>\n",
       "      <td>1</td>\n",
       "      <td>0</td>\n",
       "      <td>0</td>\n",
       "      <td>1</td>\n",
       "    </tr>\n",
       "    <tr>\n",
       "      <th>229</th>\n",
       "      <td>0</td>\n",
       "      <td>0</td>\n",
       "      <td>0</td>\n",
       "      <td>0</td>\n",
       "      <td>1</td>\n",
       "      <td>0</td>\n",
       "      <td>0</td>\n",
       "      <td>ZeroCater</td>\n",
       "      <td>1</td>\n",
       "      <td>1</td>\n",
       "      <td>0</td>\n",
       "      <td>0</td>\n",
       "      <td>0</td>\n",
       "      <td>1</td>\n",
       "    </tr>\n",
       "    <tr>\n",
       "      <th>230</th>\n",
       "      <td>0</td>\n",
       "      <td>0</td>\n",
       "      <td>0</td>\n",
       "      <td>1</td>\n",
       "      <td>0</td>\n",
       "      <td>0</td>\n",
       "      <td>0</td>\n",
       "      <td>Zesty SF</td>\n",
       "      <td>1</td>\n",
       "      <td>1</td>\n",
       "      <td>0</td>\n",
       "      <td>0</td>\n",
       "      <td>0</td>\n",
       "      <td>1</td>\n",
       "    </tr>\n",
       "    <tr>\n",
       "      <th>231</th>\n",
       "      <td>0</td>\n",
       "      <td>0</td>\n",
       "      <td>0</td>\n",
       "      <td>0</td>\n",
       "      <td>1</td>\n",
       "      <td>0</td>\n",
       "      <td>0</td>\n",
       "      <td>Zillow NYC</td>\n",
       "      <td>1</td>\n",
       "      <td>0</td>\n",
       "      <td>0</td>\n",
       "      <td>1</td>\n",
       "      <td>1</td>\n",
       "      <td>0</td>\n",
       "    </tr>\n",
       "    <tr>\n",
       "      <th>232</th>\n",
       "      <td>0</td>\n",
       "      <td>0</td>\n",
       "      <td>0</td>\n",
       "      <td>1</td>\n",
       "      <td>0</td>\n",
       "      <td>0</td>\n",
       "      <td>0</td>\n",
       "      <td>Zinc</td>\n",
       "      <td>0</td>\n",
       "      <td>0</td>\n",
       "      <td>1</td>\n",
       "      <td>0</td>\n",
       "      <td>1</td>\n",
       "      <td>0</td>\n",
       "    </tr>\n",
       "    <tr>\n",
       "      <th>233</th>\n",
       "      <td>0</td>\n",
       "      <td>0</td>\n",
       "      <td>0</td>\n",
       "      <td>1</td>\n",
       "      <td>0</td>\n",
       "      <td>0</td>\n",
       "      <td>0</td>\n",
       "      <td>Zoox</td>\n",
       "      <td>1</td>\n",
       "      <td>0</td>\n",
       "      <td>1</td>\n",
       "      <td>0</td>\n",
       "      <td>0</td>\n",
       "      <td>1</td>\n",
       "    </tr>\n",
       "    <tr>\n",
       "      <th>234</th>\n",
       "      <td>0</td>\n",
       "      <td>0</td>\n",
       "      <td>0</td>\n",
       "      <td>1</td>\n",
       "      <td>0</td>\n",
       "      <td>0</td>\n",
       "      <td>0</td>\n",
       "      <td>Zymergen Office</td>\n",
       "      <td>0</td>\n",
       "      <td>0</td>\n",
       "      <td>1</td>\n",
       "      <td>0</td>\n",
       "      <td>0</td>\n",
       "      <td>1</td>\n",
       "    </tr>\n",
       "    <tr>\n",
       "      <th>235</th>\n",
       "      <td>0</td>\n",
       "      <td>0</td>\n",
       "      <td>0</td>\n",
       "      <td>1</td>\n",
       "      <td>0</td>\n",
       "      <td>0</td>\n",
       "      <td>0</td>\n",
       "      <td>drive.ai</td>\n",
       "      <td>1</td>\n",
       "      <td>0</td>\n",
       "      <td>1</td>\n",
       "      <td>0</td>\n",
       "      <td>0</td>\n",
       "      <td>1</td>\n",
       "    </tr>\n",
       "    <tr>\n",
       "      <th>236</th>\n",
       "      <td>0</td>\n",
       "      <td>0</td>\n",
       "      <td>0</td>\n",
       "      <td>1</td>\n",
       "      <td>0</td>\n",
       "      <td>0</td>\n",
       "      <td>0</td>\n",
       "      <td>fresh approach</td>\n",
       "      <td>1</td>\n",
       "      <td>1</td>\n",
       "      <td>0</td>\n",
       "      <td>0</td>\n",
       "      <td>1</td>\n",
       "      <td>0</td>\n",
       "    </tr>\n",
       "    <tr>\n",
       "      <th>237</th>\n",
       "      <td>0</td>\n",
       "      <td>0</td>\n",
       "      <td>0</td>\n",
       "      <td>1</td>\n",
       "      <td>0</td>\n",
       "      <td>0</td>\n",
       "      <td>0</td>\n",
       "      <td>illy</td>\n",
       "      <td>1</td>\n",
       "      <td>1</td>\n",
       "      <td>0</td>\n",
       "      <td>0</td>\n",
       "      <td>1</td>\n",
       "      <td>0</td>\n",
       "    </tr>\n",
       "    <tr>\n",
       "      <th>238</th>\n",
       "      <td>0</td>\n",
       "      <td>0</td>\n",
       "      <td>0</td>\n",
       "      <td>1</td>\n",
       "      <td>0</td>\n",
       "      <td>0</td>\n",
       "      <td>0</td>\n",
       "      <td>la brea</td>\n",
       "      <td>1</td>\n",
       "      <td>1</td>\n",
       "      <td>0</td>\n",
       "      <td>0</td>\n",
       "      <td>0</td>\n",
       "      <td>1</td>\n",
       "    </tr>\n",
       "    <tr>\n",
       "      <th>239</th>\n",
       "      <td>0</td>\n",
       "      <td>0</td>\n",
       "      <td>0</td>\n",
       "      <td>1</td>\n",
       "      <td>0</td>\n",
       "      <td>0</td>\n",
       "      <td>0</td>\n",
       "      <td>schoola</td>\n",
       "      <td>0</td>\n",
       "      <td>0</td>\n",
       "      <td>1</td>\n",
       "      <td>0</td>\n",
       "      <td>1</td>\n",
       "      <td>0</td>\n",
       "    </tr>\n",
       "    <tr>\n",
       "      <th>240</th>\n",
       "      <td>0</td>\n",
       "      <td>0</td>\n",
       "      <td>0</td>\n",
       "      <td>1</td>\n",
       "      <td>0</td>\n",
       "      <td>0</td>\n",
       "      <td>0</td>\n",
       "      <td>sweetgreen</td>\n",
       "      <td>1</td>\n",
       "      <td>1</td>\n",
       "      <td>0</td>\n",
       "      <td>0</td>\n",
       "      <td>1</td>\n",
       "      <td>0</td>\n",
       "    </tr>\n",
       "    <tr>\n",
       "      <th>241</th>\n",
       "      <td>0</td>\n",
       "      <td>0</td>\n",
       "      <td>0</td>\n",
       "      <td>1</td>\n",
       "      <td>0</td>\n",
       "      <td>0</td>\n",
       "      <td>0</td>\n",
       "      <td>thoughtbot, inc</td>\n",
       "      <td>1</td>\n",
       "      <td>0</td>\n",
       "      <td>1</td>\n",
       "      <td>0</td>\n",
       "      <td>0</td>\n",
       "      <td>1</td>\n",
       "    </tr>\n",
       "  </tbody>\n",
       "</table>\n",
       "<p>242 rows × 14 columns</p>\n",
       "</div>"
      ],
      "text/plain": [
       "     size_1000.0  size_10000.0  size_10001.0  state_California  \\\n",
       "0              0             0             0                 0   \n",
       "1              0             0             0                 0   \n",
       "2              0             0             0                 1   \n",
       "3              0             0             0                 1   \n",
       "4              0             0             0                 0   \n",
       "5              0             0             0                 0   \n",
       "6              0             0             0                 0   \n",
       "7              0             0             0                 0   \n",
       "8              0             0             0                 1   \n",
       "9              0             0             0                 0   \n",
       "10             0             0             1                 0   \n",
       "11             0             0             1                 1   \n",
       "12             0             0             0                 1   \n",
       "13             0             0             0                 1   \n",
       "14             1             0             0                 1   \n",
       "15             0             0             0                 1   \n",
       "16             0             0             0                 0   \n",
       "17             0             0             0                 0   \n",
       "18             0             0             0                 1   \n",
       "19             0             0             0                 0   \n",
       "20             0             0             0                 0   \n",
       "21             0             0             0                 0   \n",
       "22             0             0             0                 1   \n",
       "23             0             0             0                 1   \n",
       "24             0             0             0                 1   \n",
       "25             0             0             0                 1   \n",
       "26             0             0             0                 0   \n",
       "27             0             0             0                 1   \n",
       "28             0             0             0                 1   \n",
       "29             0             0             0                 1   \n",
       "..           ...           ...           ...               ...   \n",
       "212            0             0             0                 0   \n",
       "213            1             0             0                 1   \n",
       "214            0             0             0                 0   \n",
       "215            0             0             0                 1   \n",
       "216            0             0             0                 1   \n",
       "217            0             0             0                 1   \n",
       "218            0             0             0                 1   \n",
       "219            0             0             0                 1   \n",
       "220            0             0             0                 1   \n",
       "221            0             0             1                 0   \n",
       "222            0             0             0                 1   \n",
       "223            0             0             0                 0   \n",
       "224            0             0             1                 0   \n",
       "225            0             0             0                 0   \n",
       "226            0             0             0                 0   \n",
       "227            0             0             0                 0   \n",
       "228            0             0             0                 1   \n",
       "229            0             0             0                 0   \n",
       "230            0             0             0                 1   \n",
       "231            0             0             0                 0   \n",
       "232            0             0             0                 1   \n",
       "233            0             0             0                 1   \n",
       "234            0             0             0                 1   \n",
       "235            0             0             0                 1   \n",
       "236            0             0             0                 1   \n",
       "237            0             0             0                 1   \n",
       "238            0             0             0                 1   \n",
       "239            0             0             0                 1   \n",
       "240            0             0             0                 1   \n",
       "241            0             0             0                 1   \n",
       "\n",
       "     state_New York  state_underdeveloped  type_soft  \\\n",
       "0                 1                     0          0   \n",
       "1                 0                     1          0   \n",
       "2                 0                     0          0   \n",
       "3                 0                     0          0   \n",
       "4                 1                     0          0   \n",
       "5                 1                     0          0   \n",
       "6                 1                     0          0   \n",
       "7                 1                     0          0   \n",
       "8                 0                     0          0   \n",
       "9                 1                     0          0   \n",
       "10                0                     1          0   \n",
       "11                0                     0          0   \n",
       "12                0                     0          0   \n",
       "13                0                     0          0   \n",
       "14                0                     0          0   \n",
       "15                0                     0          0   \n",
       "16                1                     0          0   \n",
       "17                1                     0          0   \n",
       "18                0                     0          0   \n",
       "19                1                     0          0   \n",
       "20                1                     0          0   \n",
       "21                1                     0          0   \n",
       "22                0                     0          0   \n",
       "23                0                     0          0   \n",
       "24                0                     0          0   \n",
       "25                0                     0          1   \n",
       "26                1                     0          1   \n",
       "27                0                     0          0   \n",
       "28                0                     0          0   \n",
       "29                0                     0          0   \n",
       "..              ...                   ...        ...   \n",
       "212               1                     0          0   \n",
       "213               0                     0          0   \n",
       "214               1                     0          0   \n",
       "215               0                     0          0   \n",
       "216               0                     0          0   \n",
       "217               0                     0          0   \n",
       "218               0                     0          0   \n",
       "219               0                     0          0   \n",
       "220               0                     0          0   \n",
       "221               0                     1          0   \n",
       "222               0                     0          0   \n",
       "223               1                     0          1   \n",
       "224               1                     0          0   \n",
       "225               1                     0          0   \n",
       "226               1                     0          0   \n",
       "227               1                     0          0   \n",
       "228               0                     0          0   \n",
       "229               1                     0          0   \n",
       "230               0                     0          0   \n",
       "231               1                     0          0   \n",
       "232               0                     0          0   \n",
       "233               0                     0          0   \n",
       "234               0                     0          0   \n",
       "235               0                     0          0   \n",
       "236               0                     0          0   \n",
       "237               0                     0          0   \n",
       "238               0                     0          0   \n",
       "239               0                     0          0   \n",
       "240               0                     0          0   \n",
       "241               0                     0          0   \n",
       "\n",
       "                                company  multi_donor  food_other_sale  \\\n",
       "0                             32BJ SEIU            0                1   \n",
       "1                                  AFIP            0                0   \n",
       "2                               ALL IN             1                1   \n",
       "3                          AT&T Foundry            1                0   \n",
       "4                                Acxiom            1                0   \n",
       "5      Adams & Company Real Estate, LLC            1                0   \n",
       "6                         Addepar, Inc.            1                0   \n",
       "7                              Adore Me            0                1   \n",
       "8                  Aera Technology Inc.            1                0   \n",
       "9                                Airbnb            1                1   \n",
       "10                               Amazon            0                1   \n",
       "11                           Aramark SF            1                1   \n",
       "12                Audentes Therapeutics            1                0   \n",
       "13                Avametric, suite 1001            1                1   \n",
       "14                       Aviat Networks            0                0   \n",
       "15                 BCG Digital Ventures            1                0   \n",
       "16                            BGB Group            1                0   \n",
       "17                              BarkBox            1                1   \n",
       "18                        Bash Creative            1                1   \n",
       "19                             BentoBox            1                0   \n",
       "20                      Better Mortgage            1                0   \n",
       "21                          BetterCloud            0                0   \n",
       "22                           Big Health            1                0   \n",
       "23               Bird Brain Productions            0                0   \n",
       "24                     Bird Rides, Inc.            1                1   \n",
       "25                              Bird.co            1                0   \n",
       "26                           Blockchain            0                0   \n",
       "27                   BloomReach Mt.View            0                0   \n",
       "28                      Bonsai Berkeley            0                0   \n",
       "29   Boomerang Commerce Mtn.View Ste100            1                0   \n",
       "..                                  ...          ...              ...   \n",
       "212                   Tumblr NYC Office            1                0   \n",
       "213                              Twitch            1                0   \n",
       "214                         Twitter NYC            0                0   \n",
       "215                             Udacity            0                0   \n",
       "216                             UpStart            0                0   \n",
       "217                           UserVoice            0                0   \n",
       "218                       Venice Office            1                0   \n",
       "219                           Vita coco            1                1   \n",
       "220                           Vungle SF            1                0   \n",
       "221                             Walmart            1                1   \n",
       "222                              WeWork            1                0   \n",
       "223                          White Ops             1                0   \n",
       "224                           Yahoo NYC            1                0   \n",
       "225                             YieldMo            1                0   \n",
       "226                           Yipitdata            0                0   \n",
       "227                                 ZMC            1                0   \n",
       "228                            ZYMERGEN            1                0   \n",
       "229                           ZeroCater            1                1   \n",
       "230                            Zesty SF            1                1   \n",
       "231                          Zillow NYC            1                0   \n",
       "232                                Zinc            0                0   \n",
       "233                                Zoox            1                0   \n",
       "234                     Zymergen Office            0                0   \n",
       "235                            drive.ai            1                0   \n",
       "236                      fresh approach            1                1   \n",
       "237                                illy            1                1   \n",
       "238                             la brea            1                1   \n",
       "239                             schoola            0                0   \n",
       "240                          sweetgreen            1                1   \n",
       "241                     thoughtbot, inc            1                0   \n",
       "\n",
       "     applied_comm_edu/health_web  fin_bus  size_10/50/5000  size_200/500  \n",
       "0                              0        0                0             1  \n",
       "1                              0        1                1             0  \n",
       "2                              0        0                1             0  \n",
       "3                              1        0                1             0  \n",
       "4                              0        1                1             0  \n",
       "5                              0        1                0             1  \n",
       "6                              0        1                0             1  \n",
       "7                              0        0                0             1  \n",
       "8                              1        0                0             1  \n",
       "9                              0        0                1             0  \n",
       "10                             0        0                0             0  \n",
       "11                             0        0                0             0  \n",
       "12                             1        0                0             1  \n",
       "13                             0        0                1             0  \n",
       "14                             1        0                0             0  \n",
       "15                             0        1                0             1  \n",
       "16                             0        1                0             1  \n",
       "17                             0        0                0             1  \n",
       "18                             0        0                1             0  \n",
       "19                             1        0                1             0  \n",
       "20                             0        1                0             1  \n",
       "21                             1        0                0             1  \n",
       "22                             1        0                0             1  \n",
       "23                             1        0                1             0  \n",
       "24                             0        0                1             0  \n",
       "25                             0        0                1             0  \n",
       "26                             0        0                0             1  \n",
       "27                             1        0                0             1  \n",
       "28                             1        0                1             0  \n",
       "29                             1        0                0             1  \n",
       "..                           ...      ...              ...           ...  \n",
       "212                            1        0                0             1  \n",
       "213                            1        0                0             0  \n",
       "214                            1        0                1             0  \n",
       "215                            1        0                0             1  \n",
       "216                            0        1                0             1  \n",
       "217                            1        0                0             1  \n",
       "218                            0        1                1             0  \n",
       "219                            0        0                0             1  \n",
       "220                            0        1                0             1  \n",
       "221                            0        0                0             0  \n",
       "222                            0        1                1             0  \n",
       "223                            0        0                0             1  \n",
       "224                            1        0                0             0  \n",
       "225                            0        1                0             1  \n",
       "226                            1        0                0             1  \n",
       "227                            1        0                1             0  \n",
       "228                            1        0                0             1  \n",
       "229                            0        0                0             1  \n",
       "230                            0        0                0             1  \n",
       "231                            0        1                1             0  \n",
       "232                            1        0                1             0  \n",
       "233                            1        0                0             1  \n",
       "234                            1        0                0             1  \n",
       "235                            1        0                0             1  \n",
       "236                            0        0                1             0  \n",
       "237                            0        0                1             0  \n",
       "238                            0        0                0             1  \n",
       "239                            1        0                1             0  \n",
       "240                            0        0                1             0  \n",
       "241                            1        0                0             1  \n",
       "\n",
       "[242 rows x 14 columns]"
      ]
     },
     "execution_count": 12,
     "metadata": {},
     "output_type": "execute_result"
    }
   ],
   "source": [
    "company"
   ]
  },
  {
   "cell_type": "code",
   "execution_count": 13,
   "metadata": {},
   "outputs": [
    {
     "name": "stdout",
     "output_type": "stream",
     "text": [
      "Company Size and Proportions:\n",
      "CA:  0.674009\n",
      "NY:  0.655286\n",
      "UD:  0.299106\n"
     ]
    }
   ],
   "source": [
    "random.seed(123589)\n",
    "company_ca = company[company[\"state_California\"] == 1][\"multi_donor\"]\n",
    "company_ny = company[company[\"state_New York\"] == 1][\"multi_donor\"]\n",
    "company_ud = company[company[\"state_underdeveloped\"] == 1][\"multi_donor\"]\n",
    "dists_name = [\"CA\", \"NY\", \"UD\"]\n",
    "dists = [company_ca, company_ny, company_ud]\n",
    "props = []\n",
    "for i in range(len(dists)):\n",
    "    dist = [sum(dists[i].sample(1000, replace = True))/1000 for j in range(1000)]\n",
    "    props.append(sum(dist)/1000)\n",
    "props = np.array(props)\n",
    "print(\"Company Size and Proportions:\")\n",
    "for i in range(len(props)):\n",
    "    print(dists_name[i] + \": \", props[i])"
   ]
  },
  {
   "cell_type": "code",
   "execution_count": 14,
   "metadata": {},
   "outputs": [
    {
     "name": "stdout",
     "output_type": "stream",
     "text": [
      "CA and NY: 0.19\n",
      "CA and UD: 0.00\n",
      "NY and UD: 0.00\n"
     ]
    }
   ],
   "source": [
    "for i in range(1, len(dists)): \n",
    "    n1 = 1000\n",
    "    n2 = 1000\n",
    "    p1 = props[0]\n",
    "    p2 = props[i]\n",
    "    p = (n1 * p1 + n2 * p2)/(n1 + n2)\n",
    "    z = (p1 - p2)/(p * (1 - p) * (1/n1 + 1/n2))**0.5\n",
    "    print(\"CA and \" + dists_name[i] + ': {0:0.2f}'.format(\n",
    "     1 - norm.cdf(abs(z))))\n",
    "for i in range(2, len(dists)): \n",
    "    n1 = 1000\n",
    "    n2 = 1000\n",
    "    p1 = props[1]\n",
    "    p2 = props[i]\n",
    "    p = (n1 * p1 + n2 * p2)/(n1 + n2)\n",
    "    z = (p1 - p2)/(p * (1 - p) * (1/n1 + 1/n2))**0.5\n",
    "    print(\"NY and \" + dists_name[i] + ': {0:0.2f}'.format(\n",
    "     1 - norm.cdf(abs(z))))\n"
   ]
  },
  {
   "cell_type": "code",
   "execution_count": 15,
   "metadata": {},
   "outputs": [
    {
     "data": {
      "text/plain": [
       "Index(['size_1000.0', 'size_10000.0', 'size_10001.0', 'state_California',\n",
       "       'state_New York', 'state_underdeveloped', 'type_soft', 'company',\n",
       "       'multi_donor', 'food_other_sale', 'applied_comm_edu/health_web',\n",
       "       'fin_bus', 'size_10/50/5000', 'size_200/500'],\n",
       "      dtype='object')"
      ]
     },
     "execution_count": 15,
     "metadata": {},
     "output_type": "execute_result"
    }
   ],
   "source": [
    "company.columns"
   ]
  },
  {
   "cell_type": "code",
   "execution_count": 16,
   "metadata": {},
   "outputs": [],
   "source": [
    "company[\"state_ca_ny\"] = company.iloc[:, [3, 4]].sum(axis = 1)\n",
    "company = company.drop([\"state_California\", \"state_New York\"], axis = 1)"
   ]
  },
  {
   "cell_type": "markdown",
   "metadata": {},
   "source": [
    "### Looking at whether a company would be a one time donor before their first donation"
   ]
  },
  {
   "cell_type": "code",
   "execution_count": 17,
   "metadata": {},
   "outputs": [],
   "source": [
    "features = company.drop([\"multi_donor\", \"company\"], axis = 1) \n",
    "y = company[\"multi_donor\"]\n",
    "feature_list = list(features.columns)\n",
    "features = np.array(features)\n",
    "train_features, test_features, train_labels, test_labels = train_test_split(features, y, test_size = 0.25, random_state = 23156)"
   ]
  },
  {
   "cell_type": "code",
   "execution_count": 18,
   "metadata": {},
   "outputs": [
    {
     "data": {
      "text/plain": [
       "(242, 11)"
      ]
     },
     "execution_count": 18,
     "metadata": {},
     "output_type": "execute_result"
    }
   ],
   "source": [
    "features.shape"
   ]
  },
  {
   "cell_type": "code",
   "execution_count": 19,
   "metadata": {},
   "outputs": [
    {
     "data": {
      "text/plain": [
       "['size_1000.0',\n",
       " 'size_10000.0',\n",
       " 'size_10001.0',\n",
       " 'state_underdeveloped',\n",
       " 'type_soft',\n",
       " 'food_other_sale',\n",
       " 'applied_comm_edu/health_web',\n",
       " 'fin_bus',\n",
       " 'size_10/50/5000',\n",
       " 'size_200/500',\n",
       " 'state_ca_ny']"
      ]
     },
     "execution_count": 19,
     "metadata": {},
     "output_type": "execute_result"
    }
   ],
   "source": [
    "feature_list"
   ]
  },
  {
   "cell_type": "markdown",
   "metadata": {},
   "source": [
    "### Baseline Accuracy"
   ]
  },
  {
   "cell_type": "code",
   "execution_count": 263,
   "metadata": {},
   "outputs": [
    {
     "name": "stdout",
     "output_type": "stream",
     "text": [
      "Training Accuracy: 0.6187845303867403\n"
     ]
    }
   ],
   "source": [
    "print(\"Training Accuracy: \" + str(sum(train_labels == 1)/train_labels.size))"
   ]
  },
  {
   "cell_type": "code",
   "execution_count": 264,
   "metadata": {},
   "outputs": [
    {
     "name": "stdout",
     "output_type": "stream",
     "text": [
      "Testing Accuracy: 0.6885245901639344\n"
     ]
    }
   ],
   "source": [
    "print(\"Testing Accuracy: \" + str(sum(test_labels == 1)/test_labels.size))"
   ]
  },
  {
   "cell_type": "code",
   "execution_count": 288,
   "metadata": {},
   "outputs": [
    {
     "data": {
      "text/plain": [
       "112"
      ]
     },
     "execution_count": 288,
     "metadata": {},
     "output_type": "execute_result"
    }
   ],
   "source": [
    "sum(train_labels == 1)"
   ]
  },
  {
   "cell_type": "code",
   "execution_count": 289,
   "metadata": {},
   "outputs": [
    {
     "data": {
      "text/plain": [
       "69"
      ]
     },
     "execution_count": 289,
     "metadata": {},
     "output_type": "execute_result"
    }
   ],
   "source": [
    "sum(train_labels == 0)"
   ]
  },
  {
   "cell_type": "code",
   "execution_count": 292,
   "metadata": {
    "scrolled": true
   },
   "outputs": [
    {
     "data": {
      "text/plain": [
       "0.6187845303867403"
      ]
     },
     "execution_count": 292,
     "metadata": {},
     "output_type": "execute_result"
    }
   ],
   "source": [
    "sum(train_labels == 1)/train_labels.size"
   ]
  },
  {
   "cell_type": "markdown",
   "metadata": {},
   "source": [
    "#### Initial Random Forest with Default Settings"
   ]
  },
  {
   "cell_type": "code",
   "execution_count": 265,
   "metadata": {},
   "outputs": [
    {
     "name": "stdout",
     "output_type": "stream",
     "text": [
      "Training Accuracy\n",
      "Overall Accuracy: 0.67\n",
      "Precision Score: 0.70\n",
      "Recall Score: 0.81\n",
      "Testing Accuracy\n",
      "Overall Accuracy: 0.69\n",
      "Precision Score: 0.74\n",
      "Recall Score: 0.83\n"
     ]
    }
   ],
   "source": [
    "rf = RandomForestClassifier(n_estimators = 1000, random_state = 12356)\n",
    "rf.fit(train_features, train_labels);\n",
    "predictions = rf.predict(test_features)\n",
    "overall_accuracy_train = sum(rf.predict(train_features) == train_labels)/len(train_labels)\n",
    "precision_accuracy_train = precision_score(train_labels, rf.predict(train_features))\n",
    "recall_accuracy_train = recall_score(train_labels, rf.predict(train_features))\n",
    "overall_accuracy_test = sum(rf.predict(test_features) == test_labels)/len(test_labels)\n",
    "precision_accuracy_test = precision_score(test_labels, rf.predict(test_features))\n",
    "recall_accuracy_test = recall_score(test_labels, rf.predict(test_features))\n",
    "\n",
    "print(\"Training Accuracy\")\n",
    "print(\"Overall Accuracy: {0:0.2f}\". format( \n",
    "        overall_accuracy_train))\n",
    "print('Precision Score: {0:0.2f}'.format(\n",
    "      precision_accuracy_train))\n",
    "print('Recall Score: {0:0.2f}'.format(\n",
    "      recall_accuracy_train))\n",
    "print(\"Testing Accuracy\")\n",
    "print(\"Overall Accuracy: {0:0.2f}\". format( \n",
    "        overall_accuracy_test))\n",
    "print('Precision Score: {0:0.2f}'.format(\n",
    "      precision_accuracy_test))\n",
    "print('Recall Score: {0:0.2f}'.format(\n",
    "      recall_accuracy_test))"
   ]
  },
  {
   "cell_type": "code",
   "execution_count": 266,
   "metadata": {},
   "outputs": [
    {
     "name": "stdout",
     "output_type": "stream",
     "text": [
      "Variable: state_underdeveloped Importance: 0.13\n",
      "Variable: size_1000.0          Importance: 0.12\n",
      "Variable: size_200/500         Importance: 0.12\n",
      "Variable: state_ca_ny          Importance: 0.12\n",
      "Variable: applied_comm_edu/health_web Importance: 0.11\n",
      "Variable: size_10/50/5000      Importance: 0.1\n",
      "Variable: fin_bus              Importance: 0.08\n",
      "Variable: food_other_sale      Importance: 0.07\n",
      "Variable: size_10001.0         Importance: 0.06\n",
      "Variable: type_soft            Importance: 0.05\n",
      "Variable: size_10000.0         Importance: 0.04\n"
     ]
    }
   ],
   "source": [
    "importances = list(rf.feature_importances_)\n",
    "feature_importances = [(feature, round(importance, 2)) for feature, importance in zip(feature_list, importances)]\n",
    "feature_importances = sorted(feature_importances, key = lambda x: x[1], reverse = True)\n",
    "[print('Variable: {:20} Importance: {}'.format(*pair)) for pair in feature_importances];"
   ]
  },
  {
   "cell_type": "markdown",
   "metadata": {},
   "source": [
    "#### Random Grid Search"
   ]
  },
  {
   "cell_type": "code",
   "execution_count": 315,
   "metadata": {},
   "outputs": [],
   "source": [
    "n_estimators = [int(x) for x in np.linspace(start = 200, stop = 2000, num = 10)]\n",
    "max_features = [1, 2, 3, 4, 5, 6, 7, 8, 9, 10, 11]\n",
    "max_depth = [int(x) for x in np.linspace(start = 3, stop = 12, num = 10)] \n",
    "#max_depth.append(None)\n",
    "min_samples_split = [int(x) for x in np.linspace(start = 5, stop = 45, num = 10)]\n",
    "min_samples_leaf = [int(x) for x in np.linspace(start = 3, stop = 12, num = 4)]\n",
    "bootstrap = [True, False] \n",
    "\n",
    "random_grid = {'n_estimators': n_estimators,\n",
    "               'max_features': max_features,\n",
    "               'max_depth': max_depth,\n",
    "               'min_samples_split': min_samples_split,\n",
    "               'min_samples_leaf': min_samples_leaf,\n",
    "               'bootstrap': bootstrap}"
   ]
  },
  {
   "cell_type": "code",
   "execution_count": 316,
   "metadata": {
    "scrolled": false
   },
   "outputs": [
    {
     "name": "stdout",
     "output_type": "stream",
     "text": [
      "Fitting 5 folds for each of 500 candidates, totalling 2500 fits\n"
     ]
    },
    {
     "name": "stderr",
     "output_type": "stream",
     "text": [
      "[Parallel(n_jobs=-1)]: Done  33 tasks      | elapsed:   23.5s\n",
      "[Parallel(n_jobs=-1)]: Done 154 tasks      | elapsed:  1.8min\n",
      "[Parallel(n_jobs=-1)]: Done 357 tasks      | elapsed:  4.1min\n",
      "[Parallel(n_jobs=-1)]: Done 640 tasks      | elapsed:  7.3min\n",
      "[Parallel(n_jobs=-1)]: Done 1005 tasks      | elapsed: 11.6min\n",
      "[Parallel(n_jobs=-1)]: Done 1450 tasks      | elapsed: 16.2min\n",
      "[Parallel(n_jobs=-1)]: Done 1977 tasks      | elapsed: 21.8min\n",
      "[Parallel(n_jobs=-1)]: Done 2500 out of 2500 | elapsed: 28.0min finished\n"
     ]
    },
    {
     "data": {
      "text/plain": [
       "{'bootstrap': False,\n",
       " 'max_depth': 3,\n",
       " 'max_features': 1,\n",
       " 'min_samples_leaf': 3,\n",
       " 'min_samples_split': 22,\n",
       " 'n_estimators': 1800}"
      ]
     },
     "execution_count": 316,
     "metadata": {},
     "output_type": "execute_result"
    }
   ],
   "source": [
    "rf = RandomForestClassifier()\n",
    "rf_random = RandomizedSearchCV(estimator = rf, param_distributions = random_grid,\n",
    "                              n_iter = 500, cv = 5, verbose = 2, random_state = 12356,\n",
    "                              n_jobs = -1, scoring = \"f1\")\n",
    "rf_random.fit(train_features, train_labels)\n",
    "rf_random.best_params_"
   ]
  },
  {
   "cell_type": "code",
   "execution_count": 320,
   "metadata": {},
   "outputs": [
    {
     "name": "stdout",
     "output_type": "stream",
     "text": [
      "Training Accuracy\n",
      "Overall Accuracy: 0.66\n",
      "Precision Score: 0.65\n",
      "Recall Score: 0.98\n",
      "Testing Accuracy\n",
      "Overall Accuracy: 0.72\n",
      "Precision Score: 0.73\n",
      "Recall Score: 0.95\n"
     ]
    }
   ],
   "source": [
    "rf = RandomForestClassifier(bootstrap = False,\n",
    "                            max_depth = 3,\n",
    "                            max_features = 1,\n",
    "                            min_samples_leaf = 3,\n",
    "                            min_samples_split = 22,\n",
    "                            n_estimators = 1800,\n",
    "                            random_state = 12356)\n",
    "rf.fit(train_features, train_labels);\n",
    "overall_accuracy_train = sum(rf.predict(train_features) == train_labels)/len(train_labels)\n",
    "precision_accuracy_train = precision_score(train_labels, rf.predict(train_features))\n",
    "recall_accuracy_train = recall_score(train_labels, rf.predict(train_features))\n",
    "overall_accuracy_test = sum(rf.predict(test_features) == test_labels)/len(test_labels)\n",
    "precision_accuracy_test = precision_score(test_labels, rf.predict(test_features))\n",
    "recall_accuracy_test = recall_score(test_labels, rf.predict(test_features))\n",
    "\n",
    "print(\"Training Accuracy\")\n",
    "print(\"Overall Accuracy: {0:0.2f}\". format( \n",
    "        overall_accuracy_train))\n",
    "print('Precision Score: {0:0.2f}'.format(\n",
    "      precision_accuracy_train))\n",
    "print('Recall Score: {0:0.2f}'.format(\n",
    "      recall_accuracy_train))\n",
    "print(\"Testing Accuracy\")\n",
    "print(\"Overall Accuracy: {0:0.2f}\". format( \n",
    "        overall_accuracy_test))\n",
    "print('Precision Score: {0:0.2f}'.format(\n",
    "      precision_accuracy_test))\n",
    "print('Recall Score: {0:0.2f}'.format(\n",
    "      recall_accuracy_test))"
   ]
  },
  {
   "cell_type": "markdown",
   "metadata": {},
   "source": [
    "#### Grid Search CV "
   ]
  },
  {
   "cell_type": "code",
   "execution_count": 322,
   "metadata": {},
   "outputs": [
    {
     "name": "stdout",
     "output_type": "stream",
     "text": [
      "Fitting 5 folds for each of 1152 candidates, totalling 5760 fits\n"
     ]
    },
    {
     "name": "stderr",
     "output_type": "stream",
     "text": [
      "[Parallel(n_jobs=-1)]: Done  33 tasks      | elapsed:   29.7s\n",
      "[Parallel(n_jobs=-1)]: Done 154 tasks      | elapsed:  2.6min\n",
      "[Parallel(n_jobs=-1)]: Done 357 tasks      | elapsed:  6.3min\n",
      "[Parallel(n_jobs=-1)]: Done 640 tasks      | elapsed: 11.1min\n",
      "[Parallel(n_jobs=-1)]: Done 1005 tasks      | elapsed: 18.0min\n",
      "[Parallel(n_jobs=-1)]: Done 1450 tasks      | elapsed: 25.4min\n",
      "[Parallel(n_jobs=-1)]: Done 1977 tasks      | elapsed: 34.5min\n",
      "[Parallel(n_jobs=-1)]: Done 2584 tasks      | elapsed: 44.9min\n",
      "[Parallel(n_jobs=-1)]: Done 3273 tasks      | elapsed: 57.3min\n",
      "[Parallel(n_jobs=-1)]: Done 4042 tasks      | elapsed: 71.1min\n",
      "[Parallel(n_jobs=-1)]: Done 4893 tasks      | elapsed: 85.3min\n",
      "[Parallel(n_jobs=-1)]: Done 5760 out of 5760 | elapsed: 99.4min finished\n"
     ]
    },
    {
     "data": {
      "text/plain": [
       "{'bootstrap': True,\n",
       " 'max_depth': 4,\n",
       " 'max_features': 1,\n",
       " 'min_samples_leaf': 3,\n",
       " 'min_samples_split': 20,\n",
       " 'n_estimators': 2000}"
      ]
     },
     "execution_count": 322,
     "metadata": {},
     "output_type": "execute_result"
    }
   ],
   "source": [
    "n_estimators = [1500, 1600, 1800, 2000]\n",
    "max_features =  [1, 2, 3, 5]\n",
    "max_depth = [3, 4, 5, 10] \n",
    "min_samples_leaf = [3, 5, 10]\n",
    "min_samples_split =  [20, 21, 22, 23, 24, 25]\n",
    "from sklearn.model_selection import GridSearchCV\n",
    "param_grid = {'n_estimators': n_estimators,\n",
    "               'max_features': max_features,\n",
    "               'max_depth': max_depth,\n",
    "               'min_samples_split': min_samples_split,\n",
    "               'min_samples_leaf': min_samples_leaf,\n",
    "               'bootstrap': [True]}\n",
    "rf = RandomForestClassifier()\n",
    "grid_search = GridSearchCV(estimator = rf, param_grid = param_grid, cv = 5,\n",
    "                          n_jobs = -1, verbose = 2, scoring = \"f1\") \n",
    "grid_search.fit(train_features, train_labels)\n",
    "grid_search.best_params_"
   ]
  },
  {
   "cell_type": "markdown",
   "metadata": {},
   "source": [
    "#### Final RF model with best parameters "
   ]
  },
  {
   "cell_type": "code",
   "execution_count": 327,
   "metadata": {},
   "outputs": [
    {
     "name": "stdout",
     "output_type": "stream",
     "text": [
      "Training Accuracy\n",
      "Overall Accuracy: 0.66\n",
      "Precision Score: 0.65\n",
      "Recall Score: 0.98\n",
      "Testing Accuracy\n",
      "Overall Accuracy: 0.72\n",
      "Precision Score: 0.73\n",
      "Recall Score: 0.95\n"
     ]
    }
   ],
   "source": [
    "rf = RandomForestClassifier(bootstrap = False,\n",
    "                            max_depth = 4,\n",
    "                            max_features = 1,\n",
    "                            min_samples_leaf = 3,\n",
    "                            min_samples_split = 20,\n",
    "                            n_estimators = 2000,\n",
    "                            random_state = 12356)\n",
    "rf.fit(train_features, train_labels);\n",
    "overall_accuracy_train = sum(rf.predict(train_features) == train_labels)/len(train_labels)\n",
    "precision_accuracy_train = precision_score(train_labels, rf.predict(train_features))\n",
    "recall_accuracy_train = recall_score(train_labels, rf.predict(train_features))\n",
    "overall_accuracy_test = sum(rf.predict(test_features) == test_labels)/len(test_labels)\n",
    "precision_accuracy_test = precision_score(test_labels, rf.predict(test_features))\n",
    "recall_accuracy_test = recall_score(test_labels, rf.predict(test_features))\n",
    "\n",
    "print(\"Training Accuracy\")\n",
    "print(\"Overall Accuracy: {0:0.2f}\". format( \n",
    "        overall_accuracy_train))\n",
    "print('Precision Score: {0:0.2f}'.format(\n",
    "      precision_accuracy_train))\n",
    "print('Recall Score: {0:0.2f}'.format(\n",
    "      recall_accuracy_train))\n",
    "print(\"Testing Accuracy\")\n",
    "print(\"Overall Accuracy: {0:0.2f}\". format( \n",
    "        overall_accuracy_test))\n",
    "print('Precision Score: {0:0.2f}'.format(\n",
    "      precision_accuracy_test))\n",
    "print('Recall Score: {0:0.2f}'.format(\n",
    "      recall_accuracy_test))"
   ]
  },
  {
   "cell_type": "code",
   "execution_count": 328,
   "metadata": {},
   "outputs": [
    {
     "data": {
      "text/plain": [
       "4"
      ]
     },
     "execution_count": 328,
     "metadata": {},
     "output_type": "execute_result"
    }
   ],
   "source": [
    "preds = rf.predict(test_features)\n",
    "predicted_one_time = [i for i in range(len(preds)) if preds[i] == 1]\n",
    "predicted_multi_time = [i for i in range(len(preds)) if preds[i] == 0]\n",
    "true_one_time = [i for i in range(len(test_labels)) if np.array(test_labels)[i] == 1]\n",
    "true_multi_time = [i for i in range(len(test_labels)) if np.array(test_labels)[i] == 0]\n",
    "true_positives = len(np.intersect1d(predicted_one_time, true_one_time))\n",
    "false_positives = len(np.intersect1d(predicted_one_time, true_multi_time))\n",
    "true_negatives = len(np.intersect1d(predicted_multi_time, true_multi_time))\n",
    "false_negatives = len(np.intersect1d(predicted_multi_time, true_one_time))\n",
    "true_negatives"
   ]
  },
  {
   "cell_type": "markdown",
   "metadata": {},
   "source": [
    "\\begin{align*}\n",
    "&- \\text{The recall score drastically increased from the initial model from 0.83 to 0.95} \\\\\n",
    "&- \\text{Final model more likely to identify companies as multi donors than one time donors, precision of model not very accurate} \\\\ \n",
    "\\end{align*}"
   ]
  },
  {
   "cell_type": "code",
   "execution_count": 329,
   "metadata": {},
   "outputs": [
    {
     "name": "stdout",
     "output_type": "stream",
     "text": [
      "Variable: state_underdeveloped Importance: 0.21\n",
      "Variable: state_ca_ny          Importance: 0.2\n",
      "Variable: size_1000.0          Importance: 0.18\n",
      "Variable: applied_comm_edu/health_web Importance: 0.13\n",
      "Variable: fin_bus              Importance: 0.07\n",
      "Variable: type_soft            Importance: 0.06\n",
      "Variable: size_10/50/5000      Importance: 0.06\n",
      "Variable: food_other_sale      Importance: 0.03\n",
      "Variable: size_200/500         Importance: 0.03\n",
      "Variable: size_10001.0         Importance: 0.02\n",
      "Variable: size_10000.0         Importance: 0.0\n"
     ]
    }
   ],
   "source": [
    "importances = list(rf.feature_importances_)\n",
    "feature_importances = [(feature, round(importance, 2)) for feature, importance in zip(feature_list, importances)]\n",
    "feature_importances = sorted(feature_importances, key = lambda x: x[1], reverse = True)\n",
    "[print('Variable: {:20} Importance: {}'.format(*pair)) for pair in feature_importances];"
   ]
  },
  {
   "cell_type": "code",
   "execution_count": 330,
   "metadata": {
    "scrolled": true
   },
   "outputs": [
    {
     "data": {
      "image/png": "[encoded data removed]",
      "text/plain": [
       "<matplotlib.figure.Figure at 0x1898275f550>"
      ]
     },
     "metadata": {},
     "output_type": "display_data"
    }
   ],
   "source": [
    "sns.countplot(company[company[\"state_underdeveloped\"] == 1][\"multi_donor\"]);\n",
    "plt.title(\"Underdeveloped States Multiple Donor Counts\");\n"
   ]
  },
  {
   "cell_type": "code",
   "execution_count": 340,
   "metadata": {},
   "outputs": [
    {
     "data": {
      "image/png": "[encoded data removed]",
      "text/plain": [
       "<matplotlib.figure.Figure at 0x18982d35128>"
      ]
     },
     "metadata": {},
     "output_type": "display_data"
    }
   ],
   "source": [
    "sns.countplot(company[company[\"state_California\"] == 1][\"multi_donor\"]);\n",
    "plt.title(\"California & Multiple Donor Counts\");"
   ]
  },
  {
   "cell_type": "code",
   "execution_count": 341,
   "metadata": {},
   "outputs": [
    {
     "data": {
      "image/png": "[encoded data removed]",
      "text/plain": [
       "<matplotlib.figure.Figure at 0x18982cf3e10>"
      ]
     },
     "metadata": {},
     "output_type": "display_data"
    }
   ],
   "source": [
    "sns.countplot(company[company[\"state_New York\"] == 1][\"multi_donor\"]);\n",
    "plt.title(\"New York & Multiple Donor Counts\");"
   ]
  },
  {
   "cell_type": "code",
   "execution_count": 335,
   "metadata": {},
   "outputs": [
    {
     "data": {
      "image/png": "[encoded data removed]",
      "text/plain": [
       "<matplotlib.figure.Figure at 0x18982a16be0>"
      ]
     },
     "metadata": {},
     "output_type": "display_data"
    }
   ],
   "source": [
    "sns.countplot(company[company[\"state_ca_ny\"] == 1][\"multi_donor\"]);\n",
    "plt.title(\"CA & NY Multiple Donor Counts\");"
   ]
  },
  {
   "cell_type": "code",
   "execution_count": 332,
   "metadata": {},
   "outputs": [
    {
     "name": "stdout",
     "output_type": "stream",
     "text": [
      "Underdeveloped multi-donor proportion: 0.3\n",
      "California and New York multi-donor proportion: 0.6666666666666666\n"
     ]
    }
   ],
   "source": [
    "ud_len = company[company[\"state_underdeveloped\"] == 1].shape[0]\n",
    "ud_num_md = sum(company[company[\"state_underdeveloped\"] == 1][\"multi_donor\"])\n",
    "ca_ny_len = company[company[\"state_ca_ny\"] == 1].shape[0]\n",
    "ca_ny_num_md = sum(company[company[\"state_ca_ny\"] == 1][\"multi_donor\"])\n",
    "#ny_len = company[company[\"state_New York\"] == 1].shape[0]\n",
    "#ny_num_md = sum(company[company[\"state_New York\"] == 1][\"multi_donor\"])\n",
    "print(\"Underdeveloped multi-donor proportion: \" + str(ud_num_md/ud_len))\n",
    "print(\"California and New York multi-donor proportion: \" + str(ca_ny_num_md/ca_ny_len))\n",
    "#print(\"New York multi-donor proportion: \" + str(ny_num_md/ny_len))"
   ]
  },
  {
   "cell_type": "markdown",
   "metadata": {},
   "source": [
    "\\begin{align*}\n",
    "&- \\text{The feature with the highest importance (0.2) is state_underdeveloped and it seems that if a company is in a state that's not CA or NY, the company will likely be labeled as a one-time donor.} \\\\\n",
    "&- \\text{ Out of 20 companies that are in a state other than CA or NY, 6 of which donated more than once} \\\\\n",
    "&- \\text{Is Replate not as developed in states outside of CA and NY and that's why companies are not as likely to donate multiple times?} \\\\\n",
    "\\end{align*}"
   ]
  },
  {
   "cell_type": "code",
   "execution_count": 333,
   "metadata": {
    "scrolled": true
   },
   "outputs": [
    {
     "data": {
      "image/png": "[encoded data removed]",
      "text/plain": [
       "<matplotlib.figure.Figure at 0x18982b14e48>"
      ]
     },
     "metadata": {},
     "output_type": "display_data"
    }
   ],
   "source": [
    "sns.countplot(company[company[\"size_1000.0\"] == 1][\"multi_donor\"]);\n",
    "plt.title(\"Company Sizes b/t 501-1000 and Multiple Donor Counts\");"
   ]
  },
  {
   "cell_type": "code",
   "execution_count": 363,
   "metadata": {},
   "outputs": [
    {
     "data": {
      "image/png": "[encoded data removed]",
      "text/plain": [
       "<matplotlib.figure.Figure at 0x18983001b70>"
      ]
     },
     "metadata": {},
     "output_type": "display_data"
    }
   ],
   "source": [
    "sns.countplot(company[company[\"size_10000.0\"] == 1][\"multi_donor\"]);\n",
    "plt.title(\"Company Sizes b/t 5001-10000 and Multiple Donor Counts\");"
   ]
  },
  {
   "cell_type": "code",
   "execution_count": 364,
   "metadata": {},
   "outputs": [
    {
     "data": {
      "image/png": "[encoded data removed]",
      "text/plain": [
       "<matplotlib.figure.Figure at 0x18983086278>"
      ]
     },
     "metadata": {},
     "output_type": "display_data"
    }
   ],
   "source": [
    "sns.countplot(company[company[\"size_10001.0\"] == 1][\"multi_donor\"]);\n",
    "plt.title(\"Company Sizes 10001+ and Multiple Donor Counts\");"
   ]
  },
  {
   "cell_type": "code",
   "execution_count": 367,
   "metadata": {},
   "outputs": [
    {
     "data": {
      "image/png": "[encoded data removed]",
      "text/plain": [
       "<matplotlib.figure.Figure at 0x1898316ef28>"
      ]
     },
     "metadata": {},
     "output_type": "display_data"
    }
   ],
   "source": [
    "sns.countplot(company[company[\"size_10/50/5000\"] == 1][\"multi_donor\"]);\n",
    "plt.title(\"Company Sizes b/t 1-50 and 1001-5000 and Multiple Donor Counts\");"
   ]
  },
  {
   "cell_type": "code",
   "execution_count": 368,
   "metadata": {},
   "outputs": [
    {
     "data": {
      "image/png": "[encoded data removed]",
      "text/plain": [
       "<matplotlib.figure.Figure at 0x1898316e128>"
      ]
     },
     "metadata": {},
     "output_type": "display_data"
    }
   ],
   "source": [
    "sns.countplot(company[company[\"size_200/500\"] == 1][\"multi_donor\"]);\n",
    "plt.title(\"Company Sizes b/t 51-500 and Multiple Donor Counts\");"
   ]
  },
  {
   "cell_type": "markdown",
   "metadata": {},
   "source": [
    "\\begin{align*}\n",
    "&- \\text{The next highest feature in terms of importance (0.14) is size_1000.} \\\\ \n",
    "&- \\text{Out of 20 companies that have a size between 501-1000 employees, 18 of them have donated more than once}\n",
    "\\end{align*}"
   ]
  },
  {
   "cell_type": "code",
   "execution_count": 360,
   "metadata": {},
   "outputs": [
    {
     "name": "stdout",
     "output_type": "stream",
     "text": [
      "Size 1-50 and 1001-5000 multi-donor proportion: 0.59\n",
      "Size 51-500 multi-donor proportion: 0.6571428571428571\n",
      "Size 501-1000 multi-donor proportion: 0.9\n",
      "Size 5001-10000 multi-donor proportion: 0.5\n",
      "Size 10001+ multi-donor proportion: 0.4444444444444444\n"
     ]
    }
   ],
   "source": [
    "\n",
    "s1000_len = company[company[\"size_1000.0\"] == 1].shape[0]\n",
    "s1000_num_md = sum(company[company[\"size_1000.0\"] == 1][\"multi_donor\"])\n",
    "s10000_len = company[company[\"size_10000.0\"] == 1].shape[0]\n",
    "s10000_num_md = sum(company[company[\"size_10000.0\"] == 1][\"multi_donor\"])\n",
    "s10001_len = company[company[\"size_10001.0\"] == 1].shape[0]\n",
    "s10001_num_md = sum(company[company[\"size_10001.0\"] == 1][\"multi_donor\"])\n",
    "#s5000_len = company[company[\"size_5000.0\"] == 1].shape[0]\n",
    "#s5000_num_md = sum(company[company[\"size_5000.0\"] == 1][\"multi_donor\"])\n",
    "s10_50_5000_len = company[company[\"size_10/50/5000\"] == 1].shape[0]\n",
    "s10_50_5000_num_md = sum(company[company[\"size_10/50/5000\"] == 1][\"multi_donor\"])\n",
    "s200_500_len = company[company[\"size_200/500\"] == 1].shape[0]\n",
    "s200_500_num_md = sum(company[company[\"size_200/500\"] == 1][\"multi_donor\"])\n",
    "\n",
    "print(\"Size 1-50 and 1001-5000 multi-donor proportion: \" + str(s10_50_5000_num_md/s10_50_5000_len))\n",
    "print(\"Size 51-500 multi-donor proportion: \" + str(s200_500_num_md/s200_500_len))\n",
    "print(\"Size 501-1000 multi-donor proportion: \" + str(s1000_num_md/s1000_len))\n",
    "#print(\"Size 1001-5000 multi-donor proportion: \" + str(s5000_num_md/s5000_len))\n",
    "print(\"Size 5001-10000 multi-donor proportion: \" + str(s10000_num_md/s10000_len))\n",
    "print(\"Size 10001+ multi-donor proportion: \" + str(s10001_num_md/s10001_len))"
   ]
  },
  {
   "cell_type": "markdown",
   "metadata": {},
   "source": [
    "\\begin{align*}\n",
    "&- \\text{There doesn't seem to be a strong trend in whether a company wuld be a multi donor in the other sizes which is reflected in them having importances lower than 0.1} \\\\\n",
    "&- \\text{Seems that the proportion of multiple donors increases with size up until 1000 and then the proportion drops down.}\n",
    "\\end{align*}"
   ]
  },
  {
   "cell_type": "code",
   "execution_count": 380,
   "metadata": {
    "scrolled": true
   },
   "outputs": [
    {
     "data": {
      "image/png": "[encoded data removed]",
      "text/plain": [
       "<matplotlib.figure.Figure at 0x189830767b8>"
      ]
     },
     "metadata": {},
     "output_type": "display_data"
    }
   ],
   "source": [
    "sns.countplot(company[company[\"applied_comm_edu/health_web\"] == 1][\"multi_donor\"]);\n",
    "plt.title(\"Company Type Applied/Comm/Edu-Health/Web and Multiple Donor Counts\");"
   ]
  },
  {
   "cell_type": "code",
   "execution_count": 383,
   "metadata": {},
   "outputs": [
    {
     "data": {
      "image/png": "[encoded data removed]",
      "text/plain": [
       "<matplotlib.figure.Figure at 0x1898293c518>"
      ]
     },
     "metadata": {},
     "output_type": "display_data"
    }
   ],
   "source": [
    "sns.countplot(company[company[\"fin_bus\"] == 1][\"multi_donor\"]);\n",
    "plt.title(\"Company Type fin/bus and Multiple Donor Counts\");"
   ]
  },
  {
   "cell_type": "code",
   "execution_count": null,
   "metadata": {},
   "outputs": [],
   "source": [
    "sns.countplot(company[company[\"applied_comm_edu/health_web\"] == 1][\"multi_donor\"]);\n",
    "plt.title(\"Company Type fin_bus and Multiple Donor Counts\");"
   ]
  },
  {
   "cell_type": "code",
   "execution_count": 372,
   "metadata": {},
   "outputs": [],
   "source": [
    "important_features = [\"state_underdeveloped\", \"size_1000.0\",\n",
    "                     \"applied_comm_edu/health_web\"\n",
    "                     ]\n",
    "features = company[important_features]\n",
    "y = company[\"multi_donor\"]\n",
    "#features = pd.get_dummies(features)\n",
    "feature_list = list(features.columns)\n",
    "features = np.array(features)\n",
    "train_features, test_features, train_labels, test_labels = train_test_split(features, y, test_size = 0.25, random_state = 23156)"
   ]
  },
  {
   "cell_type": "code",
   "execution_count": 374,
   "metadata": {},
   "outputs": [],
   "source": [
    "n_estimators = [int(x) for x in np.linspace(start = 200, stop = 2000, num = 10)]\n",
    "max_features = [1, 2, 3]\n",
    "max_depth = [int(x) for x in np.linspace(start = 2, stop = 6, num = 5)] \n",
    "#max_depth.append(None)\n",
    "min_samples_split = [int(x) for x in np.linspace(start = 2, stop = 12, num = 11)]\n",
    "min_samples_leaf = [int(x) for x in np.linspace(start = 1, stop = 5, num = 5)]\n",
    "bootstrap = [True, False] \n",
    "\n",
    "random_grid = {'n_estimators': n_estimators,\n",
    "               'max_features': max_features,\n",
    "               'max_depth': max_depth,\n",
    "               'min_samples_split': min_samples_split,\n",
    "               'min_samples_leaf': min_samples_leaf,\n",
    "               'bootstrap': bootstrap}"
   ]
  },
  {
   "cell_type": "code",
   "execution_count": 375,
   "metadata": {
    "scrolled": true
   },
   "outputs": [
    {
     "name": "stdout",
     "output_type": "stream",
     "text": [
      "Fitting 5 folds for each of 300 candidates, totalling 1500 fits\n"
     ]
    },
    {
     "name": "stderr",
     "output_type": "stream",
     "text": [
      "[Parallel(n_jobs=-1)]: Done  33 tasks      | elapsed:   14.5s\n",
      "[Parallel(n_jobs=-1)]: Done 154 tasks      | elapsed:  1.4min\n",
      "[Parallel(n_jobs=-1)]: Done 357 tasks      | elapsed:  3.8min\n",
      "[Parallel(n_jobs=-1)]: Done 640 tasks      | elapsed:  6.7min\n",
      "[Parallel(n_jobs=-1)]: Done 1005 tasks      | elapsed: 10.8min\n",
      "[Parallel(n_jobs=-1)]: Done 1450 tasks      | elapsed: 15.2min\n",
      "[Parallel(n_jobs=-1)]: Done 1500 out of 1500 | elapsed: 15.8min finished\n"
     ]
    },
    {
     "data": {
      "text/plain": [
       "{'bootstrap': True,\n",
       " 'max_depth': 6,\n",
       " 'max_features': 3,\n",
       " 'min_samples_leaf': 2,\n",
       " 'min_samples_split': 7,\n",
       " 'n_estimators': 1000}"
      ]
     },
     "execution_count": 375,
     "metadata": {},
     "output_type": "execute_result"
    }
   ],
   "source": [
    "rf = RandomForestClassifier()\n",
    "rf_random = RandomizedSearchCV(estimator = rf, param_distributions = random_grid,\n",
    "                              n_iter = 300, cv = 5, verbose = 2, random_state = 12356,\n",
    "                              n_jobs = -1, scoring = \"f1\")\n",
    "rf_random.fit(train_features, train_labels)\n",
    "rf_random.best_params_"
   ]
  },
  {
   "cell_type": "code",
   "execution_count": 378,
   "metadata": {},
   "outputs": [
    {
     "data": {
      "text/plain": [
       "(181, 3)"
      ]
     },
     "execution_count": 378,
     "metadata": {},
     "output_type": "execute_result"
    }
   ],
   "source": [
    "train_features.shape"
   ]
  },
  {
   "cell_type": "code",
   "execution_count": 376,
   "metadata": {},
   "outputs": [
    {
     "name": "stdout",
     "output_type": "stream",
     "text": [
      "Training Accuracy\n",
      "Overall Accuracy: 0.65\n",
      "Precision Score: 0.65\n",
      "Recall Score: 0.96\n",
      "Testing Accuracy\n",
      "Overall Accuracy: 0.72\n",
      "Precision Score: 0.73\n",
      "Recall Score: 0.95\n"
     ]
    }
   ],
   "source": [
    "rf = RandomForestClassifier(bootstrap = True,\n",
    "                            max_depth = 6,\n",
    "                            max_features = 3,\n",
    "                            min_samples_leaf = 2,\n",
    "                            min_samples_split = 7,\n",
    "                            n_estimators = 1000,\n",
    "                            random_state = 12356)\n",
    "rf.fit(train_features, train_labels);\n",
    "overall_accuracy_train = sum(rf.predict(train_features) == train_labels)/len(train_labels)\n",
    "precision_accuracy_train = precision_score(train_labels, rf.predict(train_features))\n",
    "recall_accuracy_train = recall_score(train_labels, rf.predict(train_features))\n",
    "overall_accuracy_test = sum(rf.predict(test_features) == test_labels)/len(test_labels)\n",
    "precision_accuracy_test = precision_score(test_labels, rf.predict(test_features))\n",
    "recall_accuracy_test = recall_score(test_labels, rf.predict(test_features))\n",
    "\n",
    "print(\"Training Accuracy\")\n",
    "print(\"Overall Accuracy: {0:0.2f}\". format( \n",
    "        overall_accuracy_train))\n",
    "print('Precision Score: {0:0.2f}'.format(\n",
    "      precision_accuracy_train))\n",
    "print('Recall Score: {0:0.2f}'.format(\n",
    "      recall_accuracy_train))\n",
    "print(\"Testing Accuracy\")\n",
    "print(\"Overall Accuracy: {0:0.2f}\". format( \n",
    "        overall_accuracy_test))\n",
    "print('Precision Score: {0:0.2f}'.format(\n",
    "      precision_accuracy_test))\n",
    "print('Recall Score: {0:0.2f}'.format(\n",
    "      recall_accuracy_test))"
   ]
  },
  {
   "cell_type": "code",
   "execution_count": 266,
   "metadata": {},
   "outputs": [
    {
     "name": "stdout",
     "output_type": "stream",
     "text": [
      "Variable: state_underdeveloped Importance: 0.28\n",
      "Variable: size_1000.0          Importance: 0.21\n",
      "Variable: size_200/500         Importance: 0.15\n",
      "Variable: state_New York       Importance: 0.13\n",
      "Variable: size_10/50           Importance: 0.12\n",
      "Variable: state_California     Importance: 0.11\n"
     ]
    }
   ],
   "source": [
    "importances = list(rf.feature_importances_)\n",
    "feature_importances = [(feature, round(importance, 2)) for feature, importance in zip(feature_list, importances)]\n",
    "feature_importances = sorted(feature_importances, key = lambda x: x[1], reverse = True)\n",
    "[print('Variable: {:20} Importance: {}'.format(*pair)) for pair in feature_importances];"
   ]
  },
  {
   "cell_type": "code",
   "execution_count": 252,
   "metadata": {},
   "outputs": [
    {
     "data": {
      "text/plain": [
       "<function dot_parser.parse_dot_data>"
      ]
     },
     "execution_count": 252,
     "metadata": {},
     "output_type": "execute_result"
    }
   ],
   "source": [
    "pydot.dot_parser.parse_dot_data"
   ]
  },
  {
   "cell_type": "code",
   "execution_count": 260,
   "metadata": {},
   "outputs": [
    {
     "data": {
      "text/plain": [
       "[<pydot.Dot at 0x20115f91c50>]"
      ]
     },
     "execution_count": 260,
     "metadata": {},
     "output_type": "execute_result"
    }
   ],
   "source": []
  },
  {
   "cell_type": "code",
   "execution_count": 265,
   "metadata": {},
   "outputs": [
    {
     "data": {
      "text/plain": [
       "1"
      ]
     },
     "execution_count": 265,
     "metadata": {},
     "output_type": "execute_result"
    }
   ],
   "source": [
    "import os\n",
    "tree = rf.estimators_[5]\n",
    "export_graphviz(tree, out_file = 'tree.dot', feature_names = feature_list, filled = True, rounded = True)\n",
    "os.system('dot -Tpng tree.dot -o tree.png')\n",
    "#(graph, ) = pydot.graph_from_dot_file('tree.dot')\n",
    "#graph.write_png('tree.png')\n",
    "#pydot.dot_parser.parse_dot_data(\"tree.dot\")"
   ]
  },
  {
   "cell_type": "markdown",
   "metadata": {},
   "source": [
    "### Looking at whether a company would be a one time donor after donation "
   ]
  },
  {
   "cell_type": "code",
   "execution_count": 58,
   "metadata": {},
   "outputs": [],
   "source": [
    "\n",
    "def clean_food(x): \n",
    "    x = x.drop([\"Unnamed: 0\", \"Unnamed: 0.1\", \"Id\", \"id\", \"number\", \"street\", \"city\", \n",
    "                  \"zip\", \"lat\", \"lon\", \"month\", \"weekday\"], axis = 1)\n",
    "    x[\"date\"] = pd.to_datetime(x[\"date\"])\n",
    "    x[\"size\"] = x[\"size\"].astype(\"str\")\n",
    "    x_num_donation = x.groupby(\"company\")[\"company\"].count()\n",
    "    x_one_donation = (x_num_donation == 1).astype(\"int\")\n",
    "    x_size = x.groupby(\"company\")[\"size\"].first()\n",
    "    x_type = x.groupby(\"company\")[\"type\"].first()\n",
    "    x_state = x.groupby(\"company\")[\"state\"].first()\n",
    "    x_last_donation_weeks = (np.max(x[\"date\"]) - x.groupby(\"company\")[\"date\"].agg(np.max)).apply(lambda x: x.days)//7\n",
    "    #x_last_donation = x[x.groupby(\"company\").date.transform(\"max\") == x[\"date\"]].groupby(\"company\").first()[\"pounds\"]\n",
    "    x_first_donation = x[x.groupby(\"company\").date.transform(\"min\") == x[\"date\"]].groupby(\"company\").first()[\"pounds\"]\n",
    "    company = pd.DataFrame({\"multi_donor\": 1 - x_one_donation,\n",
    "                       \"size\": x_size, \"type\": x_type,\n",
    "                       \"state\": x_state, \n",
    "                        \"first_donation\": x_first_donation,\n",
    "                        })\n",
    "    return pd.get_dummies(company)\n",
    "company2 = clean_food(food)\n",
    "company3 = clean_food(food2)\n",
    "company4 = clean_food(food3)\n"
   ]
  },
  {
   "cell_type": "code",
   "execution_count": 59,
   "metadata": {},
   "outputs": [
    {
     "data": {
      "text/plain": [
       "Index(['first_donation', 'multi_donor', 'size_10.0', 'size_1000.0',\n",
       "       'size_10000.0', 'size_10001.0', 'size_200.0', 'size_50.0', 'size_500.0',\n",
       "       'size_5000.0', 'state_California', 'state_New York',\n",
       "       'state_Underdeveloped', 'type_applied', 'type_bus', 'type_comm',\n",
       "       'type_edu-health', 'type_fin', 'type_food', 'type_other', 'type_sale',\n",
       "       'type_soft', 'type_web'],\n",
       "      dtype='object')"
      ]
     },
     "execution_count": 59,
     "metadata": {},
     "output_type": "execute_result"
    }
   ],
   "source": [
    "company2.columns"
   ]
  },
  {
   "cell_type": "code",
   "execution_count": 60,
   "metadata": {},
   "outputs": [],
   "source": [
    "def combine_size_type(x):\n",
    "    x[\"food_other_sale\"] = x.iloc[:, [18, 19, 20]].sum(axis = 1)\n",
    "    x[\"applied_comm_edu/health_web\"] = x.iloc[:, [13, 15, 16, 22]].sum(axis = 1)\n",
    "    x[\"fin_bus\"] = x.iloc[:, [17, 14]].sum(axis = 1)\n",
    "    x = x.drop([\"type_applied\", \"type_food\", \"type_other\", \"type_sale\", \"type_comm\", \n",
    "                       \"type_edu-health\", \"type_web\", \"type_fin\", \"type_bus\"], axis = 1)\n",
    "    x[\"size_10/50/5000\"] = x.iloc[:, [2, 7, 9]].sum(axis = 1)\n",
    "    x[\"size_200/500\"] = x.iloc[:, [6, 8]].sum(axis = 1)\n",
    "    x[\"state_CA_NY\"] = x.iloc[:, [10, 11]].sum(axis = 1)\n",
    "    x = x.drop([\"state_California\", \"state_New York\", \"size_10.0\", \"size_50.0\", \"size_200.0\", \"size_500.0\", \"size_5000.0\"], axis = 1)\n",
    "    return x \n",
    "company2 = combine_size_type(company2)\n",
    "company3 = combine_size_type(company3)\n",
    "company4 = combine_size_type(company4)"
   ]
  },
  {
   "cell_type": "code",
   "execution_count": 61,
   "metadata": {},
   "outputs": [],
   "source": [
    "features2 = company2.drop([\"multi_donor\"], axis = 1) \n",
    "y2 = company2[\"multi_donor\"]\n",
    "feature2_list = list(features2.columns)\n",
    "features2 = np.array(features2)\n",
    "train_features2, test_features2, train_labels2, test_labels2 = train_test_split(features2, y2, test_size = 0.25, random_state = 23156)\n",
    "\n",
    "features3 = company3.drop([\"multi_donor\"], axis = 1) \n",
    "y3 = company3[\"multi_donor\"]\n",
    "feature3_list = list(features3.columns)\n",
    "features3 = np.array(features3)\n",
    "train_features3, test_features3, train_labels3, test_labels3 = train_test_split(features3, y3, test_size = 0.25, random_state = 23156)\n",
    "\n",
    "features4 = company4.drop([\"multi_donor\"], axis = 1) \n",
    "y4 = company4[\"multi_donor\"]\n",
    "feature4_list = list(features4.columns)\n",
    "features4 = np.array(features4)\n",
    "train_features4, test_features4, train_labels4, test_labels4 = train_test_split(features4, y4, test_size = 0.25, random_state = 23156)\n"
   ]
  },
  {
   "cell_type": "markdown",
   "metadata": {},
   "source": [
    "### Baseline "
   ]
  },
  {
   "cell_type": "code",
   "execution_count": 57,
   "metadata": {},
   "outputs": [
    {
     "data": {
      "text/plain": [
       "['first_donation',\n",
       " 'size_1000.0',\n",
       " 'size_10000.0',\n",
       " 'size_10001.0',\n",
       " 'state_California',\n",
       " 'state_New York',\n",
       " 'state_Underdeveloped',\n",
       " 'type_soft',\n",
       " 'food_other_sale',\n",
       " 'applied_comm_edu/health_web',\n",
       " 'fin_bus',\n",
       " 'size_10/50/5000',\n",
       " 'size_200/500',\n",
       " 'state_CA_NY']"
      ]
     },
     "execution_count": 57,
     "metadata": {},
     "output_type": "execute_result"
    }
   ],
   "source": [
    "feature2_list"
   ]
  },
  {
   "cell_type": "code",
   "execution_count": 45,
   "metadata": {
    "scrolled": false
   },
   "outputs": [
    {
     "name": "stdout",
     "output_type": "stream",
     "text": [
      "0.6742424242424242 0.7777777777777778\n"
     ]
    }
   ],
   "source": [
    "print(sum(train_labels2 == 1)/train_labels2.shape[0], \n",
    "      sum(test_labels2 == 1)/test_labels2.shape[0])"
   ]
  },
  {
   "cell_type": "code",
   "execution_count": 46,
   "metadata": {},
   "outputs": [
    {
     "name": "stdout",
     "output_type": "stream",
     "text": [
      "0.6666666666666666 0.7659574468085106\n"
     ]
    }
   ],
   "source": [
    "print(sum(train_labels3 == 1)/train_labels3.shape[0], \n",
    "      sum(test_labels3 == 1)/test_labels3.shape[0])"
   ]
  },
  {
   "cell_type": "markdown",
   "metadata": {},
   "source": [
    "#### Initial Random Forest "
   ]
  },
  {
   "cell_type": "code",
   "execution_count": 33,
   "metadata": {},
   "outputs": [
    {
     "name": "stdout",
     "output_type": "stream",
     "text": [
      "Training Accuracy\n",
      "Overall Accuracy: 0.94\n",
      "Precision Score: 0.93\n",
      "Recall Score: 0.99\n",
      "Testing Accuracy\n",
      "Overall Accuracy: 0.62\n",
      "Precision Score: 0.80\n",
      "Recall Score: 0.69\n"
     ]
    }
   ],
   "source": [
    "rf2 = RandomForestClassifier(n_estimators = 1000, random_state = 23456)\n",
    "rf2.fit(train_features2, train_labels2);\n",
    "overall_accuracy_train = sum(rf2.predict(train_features2) == train_labels2)/len(train_labels2)\n",
    "precision_accuracy_train = precision_score(train_labels2, rf2.predict(train_features2))\n",
    "recall_accuracy_train = recall_score(train_labels2, rf2.predict(train_features2))\n",
    "overall_accuracy_test = sum(rf2.predict(test_features2) == test_labels2)/len(test_labels2)\n",
    "precision_accuracy_test = precision_score(test_labels2, rf2.predict(test_features2))\n",
    "recall_accuracy_test = recall_score(test_labels2, rf2.predict(test_features2))\n",
    "\n",
    "print(\"Training Accuracy\")\n",
    "print(\"Overall Accuracy: {0:0.2f}\". format( \n",
    "        overall_accuracy_train))\n",
    "print('Precision Score: {0:0.2f}'.format(\n",
    "      precision_accuracy_train))\n",
    "print('Recall Score: {0:0.2f}'.format(\n",
    "      recall_accuracy_train))\n",
    "print(\"Testing Accuracy\")\n",
    "print(\"Overall Accuracy: {0:0.2f}\". format( \n",
    "        overall_accuracy_test))\n",
    "print('Precision Score: {0:0.2f}'.format(\n",
    "      precision_accuracy_test))\n",
    "print('Recall Score: {0:0.2f}'.format(\n",
    "      recall_accuracy_test))"
   ]
  },
  {
   "cell_type": "code",
   "execution_count": 417,
   "metadata": {},
   "outputs": [
    {
     "name": "stdout",
     "output_type": "stream",
     "text": [
      "Training Accuracy\n",
      "Overall Accuracy: 0.97\n",
      "Precision Score: 0.96\n",
      "Recall Score: 1.00\n",
      "Testing Accuracy\n",
      "Overall Accuracy: 0.57\n",
      "Precision Score: 0.77\n",
      "Recall Score: 0.64\n"
     ]
    }
   ],
   "source": [
    "rf3 = RandomForestClassifier(n_estimators = 1000, random_state = 12356)\n",
    "rf3.fit(train_features3, train_labels3);\n",
    "overall_accuracy_train = sum(rf3.predict(train_features3) == train_labels3)/len(train_labels3)\n",
    "precision_accuracy_train = precision_score(train_labels3, rf3.predict(train_features3))\n",
    "recall_accuracy_train = recall_score(train_labels3, rf3.predict(train_features3))\n",
    "overall_accuracy_test = sum(rf3.predict(test_features3) == test_labels3)/len(test_labels3)\n",
    "precision_accuracy_test = precision_score(test_labels3, rf3.predict(test_features3))\n",
    "recall_accuracy_test = recall_score(test_labels3, rf3.predict(test_features3))\n",
    "\n",
    "print(\"Training Accuracy\")\n",
    "print(\"Overall Accuracy: {0:0.2f}\". format( \n",
    "        overall_accuracy_train))\n",
    "print('Precision Score: {0:0.2f}'.format(\n",
    "      precision_accuracy_train))\n",
    "print('Recall Score: {0:0.2f}'.format(\n",
    "      recall_accuracy_train))\n",
    "print(\"Testing Accuracy\")\n",
    "print(\"Overall Accuracy: {0:0.2f}\". format( \n",
    "        overall_accuracy_test))\n",
    "print('Precision Score: {0:0.2f}'.format(\n",
    "      precision_accuracy_test))\n",
    "print('Recall Score: {0:0.2f}'.format(\n",
    "      recall_accuracy_test))"
   ]
  },
  {
   "cell_type": "markdown",
   "metadata": {},
   "source": [
    "#### Random Grid Search"
   ]
  },
  {
   "cell_type": "code",
   "execution_count": 423,
   "metadata": {},
   "outputs": [
    {
     "name": "stdout",
     "output_type": "stream",
     "text": [
      "Fitting 5 folds for each of 500 candidates, totalling 2500 fits\n"
     ]
    },
    {
     "name": "stderr",
     "output_type": "stream",
     "text": [
      "[Parallel(n_jobs=-1)]: Done  33 tasks      | elapsed:   27.3s\n",
      "[Parallel(n_jobs=-1)]: Done 154 tasks      | elapsed:  2.0min\n",
      "[Parallel(n_jobs=-1)]: Done 357 tasks      | elapsed:  4.5min\n",
      "[Parallel(n_jobs=-1)]: Done 640 tasks      | elapsed:  7.7min\n",
      "[Parallel(n_jobs=-1)]: Done 1005 tasks      | elapsed: 11.6min\n",
      "[Parallel(n_jobs=-1)]: Done 1450 tasks      | elapsed: 17.4min\n",
      "[Parallel(n_jobs=-1)]: Done 1977 tasks      | elapsed: 25.8min\n",
      "[Parallel(n_jobs=-1)]: Done 2500 out of 2500 | elapsed: 33.3min finished\n"
     ]
    },
    {
     "data": {
      "text/plain": [
       "{'bootstrap': True,\n",
       " 'max_depth': 12,\n",
       " 'max_features': 2,\n",
       " 'min_samples_leaf': 12,\n",
       " 'min_samples_split': 5,\n",
       " 'n_estimators': 1200}"
      ]
     },
     "execution_count": 423,
     "metadata": {},
     "output_type": "execute_result"
    }
   ],
   "source": [
    "n_estimators = [int(x) for x in np.linspace(start = 200, stop = 2000, num = 10)]\n",
    "max_features = [1, 2, 3, 4, 5, 6, 7, 8, 9, 10, 11, 12]\n",
    "max_depth = [int(x) for x in np.linspace(start = 3, stop = 30, num = 10)] \n",
    "#max_depth.append(None)\n",
    "min_samples_split = [int(x) for x in np.linspace(start = 5, stop = 45, num = 9)]\n",
    "min_samples_leaf = [int(x) for x in np.linspace(start = 3, stop = 12, num = 4)]\n",
    "bootstrap = [True, False] \n",
    "\n",
    "random_grid = {'n_estimators': n_estimators,\n",
    "               'max_features': max_features,\n",
    "               'max_depth': max_depth,\n",
    "               'min_samples_split': min_samples_split,\n",
    "               'min_samples_leaf': min_samples_leaf,\n",
    "               'bootstrap': bootstrap}\n",
    "rf2 = RandomForestClassifier()\n",
    "rf2_random = RandomizedSearchCV(estimator = rf2, param_distributions = random_grid,\n",
    "                              n_iter = 500, cv = 5, verbose = 2, random_state = 23456,\n",
    "                              n_jobs = -1, scoring = \"f1\")\n",
    "rf2_random.fit(train_features2, train_labels2)\n",
    "rf2_random.best_params_"
   ]
  },
  {
   "cell_type": "code",
   "execution_count": 439,
   "metadata": {
    "scrolled": false
   },
   "outputs": [
    {
     "name": "stdout",
     "output_type": "stream",
     "text": [
      "Training Accuracy\n",
      "Overall Accuracy: 0.67\n",
      "Precision Score: 0.67\n",
      "Recall Score: 1.00\n",
      "Testing Accuracy\n",
      "Overall Accuracy: 0.78\n",
      "Precision Score: 0.78\n",
      "Recall Score: 1.00\n"
     ]
    }
   ],
   "source": [
    "rf2 = RandomForestClassifier(bootstrap = True,\n",
    "                            max_depth = 12,\n",
    "                            max_features = 2,\n",
    "                            min_samples_leaf = 12,\n",
    "                            min_samples_split = 5,\n",
    "                            n_estimators = 1200,\n",
    "                            random_state = 23456)\n",
    "rf2.fit(train_features2, train_labels2);\n",
    "overall_accuracy_train = sum(rf2.predict(train_features2) == train_labels2)/len(train_labels2)\n",
    "precision_accuracy_train = precision_score(train_labels2, rf2.predict(train_features2))\n",
    "recall_accuracy_train = recall_score(train_labels2, rf2.predict(train_features2))\n",
    "overall_accuracy_test = sum(rf2.predict(test_features2) == test_labels2)/len(test_labels2)\n",
    "precision_accuracy_test = precision_score(test_labels2, rf2.predict(test_features2))\n",
    "recall_accuracy_test = recall_score(test_labels2, rf2.predict(test_features2))\n",
    "\n",
    "print(\"Training Accuracy\")\n",
    "print(\"Overall Accuracy: {0:0.2f}\". format( \n",
    "        overall_accuracy_train))\n",
    "print('Precision Score: {0:0.2f}'.format(\n",
    "      precision_accuracy_train))\n",
    "print('Recall Score: {0:0.2f}'.format(\n",
    "      recall_accuracy_train))\n",
    "print(\"Testing Accuracy\")\n",
    "print(\"Overall Accuracy: {0:0.2f}\". format( \n",
    "        overall_accuracy_test))\n",
    "print('Precision Score: {0:0.2f}'.format(\n",
    "      precision_accuracy_test))\n",
    "print('Recall Score: {0:0.2f}'.format(\n",
    "      recall_accuracy_test))"
   ]
  },
  {
   "cell_type": "code",
   "execution_count": 425,
   "metadata": {
    "scrolled": true
   },
   "outputs": [
    {
     "name": "stdout",
     "output_type": "stream",
     "text": [
      "Fitting 5 folds for each of 500 candidates, totalling 2500 fits\n"
     ]
    },
    {
     "name": "stderr",
     "output_type": "stream",
     "text": [
      "[Parallel(n_jobs=-1)]: Done  33 tasks      | elapsed:   39.5s\n",
      "[Parallel(n_jobs=-1)]: Done 154 tasks      | elapsed:  1.7min\n",
      "[Parallel(n_jobs=-1)]: Done 357 tasks      | elapsed:  3.6min\n",
      "[Parallel(n_jobs=-1)]: Done 640 tasks      | elapsed:  6.3min\n",
      "[Parallel(n_jobs=-1)]: Done 1005 tasks      | elapsed:  9.6min\n",
      "[Parallel(n_jobs=-1)]: Done 1450 tasks      | elapsed: 14.5min\n",
      "[Parallel(n_jobs=-1)]: Done 1977 tasks      | elapsed: 19.8min\n",
      "[Parallel(n_jobs=-1)]: Done 2500 out of 2500 | elapsed: 24.6min finished\n"
     ]
    },
    {
     "data": {
      "text/plain": [
       "{'bootstrap': False,\n",
       " 'max_depth': 3,\n",
       " 'max_features': 4,\n",
       " 'min_samples_leaf': 9,\n",
       " 'min_samples_split': 40,\n",
       " 'n_estimators': 1600}"
      ]
     },
     "execution_count": 425,
     "metadata": {},
     "output_type": "execute_result"
    }
   ],
   "source": [
    "rf3 = RandomForestClassifier()\n",
    "rf3_random = RandomizedSearchCV(estimator = rf3, param_distributions = random_grid,\n",
    "                              n_iter = 500, cv = 5, verbose = 2, random_state = 23456,\n",
    "                              n_jobs = -1, scoring = \"f1\")\n",
    "rf3_random.fit(train_features3, train_labels3)\n",
    "rf3_random.best_params_"
   ]
  },
  {
   "cell_type": "code",
   "execution_count": 426,
   "metadata": {},
   "outputs": [
    {
     "name": "stdout",
     "output_type": "stream",
     "text": [
      "Training Accuracy\n",
      "Overall Accuracy: 0.70\n",
      "Precision Score: 0.69\n",
      "Recall Score: 0.99\n",
      "Testing Accuracy\n",
      "Overall Accuracy: 0.77\n",
      "Precision Score: 0.78\n",
      "Recall Score: 0.97\n"
     ]
    }
   ],
   "source": [
    "rf3 = RandomForestClassifier(bootstrap = False,\n",
    "                            max_depth = 3,\n",
    "                            max_features = 4,\n",
    "                            min_samples_leaf = 9,\n",
    "                            min_samples_split = 40,\n",
    "                            n_estimators = 1600,\n",
    "                            random_state = 23456)\n",
    "rf3.fit(train_features3, train_labels3);\n",
    "overall_accuracy_train = sum(rf3.predict(train_features3) == train_labels3)/len(train_labels3)\n",
    "precision_accuracy_train = precision_score(train_labels3, rf3.predict(train_features3))\n",
    "recall_accuracy_train = recall_score(train_labels3, rf3.predict(train_features3))\n",
    "overall_accuracy_test = sum(rf3.predict(test_features3) == test_labels3)/len(test_labels3)\n",
    "precision_accuracy_test = precision_score(test_labels3, rf3.predict(test_features3))\n",
    "recall_accuracy_test = recall_score(test_labels3, rf3.predict(test_features3))\n",
    "\n",
    "print(\"Training Accuracy\")\n",
    "print(\"Overall Accuracy: {0:0.2f}\". format( \n",
    "        overall_accuracy_train))\n",
    "print('Precision Score: {0:0.2f}'.format(\n",
    "      precision_accuracy_train))\n",
    "print('Recall Score: {0:0.2f}'.format(\n",
    "      recall_accuracy_train))\n",
    "print(\"Testing Accuracy\")\n",
    "print(\"Overall Accuracy: {0:0.2f}\". format( \n",
    "        overall_accuracy_test))\n",
    "print('Precision Score: {0:0.2f}'.format(\n",
    "      precision_accuracy_test))\n",
    "print('Recall Score: {0:0.2f}'.format(\n",
    "      recall_accuracy_test))"
   ]
  },
  {
   "cell_type": "markdown",
   "metadata": {},
   "source": [
    "#### Grid Search CV"
   ]
  },
  {
   "cell_type": "code",
   "execution_count": 429,
   "metadata": {},
   "outputs": [
    {
     "name": "stdout",
     "output_type": "stream",
     "text": [
      "Fitting 5 folds for each of 2000 candidates, totalling 10000 fits\n"
     ]
    },
    {
     "name": "stderr",
     "output_type": "stream",
     "text": [
      "[Parallel(n_jobs=-1)]: Done  33 tasks      | elapsed:   29.2s\n",
      "[Parallel(n_jobs=-1)]: Done 154 tasks      | elapsed:  2.5min\n",
      "[Parallel(n_jobs=-1)]: Done 357 tasks      | elapsed:  5.7min\n",
      "[Parallel(n_jobs=-1)]: Done 640 tasks      | elapsed: 12.3min\n",
      "[Parallel(n_jobs=-1)]: Done 1005 tasks      | elapsed: 20.2min\n",
      "[Parallel(n_jobs=-1)]: Done 1450 tasks      | elapsed: 30.3min\n",
      "[Parallel(n_jobs=-1)]: Done 1977 tasks      | elapsed: 38.8min\n",
      "[Parallel(n_jobs=-1)]: Done 2584 tasks      | elapsed: 47.9min\n",
      "[Parallel(n_jobs=-1)]: Done 3273 tasks      | elapsed: 58.1min\n",
      "[Parallel(n_jobs=-1)]: Done 4042 tasks      | elapsed: 69.4min\n",
      "[Parallel(n_jobs=-1)]: Done 4893 tasks      | elapsed: 82.2min\n",
      "[Parallel(n_jobs=-1)]: Done 5824 tasks      | elapsed: 95.7min\n",
      "[Parallel(n_jobs=-1)]: Done 6837 tasks      | elapsed: 110.6min\n",
      "[Parallel(n_jobs=-1)]: Done 7930 tasks      | elapsed: 126.6min\n",
      "[Parallel(n_jobs=-1)]: Done 9105 tasks      | elapsed: 144.1min\n",
      "[Parallel(n_jobs=-1)]: Done 10000 out of 10000 | elapsed: 157.6min finished\n"
     ]
    },
    {
     "data": {
      "text/plain": [
       "{'bootstrap': False,\n",
       " 'max_depth': 2,\n",
       " 'max_features': 2,\n",
       " 'min_samples_leaf': 5,\n",
       " 'min_samples_split': 30,\n",
       " 'n_estimators': 1500}"
      ]
     },
     "execution_count": 429,
     "metadata": {},
     "output_type": "execute_result"
    }
   ],
   "source": [
    "n_estimators = [1500, 1600, 1700, 1800]\n",
    "max_features = [2, 3, 4, 5, 8]\n",
    "max_depth = [2, 3, 4, 5] \n",
    "min_samples_leaf = [5, 8, 9, 10, 12]\n",
    "min_samples_split =  [30, 35, 40, 45, 50]\n",
    "from sklearn.model_selection import GridSearchCV\n",
    "param_grid2 = {'n_estimators': n_estimators,\n",
    "               'max_features': max_features,\n",
    "               'max_depth': max_depth,\n",
    "               'min_samples_split': min_samples_split,\n",
    "               'min_samples_leaf': min_samples_leaf,\n",
    "               'bootstrap': [False]}\n",
    "rf2 = RandomForestClassifier()\n",
    "grid_search2 = GridSearchCV(estimator = rf2, param_grid = param_grid2, cv = 5,\n",
    "                          n_jobs = -1, verbose = 2, scoring = \"f1\") \n",
    "grid_search2.fit(train_features2, train_labels2)\n",
    "grid_search2.best_params_"
   ]
  },
  {
   "cell_type": "code",
   "execution_count": 62,
   "metadata": {
    "scrolled": true
   },
   "outputs": [
    {
     "name": "stdout",
     "output_type": "stream",
     "text": [
      "Training Accuracy\n",
      "Overall Accuracy: 0.67\n",
      "Precision Score: 0.67\n",
      "Recall Score: 1.00\n",
      "Testing Accuracy\n",
      "Overall Accuracy: 0.78\n",
      "Precision Score: 0.78\n",
      "Recall Score: 1.00\n"
     ]
    }
   ],
   "source": [
    "rf2 = RandomForestClassifier(bootstrap = False,\n",
    "                            max_depth = 2,\n",
    "                            max_features = 2,\n",
    "                            min_samples_leaf = 5,\n",
    "                            min_samples_split = 30,\n",
    "                            n_estimators = 1500,\n",
    "                            random_state = 23456)\n",
    "rf2.fit(train_features2, train_labels2);\n",
    "overall_accuracy_train = sum(rf2.predict(train_features2) == train_labels2)/len(train_labels2)\n",
    "precision_accuracy_train = precision_score(train_labels2, rf2.predict(train_features2))\n",
    "recall_accuracy_train = recall_score(train_labels2, rf2.predict(train_features2))\n",
    "overall_accuracy_test = sum(rf2.predict(test_features2) == test_labels2)/len(test_labels2)\n",
    "precision_accuracy_test = precision_score(test_labels2, rf2.predict(test_features2))\n",
    "recall_accuracy_test = recall_score(test_labels2, rf2.predict(test_features2))\n",
    "\n",
    "print(\"Training Accuracy\")\n",
    "print(\"Overall Accuracy: {0:0.2f}\". format( \n",
    "        overall_accuracy_train))\n",
    "print('Precision Score: {0:0.2f}'.format(\n",
    "      precision_accuracy_train))\n",
    "print('Recall Score: {0:0.2f}'.format(\n",
    "      recall_accuracy_train))\n",
    "print(\"Testing Accuracy\")\n",
    "print(\"Overall Accuracy: {0:0.2f}\". format( \n",
    "        overall_accuracy_test))\n",
    "print('Precision Score: {0:0.2f}'.format(\n",
    "      precision_accuracy_test))\n",
    "print('Recall Score: {0:0.2f}'.format(\n",
    "      recall_accuracy_test))"
   ]
  },
  {
   "cell_type": "code",
   "execution_count": 28,
   "metadata": {},
   "outputs": [
    {
     "name": "stdout",
     "output_type": "stream",
     "text": [
      "Fitting 5 folds for each of 2000 candidates, totalling 10000 fits\n"
     ]
    },
    {
     "name": "stderr",
     "output_type": "stream",
     "text": [
      "[Parallel(n_jobs=-1)]: Done  33 tasks      | elapsed:   51.5s\n",
      "[Parallel(n_jobs=-1)]: Done 154 tasks      | elapsed:  2.9min\n",
      "[Parallel(n_jobs=-1)]: Done 357 tasks      | elapsed:  5.3min\n",
      "[Parallel(n_jobs=-1)]: Done 640 tasks      | elapsed: 10.1min\n",
      "[Parallel(n_jobs=-1)]: Done 1005 tasks      | elapsed: 15.0min\n",
      "[Parallel(n_jobs=-1)]: Done 1450 tasks      | elapsed: 21.3min\n",
      "[Parallel(n_jobs=-1)]: Done 1977 tasks      | elapsed: 29.6min\n",
      "[Parallel(n_jobs=-1)]: Done 2584 tasks      | elapsed: 38.4min\n",
      "[Parallel(n_jobs=-1)]: Done 3273 tasks      | elapsed: 49.3min\n",
      "[Parallel(n_jobs=-1)]: Done 4042 tasks      | elapsed: 60.8min\n",
      "[Parallel(n_jobs=-1)]: Done 4893 tasks      | elapsed: 74.6min\n",
      "[Parallel(n_jobs=-1)]: Done 5824 tasks      | elapsed: 90.5min\n",
      "[Parallel(n_jobs=-1)]: Done 6837 tasks      | elapsed: 108.1min\n",
      "[Parallel(n_jobs=-1)]: Done 7930 tasks      | elapsed: 125.6min\n",
      "[Parallel(n_jobs=-1)]: Done 9105 tasks      | elapsed: 143.8min\n",
      "[Parallel(n_jobs=-1)]: Done 10000 out of 10000 | elapsed: 158.0min finished\n"
     ]
    },
    {
     "data": {
      "text/plain": [
       "{'bootstrap': False,\n",
       " 'max_depth': 3,\n",
       " 'max_features': 4,\n",
       " 'min_samples_leaf': 8,\n",
       " 'min_samples_split': 30,\n",
       " 'n_estimators': 1600}"
      ]
     },
     "execution_count": 28,
     "metadata": {},
     "output_type": "execute_result"
    }
   ],
   "source": [
    "n_estimators = [1000, 1500, 1600, 1700, 2000]\n",
    "max_features = [3, 4, 5, 6]\n",
    "max_depth = [2, 3, 4, 5] \n",
    "min_samples_leaf = [7, 8, 9, 10, 12]\n",
    "min_samples_split =  [30, 35, 40, 45, 50]\n",
    "param_grid3 = {'n_estimators': n_estimators,\n",
    "               'max_features': max_features,\n",
    "               'max_depth': max_depth,\n",
    "               'min_samples_split': min_samples_split,\n",
    "               'min_samples_leaf': min_samples_leaf,\n",
    "               'bootstrap': [False]}\n",
    "rf3 = RandomForestClassifier()\n",
    "grid_search3 = GridSearchCV(estimator = rf3, param_grid = param_grid3, cv = 5,\n",
    "                          n_jobs = -1, verbose = 2, scoring = \"f1\") \n",
    "grid_search3.fit(train_features3, train_labels3)\n",
    "grid_search3.best_params_"
   ]
  },
  {
   "cell_type": "code",
   "execution_count": 29,
   "metadata": {},
   "outputs": [
    {
     "name": "stdout",
     "output_type": "stream",
     "text": [
      "Training Accuracy\n",
      "Overall Accuracy: 0.72\n",
      "Precision Score: 0.71\n",
      "Recall Score: 0.99\n",
      "Testing Accuracy\n",
      "Overall Accuracy: 0.74\n",
      "Precision Score: 0.77\n",
      "Recall Score: 0.94\n"
     ]
    }
   ],
   "source": [
    "rf3 = RandomForestClassifier(bootstrap = False,\n",
    "                            max_depth = 3,\n",
    "                            max_features = 4,\n",
    "                            min_samples_leaf = 8,\n",
    "                            min_samples_split = 30,\n",
    "                            n_estimators = 1600,\n",
    "                            random_state = 23456)\n",
    "rf3.fit(train_features3, train_labels3);\n",
    "overall_accuracy_train = sum(rf3.predict(train_features3) == train_labels3)/len(train_labels3)\n",
    "precision_accuracy_train = precision_score(train_labels3, rf3.predict(train_features3))\n",
    "recall_accuracy_train = recall_score(train_labels3, rf3.predict(train_features3))\n",
    "overall_accuracy_test = sum(rf3.predict(test_features3) == test_labels3)/len(test_labels3)\n",
    "precision_accuracy_test = precision_score(test_labels3, rf3.predict(test_features3))\n",
    "recall_accuracy_test = recall_score(test_labels3, rf3.predict(test_features3))\n",
    "\n",
    "print(\"Training Accuracy\")\n",
    "print(\"Overall Accuracy: {0:0.2f}\". format( \n",
    "        overall_accuracy_train))\n",
    "print('Precision Score: {0:0.2f}'.format(\n",
    "      precision_accuracy_train))\n",
    "print('Recall Score: {0:0.2f}'.format(\n",
    "      recall_accuracy_train))\n",
    "print(\"Testing Accuracy\")\n",
    "print(\"Overall Accuracy: {0:0.2f}\". format( \n",
    "        overall_accuracy_test))\n",
    "print('Precision Score: {0:0.2f}'.format(\n",
    "      precision_accuracy_test))\n",
    "print('Recall Score: {0:0.2f}'.format(\n",
    "      recall_accuracy_test))"
   ]
  },
  {
   "cell_type": "markdown",
   "metadata": {},
   "source": [
    "#### Final RF model with best parameters"
   ]
  },
  {
   "cell_type": "code",
   "execution_count": 63,
   "metadata": {
    "scrolled": true
   },
   "outputs": [
    {
     "name": "stdout",
     "output_type": "stream",
     "text": [
      "Variable: first_donation       Importance: 0.26\n",
      "Variable: size_1000.0          Importance: 0.19\n",
      "Variable: size_10/50/5000      Importance: 0.16\n",
      "Variable: fin_bus              Importance: 0.14\n",
      "Variable: applied_comm_edu/health_web Importance: 0.09\n",
      "Variable: size_10001.0         Importance: 0.03\n",
      "Variable: type_soft            Importance: 0.03\n",
      "Variable: food_other_sale      Importance: 0.03\n",
      "Variable: size_200/500         Importance: 0.02\n",
      "Variable: size_10000.0         Importance: 0.0\n",
      "Variable: state_Underdeveloped Importance: 0.0\n",
      "Variable: state_CA_NY          Importance: 0.0\n"
     ]
    }
   ],
   "source": [
    "importances = list(rf2.feature_importances_)\n",
    "feature2_importances = [(feature, round(importance, 2)) for feature, importance in zip(feature2_list, importances)]\n",
    "feature2_importances = sorted(feature2_importances, key = lambda x: x[1], reverse = True)\n",
    "[print('Variable: {:20} Importance: {}'.format(*pair)) for pair in feature2_importances];"
   ]
  },
  {
   "cell_type": "code",
   "execution_count": 64,
   "metadata": {},
   "outputs": [],
   "source": [
    "preds = rf2.predict(test_features2)\n",
    "predicted_one_time = [i for i in range(len(preds)) if preds[i] == 1]\n",
    "predicted_multi_time = [i for i in range(len(preds)) if preds[i] == 0]\n",
    "true_one_time = [i for i in range(len(test_labels)) if np.array(test_labels)[i] == 1]\n",
    "true_multi_time = [i for i in range(len(test_labels)) if np.array(test_labels)[i] == 0]\n",
    "true_positives = len(np.intersect1d(predicted_one_time, true_one_time))\n",
    "false_positives = len(np.intersect1d(predicted_one_time, true_multi_time))\n",
    "true_negatives = len(np.intersect1d(predicted_multi_time, true_multi_time))\n",
    "false_negatives = len(np.intersect1d(predicted_multi_time, true_one_time))"
   ]
  },
  {
   "cell_type": "code",
   "execution_count": 65,
   "metadata": {
    "scrolled": true
   },
   "outputs": [
    {
     "name": "stdout",
     "output_type": "stream",
     "text": [
      "Variable: first_donation       Importance: 0.41\n",
      "Variable: state_CA_NY          Importance: 0.18\n",
      "Variable: size_1000.0          Importance: 0.14\n",
      "Variable: type_soft            Importance: 0.13\n",
      "Variable: state_Underdeveloped Importance: 0.02\n",
      "Variable: size_200/500         Importance: 0.02\n",
      "Variable: fin_bus              Importance: 0.01\n",
      "Variable: size_10/50/5000      Importance: 0.01\n",
      "Variable: size_10000.0         Importance: 0.0\n",
      "Variable: size_10001.0         Importance: 0.0\n",
      "Variable: food_other_sale      Importance: 0.0\n",
      "Variable: applied_comm_edu/health_web Importance: 0.0\n"
     ]
    }
   ],
   "source": [
    "importances = list(rf3.feature_importances_)\n",
    "feature3_importances = [(feature, round(importance, 2)) for feature, importance in zip(feature3_list, importances)]\n",
    "feature3_importances = sorted(feature3_importances, key = lambda x: x[1], reverse = True)\n",
    "[print('Variable: {:20} Importance: {}'.format(*pair)) for pair in feature3_importances];"
   ]
  },
  {
   "cell_type": "code",
   "execution_count": 200,
   "metadata": {},
   "outputs": [
    {
     "name": "stdout",
     "output_type": "stream",
     "text": [
      "Variable: last_donation_weeks  Importance: 0.51\n",
      "Variable: last_donation        Importance: 0.21\n",
      "Variable: state_New York       Importance: 0.04\n",
      "Variable: size_200/500         Importance: 0.04\n",
      "Variable: state_California     Importance: 0.03\n",
      "Variable: type_applied         Importance: 0.03\n",
      "Variable: food_other_sale      Importance: 0.03\n",
      "Variable: size_10/50           Importance: 0.03\n",
      "Variable: comm_edu/health_web  Importance: 0.02\n",
      "Variable: fin_bus              Importance: 0.02\n",
      "Variable: size_1000.0          Importance: 0.01\n",
      "Variable: size_5000.0          Importance: 0.01\n",
      "Variable: state_Underdeveloped Importance: 0.01\n",
      "Variable: type_soft            Importance: 0.01\n",
      "Variable: size_10000.0         Importance: 0.0\n",
      "Variable: size_10001.0         Importance: 0.0\n"
     ]
    }
   ],
   "source": [
    "importances = list(rf4.feature_importances_)\n",
    "feature4_importances = [(feature, round(importance, 2)) for feature, importance in zip(feature4_list, importances)]\n",
    "feature4_importances = sorted(feature4_importances, key = lambda x: x[1], reverse = True)\n",
    "[print('Variable: {:20} Importance: {}'.format(*pair)) for pair in feature4_importances];\n"
   ]
  },
  {
   "cell_type": "markdown",
   "metadata": {},
   "source": [
    "# Predicting how much food a company will donate"
   ]
  },
  {
   "cell_type": "code",
   "execution_count": 292,
   "metadata": {},
   "outputs": [],
   "source": [
    "company_regress = pd.read_csv(\"company_regression.csv\")\n",
    "company_regress_comp = company_regress[\"company\"]\n",
    "company_regress = company_regress.drop([\"first_donation\", \"company\", \"avg_donation\"], axis = 1)\n",
    "company_regress[\"start_month\"] = company_regress[\"start_month\"].astype(\"str\")\n",
    "company_regress[\"size\"] = company_regress[\"size\"].astype(\"str\") \n",
    "company_regress = pd.get_dummies(company_regress)\n",
    "company_regress[\"company\"] = company_regress_comp"
   ]
  },
  {
   "cell_type": "markdown",
   "metadata": {},
   "source": [
    "### Combining Types"
   ]
  },
  {
   "cell_type": "code",
   "execution_count": 253,
   "metadata": {},
   "outputs": [
    {
     "data": {
      "text/plain": [
       "138.32533927946213"
      ]
     },
     "execution_count": 253,
     "metadata": {},
     "output_type": "execute_result"
    }
   ],
   "source": [
    "dist = np.array([company_food.sample(1000, replace = True) for j in range(1000)])\n",
    "mean = np.mean(dist)\n",
    "mean"
   ]
  },
  {
   "cell_type": "code",
   "execution_count": 236,
   "metadata": {},
   "outputs": [
    {
     "name": "stdout",
     "output_type": "stream",
     "text": [
      "Company Type and Mean and SD\n",
      "Food 138.824809592 344.410792751\n",
      "Other 14.6351003723 23.937040642\n",
      "Communication 45.3845158437 118.571817679\n",
      "Finance 32.3300056981 39.932939055\n",
      "Software 38.8878961681 57.0140068349\n",
      "Business 34.3069721909 56.2362331395\n",
      "Education-Health 25.0622027412 33.4896544357\n",
      "Applied 46.8045299466 96.120674044\n",
      "Web 32.5109712472 31.6543959714\n",
      "Sale 31.1406461559 68.8492403797\n"
     ]
    }
   ],
   "source": [
    "random.seed(1145)\n",
    "company_food = company_regress[company_regress[\"type_food\"] == 1][\"week_donation\"].sample(1000, replace = True)\n",
    "company_other = company_regress[company_regress[\"type_other\"] == 1][\"week_donation\"].sample(1000, replace = True)\n",
    "company_comm = company_regress[company_regress[\"type_comm\"] == 1][\"week_donation\"].sample(1000, replace = True)\n",
    "company_fin = company_regress[company_regress[\"type_fin\"] == 1][\"week_donation\"].sample(1000, replace = True)\n",
    "company_soft = company_regress[company_regress[\"type_soft\"] == 1][\"week_donation\"].sample(1000, replace = True)\n",
    "company_bus = company_regress[company_regress[\"type_bus\"] == 1][\"week_donation\"].sample(1000, replace = True)\n",
    "company_eh = company_regress[company_regress[\"type_edu-health\"] == 1][\"week_donation\"].sample(1000, replace = True)\n",
    "company_applied = company_regress[company_regress[\"type_applied\"] == 1][\"week_donation\"].sample(1000, replace = True)\n",
    "company_web = company_regress[company_regress[\"type_web\"] == 1][\"week_donation\"].sample(1000, replace = True)\n",
    "company_sale = company_regress[company_regress[\"type_sale\"] == 1][\"week_donation\"].sample(1000, replace = True)\n",
    "dists_name = [\"Food\", \"Other\", \"Communication\", \"Finance\", \"Software\", \n",
    "             \"Business\", \"Education-Health\", \"Applied\", \"Web\", \"Sale\"]\n",
    "dists = [company_food, company_other, company_comm, company_fin, company_soft,\n",
    "        company_bus, company_eh, company_applied, company_web, company_sale]\n",
    "print(\"Company Type and Mean and SD\")\n",
    "for i in range(len(dists)):\n",
    "    print(dists_name[i], np.mean(dists[i]), np.std(dists[i]))"
   ]
  },
  {
   "cell_type": "code",
   "execution_count": 237,
   "metadata": {
    "scrolled": false
   },
   "outputs": [
    {
     "name": "stdout",
     "output_type": "stream",
     "text": [
      "Food and Other: 0.00\n",
      "Food and Communication: 0.00\n",
      "Food and Finance: 0.00\n",
      "Food and Software: 0.00\n",
      "Food and Business: 0.00\n",
      "Food and Education-Health: 0.00\n",
      "Food and Applied: 0.00\n",
      "Food and Web: 0.00\n",
      "Food and Sale: 0.00\n",
      "Other and Communication: 0.00\n",
      "Other and Finance: 0.00\n",
      "Other and Software: 0.00\n",
      "Other and Business: 0.00\n",
      "Other and Education-Health: 0.00\n",
      "Other and Applied: 0.00\n",
      "Other and Web: 0.00\n",
      "Other and Sale: 0.00\n",
      "Communication and Finance: 0.00\n",
      "Communication and Software: 0.12\n",
      "Communication and Business: 0.01\n",
      "Communication and Education-Health: 0.00\n",
      "Communication and Applied: 0.77\n",
      "Communication and Web: 0.00\n",
      "Communication and Sale: 0.00\n",
      "Finance and Software: 0.00\n",
      "Finance and Business: 0.37\n",
      "Finance and Education-Health: 0.00\n",
      "Finance and Applied: 0.00\n",
      "Finance and Web: 0.91\n",
      "Finance and Sale: 0.64\n",
      "Software and Business: 0.07\n",
      "Software and Education-Health: 0.00\n",
      "Software and Applied: 0.03\n",
      "Software and Web: 0.00\n",
      "Software and Sale: 0.01\n",
      "Business and Education-Health: 0.00\n",
      "Business and Applied: 0.00\n",
      "Business and Web: 0.38\n",
      "Business and Sale: 0.26\n",
      "Education-Health and Applied: 0.00\n",
      "Education-Health and Web: 0.00\n",
      "Education-Health and Sale: 0.01\n",
      "Applied and Web: 0.00\n",
      "Applied and Sale: 0.00\n",
      "Web and Sale: 0.57\n"
     ]
    }
   ],
   "source": [
    "for i in range(1, len(dists)): \n",
    "    print(\"Food and \" + dists_name[i] + ': {0:0.2f}'.format(\n",
    "    ttest_ind(company_food, dists[i], equal_var = False)[1]))\n",
    "for i in range(2, len(dists)): \n",
    "    print(\"Other and \" + dists_name[i] + ': {0:0.2f}'.format(\n",
    "    ttest_ind(company_other, dists[i], equal_var = False)[1]))\n",
    "for i in range(3, len(dists)): \n",
    "    print(\"Communication and \" + dists_name[i] + ': {0:0.2f}'.format(\n",
    "    ttest_ind(company_comm, dists[i], equal_var = False)[1]))\n",
    "for i in range(4, len(dists)): \n",
    "    print(\"Finance and \" + dists_name[i] + ': {0:0.2f}'.format(\n",
    "    ttest_ind(company_fin, dists[i], equal_var = False)[1]))\n",
    "for i in range(5, len(dists)): \n",
    "    print(\"Software and \" + dists_name[i] + ': {0:0.2f}'.format(\n",
    "    ttest_ind(company_soft, dists[i], equal_var = False)[1]))\n",
    "for i in range(6, len(dists)): \n",
    "    print(\"Business and \" + dists_name[i] + ': {0:0.2f}'.format(\n",
    "    ttest_ind(company_bus, dists[i], equal_var = False)[1]))\n",
    "for i in range(7, len(dists)): \n",
    "    print(\"Education-Health and \" + dists_name[i] + ': {0:0.2f}'.format(\n",
    "    ttest_ind(company_eh, dists[i], equal_var = False)[1]))\n",
    "for i in range(8, len(dists)): \n",
    "    print(\"Applied and \" + dists_name[i] + ': {0:0.2f}'.format(\n",
    "    ttest_ind(company_applied, dists[i], equal_var = False)[1]))\n",
    "for i in range(9, len(dists)): \n",
    "    print(\"Web and \" + dists_name[i] + ': {0:0.2f}'.format(\n",
    "    ttest_ind(company_web, dists[i], equal_var = False)[1]))"
   ]
  },
  {
   "cell_type": "code",
   "execution_count": 257,
   "metadata": {},
   "outputs": [
    {
     "data": {
      "text/plain": [
       "Index(['week_donation', 'size_10.0', 'size_1000.0', 'size_10000.0',\n",
       "       'size_10001.0', 'size_200.0', 'size_50.0', 'size_500.0', 'size_5000.0',\n",
       "       'start_month_1', 'start_month_10', 'start_month_11', 'start_month_12',\n",
       "       'start_month_2', 'start_month_3', 'start_month_4', 'start_month_5',\n",
       "       'start_month_6', 'start_month_7', 'start_month_8', 'start_month_9',\n",
       "       'state_California', 'state_New York', 'state_underdeveloped',\n",
       "       'type_applied', 'type_bus', 'type_comm', 'type_edu-health', 'type_fin',\n",
       "       'type_food', 'type_other', 'type_sale', 'type_soft', 'type_web',\n",
       "       'company'],\n",
       "      dtype='object')"
      ]
     },
     "execution_count": 257,
     "metadata": {},
     "output_type": "execute_result"
    }
   ],
   "source": [
    "company_regress.columns"
   ]
  },
  {
   "cell_type": "code",
   "execution_count": 293,
   "metadata": {},
   "outputs": [],
   "source": [
    "company_regress[\"type_fin_bus_web_sale\"] = company_regress.iloc[:, [25, 28, 31, 33]].sum(axis = 1)\n",
    "company_regress[\"type_applied_comm\"] = company_regress.iloc[:, [24, 26]].sum(axis = 1)\n",
    "company_regress = company_regress.drop([\"type_applied\", \"type_sale\", \"type_comm\", \n",
    "                    \"type_web\", \"type_fin\", \"type_bus\"], axis = 1)"
   ]
  },
  {
   "cell_type": "markdown",
   "metadata": {},
   "source": [
    "### Combining Sizes "
   ]
  },
  {
   "cell_type": "code",
   "execution_count": 244,
   "metadata": {},
   "outputs": [
    {
     "name": "stdout",
     "output_type": "stream",
     "text": [
      "Company Type and Mean and SD\n",
      "10 22.2824434511 46.9198524214\n",
      "50 18.9470600346 41.6296930828\n",
      "200 47.9868905721 194.117474011\n",
      "500 74.3918297682 101.234272188\n",
      "1000 81.9428365749 121.245719445\n",
      "5000 23.8143068312 27.6773193485\n",
      "10000 24.4119682754 28.4827142495\n",
      "10001 38.2842595208 37.7799954566\n"
     ]
    }
   ],
   "source": [
    "company_10 = company_regress[company_regress[\"size_10.0\"] == 1][\"week_donation\"].sample(1000, replace = True)\n",
    "company_50 = company_regress[company_regress[\"size_50.0\"] == 1][\"week_donation\"].sample(1000, replace = True)\n",
    "company_200 = company_regress[company_regress[\"size_200.0\"] == 1][\"week_donation\"].sample(1000, replace = True)\n",
    "company_500 = company_regress[company_regress[\"size_500.0\"] == 1][\"week_donation\"].sample(1000, replace = True)\n",
    "company_1000 = company_regress[company_regress[\"size_1000.0\"] == 1][\"week_donation\"].sample(1000, replace = True)\n",
    "company_5000 = company_regress[company_regress[\"size_5000.0\"] == 1][\"week_donation\"].sample(1000, replace = True)\n",
    "company_10000 = company_regress[company_regress[\"size_10000.0\"] == 1][\"week_donation\"].sample(1000, replace = True)\n",
    "company_10001 = company_regress[company_regress[\"size_10001.0\"] == 1][\"week_donation\"].sample(1000, replace = True)\n",
    "dists_name = [\"10\", \"50\", \"200\", \"500\", \"1000\", \n",
    "             \"5000\", \"10000\", \"10001\"]\n",
    "dists = [company_10, company_50, company_200, company_500, company_1000,\n",
    "        company_5000, company_10000, company_10001]\n",
    "print(\"Company Type and Mean and SD\")\n",
    "for i in range(len(dists)):\n",
    "    print(dists_name[i], np.mean(dists[i]), np.std(dists[i]))"
   ]
  },
  {
   "cell_type": "code",
   "execution_count": 245,
   "metadata": {},
   "outputs": [
    {
     "name": "stdout",
     "output_type": "stream",
     "text": [
      "10 and 50: 0.09\n",
      "10 and 200: 0.00\n",
      "10 and 500: 0.00\n",
      "10 and 1000: 0.00\n",
      "10 and 5000: 0.37\n",
      "10 and 10000: 0.22\n",
      "10 and 10001: 0.00\n",
      "50 and 200: 0.00\n",
      "50 and 500: 0.00\n",
      "50 and 1000: 0.00\n",
      "50 and 5000: 0.00\n",
      "50 and 10000: 0.00\n",
      "50 and 10001: 0.00\n",
      "200 and 500: 0.00\n",
      "200 and 1000: 0.00\n",
      "200 and 5000: 0.00\n",
      "200 and 10000: 0.00\n",
      "200 and 10001: 0.12\n",
      "500 and 1000: 0.13\n",
      "500 and 5000: 0.00\n",
      "500 and 10000: 0.00\n",
      "500 and 10001: 0.00\n",
      "1000 and 5000: 0.00\n",
      "1000 and 10000: 0.00\n",
      "1000 and 10001: 0.00\n",
      "5000 and 10000: 0.63\n",
      "5000 and 10001: 0.00\n",
      "10000 and 10001: 0.00\n"
     ]
    }
   ],
   "source": [
    "for i in range(1, len(dists)): \n",
    "    print(\"10 and \" + dists_name[i] + ': {0:0.2f}'.format(\n",
    "    ttest_ind(company_10, dists[i], equal_var = False)[1]))\n",
    "for i in range(2, len(dists)): \n",
    "    print(\"50 and \" + dists_name[i] + ': {0:0.2f}'.format(\n",
    "    ttest_ind(company_50, dists[i], equal_var = False)[1]))\n",
    "for i in range(3, len(dists)): \n",
    "    print(\"200 and \" + dists_name[i] + ': {0:0.2f}'.format(\n",
    "    ttest_ind(company_200, dists[i], equal_var = False)[1]))\n",
    "for i in range(4, len(dists)): \n",
    "    print(\"500 and \" + dists_name[i] + ': {0:0.2f}'.format(\n",
    "    ttest_ind(company_500, dists[i], equal_var = False)[1]))\n",
    "for i in range(5, len(dists)): \n",
    "    print(\"1000 and \" + dists_name[i] + ': {0:0.2f}'.format(\n",
    "    ttest_ind(company_1000, dists[i], equal_var = False)[1]))\n",
    "for i in range(6, len(dists)): \n",
    "    print(\"5000 and \" + dists_name[i] + ': {0:0.2f}'.format(\n",
    "    ttest_ind(company_5000, dists[i], equal_var = False)[1]))\n",
    "for i in range(7, len(dists)): \n",
    "    print(\"10000 and \" + dists_name[i] + ': {0:0.2f}'.format(\n",
    "    ttest_ind(company_10000, dists[i], equal_var = False)[1]))\n"
   ]
  },
  {
   "cell_type": "code",
   "execution_count": 260,
   "metadata": {},
   "outputs": [
    {
     "data": {
      "text/plain": [
       "Index(['week_donation', 'size_10.0', 'size_1000.0', 'size_10000.0',\n",
       "       'size_10001.0', 'size_200.0', 'size_50.0', 'size_500.0', 'size_5000.0',\n",
       "       'start_month_1', 'start_month_10', 'start_month_11', 'start_month_12',\n",
       "       'start_month_2', 'start_month_3', 'start_month_4', 'start_month_5',\n",
       "       'start_month_6', 'start_month_7', 'start_month_8', 'start_month_9',\n",
       "       'state_California', 'state_New York', 'state_underdeveloped',\n",
       "       'type_edu-health', 'type_food', 'type_other', 'type_soft', 'company',\n",
       "       'type_fin_bus_web_sale', 'type_applied_comm'],\n",
       "      dtype='object')"
      ]
     },
     "execution_count": 260,
     "metadata": {},
     "output_type": "execute_result"
    }
   ],
   "source": [
    "company_regress.columns"
   ]
  },
  {
   "cell_type": "code",
   "execution_count": 294,
   "metadata": {},
   "outputs": [],
   "source": [
    "company_regress[\"size_10_5000_10000\"] = company_regress.iloc[:, [1, 3, 8]].sum(axis = 1)\n",
    "company_regress[\"size_200_10001\"] = company_regress.iloc[:, [5, 4]].sum(axis = 1)\n",
    "company_regress[\"size_500_1000\"] = company_regress.iloc[:, [2, 7]].sum(axis = 1)\n",
    "company_regress = company_regress.drop([\"size_10.0\", \"size_1000.0\", \"size_10000.0\", \n",
    "                    \"size_10001.0\", \"size_200.0\", \"size_500.0\", \"size_5000.0\"], axis = 1)"
   ]
  },
  {
   "cell_type": "markdown",
   "metadata": {},
   "source": [
    "### Combining Start Months"
   ]
  },
  {
   "cell_type": "code",
   "execution_count": 246,
   "metadata": {},
   "outputs": [
    {
     "name": "stdout",
     "output_type": "stream",
     "text": [
      "Company Type and Mean and SD\n",
      "January 32.9511393636 60.2115319151\n",
      "February 16.3440901961 16.6640212886\n",
      "March 24.3068951826 31.437583093\n",
      "April 34.3521146825 50.5104960624\n",
      "May 58.46625 94.0141179918\n",
      "June 100.540661323 115.503663669\n",
      "July 63.5624047917 270.267257971\n",
      "August 24.7700263495 37.8049279424\n",
      "September 19.3445176541 30.8433480982\n",
      "October 18.2344380573 20.6834357605\n",
      "November 15.1563102639 20.8743924938\n",
      "December 5.98948192308 8.79434203833\n"
     ]
    }
   ],
   "source": [
    "company_1 = company_regress[company_regress[\"start_month_1\"] == 1][\"week_donation\"].sample(1000, replace = True)\n",
    "company_2 = company_regress[company_regress[\"start_month_2\"] == 1][\"week_donation\"].sample(1000, replace = True)\n",
    "company_3 = company_regress[company_regress[\"start_month_3\"] == 1][\"week_donation\"].sample(1000, replace = True)\n",
    "company_4 = company_regress[company_regress[\"start_month_4\"] == 1][\"week_donation\"].sample(1000, replace = True)\n",
    "company_5 = company_regress[company_regress[\"start_month_5\"] == 1][\"week_donation\"].sample(1000, replace = True)\n",
    "company_6 = company_regress[company_regress[\"start_month_6\"] == 1][\"week_donation\"].sample(1000, replace = True)\n",
    "company_7 = company_regress[company_regress[\"start_month_7\"] == 1][\"week_donation\"].sample(1000, replace = True)\n",
    "company_8 = company_regress[company_regress[\"start_month_8\"] == 1][\"week_donation\"].sample(1000, replace = True)\n",
    "company_9 = company_regress[company_regress[\"start_month_9\"] == 1][\"week_donation\"].sample(1000, replace = True)\n",
    "company_10 = company_regress[company_regress[\"start_month_10\"] == 1][\"week_donation\"].sample(1000, replace = True)\n",
    "company_11 = company_regress[company_regress[\"start_month_11\"] == 1][\"week_donation\"].sample(1000, replace = True)\n",
    "company_12 = company_regress[company_regress[\"start_month_12\"] == 1][\"week_donation\"].sample(1000, replace = True)\n",
    "dists_name = [\"January\", \"February\", \"March\", \"April\", \"May\", \"June\", \"July\", \n",
    "              \"August\", \"September\",\"October\", \"November\", \"December\"]\n",
    "dists = [company_1, company_2, company_3, company_4, company_5,\n",
    "        company_6, company_7, company_8, company_9, company_10, company_11, company_12]\n",
    "print(\"Company Type and Mean and SD\")\n",
    "for i in range(len(dists)):\n",
    "    print(dists_name[i], np.mean(dists[i]), np.std(dists[i]))"
   ]
  },
  {
   "cell_type": "code",
   "execution_count": 247,
   "metadata": {},
   "outputs": [
    {
     "name": "stdout",
     "output_type": "stream",
     "text": [
      "January and February: 0.00\n",
      "January and March: 0.00\n",
      "January and April: 0.57\n",
      "January and May: 0.00\n",
      "January and June: 0.00\n",
      "January and July: 0.00\n",
      "January and August: 0.00\n",
      "January and September: 0.00\n",
      "January and October: 0.00\n",
      "January and November: 0.00\n",
      "January and December: 0.00\n",
      "February and March: 0.00\n",
      "February and April: 0.00\n",
      "February and May: 0.00\n",
      "February and June: 0.00\n",
      "February and July: 0.00\n",
      "February and August: 0.00\n",
      "February and September: 0.01\n",
      "February and October: 0.02\n",
      "February and November: 0.16\n",
      "February and December: 0.00\n",
      "March and April: 0.00\n",
      "March and May: 0.00\n",
      "March and June: 0.00\n",
      "March and July: 0.00\n",
      "March and August: 0.77\n",
      "March and September: 0.00\n",
      "March and October: 0.00\n",
      "March and November: 0.00\n",
      "March and December: 0.00\n",
      "April and May: 0.00\n",
      "April and June: 0.00\n",
      "April and July: 0.00\n",
      "April and August: 0.00\n",
      "April and September: 0.00\n",
      "April and October: 0.00\n",
      "April and November: 0.00\n",
      "April and December: 0.00\n",
      "May and June: 0.00\n",
      "May and July: 0.57\n",
      "May and August: 0.00\n",
      "May and September: 0.00\n",
      "May and October: 0.00\n",
      "May and November: 0.00\n",
      "May and December: 0.00\n",
      "June and July: 0.00\n",
      "June and August: 0.00\n",
      "June and September: 0.00\n",
      "June and October: 0.00\n",
      "June and November: 0.00\n",
      "June and December: 0.00\n",
      "July and August: 0.00\n",
      "July and September: 0.00\n",
      "July and October: 0.00\n",
      "July and November: 0.00\n",
      "July and December: 0.00\n",
      "August and September: 0.00\n",
      "August and October: 0.00\n",
      "August and November: 0.00\n",
      "August and December: 0.00\n",
      "September and October: 0.34\n",
      "September and November: 0.00\n",
      "September and December: 0.00\n",
      "October and November: 0.00\n",
      "October and December: 0.00\n",
      "November and December: 0.00\n"
     ]
    }
   ],
   "source": [
    "for i in range(1, len(dists)): \n",
    "    print(\"January and \" + dists_name[i] + ': {0:0.2f}'.format(\n",
    "    ttest_ind(company_1, dists[i], equal_var = False)[1]))\n",
    "for i in range(2, len(dists)): \n",
    "    print(\"February and \" + dists_name[i] + ': {0:0.2f}'.format(\n",
    "    ttest_ind(company_2, dists[i], equal_var = False)[1]))\n",
    "for i in range(3, len(dists)): \n",
    "    print(\"March and \" + dists_name[i] + ': {0:0.2f}'.format(\n",
    "    ttest_ind(company_3, dists[i], equal_var = False)[1]))\n",
    "for i in range(4, len(dists)): \n",
    "    print(\"April and \" + dists_name[i] + ': {0:0.2f}'.format(\n",
    "    ttest_ind(company_4, dists[i], equal_var = False)[1]))\n",
    "for i in range(5, len(dists)): \n",
    "    print(\"May and \" + dists_name[i] + ': {0:0.2f}'.format(\n",
    "    ttest_ind(company_5, dists[i], equal_var = False)[1]))\n",
    "for i in range(6, len(dists)): \n",
    "    print(\"June and \" + dists_name[i] + ': {0:0.2f}'.format(\n",
    "    ttest_ind(company_6, dists[i], equal_var = False)[1]))\n",
    "for i in range(7, len(dists)): \n",
    "    print(\"July and \" + dists_name[i] + ': {0:0.2f}'.format(\n",
    "    ttest_ind(company_7, dists[i], equal_var = False)[1]))\n",
    "for i in range(8, len(dists)): \n",
    "    print(\"August and \" + dists_name[i] + ': {0:0.2f}'.format(\n",
    "    ttest_ind(company_8, dists[i], equal_var = False)[1]))\n",
    "for i in range(9, len(dists)): \n",
    "    print(\"September and \" + dists_name[i] + ': {0:0.2f}'.format(\n",
    "    ttest_ind(company_9, dists[i], equal_var = False)[1]))\n",
    "for i in range(10, len(dists)): \n",
    "    print(\"October and \" + dists_name[i] + ': {0:0.2f}'.format(\n",
    "    ttest_ind(company_10, dists[i], equal_var = False)[1]))\n",
    "for i in range(11, len(dists)): \n",
    "    print(\"November and \" + dists_name[i] + ': {0:0.2f}'.format(\n",
    "    ttest_ind(company_11, dists[i], equal_var = False)[1]))\n"
   ]
  },
  {
   "cell_type": "code",
   "execution_count": 262,
   "metadata": {},
   "outputs": [
    {
     "data": {
      "text/plain": [
       "Index(['week_donation', 'size_50.0', 'start_month_1', 'start_month_10',\n",
       "       'start_month_11', 'start_month_12', 'start_month_2', 'start_month_3',\n",
       "       'start_month_4', 'start_month_5', 'start_month_6', 'start_month_7',\n",
       "       'start_month_8', 'start_month_9', 'state_California', 'state_New York',\n",
       "       'state_underdeveloped', 'type_edu-health', 'type_food', 'type_other',\n",
       "       'type_soft', 'company', 'type_fin_bus_web_sale', 'type_applied_comm',\n",
       "       'size_10_5000_10000', 'size_200_10001', 'size_500_1000'],\n",
       "      dtype='object')"
      ]
     },
     "execution_count": 262,
     "metadata": {},
     "output_type": "execute_result"
    }
   ],
   "source": [
    "company_regress.columns"
   ]
  },
  {
   "cell_type": "code",
   "execution_count": 295,
   "metadata": {},
   "outputs": [],
   "source": [
    "company_regress[\"start_month_1_4\"] = company_regress.iloc[:, [2, 8]].sum(axis = 1)\n",
    "company_regress[\"start_month_2_11\"] = company_regress.iloc[:, [6, 4]].sum(axis = 1)\n",
    "company_regress[\"start_month_3_8\"] = company_regress.iloc[:, [7, 12]].sum(axis = 1)\n",
    "company_regress[\"start_month_5_7\"] = company_regress.iloc[:, [9, 11]].sum(axis = 1)\n",
    "company_regress[\"start_month_9_10\"] = company_regress.iloc[:, [13, 3]].sum(axis = 1)\n",
    "company_regress = company_regress.drop([\"start_month_1\", \"start_month_4\", \"start_month_2\", \n",
    "\"start_month_11\", \"start_month_3\", \"start_month_8\", \"start_month_5\", \"start_month_7\", \n",
    "\"start_month_9\", \"start_month_10\"], axis = 1)"
   ]
  },
  {
   "cell_type": "markdown",
   "metadata": {},
   "source": [
    "### Combining Location"
   ]
  },
  {
   "cell_type": "code",
   "execution_count": 248,
   "metadata": {},
   "outputs": [
    {
     "name": "stdout",
     "output_type": "stream",
     "text": [
      "Company Type and Mean and SD\n",
      "CA 56.3012436905 155.831137278\n",
      "NY 24.549498834 39.3987204279\n",
      "UD 42.1451596639 24.1409916561\n"
     ]
    }
   ],
   "source": [
    "company_ca = company_regress[company_regress[\"state_California\"] == 1][\"week_donation\"].sample(1000, replace = True)\n",
    "company_ny = company_regress[company_regress[\"state_New York\"] == 1][\"week_donation\"].sample(1000, replace = True)\n",
    "company_ud = company_regress[company_regress[\"state_underdeveloped\"] == 1][\"week_donation\"].sample(1000, replace = True)\n",
    "dists_name = [\"CA\", \"NY\", \"UD\"]\n",
    "dists = [company_ca, company_ny, company_ud]\n",
    "print(\"Company Type and Mean and SD\")\n",
    "for i in range(len(dists)):\n",
    "    print(dists_name[i], np.mean(dists[i]), np.std(dists[i]))"
   ]
  },
  {
   "cell_type": "code",
   "execution_count": 249,
   "metadata": {},
   "outputs": [
    {
     "name": "stdout",
     "output_type": "stream",
     "text": [
      "CA and NY: 0.00\n",
      "CA and UD: 0.00\n",
      "NY and UD: 0.00\n"
     ]
    }
   ],
   "source": [
    "for i in range(1, len(dists)): \n",
    "    print(\"CA and \" + dists_name[i] + ': {0:0.2f}'.format(\n",
    "    ttest_ind(company_ca, dists[i], equal_var = False)[1]))\n",
    "for i in range(2, len(dists)): \n",
    "    print(\"NY and \" + dists_name[i] + ': {0:0.2f}'.format(\n",
    "    ttest_ind(company_ny, dists[i], equal_var = False)[1]))"
   ]
  },
  {
   "cell_type": "code",
   "execution_count": 296,
   "metadata": {},
   "outputs": [
    {
     "data": {
      "text/plain": [
       "Index(['week_donation', 'size_50.0', 'start_month_12', 'start_month_6',\n",
       "       'state_California', 'state_New York', 'state_underdeveloped',\n",
       "       'type_edu-health', 'type_food', 'type_other', 'type_soft', 'company',\n",
       "       'type_fin_bus_web_sale', 'type_applied_comm', 'size_10_5000_10000',\n",
       "       'size_200_10001', 'size_500_1000', 'start_month_1_4',\n",
       "       'start_month_2_11', 'start_month_3_8', 'start_month_5_7',\n",
       "       'start_month_9_10'],\n",
       "      dtype='object')"
      ]
     },
     "execution_count": 296,
     "metadata": {},
     "output_type": "execute_result"
    }
   ],
   "source": [
    "company_regress.columns"
   ]
  },
  {
   "cell_type": "markdown",
   "metadata": {},
   "source": [
    "### Regressing on Average Week Donations"
   ]
  },
  {
   "cell_type": "code",
   "execution_count": 314,
   "metadata": {},
   "outputs": [],
   "source": [
    "def rmse(actuals, predicted): \n",
    "    return np.sqrt(np.mean((actuals - predicted)**2))"
   ]
  },
  {
   "cell_type": "code",
   "execution_count": 390,
   "metadata": {},
   "outputs": [],
   "source": [
    "features = company_regress.drop([\"week_donation\", \"company\"], axis = 1) \n",
    "y = company_regress[\"week_donation\"]\n",
    "#features = pd.get_dummies(features)\n",
    "feature_list = list(features.columns)\n",
    "features = np.array(features)\n",
    "train_features, test_features, train_labels, test_labels = train_test_split(features, y, test_size = 0.25, random_state = 2156)"
   ]
  },
  {
   "cell_type": "markdown",
   "metadata": {},
   "source": [
    "### Baseline accuracy "
   ]
  },
  {
   "cell_type": "code",
   "execution_count": 391,
   "metadata": {},
   "outputs": [
    {
     "name": "stdout",
     "output_type": "stream",
     "text": [
      "Train MSE: 3982.294\n",
      "Test MSE: 57538.259\n"
     ]
    }
   ],
   "source": [
    "train_pred = np.array([np.mean(train_labels) for i in range(len(train_labels))])\n",
    "test_pred = np.array([np.mean(train_labels) for i in range(len(test_labels))])\n",
    "print(\"Train MSE: {0:0.3f}\". format(mean_squared_error(train_labels, train_pred)))\n",
    "print(\"Test MSE: {0:0.3f}\". format(mean_squared_error(test_labels, test_pred)))\n",
    "#mean_squared_error(test_labels, pred)"
   ]
  },
  {
   "cell_type": "code",
   "execution_count": 392,
   "metadata": {},
   "outputs": [
    {
     "name": "stdout",
     "output_type": "stream",
     "text": [
      "Train MSE: 921.944\n",
      "Test MSE: 53432.267\n"
     ]
    }
   ],
   "source": [
    "rfr = RandomForestRegressor(n_estimators = 1000, random_state = 12345)\n",
    "rfr.fit(train_features, train_labels);\n",
    "train_predictions = rfr.predict(train_features)\n",
    "test_predictions = rfr.predict(test_features)\n",
    "print(\"Train MSE: {0:0.3f}\". format(mean_squared_error(train_labels, train_predictions)))\n",
    "print(\"Test MSE: {0:0.3f}\". format(mean_squared_error(test_labels, test_predictions)))"
   ]
  },
  {
   "cell_type": "code",
   "execution_count": 393,
   "metadata": {
    "scrolled": true
   },
   "outputs": [
    {
     "name": "stdout",
     "output_type": "stream",
     "text": [
      "Variable: start_month_6        Importance: 0.2\n",
      "Variable: type_applied_comm    Importance: 0.18\n",
      "Variable: size_500_1000        Importance: 0.18\n",
      "Variable: type_fin_bus_web_sale Importance: 0.07\n",
      "Variable: state_California     Importance: 0.06\n",
      "Variable: state_New York       Importance: 0.06\n",
      "Variable: start_month_5_7      Importance: 0.05\n",
      "Variable: start_month_1_4      Importance: 0.04\n",
      "Variable: type_food            Importance: 0.03\n",
      "Variable: size_10_5000_10000   Importance: 0.03\n",
      "Variable: size_200_10001       Importance: 0.02\n",
      "Variable: start_month_9_10     Importance: 0.02\n",
      "Variable: size_50.0            Importance: 0.01\n",
      "Variable: state_underdeveloped Importance: 0.01\n",
      "Variable: type_edu-health      Importance: 0.01\n",
      "Variable: type_other           Importance: 0.01\n",
      "Variable: type_soft            Importance: 0.01\n",
      "Variable: start_month_2_11     Importance: 0.01\n",
      "Variable: start_month_3_8      Importance: 0.01\n",
      "Variable: start_month_12       Importance: 0.0\n"
     ]
    }
   ],
   "source": [
    "importances = list(rfr.feature_importances_)\n",
    "feature_importances = [(feature, round(importance, 2)) for feature, importance in zip(feature_list, importances)]\n",
    "feature_importances = sorted(feature_importances, key = lambda x: x[1], reverse = True)\n",
    "[print('Variable: {:20} Importance: {}'.format(*pair)) for pair in feature_importances];"
   ]
  },
  {
   "cell_type": "code",
   "execution_count": 395,
   "metadata": {
    "scrolled": false
   },
   "outputs": [
    {
     "name": "stdout",
     "output_type": "stream",
     "text": [
      "Fitting 5 folds for each of 1000 candidates, totalling 5000 fits\n"
     ]
    },
    {
     "name": "stderr",
     "output_type": "stream",
     "text": [
      "[Parallel(n_jobs=-1)]: Done  33 tasks      | elapsed:   30.2s\n",
      "[Parallel(n_jobs=-1)]: Done 154 tasks      | elapsed:  1.7min\n",
      "[Parallel(n_jobs=-1)]: Done 357 tasks      | elapsed:  3.1min\n",
      "[Parallel(n_jobs=-1)]: Done 640 tasks      | elapsed:  5.7min\n",
      "[Parallel(n_jobs=-1)]: Done 1005 tasks      | elapsed: 53.0min\n",
      "[Parallel(n_jobs=-1)]: Done 1450 tasks      | elapsed: 56.5min\n",
      "[Parallel(n_jobs=-1)]: Done 1977 tasks      | elapsed: 61.6min\n",
      "[Parallel(n_jobs=-1)]: Done 2584 tasks      | elapsed: 67.3min\n",
      "[Parallel(n_jobs=-1)]: Done 3273 tasks      | elapsed: 74.1min\n",
      "[Parallel(n_jobs=-1)]: Done 4042 tasks      | elapsed: 80.6min\n",
      "[Parallel(n_jobs=-1)]: Done 4893 tasks      | elapsed: 91.8min\n",
      "[Parallel(n_jobs=-1)]: Done 5000 out of 5000 | elapsed: 92.6min finished\n"
     ]
    },
    {
     "data": {
      "text/plain": [
       "{'bootstrap': True,\n",
       " 'max_depth': 3,\n",
       " 'max_features': 15,\n",
       " 'min_samples_leaf': 4,\n",
       " 'min_samples_split': 10,\n",
       " 'n_estimators': 400}"
      ]
     },
     "execution_count": 395,
     "metadata": {},
     "output_type": "execute_result"
    }
   ],
   "source": [
    "n_estimators = [int(x) for x in np.linspace(start = 200, stop = 2000, num = 10)]\n",
    "max_features = [1, 3, 5, 7, 9, 11, 13, 15, 20]\n",
    "max_depth = [int(x) for x in np.linspace(start = 1, stop = 20, num = 10)] \n",
    "min_samples_split = [int(x) for x in np.linspace(start = 2, stop = 40, num = 20)]\n",
    "min_samples_leaf = [1, 2, 3, 4, 5, 10]\n",
    "bootstrap = [True] \n",
    "\n",
    "random_grid = {'n_estimators': n_estimators,\n",
    "               'max_features': max_features,\n",
    "               'max_depth': max_depth,\n",
    "               'min_samples_split': min_samples_split,\n",
    "               'min_samples_leaf': min_samples_leaf,\n",
    "               'bootstrap': bootstrap}\n",
    "\n",
    "rfr = RandomForestRegressor()\n",
    "rfr_random = RandomizedSearchCV(estimator = rfr, param_distributions = random_grid,\n",
    "                              n_iter = 1000, cv = 5, verbose = 2, random_state = 12345,\n",
    "                              n_jobs = -1)\n",
    "rfr_random.fit(train_features, train_labels)\n",
    "rfr_random.best_params_"
   ]
  },
  {
   "cell_type": "code",
   "execution_count": 419,
   "metadata": {},
   "outputs": [
    {
     "name": "stdout",
     "output_type": "stream",
     "text": [
      "Train MSE: 2605.845\n",
      "Test MSE: 55349.344\n"
     ]
    }
   ],
   "source": [
    "rfr = RandomForestRegressor(bootstrap = True,\n",
    "                           max_depth = 3,\n",
    "                           max_features = 15,\n",
    "                           min_samples_leaf = 4,\n",
    "                           min_samples_split = 10,\n",
    "                           n_estimators = 400)\n",
    "rfr.fit(train_features, train_labels)\n",
    "train_predictions = rfr.predict(train_features)\n",
    "test_predictions = rfr.predict(test_features)\n",
    "print(\"Train MSE: {0:0.3f}\". format(mean_squared_error(train_labels, train_predictions)))\n",
    "print(\"Test MSE: {0:0.3f}\". format(mean_squared_error(test_labels, test_predictions)))"
   ]
  },
  {
   "cell_type": "code",
   "execution_count": 438,
   "metadata": {},
   "outputs": [
    {
     "name": "stdout",
     "output_type": "stream",
     "text": [
      "[  2712.62837379    679.86465871    373.86343688    657.84836918\n",
      "    935.03808609   4115.41697422  23520.60581926   9042.26661341\n",
      "    982.60102889   1601.33344952]\n",
      "[  1399.0687918     976.60815884    325.93320118    383.86488833\n",
      "    547.62538171    867.37347031  24526.89303676   3420.69249671\n",
      "    584.78303121   1121.4256124 ]\n"
     ]
    }
   ],
   "source": [
    "rfr2 = RandomForestRegressor(bootstrap = True,\n",
    "                           max_depth = 3,\n",
    "                           max_features = 15,\n",
    "                           min_samples_leaf = 4,\n",
    "                           min_samples_split = 10,\n",
    "                           n_estimators = 400)\n",
    "rfr1 = RandomForestRegressor(n_estimators = 1000)\n",
    "print(cross_validate(rfr1, train_features, train_labels, cv = 10, scoring = mse)[\"test_score\"])\n",
    "print(cross_validate(rfr2, train_features, train_labels, cv = 10, scoring = mse)[\"test_score\"])"
   ]
  },
  {
   "cell_type": "code",
   "execution_count": 397,
   "metadata": {
    "scrolled": false
   },
   "outputs": [
    {
     "name": "stdout",
     "output_type": "stream",
     "text": [
      "Fitting 10 folds for each of 3600 candidates, totalling 36000 fits\n"
     ]
    },
    {
     "name": "stderr",
     "output_type": "stream",
     "text": [
      "[Parallel(n_jobs=-1)]: Done  33 tasks      | elapsed:    9.0s\n",
      "[Parallel(n_jobs=-1)]: Done 154 tasks      | elapsed:   32.1s\n",
      "[Parallel(n_jobs=-1)]: Done 357 tasks      | elapsed:  1.1min\n",
      "[Parallel(n_jobs=-1)]: Done 640 tasks      | elapsed:  2.0min\n",
      "[Parallel(n_jobs=-1)]: Done 1005 tasks      | elapsed:  3.6min\n",
      "[Parallel(n_jobs=-1)]: Done 1450 tasks      | elapsed:  5.5min\n",
      "[Parallel(n_jobs=-1)]: Done 1977 tasks      | elapsed:  7.9min\n",
      "[Parallel(n_jobs=-1)]: Done 2584 tasks      | elapsed: 10.4min\n",
      "[Parallel(n_jobs=-1)]: Done 3273 tasks      | elapsed: 13.8min\n",
      "[Parallel(n_jobs=-1)]: Done 4042 tasks      | elapsed: 17.3min\n",
      "[Parallel(n_jobs=-1)]: Done 4893 tasks      | elapsed: 21.4min\n",
      "[Parallel(n_jobs=-1)]: Done 5824 tasks      | elapsed: 24.3min\n",
      "[Parallel(n_jobs=-1)]: Done 6837 tasks      | elapsed: 27.6min\n",
      "[Parallel(n_jobs=-1)]: Done 7930 tasks      | elapsed: 31.1min\n",
      "[Parallel(n_jobs=-1)]: Done 9105 tasks      | elapsed: 34.9min\n",
      "[Parallel(n_jobs=-1)]: Done 10360 tasks      | elapsed: 238.2min\n",
      "[Parallel(n_jobs=-1)]: Done 11697 tasks      | elapsed: 244.8min\n",
      "[Parallel(n_jobs=-1)]: Done 13114 tasks      | elapsed: 252.6min\n",
      "[Parallel(n_jobs=-1)]: Done 14613 tasks      | elapsed: 260.9min\n",
      "[Parallel(n_jobs=-1)]: Done 16192 tasks      | elapsed: 269.3min\n",
      "[Parallel(n_jobs=-1)]: Done 17853 tasks      | elapsed: 278.2min\n",
      "[Parallel(n_jobs=-1)]: Done 19594 tasks      | elapsed: 288.0min\n",
      "[Parallel(n_jobs=-1)]: Done 21417 tasks      | elapsed: 299.4min\n",
      "[Parallel(n_jobs=-1)]: Done 23320 tasks      | elapsed: 306.5min\n",
      "[Parallel(n_jobs=-1)]: Done 25305 tasks      | elapsed: 314.4min\n",
      "[Parallel(n_jobs=-1)]: Done 27370 tasks      | elapsed: 323.3min\n",
      "[Parallel(n_jobs=-1)]: Done 29517 tasks      | elapsed: 331.0min\n",
      "[Parallel(n_jobs=-1)]: Done 31744 tasks      | elapsed: 339.2min\n",
      "[Parallel(n_jobs=-1)]: Done 34053 tasks      | elapsed: 347.7min\n",
      "[Parallel(n_jobs=-1)]: Done 36000 out of 36000 | elapsed: 355.4min finished\n"
     ]
    },
    {
     "data": {
      "text/plain": [
       "{'bootstrap': True,\n",
       " 'max_depth': 2,\n",
       " 'max_features': 17,\n",
       " 'min_samples_leaf': 4,\n",
       " 'min_samples_split': 8,\n",
       " 'n_estimators': 400}"
      ]
     },
     "execution_count": 397,
     "metadata": {},
     "output_type": "execute_result"
    }
   ],
   "source": [
    "n_estimators = [200, 300, 400, 500, 1000]\n",
    "max_depth = [2, 3, 4, 5] \n",
    "max_features = [5, 10, 12, 15, 17]\n",
    "min_samples_leaf = [1, 3, 4, 5, 6, 10]\n",
    "min_samples_split = [8, 9, 10, 11, 12, 15]\n",
    "bootstrap = [True] \n",
    "param_grid = {'n_estimators': n_estimators,\n",
    "               'max_features': max_features,\n",
    "               'max_depth': max_depth,\n",
    "               'min_samples_split': min_samples_split,\n",
    "               'min_samples_leaf': min_samples_leaf,\n",
    "               'bootstrap': bootstrap}\n",
    "rf = RandomForestRegressor()\n",
    "grid_search = GridSearchCV(estimator = rf, param_grid = param_grid, cv = 10,\n",
    "                          n_jobs = -1, verbose = 2) \n",
    "grid_search.fit(train_features, train_labels)\n",
    "grid_search.best_params_"
   ]
  },
  {
   "cell_type": "code",
   "execution_count": 437,
   "metadata": {},
   "outputs": [
    {
     "name": "stdout",
     "output_type": "stream",
     "text": [
      "Train MSE: 2680.837\n",
      "Test MSE: 55576.861\n"
     ]
    }
   ],
   "source": [
    "rfr = RandomForestRegressor(bootstrap = True,\n",
    "                           max_depth = 2,\n",
    "                           max_features = 17,\n",
    "                           min_samples_leaf = 4,\n",
    "                           min_samples_split = 8,\n",
    "                           n_estimators = 400)\n",
    "rfr.fit(train_features, train_labels)\n",
    "train_predictions = rfr.predict(train_features)\n",
    "test_predictions = rfr.predict(test_features)\n",
    "print(\"Train MSE: {0:0.3f}\". format(mean_squared_error(train_labels, train_predictions)))\n",
    "print(\"Test MSE: {0:0.3f}\". format(mean_squared_error(test_labels, test_predictions)))"
   ]
  },
  {
   "cell_type": "code",
   "execution_count": 425,
   "metadata": {},
   "outputs": [
    {
     "name": "stdout",
     "output_type": "stream",
     "text": [
      "3426.90874858\n",
      "3378.28743973\n"
     ]
    }
   ],
   "source": [
    "rfr1 = RandomForestRegressor(bootstrap = True,\n",
    "                           max_depth = 3,\n",
    "                           max_features = 15,\n",
    "                           min_samples_leaf = 4,\n",
    "                           min_samples_split = 10,\n",
    "                           n_estimators = 400)\n",
    "rfr2 = RandomForestRegressor(bootstrap = True,\n",
    "                           max_depth = 2,\n",
    "                           max_features = 17,\n",
    "                           min_samples_leaf = 4,\n",
    "                           min_samples_split = 8,\n",
    "                           n_estimators = 400)\n",
    "print(np.mean(cross_validate(rfr1, train_features, train_labels, cv = 10, scoring = mse)[\"test_score\"]))\n",
    "print(np.mean(cross_validate(rfr2, train_features, train_labels, cv = 10, scoring = mse)[\"test_score\"]))"
   ]
  },
  {
   "cell_type": "code",
   "execution_count": 401,
   "metadata": {
    "scrolled": true
   },
   "outputs": [
    {
     "name": "stdout",
     "output_type": "stream",
     "text": [
      "Variable: start_month_6        Importance: 0.43\n",
      "Variable: size_500_1000        Importance: 0.28\n",
      "Variable: type_fin_bus_web_sale Importance: 0.05\n",
      "Variable: type_applied_comm    Importance: 0.05\n",
      "Variable: size_200_10001       Importance: 0.03\n",
      "Variable: size_50.0            Importance: 0.02\n",
      "Variable: state_California     Importance: 0.02\n",
      "Variable: type_food            Importance: 0.02\n",
      "Variable: size_10_5000_10000   Importance: 0.02\n",
      "Variable: start_month_1_4      Importance: 0.02\n",
      "Variable: start_month_5_7      Importance: 0.02\n",
      "Variable: state_New York       Importance: 0.01\n",
      "Variable: start_month_2_11     Importance: 0.01\n",
      "Variable: start_month_3_8      Importance: 0.01\n",
      "Variable: start_month_9_10     Importance: 0.01\n",
      "Variable: start_month_12       Importance: 0.0\n",
      "Variable: state_underdeveloped Importance: 0.0\n",
      "Variable: type_edu-health      Importance: 0.0\n",
      "Variable: type_other           Importance: 0.0\n",
      "Variable: type_soft            Importance: 0.0\n"
     ]
    }
   ],
   "source": [
    "importances = list(rfr.feature_importances_)\n",
    "feature_importances = [(feature, round(importance, 2)) for feature, importance in zip(feature_list, importances)]\n",
    "feature_importances = sorted(feature_importances, key = lambda x: x[1], reverse = True)\n",
    "[print('Variable: {:20} Importance: {}'.format(*pair)) for pair in feature_importances];"
   ]
  },
  {
   "cell_type": "code",
   "execution_count": 474,
   "metadata": {},
   "outputs": [
    {
     "data": {
      "text/plain": [
       "<matplotlib.axes._subplots.AxesSubplot at 0x19d1849a438>"
      ]
     },
     "execution_count": 474,
     "metadata": {},
     "output_type": "execute_result"
    },
    {
     "data": {
      "image/png": "[encoded data removed]",
      "text/plain": [
       "<matplotlib.figure.Figure at 0x19d17f74d68>"
      ]
     },
     "metadata": {},
     "output_type": "display_data"
    }
   ],
   "source": [
    "company_full[company_full[\"week_donation\"] <= 550][\"week_donation\"].plot(kind = \"hist\", edgecolor = \"black\")"
   ]
  },
  {
   "cell_type": "code",
   "execution_count": 471,
   "metadata": {},
   "outputs": [
    {
     "data": {
      "text/plain": [
       "533.12800000000004"
      ]
     },
     "execution_count": 471,
     "metadata": {},
     "output_type": "execute_result"
    }
   ],
   "source": [
    "company_full[company_full[\"start_month\"] == 6][\"week_donation\"].max()"
   ]
  },
  {
   "cell_type": "code",
   "execution_count": 473,
   "metadata": {},
   "outputs": [
    {
     "data": {
      "image/png": "[encoded data removed]",
      "text/plain": [
       "<matplotlib.figure.Figure at 0x19d1826fe80>"
      ]
     },
     "metadata": {},
     "output_type": "display_data"
    }
   ],
   "source": [
    "fig, axs = plt.subplots(nrows=1,  figsize = (10,6));\n",
    "bins = np.linspace(0, 550, 12)\n",
    "plt.hist(company_full[company_full[\"week_donation\"] <=500][\"week_donation\"], bins, alpha = 0.5, label = \"full\");\n",
    "plt.hist(company_full[company_full[\"start_month\"] == 6][\"week_donation\"], bins, alpha = 0.5, label = \"June\");\n",
    "plt.legend(loc = \"upper right\")\n",
    "plt.show()"
   ]
  },
  {
   "cell_type": "code",
   "execution_count": null,
   "metadata": {},
   "outputs": [],
   "source": []
  },
  {
   "cell_type": "code",
   "execution_count": null,
   "metadata": {},
   "outputs": [],
   "source": []
  },
  {
   "cell_type": "code",
   "execution_count": 449,
   "metadata": {},
   "outputs": [
    {
     "data": {
      "text/plain": [
       "<matplotlib.axes._subplots.AxesSubplot at 0x19d16fe5320>"
      ]
     },
     "execution_count": 449,
     "metadata": {},
     "output_type": "execute_result"
    },
    {
     "data": {
      "image/png": "[encoded data removed]",
      "text/plain": [
       "<matplotlib.figure.Figure at 0x19d19638cc0>"
      ]
     },
     "metadata": {},
     "output_type": "display_data"
    }
   ],
   "source": [
    "company_full[(company_full[\"size\"] == 500) | (company_full[\"size\"] == 1000)][\"week_donation\"].plot(kind = \"hist\", edgecolor = \"black\")"
   ]
  },
  {
   "cell_type": "code",
   "execution_count": 369,
   "metadata": {},
   "outputs": [],
   "source": [
    "underdeveloped = pd.read_csv(\"underdeveloped.csv\")\n",
    "underdeveloped = underdeveloped.drop(\"Unnamed: 0\", axis = 1)\n",
    "random20 = pd.read_csv(\"random20.csv\")\n",
    "random20 = random20.drop(\"Unnamed: 0\", axis = 1)"
   ]
  },
  {
   "cell_type": "code",
   "execution_count": 392,
   "metadata": {
    "scrolled": true
   },
   "outputs": [
    {
     "data": {
      "image/png": "[encoded data removed]",
      "text/plain": [
       "<matplotlib.figure.Figure at 0x201172786a0>"
      ]
     },
     "metadata": {},
     "output_type": "display_data"
    }
   ],
   "source": [
    "fig, axs = plt.subplots(nrows=2)\n",
    "axs[0].set_ylim(0,10)\n",
    "axs[1].set_ylim(0,10)\n",
    "sns.countplot(\n",
    "    x=underdeveloped[\"type\"].sort_values(),\n",
    "    ax=axs[0]\n",
    ").set_title(\"Underdeveloped\")\n",
    "\n",
    "sns.countplot(\n",
    "    x=random20[\"type\"].sort_values(),\n",
    "    ax=axs[1]\n",
    ").set_title(\"Random20\")\n",
    "\n",
    "# Label the bars with counts\n",
    "for patch in axs[0].patches:\n",
    "    x = patch.get_bbox().get_points()[:, 0]\n",
    "    y = patch.get_bbox().get_points()[1, 1]\n",
    "    axs[0].annotate(f'{int(y)}', (x.mean(), y), ha='center', va='bottom')\n",
    "    \n",
    "for patch in axs[1].patches:\n",
    "    x = patch.get_bbox().get_points()[:, 0]\n",
    "    y = patch.get_bbox().get_points()[1, 1]\n",
    "    axs[1].annotate(f'{int(y)}', (x.mean(), y), ha='center', va='bottom')\n",
    "    \n",
    "# Format x-axes\n",
    "axs[1].set_xticklabels(axs[1].xaxis.get_majorticklabels(), rotation=90)\n",
    "#axs[0].xaxis.set_visible(False)\n",
    "\n",
    "# Narrow the gap between the plots\n",
    "plt.subplots_adjust(hspace=0.7)\n"
   ]
  },
  {
   "cell_type": "code",
   "execution_count": null,
   "metadata": {},
   "outputs": [],
   "source": []
  },
  {
   "cell_type": "code",
   "execution_count": 418,
   "metadata": {},
   "outputs": [
    {
     "data": {
      "text/html": [
       "<div>\n",
       "<style scoped>\n",
       "    .dataframe tbody tr th:only-of-type {\n",
       "        vertical-align: middle;\n",
       "    }\n",
       "\n",
       "    .dataframe tbody tr th {\n",
       "        vertical-align: top;\n",
       "    }\n",
       "\n",
       "    .dataframe thead th {\n",
       "        text-align: right;\n",
       "    }\n",
       "</style>\n",
       "<table border=\"1\" class=\"dataframe\">\n",
       "  <thead>\n",
       "    <tr style=\"text-align: right;\">\n",
       "      <th></th>\n",
       "      <th>company</th>\n",
       "      <th>avg_donation</th>\n",
       "      <th>last_donation</th>\n",
       "      <th>last_donation_weeks</th>\n",
       "      <th>min_donation</th>\n",
       "      <th>multi_donor</th>\n",
       "      <th>num_donation</th>\n",
       "      <th>num_weeks</th>\n",
       "      <th>popular_month_frac</th>\n",
       "      <th>popular_weekday_frac</th>\n",
       "      <th>...</th>\n",
       "      <th>type_applied</th>\n",
       "      <th>type_bus</th>\n",
       "      <th>type_comm</th>\n",
       "      <th>type_edu-health</th>\n",
       "      <th>type_fin</th>\n",
       "      <th>type_food</th>\n",
       "      <th>type_other</th>\n",
       "      <th>type_sale</th>\n",
       "      <th>type_soft</th>\n",
       "      <th>type_web</th>\n",
       "    </tr>\n",
       "  </thead>\n",
       "  <tbody>\n",
       "    <tr>\n",
       "      <th>25</th>\n",
       "      <td>CA VENTURES suite 2100</td>\n",
       "      <td>44.12500</td>\n",
       "      <td>48.0</td>\n",
       "      <td>0</td>\n",
       "      <td>11.0</td>\n",
       "      <td>1</td>\n",
       "      <td>8</td>\n",
       "      <td>17</td>\n",
       "      <td>0.375000</td>\n",
       "      <td>0.875000</td>\n",
       "      <td>...</td>\n",
       "      <td>0</td>\n",
       "      <td>0</td>\n",
       "      <td>0</td>\n",
       "      <td>0</td>\n",
       "      <td>1</td>\n",
       "      <td>0</td>\n",
       "      <td>0</td>\n",
       "      <td>0</td>\n",
       "      <td>0</td>\n",
       "      <td>0</td>\n",
       "    </tr>\n",
       "    <tr>\n",
       "      <th>86</th>\n",
       "      <td>Hygge</td>\n",
       "      <td>20.00000</td>\n",
       "      <td>20.0</td>\n",
       "      <td>10</td>\n",
       "      <td>20.0</td>\n",
       "      <td>0</td>\n",
       "      <td>1</td>\n",
       "      <td>11</td>\n",
       "      <td>1.000000</td>\n",
       "      <td>1.000000</td>\n",
       "      <td>...</td>\n",
       "      <td>0</td>\n",
       "      <td>0</td>\n",
       "      <td>0</td>\n",
       "      <td>0</td>\n",
       "      <td>1</td>\n",
       "      <td>0</td>\n",
       "      <td>0</td>\n",
       "      <td>0</td>\n",
       "      <td>0</td>\n",
       "      <td>0</td>\n",
       "    </tr>\n",
       "    <tr>\n",
       "      <th>95</th>\n",
       "      <td>Livongo</td>\n",
       "      <td>16.53913</td>\n",
       "      <td>2.0</td>\n",
       "      <td>0</td>\n",
       "      <td>2.0</td>\n",
       "      <td>1</td>\n",
       "      <td>115</td>\n",
       "      <td>28</td>\n",
       "      <td>0.226087</td>\n",
       "      <td>0.304348</td>\n",
       "      <td>...</td>\n",
       "      <td>0</td>\n",
       "      <td>0</td>\n",
       "      <td>0</td>\n",
       "      <td>1</td>\n",
       "      <td>0</td>\n",
       "      <td>0</td>\n",
       "      <td>0</td>\n",
       "      <td>0</td>\n",
       "      <td>0</td>\n",
       "      <td>0</td>\n",
       "    </tr>\n",
       "    <tr>\n",
       "      <th>143</th>\n",
       "      <td>Simply Good Jars</td>\n",
       "      <td>30.00000</td>\n",
       "      <td>30.0</td>\n",
       "      <td>23</td>\n",
       "      <td>30.0</td>\n",
       "      <td>0</td>\n",
       "      <td>1</td>\n",
       "      <td>24</td>\n",
       "      <td>1.000000</td>\n",
       "      <td>1.000000</td>\n",
       "      <td>...</td>\n",
       "      <td>0</td>\n",
       "      <td>0</td>\n",
       "      <td>0</td>\n",
       "      <td>0</td>\n",
       "      <td>0</td>\n",
       "      <td>1</td>\n",
       "      <td>0</td>\n",
       "      <td>0</td>\n",
       "      <td>0</td>\n",
       "      <td>0</td>\n",
       "    </tr>\n",
       "    <tr>\n",
       "      <th>155</th>\n",
       "      <td>Toast Inc.</td>\n",
       "      <td>400.00000</td>\n",
       "      <td>400.0</td>\n",
       "      <td>16</td>\n",
       "      <td>400.0</td>\n",
       "      <td>0</td>\n",
       "      <td>1</td>\n",
       "      <td>17</td>\n",
       "      <td>1.000000</td>\n",
       "      <td>1.000000</td>\n",
       "      <td>...</td>\n",
       "      <td>0</td>\n",
       "      <td>0</td>\n",
       "      <td>0</td>\n",
       "      <td>0</td>\n",
       "      <td>0</td>\n",
       "      <td>1</td>\n",
       "      <td>0</td>\n",
       "      <td>0</td>\n",
       "      <td>0</td>\n",
       "      <td>0</td>\n",
       "    </tr>\n",
       "  </tbody>\n",
       "</table>\n",
       "<p>5 rows × 62 columns</p>\n",
       "</div>"
      ],
      "text/plain": [
       "                    company  avg_donation  last_donation  last_donation_weeks  \\\n",
       "25   CA VENTURES suite 2100      44.12500           48.0                    0   \n",
       "86                    Hygge      20.00000           20.0                   10   \n",
       "95                  Livongo      16.53913            2.0                    0   \n",
       "143        Simply Good Jars      30.00000           30.0                   23   \n",
       "155              Toast Inc.     400.00000          400.0                   16   \n",
       "\n",
       "     min_donation  multi_donor  num_donation  num_weeks  popular_month_frac  \\\n",
       "25           11.0            1             8         17            0.375000   \n",
       "86           20.0            0             1         11            1.000000   \n",
       "95            2.0            1           115         28            0.226087   \n",
       "143          30.0            0             1         24            1.000000   \n",
       "155         400.0            0             1         17            1.000000   \n",
       "\n",
       "     popular_weekday_frac    ...     type_applied  type_bus  type_comm  \\\n",
       "25               0.875000    ...                0         0          0   \n",
       "86               1.000000    ...                0         0          0   \n",
       "95               0.304348    ...                0         0          0   \n",
       "143              1.000000    ...                0         0          0   \n",
       "155              1.000000    ...                0         0          0   \n",
       "\n",
       "     type_edu-health  type_fin  type_food  type_other  type_sale  type_soft  \\\n",
       "25                 0         1          0           0          0          0   \n",
       "86                 0         1          0           0          0          0   \n",
       "95                 1         0          0           0          0          0   \n",
       "143                0         0          1           0          0          0   \n",
       "155                0         0          1           0          0          0   \n",
       "\n",
       "     type_web  \n",
       "25          0  \n",
       "86          0  \n",
       "95          0  \n",
       "143         0  \n",
       "155         0  \n",
       "\n",
       "[5 rows x 62 columns]"
      ]
     },
     "execution_count": 418,
     "metadata": {},
     "output_type": "execute_result"
    }
   ],
   "source": [
    "company_full[company_full[\"state_underdeveloped\"] == 1]"
   ]
  },
  {
   "cell_type": "code",
   "execution_count": 415,
   "metadata": {},
   "outputs": [
    {
     "data": {
      "text/plain": [
       "<matplotlib.axes._subplots.AxesSubplot at 0x20115238ac8>"
      ]
     },
     "execution_count": 415,
     "metadata": {},
     "output_type": "execute_result"
    },
    {
     "data": {
      "image/png": "[encoded data removed]",
      "text/plain": [
       "<matplotlib.figure.Figure at 0x201151e2518>"
      ]
     },
     "metadata": {},
     "output_type": "display_data"
    }
   ],
   "source": [
    "sns.countplot(company_full[(company_full[\"type_fin\"] == 1) & (company_full[\"state_underdeveloped\"] == 1)][\"multi_donor\"])"
   ]
  },
  {
   "cell_type": "code",
   "execution_count": 391,
   "metadata": {
    "scrolled": true
   },
   "outputs": [
    {
     "data": {
      "image/png": "[encoded data removed]",
      "text/plain": [
       "<matplotlib.figure.Figure at 0x201173566d8>"
      ]
     },
     "metadata": {},
     "output_type": "display_data"
    }
   ],
   "source": [
    "fig, axs = plt.subplots(nrows=2)\n",
    "axs[0].set_ylim(0,10)\n",
    "axs[1].set_ylim(0,15)\n",
    "sns.countplot(\n",
    "    x=underdeveloped[\"size\"].sort_values(),\n",
    "    ax=axs[0]\n",
    ").set_title(\"Underdeveloped\")\n",
    "\n",
    "sns.countplot(\n",
    "    x=random20[\"size\"].sort_values(),\n",
    "    ax=axs[1]\n",
    ").set_title(\"Random20\")\n",
    "\n",
    "# Label the bars with counts\n",
    "for patch in axs[0].patches:\n",
    "    x = patch.get_bbox().get_points()[:, 0]\n",
    "    y = patch.get_bbox().get_points()[1, 1]\n",
    "    axs[0].annotate(f'{int(y)}', (x.mean(), y), ha='center', va='bottom')\n",
    "    \n",
    "for patch in axs[1].patches:\n",
    "    x = patch.get_bbox().get_points()[:, 0]\n",
    "    y = patch.get_bbox().get_points()[1, 1]\n",
    "    axs[1].annotate(f'{int(y)}', (x.mean(), y), ha='center', va='bottom')\n",
    "    \n",
    "# Format x-axes\n",
    "axs[1].set_xticklabels(axs[1].xaxis.get_majorticklabels(), rotation=90)\n",
    "#axs[0].xaxis.set_visible(False)\n",
    "\n",
    "# Narrow the gap between the plots\n",
    "plt.subplots_adjust(hspace=0.7)\n"
   ]
  },
  {
   "cell_type": "code",
   "execution_count": 394,
   "metadata": {},
   "outputs": [
    {
     "data": {
      "image/png": "[encoded data removed]",
      "text/plain": [
       "<matplotlib.figure.Figure at 0x2011505d358>"
      ]
     },
     "metadata": {},
     "output_type": "display_data"
    }
   ],
   "source": [
    "fig, axs = plt.subplots(nrows=2)\n",
    "axs[0].set_ylim(0,20)\n",
    "axs[1].set_ylim(0,20)\n",
    "sns.countplot(\n",
    "    x=underdeveloped[\"multi_donor\"].sort_values(),\n",
    "    ax=axs[0]\n",
    ").set_title(\"Underdeveloped\")\n",
    "\n",
    "sns.countplot(\n",
    "    x=random20[\"multi_donor\"].sort_values(),\n",
    "    ax=axs[1]\n",
    ").set_title(\"Random20\")\n",
    "\n",
    "# Label the bars with counts\n",
    "for patch in axs[0].patches:\n",
    "    x = patch.get_bbox().get_points()[:, 0]\n",
    "    y = patch.get_bbox().get_points()[1, 1]\n",
    "    axs[0].annotate(f'{int(y)}', (x.mean(), y), ha='center', va='bottom')\n",
    "    \n",
    "for patch in axs[1].patches:\n",
    "    x = patch.get_bbox().get_points()[:, 0]\n",
    "    y = patch.get_bbox().get_points()[1, 1]\n",
    "    axs[1].annotate(f'{int(y)}', (x.mean(), y), ha='center', va='bottom')\n",
    "    \n",
    "# Format x-axes\n",
    "axs[1].set_xticklabels(axs[1].xaxis.get_majorticklabels(), rotation=90)\n",
    "#axs[0].xaxis.set_visible(False)\n",
    "\n",
    "# Narrow the gap between the plots\n",
    "plt.subplots_adjust(hspace=0.7)\n"
   ]
  },
  {
   "cell_type": "code",
   "execution_count": 409,
   "metadata": {},
   "outputs": [
    {
     "data": {
      "image/png": "[encoded data removed]",
      "text/plain": [
       "<matplotlib.figure.Figure at 0x201151e0470>"
      ]
     },
     "metadata": {},
     "output_type": "display_data"
    }
   ],
   "source": [
    "ax = sns.countplot(x = \"type\", hue = \"size\", data = underdeveloped.sort_values(\"type\"));\n",
    "#for patch in ax.patches:\n",
    "#    x = patch.get_bbox().get_points()[:, 0]\n",
    "#    y = patch.get_bbox().get_points()[1, 1]\n",
    "#    ax.annotate(f'{int(y)}', (x.mean(), y), ha='center', va='bottom')\n",
    "\n",
    "ax.set_xticklabels(ax.xaxis.get_majorticklabels(), rotation=90);\n",
    "ax.legend(bbox_to_anchor=(1.1, 1.05));\n",
    "plt.title(\"\")"
   ]
  },
  {
   "cell_type": "code",
   "execution_count": null,
   "metadata": {},
   "outputs": [],
   "source": []
  },
  {
   "cell_type": "code",
   "execution_count": 411,
   "metadata": {},
   "outputs": [
    {
     "data": {
      "image/png": "[encoded data removed]",
      "text/plain": [
       "<matplotlib.figure.Figure at 0x2011603f0b8>"
      ]
     },
     "metadata": {},
     "output_type": "display_data"
    }
   ],
   "source": [
    "ax = sns.countplot(x = \"type\", hue = \"size\", data = random20.sort_values(\"type\"));\n",
    "#for patch in ax.patches:\n",
    "#    x = patch.get_bbox().get_points()[:, 0]\n",
    "#    y = patch.get_bbox().get_points()[1, 1]\n",
    "#    ax.annotate(f'{int(y)}', (x.mean(), y), ha='center', va='bottom')\n",
    "\n",
    "ax.set_xticklabels(ax.xaxis.get_majorticklabels(), rotation=90);\n",
    "ax.legend(bbox_to_anchor=(1.1, 1.05));"
   ]
  }
 ],
 "metadata": {
  "kernelspec": {
   "display_name": "Python 3",
   "language": "python",
   "name": "python3"
  },
  "language_info": {
   "codemirror_mode": {
    "name": "ipython",
    "version": 3
   },
   "file_extension": ".py",
   "mimetype": "text/x-python",
   "name": "python",
   "nbconvert_exporter": "python",
   "pygments_lexer": "ipython3",
   "version": "3.6.4"
  }
 },
 "nbformat": 4,
 "nbformat_minor": 2
}
