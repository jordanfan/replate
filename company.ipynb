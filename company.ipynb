{
 "cells": [
  {
   "cell_type": "code",
   "execution_count": 20,
   "metadata": {},
   "outputs": [],
   "source": [
    "import numpy as np\n",
    "import pandas as pd\n",
    "from pandas.api.types import CategoricalDtype\n",
    "import datetime\n",
    "import matplotlib.pyplot as plt\n",
    "import seaborn as sns\n",
    "from datetime import datetime\n",
    "from sklearn import linear_model\n",
    "from sklearn.model_selection import train_test_split\n",
    "from sklearn.preprocessing import PolynomialFeatures"
   ]
  },
  {
   "cell_type": "code",
   "execution_count": 69,
   "metadata": {},
   "outputs": [
    {
     "data": {
      "text/plain": [
       "193"
      ]
     },
     "execution_count": 69,
     "metadata": {},
     "output_type": "execute_result"
    }
   ],
   "source": [
    "len(food[\"company\"].unique())"
   ]
  },
  {
   "cell_type": "code",
   "execution_count": 75,
   "metadata": {
    "scrolled": true
   },
   "outputs": [
    {
     "data": {
      "text/plain": [
       "52         Monday\n",
       "53         Monday\n",
       "100      Thursday\n",
       "103        Friday\n",
       "124      Thursday\n",
       "151        Friday\n",
       "216        Friday\n",
       "224        Friday\n",
       "279     Wednesday\n",
       "300      Thursday\n",
       "307        Friday\n",
       "358      Thursday\n",
       "440        Friday\n",
       "445        Monday\n",
       "477       Tuesday\n",
       "526      Thursday\n",
       "528        Friday\n",
       "582     Wednesday\n",
       "693      Thursday\n",
       "695        Friday\n",
       "757     Wednesday\n",
       "783      Thursday\n",
       "784      Thursday\n",
       "861        Friday\n",
       "888        Monday\n",
       "923      Thursday\n",
       "926     Wednesday\n",
       "928     Wednesday\n",
       "942        Friday\n",
       "952        Friday\n",
       "          ...    \n",
       "4217       Monday\n",
       "4237    Wednesday\n",
       "4268    Wednesday\n",
       "4296       Friday\n",
       "4302       Friday\n",
       "4308       Friday\n",
       "4360    Wednesday\n",
       "4390     Thursday\n",
       "4433     Thursday\n",
       "4435       Friday\n",
       "4437       Friday\n",
       "4479      Tuesday\n",
       "4492    Wednesday\n",
       "4549       Friday\n",
       "4554       Friday\n",
       "4563     Thursday\n",
       "4585       Monday\n",
       "4604      Tuesday\n",
       "4610       Monday\n",
       "4614    Wednesday\n",
       "4655       Friday\n",
       "4677       Friday\n",
       "4679       Friday\n",
       "4682       Friday\n",
       "4684     Thursday\n",
       "4685     Thursday\n",
       "4691       Friday\n",
       "4693       Friday\n",
       "4709      Tuesday\n",
       "4713      Tuesday\n",
       "Name: weekday, Length: 193, dtype: object"
      ]
     },
     "execution_count": 75,
     "metadata": {},
     "output_type": "execute_result"
    }
   ],
   "source": [
    "idx = food.groupby(\"company\")[\"pounds\"].transform(max) == food[\"pounds\"]\n",
    "food[idx][~food[idx].duplicated(\"company\")][\"weekday\"]"
   ]
  },
  {
   "cell_type": "code",
   "execution_count": 181,
   "metadata": {
    "scrolled": false
   },
   "outputs": [
    {
     "name": "stderr",
     "output_type": "stream",
     "text": [
      "c:\\users\\jordan fan\\anaconda3\\envs\\toxic\\lib\\site-packages\\numpy\\core\\fromnumeric.py:57: FutureWarning: 'argmax' is deprecated. Use 'idxmax' instead. The behavior of 'argmax' will be corrected to return the positional maximum in the future. Use 'series.values.argmax' to get the position of the maximum now.\n",
      "  return getattr(obj, method)(*args, **kwds)\n"
     ]
    }
   ],
   "source": [
    "food = pd.read_csv(\"food_cleaned.csv\")\n",
    "food[\"date\"] = pd.to_datetime(food[\"date\"])\n",
    "company_weeks = food.groupby(\"company\")[\"date\"].agg(lambda x: int((max(x) - min(x))/np.timedelta64(1, \"W\")))+ 1\n",
    "company_tot_donation = food.groupby(\"company\")[\"pounds\"].agg(np.sum)\n",
    "company_num_donation = food.groupby(\"company\")[\"pounds\"].count()\n",
    "company_one_donation = (company_num_donation == 1).astype(\"int\")\n",
    "company_pound_per_week = company_tot_donation/company_weeks\n",
    "company_avg_donation = company_tot_donation/company_num_donation\n",
    "company_max_donation = food.groupby(\"company\")[\"pounds\"].agg(np.max)\n",
    "company_med_donation = food.groupby(\"company\")[\"pounds\"].agg(np.median)\n",
    "company_size = food.groupby(\"company\")[\"size\"].first()\n",
    "company_type = food.groupby(\"company\")[\"type\"].first()\n",
    "company_city = food.groupby(\"company\")[\"city\"].first()\n",
    "company_state = food.groupby(\"company\")[\"state\"].first()\n",
    "company_most_donation_weekday = food.groupby(\"company\")[\"weekday\"].agg(lambda x: np.argmax(x.value_counts()))\n",
    "company_most_donation_weekday_frac = food.groupby(\"company\")[\"weekday\"].agg(lambda x: np.max(x.value_counts()))/company_num_donation\n",
    "company_max_weekday = food.loc[food.reset_index().groupby(\"company\")[\"pounds\"].idxmax()][\"weekday\"]\n",
    "company_max_weekday.index = company_weeks.index\n",
    "company_most_donation_month = food.groupby(\"company\")[\"month\"].agg(lambda x: np.argmax(x.value_counts()))\n",
    "company_most_donation_month_frac = food.groupby(\"company\")[\"month\"].agg(lambda x: np.max(x.value_counts()))/company_num_donation\n",
    "company_start_month = food.groupby(\"company\")[\"month\"].agg(np.min)\n",
    "company = pd.DataFrame({#\"tot_donation\": company_tot_donation, \n",
    "                       \"num_donation\": company_num_donation, \n",
    "                        \"num_weeks\": company_weeks, \n",
    "                       #\"avg_donation\": company_avg_donation, \n",
    "                        \"week_donation\": company_pound_per_week,\n",
    "                       #\"max_donation\": company_max_donation, \n",
    "                        #\"med_donation\": company_med_donation,\n",
    "                        \"size\": company_size, \"type\": company_type,\n",
    "                       \"popular_weekday\": company_most_donation_weekday,\n",
    "                        \"popular_month\": company_most_donation_month,\n",
    "                       \"popular_weekday_frac\": company_most_donation_weekday_frac,\n",
    "                        \"popular_month_frac\": company_most_donation_month_frac,\n",
    "                       \"max_pound_weekday\": company_max_weekday, \"start_month\": company_start_month,\n",
    "                        \"one_donation\": company_one_donation, \"state\": company_state\n",
    "                       })\n",
    "company[\"top_contributor\"] = company[\"num_donation\"].apply(lambda x: 1 if x >= 80\n",
    "                                                          else 0)\n",
    "company.loc[company.index == \"Imgur\", \"popular_weekday\"] = \"Friday\"\n",
    "company = company[~(company.index == \"Curiodysse\")]"
   ]
  },
  {
   "cell_type": "code",
   "execution_count": 182,
   "metadata": {},
   "outputs": [],
   "source": [
    "def ohe_max_pound_weekday(data):\n",
    "    cats = data[\"max_pound_weekday\"].unique().tolist()\n",
    "    cat_type = CategoricalDtype(categories=cats)\n",
    "    data['max_pound_weekday'] = data['max_pound_weekday'].astype(cat_type)\n",
    "    data = pd.get_dummies(data,\n",
    "                    prefix='max_weekday',\n",
    "                    columns=['max_pound_weekday'], \n",
    "                    drop_first=True)\n",
    "    return data\n",
    "\n",
    "def ohe_popular_month(data):\n",
    "    cats = data[\"popular_month\"].unique().tolist()\n",
    "    cat_type = CategoricalDtype(categories=cats)\n",
    "    data[\"popular_month\"] = data['popular_month'].astype(cat_type)\n",
    "    data = pd.get_dummies(data,\n",
    "                    prefix='pop_month',\n",
    "                    columns=['popular_month'], \n",
    "                    drop_first=True)\n",
    "    return data\n",
    "    \n",
    "def ohe_popular_weekday(data):\n",
    "    cats = data[\"popular_weekday\"].unique().tolist()\n",
    "    cat_type = CategoricalDtype(categories=cats)\n",
    "    data['popular_weekday'] = data['popular_weekday'].astype(cat_type)\n",
    "    data = pd.get_dummies(data,\n",
    "                    prefix='pop_weekday',\n",
    "                    columns=['popular_weekday'], \n",
    "                    drop_first=True)\n",
    "    return data\n",
    "\n",
    "def ohe_size(data): \n",
    "    cats = data[\"size\"].unique().tolist()\n",
    "    cat_type = CategoricalDtype(categories=cats)\n",
    "    data['size'] = data['size'].astype(cat_type)\n",
    "    data = pd.get_dummies(data,\n",
    "                    prefix='size',\n",
    "                    columns=['size'], \n",
    "                    drop_first=True)\n",
    "    return data\n",
    "\n",
    "def ohe_start_month(data):\n",
    "    cats = data[\"start_month\"].unique().tolist()\n",
    "    cat_type = CategoricalDtype(categories=cats)\n",
    "    data['start_month'] = data['start_month'].astype(cat_type)\n",
    "    data = pd.get_dummies(data,\n",
    "                    prefix='start_month',\n",
    "                    columns=['start_month'], \n",
    "                    drop_first=True)\n",
    "    return data\n",
    "\n",
    "def ohe_state(data):\n",
    "    cats = data[\"state\"].unique().tolist()\n",
    "    cat_type = CategoricalDtype(categories=cats)\n",
    "    data['state'] = data['state'].astype(cat_type)\n",
    "    data = pd.get_dummies(data,\n",
    "                    prefix='state',\n",
    "                    columns=['state'], \n",
    "                    drop_first=True)\n",
    "    return data\n",
    "\n",
    "def ohe_type(data):\n",
    "    cats = data[\"type\"].unique().tolist()\n",
    "    cat_type = CategoricalDtype(categories=cats)\n",
    "    data['type'] = data['type'].astype(cat_type)\n",
    "    data = pd.get_dummies(data,\n",
    "                    prefix='type',\n",
    "                    columns=['type'], \n",
    "                    drop_first=True)\n",
    "    return data\n",
    "\n",
    "def process_data(data):\n",
    "    data = (\n",
    "        data\n",
    "        # Clean Data\n",
    "        .pipe(ohe_max_pound_weekday)\n",
    "        .pipe(ohe_popular_month)\n",
    "        .pipe(ohe_popular_weekday)\n",
    "        .pipe(ohe_size)\n",
    "        #.pipe(ohe_start_month)\n",
    "        #.pipe(ohe_state)\n",
    "        .pipe(ohe_type)\n",
    "    )\n",
    "    return data\n",
    "process_data(company).to_csv(\"avg_week_donation.csv\", sep = \",\")\n"
   ]
  },
  {
   "cell_type": "code",
   "execution_count": 183,
   "metadata": {},
   "outputs": [],
   "source": [
    "company.to_csv(\"avg_week_donation_raw.csv\", sep = \",\")"
   ]
  },
  {
   "cell_type": "code",
   "execution_count": 155,
   "metadata": {},
   "outputs": [],
   "source": [
    "company_processed = process_data(company).drop([\"state\", \"start_month\", \"num_donation\", \"num_weeks\", \"pop_month_2\", \"pop_month_3\", \"pop_month_4\", \"pop_month_5\", \"pop_month_6\", \"pop_month_7\", \"pop_month_8\", \"pop_month_10\"], axis = 1)\n",
    "#poly = PolynomialFeatures(degree = 3)\n",
    "#X_ = poly.fit_transform(company_processed)\n",
    "#predict_ = poly.fit_transform(company_pound_per_week)"
   ]
  },
  {
   "cell_type": "code",
   "execution_count": 151,
   "metadata": {},
   "outputs": [],
   "source": [
    "X_ = poly.fit_transform(company_processed)"
   ]
  },
  {
   "cell_type": "code",
   "execution_count": 157,
   "metadata": {},
   "outputs": [],
   "source": [
    "company_processed.to_csv(\"avg_week_donation.csv\")"
   ]
  },
  {
   "cell_type": "code",
   "execution_count": null,
   "metadata": {},
   "outputs": [],
   "source": []
  }
 ],
 "metadata": {
  "kernelspec": {
   "display_name": "Python 3",
   "language": "python",
   "name": "python3"
  },
  "language_info": {
   "codemirror_mode": {
    "name": "ipython",
    "version": 3
   },
   "file_extension": ".py",
   "mimetype": "text/x-python",
   "name": "python",
   "nbconvert_exporter": "python",
   "pygments_lexer": "ipython3",
   "version": "3.6.4"
  }
 },
 "nbformat": 4,
 "nbformat_minor": 2
}
